{
 "cells": [
  {
   "cell_type": "code",
   "execution_count": 4,
   "id": "29d5f9db",
   "metadata": {},
   "outputs": [],
   "source": [
    "import numpy as np \n",
    "import pandas as pd \n",
    "import matplotlib.pyplot as plt\n",
    "import json\n",
    "import spotipy"
   ]
  },
  {
   "cell_type": "code",
   "execution_count": 7,
   "id": "2fb08c31",
   "metadata": {},
   "outputs": [
    {
     "name": "stdout",
     "output_type": "stream",
     "text": [
      "Young Heart\n",
      "Beautiful Lies\n",
      "Beautiful Lies\n",
      "Beautiful Lies (Deluxe)\n",
      "Beautiful Lies (Deluxe)\n",
      "Fire Within\n",
      "Fire Within\n",
      "Fire Within (Deluxe)\n",
      "Fire Within (Deluxe)\n",
      "Fire Within (Deluxe)\n",
      "Live in London\n",
      "Birdy\n",
      "Birdy\n",
      "Birdy\n",
      "Birdy\n",
      "Birdy (Deluxe Version)\n"
     ]
    }
   ],
   "source": [
    "# Example from spotipy website to check that it works\n",
    "\"\"\"\n",
    "Credentials can be set on your local computer by following this link: https://www.youtube.com/watch?v=kaBVN8uP358&t=0s\n",
    "\"\"\"\n",
    "from spotipy.oauth2 import SpotifyClientCredentials\n",
    "\n",
    "birdy_uri = 'spotify:artist:2WX2uTcsvV5OnS0inACecP'\n",
    "spotify = spotipy.Spotify(client_credentials_manager=SpotifyClientCredentials())\n",
    "\n",
    "results = spotify.artist_albums(birdy_uri, album_type='album')\n",
    "albums = results['items']\n",
    "while results['next']:\n",
    "    results = spotify.next(results)\n",
    "    albums.extend(results['items'])\n",
    "\n",
    "for album in albums:\n",
    "    print(album['name'])"
   ]
  },
  {
   "cell_type": "code",
   "execution_count": 8,
   "id": "d1704021",
   "metadata": {},
   "outputs": [],
   "source": [
    "# path to playlist file\n",
    "root_path = !pwd\n",
    "root_path = str(root_path[0])"
   ]
  },
  {
   "cell_type": "code",
   "execution_count": 9,
   "id": "94742cf7",
   "metadata": {},
   "outputs": [],
   "source": [
    "# filename \n",
    "filepath = f\"{root_path}/playlist_data/sampledata/\"\n",
    "filename = 'mpd.slice.0-999.json'"
   ]
  },
  {
   "cell_type": "code",
   "execution_count": 10,
   "id": "cfdb1794",
   "metadata": {},
   "outputs": [],
   "source": [
    "# path + filename\n",
    "fpath_name = f\"{filepath}{filename}\"\n",
    "# print(fpath_name)"
   ]
  },
  {
   "cell_type": "code",
   "execution_count": 11,
   "id": "eed042e2",
   "metadata": {},
   "outputs": [],
   "source": [
    "# Open file of playlist and obtain fields of json file \n",
    "with open(fpath_name) as data_file:    \n",
    "    data = json.load(data_file)  "
   ]
  },
  {
   "cell_type": "code",
   "execution_count": 12,
   "id": "c0cb1d42",
   "metadata": {},
   "outputs": [
    {
     "name": "stdout",
     "output_type": "stream",
     "text": [
      "File keys:  ['info', 'playlists']\n",
      "info:  {'generated_on': '2017-12-03 08:41:42.057563', 'slice': '0-999', 'version': 'v1'}\n",
      "playlists:  ['name', 'collaborative', 'pid', 'modified_at', 'num_tracks', 'num_albums', 'num_followers', 'tracks', 'num_edits', 'duration_ms', 'num_artists']\n",
      "tracks:  ['pos', 'artist_name', 'track_uri', 'artist_uri', 'track_name', 'album_uri', 'duration_ms', 'album_name']\n"
     ]
    }
   ],
   "source": [
    "# Explore fields in json file\n",
    "print(\"File keys: \", list(data.keys()))\n",
    "print(\"info: \",data[list(data.keys())[0]])\n",
    "#print(f\"{list(data.keys())[1]} : \",data[list(data.keys())[1]])\n",
    "print(\"playlists: \",list(data['playlists'][0].keys()))\n",
    "print(\"tracks: \", list(data['playlists'][0]['tracks'][0].keys()))"
   ]
  },
  {
   "cell_type": "code",
   "execution_count": 13,
   "id": "825f86b2",
   "metadata": {},
   "outputs": [],
   "source": [
    "# Extract track features\n",
    "num_keys_old = 0\n",
    "for index, playlist in enumerate(data['playlists']):\n",
    "    num_keys =  len(playlist.keys())\n",
    "    if index == 0:\n",
    "        num_key_old = num_keys\n",
    "        continue\n",
    "    if num_keys > num_key_old:\n",
    "        keys = playlist.keys()\n",
    "    num_key_old = num_keys"
   ]
  },
  {
   "cell_type": "code",
   "execution_count": 14,
   "id": "46e087b7",
   "metadata": {},
   "outputs": [
    {
     "name": "stdout",
     "output_type": "stream",
     "text": [
      " Playlist keys:  ['name', 'collaborative', 'pid', 'modified_at', 'num_tracks', 'num_albums', 'num_followers', 'num_edits', 'duration_ms', 'num_artists', 'description']\n"
     ]
    }
   ],
   "source": [
    "# Construct keys of playlist\n",
    "keys = list(keys)\n",
    "keys.remove('tracks')\n",
    "print(\" Playlist keys: \", keys)"
   ]
  },
  {
   "cell_type": "code",
   "execution_count": 15,
   "id": "7fbdfebc",
   "metadata": {},
   "outputs": [
    {
     "data": {
      "text/html": [
       "<div>\n",
       "<style scoped>\n",
       "    .dataframe tbody tr th:only-of-type {\n",
       "        vertical-align: middle;\n",
       "    }\n",
       "\n",
       "    .dataframe tbody tr th {\n",
       "        vertical-align: top;\n",
       "    }\n",
       "\n",
       "    .dataframe thead th {\n",
       "        text-align: right;\n",
       "    }\n",
       "</style>\n",
       "<table border=\"1\" class=\"dataframe\">\n",
       "  <thead>\n",
       "    <tr style=\"text-align: right;\">\n",
       "      <th></th>\n",
       "      <th>track_pos</th>\n",
       "      <th>track_artist_name</th>\n",
       "      <th>track_track_uri</th>\n",
       "      <th>track_artist_uri</th>\n",
       "      <th>track_track_name</th>\n",
       "      <th>track_album_uri</th>\n",
       "      <th>track_duration_ms</th>\n",
       "      <th>track_album_name</th>\n",
       "      <th>playlist_name</th>\n",
       "      <th>playlist_collaborative</th>\n",
       "      <th>playlist_pid</th>\n",
       "      <th>playlist_modified_at</th>\n",
       "      <th>playlist_num_tracks</th>\n",
       "      <th>playlist_num_albums</th>\n",
       "      <th>playlist_num_followers</th>\n",
       "      <th>playlist_num_edits</th>\n",
       "      <th>playlist_duration_ms</th>\n",
       "      <th>playlist_num_artists</th>\n",
       "      <th>playlist_description</th>\n",
       "    </tr>\n",
       "  </thead>\n",
       "  <tbody>\n",
       "    <tr>\n",
       "      <th>0</th>\n",
       "      <td>0</td>\n",
       "      <td>Missy Elliott</td>\n",
       "      <td>spotify:track:0UaMYEvWZi0ZqiDOoHU3YI</td>\n",
       "      <td>spotify:artist:2wIVse2owClT7go1WT98tk</td>\n",
       "      <td>Lose Control (feat. Ciara &amp; Fat Man Scoop)</td>\n",
       "      <td>spotify:album:6vV5UrXcfyQD1wu4Qo2I9K</td>\n",
       "      <td>226863</td>\n",
       "      <td>The Cookbook</td>\n",
       "      <td>Throwbacks</td>\n",
       "      <td>false</td>\n",
       "      <td>0</td>\n",
       "      <td>1493424000</td>\n",
       "      <td>52</td>\n",
       "      <td>47</td>\n",
       "      <td>1</td>\n",
       "      <td>6</td>\n",
       "      <td>11532414</td>\n",
       "      <td>37</td>\n",
       "      <td>NaN</td>\n",
       "    </tr>\n",
       "    <tr>\n",
       "      <th>1</th>\n",
       "      <td>1</td>\n",
       "      <td>Britney Spears</td>\n",
       "      <td>spotify:track:6I9VzXrHxO9rA9A5euc8Ak</td>\n",
       "      <td>spotify:artist:26dSoYclwsYLMAKD3tpOr4</td>\n",
       "      <td>Toxic</td>\n",
       "      <td>spotify:album:0z7pVBGOD7HCIB7S8eLkLI</td>\n",
       "      <td>198800</td>\n",
       "      <td>In The Zone</td>\n",
       "      <td>Throwbacks</td>\n",
       "      <td>false</td>\n",
       "      <td>0</td>\n",
       "      <td>1493424000</td>\n",
       "      <td>52</td>\n",
       "      <td>47</td>\n",
       "      <td>1</td>\n",
       "      <td>6</td>\n",
       "      <td>11532414</td>\n",
       "      <td>37</td>\n",
       "      <td>NaN</td>\n",
       "    </tr>\n",
       "    <tr>\n",
       "      <th>2</th>\n",
       "      <td>2</td>\n",
       "      <td>Beyoncé</td>\n",
       "      <td>spotify:track:0WqIKmW4BTrj3eJFmnCKMv</td>\n",
       "      <td>spotify:artist:6vWDO969PvNqNYHIOW5v0m</td>\n",
       "      <td>Crazy In Love</td>\n",
       "      <td>spotify:album:25hVFAxTlDvXbx2X2QkUkE</td>\n",
       "      <td>235933</td>\n",
       "      <td>Dangerously In Love (Alben für die Ewigkeit)</td>\n",
       "      <td>Throwbacks</td>\n",
       "      <td>false</td>\n",
       "      <td>0</td>\n",
       "      <td>1493424000</td>\n",
       "      <td>52</td>\n",
       "      <td>47</td>\n",
       "      <td>1</td>\n",
       "      <td>6</td>\n",
       "      <td>11532414</td>\n",
       "      <td>37</td>\n",
       "      <td>NaN</td>\n",
       "    </tr>\n",
       "    <tr>\n",
       "      <th>3</th>\n",
       "      <td>3</td>\n",
       "      <td>Justin Timberlake</td>\n",
       "      <td>spotify:track:1AWQoqb9bSvzTjaLralEkT</td>\n",
       "      <td>spotify:artist:31TPClRtHm23RisEBtV3X7</td>\n",
       "      <td>Rock Your Body</td>\n",
       "      <td>spotify:album:6QPkyl04rXwTGlGlcYaRoW</td>\n",
       "      <td>267266</td>\n",
       "      <td>Justified</td>\n",
       "      <td>Throwbacks</td>\n",
       "      <td>false</td>\n",
       "      <td>0</td>\n",
       "      <td>1493424000</td>\n",
       "      <td>52</td>\n",
       "      <td>47</td>\n",
       "      <td>1</td>\n",
       "      <td>6</td>\n",
       "      <td>11532414</td>\n",
       "      <td>37</td>\n",
       "      <td>NaN</td>\n",
       "    </tr>\n",
       "    <tr>\n",
       "      <th>4</th>\n",
       "      <td>4</td>\n",
       "      <td>Shaggy</td>\n",
       "      <td>spotify:track:1lzr43nnXAijIGYnCT8M8H</td>\n",
       "      <td>spotify:artist:5EvFsr3kj42KNv97ZEnqij</td>\n",
       "      <td>It Wasn't Me</td>\n",
       "      <td>spotify:album:6NmFmPX56pcLBOFMhIiKvF</td>\n",
       "      <td>227600</td>\n",
       "      <td>Hot Shot</td>\n",
       "      <td>Throwbacks</td>\n",
       "      <td>false</td>\n",
       "      <td>0</td>\n",
       "      <td>1493424000</td>\n",
       "      <td>52</td>\n",
       "      <td>47</td>\n",
       "      <td>1</td>\n",
       "      <td>6</td>\n",
       "      <td>11532414</td>\n",
       "      <td>37</td>\n",
       "      <td>NaN</td>\n",
       "    </tr>\n",
       "  </tbody>\n",
       "</table>\n",
       "</div>"
      ],
      "text/plain": [
       "   track_pos  track_artist_name                       track_track_uri  \\\n",
       "0          0      Missy Elliott  spotify:track:0UaMYEvWZi0ZqiDOoHU3YI   \n",
       "1          1     Britney Spears  spotify:track:6I9VzXrHxO9rA9A5euc8Ak   \n",
       "2          2            Beyoncé  spotify:track:0WqIKmW4BTrj3eJFmnCKMv   \n",
       "3          3  Justin Timberlake  spotify:track:1AWQoqb9bSvzTjaLralEkT   \n",
       "4          4             Shaggy  spotify:track:1lzr43nnXAijIGYnCT8M8H   \n",
       "\n",
       "                        track_artist_uri  \\\n",
       "0  spotify:artist:2wIVse2owClT7go1WT98tk   \n",
       "1  spotify:artist:26dSoYclwsYLMAKD3tpOr4   \n",
       "2  spotify:artist:6vWDO969PvNqNYHIOW5v0m   \n",
       "3  spotify:artist:31TPClRtHm23RisEBtV3X7   \n",
       "4  spotify:artist:5EvFsr3kj42KNv97ZEnqij   \n",
       "\n",
       "                             track_track_name  \\\n",
       "0  Lose Control (feat. Ciara & Fat Man Scoop)   \n",
       "1                                       Toxic   \n",
       "2                               Crazy In Love   \n",
       "3                              Rock Your Body   \n",
       "4                                It Wasn't Me   \n",
       "\n",
       "                        track_album_uri  track_duration_ms  \\\n",
       "0  spotify:album:6vV5UrXcfyQD1wu4Qo2I9K             226863   \n",
       "1  spotify:album:0z7pVBGOD7HCIB7S8eLkLI             198800   \n",
       "2  spotify:album:25hVFAxTlDvXbx2X2QkUkE             235933   \n",
       "3  spotify:album:6QPkyl04rXwTGlGlcYaRoW             267266   \n",
       "4  spotify:album:6NmFmPX56pcLBOFMhIiKvF             227600   \n",
       "\n",
       "                               track_album_name playlist_name  \\\n",
       "0                                  The Cookbook    Throwbacks   \n",
       "1                                   In The Zone    Throwbacks   \n",
       "2  Dangerously In Love (Alben für die Ewigkeit)    Throwbacks   \n",
       "3                                     Justified    Throwbacks   \n",
       "4                                      Hot Shot    Throwbacks   \n",
       "\n",
       "  playlist_collaborative playlist_pid playlist_modified_at  \\\n",
       "0                  false            0           1493424000   \n",
       "1                  false            0           1493424000   \n",
       "2                  false            0           1493424000   \n",
       "3                  false            0           1493424000   \n",
       "4                  false            0           1493424000   \n",
       "\n",
       "  playlist_num_tracks playlist_num_albums playlist_num_followers  \\\n",
       "0                  52                  47                      1   \n",
       "1                  52                  47                      1   \n",
       "2                  52                  47                      1   \n",
       "3                  52                  47                      1   \n",
       "4                  52                  47                      1   \n",
       "\n",
       "  playlist_num_edits playlist_duration_ms playlist_num_artists  \\\n",
       "0                  6             11532414                   37   \n",
       "1                  6             11532414                   37   \n",
       "2                  6             11532414                   37   \n",
       "3                  6             11532414                   37   \n",
       "4                  6             11532414                   37   \n",
       "\n",
       "  playlist_description  \n",
       "0                  NaN  \n",
       "1                  NaN  \n",
       "2                  NaN  \n",
       "3                  NaN  \n",
       "4                  NaN  "
      ]
     },
     "execution_count": 15,
     "metadata": {},
     "output_type": "execute_result"
    }
   ],
   "source": [
    "# Create dataframe with track and playlist info\n",
    "music_df = pd.json_normalize(data['playlists'],  meta = keys, meta_prefix = 'playlist_', errors='ignore', record_path=['tracks'], record_prefix = 'track_')\n",
    "music_df.head()"
   ]
  },
  {
   "cell_type": "code",
   "execution_count": 16,
   "id": "7007114e",
   "metadata": {},
   "outputs": [
    {
     "data": {
      "text/plain": [
       "Index(['track_pos', 'track_artist_name', 'track_track_uri', 'track_artist_uri',\n",
       "       'track_track_name', 'track_album_uri', 'track_duration_ms',\n",
       "       'track_album_name', 'playlist_name', 'playlist_collaborative',\n",
       "       'playlist_pid', 'playlist_modified_at', 'playlist_num_tracks',\n",
       "       'playlist_num_albums', 'playlist_num_followers', 'playlist_num_edits',\n",
       "       'playlist_duration_ms', 'playlist_num_artists', 'playlist_description'],\n",
       "      dtype='object')"
      ]
     },
     "execution_count": 16,
     "metadata": {},
     "output_type": "execute_result"
    }
   ],
   "source": [
    "# Check column values \n",
    "music_df[music_df['playlist_pid'] == 0].columns"
   ]
  },
  {
   "cell_type": "code",
   "execution_count": 17,
   "id": "ea7574b7",
   "metadata": {},
   "outputs": [
    {
     "name": "stdout",
     "output_type": "stream",
     "text": [
      "[94 102 320 329 339 353 354 370 475 491 522 526 548 626 741 767 778 818\n",
      " 871 925]\n"
     ]
    }
   ],
   "source": [
    "# Select indexes of playlists that have a description\n",
    "playlists_id_with_description = music_df[~music_df['playlist_description'].isna()]['playlist_pid'].unique()\n",
    "print(playlists_id_with_description)"
   ]
  },
  {
   "cell_type": "code",
   "execution_count": 18,
   "id": "207d0ad8",
   "metadata": {},
   "outputs": [
    {
     "name": "stdout",
     "output_type": "stream",
     "text": [
      "[94 102 320 329 339 353 354 370 475 491 522 526 548 626 741 767 778 818\n",
      " 871 925]\n"
     ]
    }
   ],
   "source": [
    "# Working only with playlists that contain a \"description\"\n",
    "subset_df = music_df[music_df['playlist_pid'].isin(playlists_id_with_description)]\n",
    "print(subset_df['playlist_pid'].unique())"
   ]
  },
  {
   "cell_type": "code",
   "execution_count": 19,
   "id": "5b937005",
   "metadata": {},
   "outputs": [
    {
     "data": {
      "text/html": [
       "<div>\n",
       "<style scoped>\n",
       "    .dataframe tbody tr th:only-of-type {\n",
       "        vertical-align: middle;\n",
       "    }\n",
       "\n",
       "    .dataframe tbody tr th {\n",
       "        vertical-align: top;\n",
       "    }\n",
       "\n",
       "    .dataframe thead th {\n",
       "        text-align: right;\n",
       "    }\n",
       "</style>\n",
       "<table border=\"1\" class=\"dataframe\">\n",
       "  <thead>\n",
       "    <tr style=\"text-align: right;\">\n",
       "      <th></th>\n",
       "      <th>track_pos</th>\n",
       "      <th>track_artist_name</th>\n",
       "      <th>track_track_uri</th>\n",
       "      <th>track_artist_uri</th>\n",
       "      <th>track_track_name</th>\n",
       "      <th>track_album_uri</th>\n",
       "      <th>track_duration_ms</th>\n",
       "      <th>track_album_name</th>\n",
       "      <th>playlist_name</th>\n",
       "      <th>playlist_collaborative</th>\n",
       "      <th>playlist_pid</th>\n",
       "      <th>playlist_modified_at</th>\n",
       "      <th>playlist_num_tracks</th>\n",
       "      <th>playlist_num_albums</th>\n",
       "      <th>playlist_num_followers</th>\n",
       "      <th>playlist_num_edits</th>\n",
       "      <th>playlist_duration_ms</th>\n",
       "      <th>playlist_num_artists</th>\n",
       "      <th>playlist_description</th>\n",
       "    </tr>\n",
       "  </thead>\n",
       "  <tbody>\n",
       "    <tr>\n",
       "      <th>5431</th>\n",
       "      <td>0</td>\n",
       "      <td>James Bay</td>\n",
       "      <td>spotify:track:13HVjjWUZFaWilh2QUJKsP</td>\n",
       "      <td>spotify:artist:4EzkuveR9pLvDVFNx6foYD</td>\n",
       "      <td>Let It Go</td>\n",
       "      <td>spotify:album:5BxvswQSGWrBbVCdx6mFGO</td>\n",
       "      <td>260533</td>\n",
       "      <td>Chaos And The Calm</td>\n",
       "      <td>relax</td>\n",
       "      <td>false</td>\n",
       "      <td>94</td>\n",
       "      <td>1495324800</td>\n",
       "      <td>124</td>\n",
       "      <td>112</td>\n",
       "      <td>1</td>\n",
       "      <td>35</td>\n",
       "      <td>27578241</td>\n",
       "      <td>97</td>\n",
       "      <td>chilllll out</td>\n",
       "    </tr>\n",
       "    <tr>\n",
       "      <th>5432</th>\n",
       "      <td>1</td>\n",
       "      <td>Passenger</td>\n",
       "      <td>spotify:track:4jpwHDjemKbmNy0pyWDHpr</td>\n",
       "      <td>spotify:artist:0gadJ2b9A4SKsB1RFkBb66</td>\n",
       "      <td>All the Little Lights</td>\n",
       "      <td>spotify:album:0kjXSwSLVipUi4lSEeF0yl</td>\n",
       "      <td>233973</td>\n",
       "      <td>All The Little Lights</td>\n",
       "      <td>relax</td>\n",
       "      <td>false</td>\n",
       "      <td>94</td>\n",
       "      <td>1495324800</td>\n",
       "      <td>124</td>\n",
       "      <td>112</td>\n",
       "      <td>1</td>\n",
       "      <td>35</td>\n",
       "      <td>27578241</td>\n",
       "      <td>97</td>\n",
       "      <td>chilllll out</td>\n",
       "    </tr>\n",
       "    <tr>\n",
       "      <th>5433</th>\n",
       "      <td>2</td>\n",
       "      <td>The Script</td>\n",
       "      <td>spotify:track:1a1i2IwXnUN0PjllVEhA4B</td>\n",
       "      <td>spotify:artist:3AQRLZ9PuTAozP28Skbq8V</td>\n",
       "      <td>Breakeven</td>\n",
       "      <td>spotify:album:5gCo4z8XZ0T16nJmnw9wnG</td>\n",
       "      <td>261426</td>\n",
       "      <td>The Script</td>\n",
       "      <td>relax</td>\n",
       "      <td>false</td>\n",
       "      <td>94</td>\n",
       "      <td>1495324800</td>\n",
       "      <td>124</td>\n",
       "      <td>112</td>\n",
       "      <td>1</td>\n",
       "      <td>35</td>\n",
       "      <td>27578241</td>\n",
       "      <td>97</td>\n",
       "      <td>chilllll out</td>\n",
       "    </tr>\n",
       "    <tr>\n",
       "      <th>5434</th>\n",
       "      <td>3</td>\n",
       "      <td>Lukas Graham</td>\n",
       "      <td>spotify:track:7129iqBafaphfc3WPCGC0L</td>\n",
       "      <td>spotify:artist:25u4wHJWxCA9vO0CzxAbK7</td>\n",
       "      <td>7 Years</td>\n",
       "      <td>spotify:album:6NQ2RNksdSKdtnlFOLJo24</td>\n",
       "      <td>237300</td>\n",
       "      <td>Lukas Graham (Blue Album)</td>\n",
       "      <td>relax</td>\n",
       "      <td>false</td>\n",
       "      <td>94</td>\n",
       "      <td>1495324800</td>\n",
       "      <td>124</td>\n",
       "      <td>112</td>\n",
       "      <td>1</td>\n",
       "      <td>35</td>\n",
       "      <td>27578241</td>\n",
       "      <td>97</td>\n",
       "      <td>chilllll out</td>\n",
       "    </tr>\n",
       "    <tr>\n",
       "      <th>5435</th>\n",
       "      <td>4</td>\n",
       "      <td>Jason Castro</td>\n",
       "      <td>spotify:track:6hsP7b83RjEY51ENfo1ZOc</td>\n",
       "      <td>spotify:artist:6lv3DKGOLy7HkRUmt6DiEd</td>\n",
       "      <td>Hallelujah</td>\n",
       "      <td>spotify:album:0xtQMHjzZDrvwe8PbBNAgc</td>\n",
       "      <td>233240</td>\n",
       "      <td>Jason Castro</td>\n",
       "      <td>relax</td>\n",
       "      <td>false</td>\n",
       "      <td>94</td>\n",
       "      <td>1495324800</td>\n",
       "      <td>124</td>\n",
       "      <td>112</td>\n",
       "      <td>1</td>\n",
       "      <td>35</td>\n",
       "      <td>27578241</td>\n",
       "      <td>97</td>\n",
       "      <td>chilllll out</td>\n",
       "    </tr>\n",
       "  </tbody>\n",
       "</table>\n",
       "</div>"
      ],
      "text/plain": [
       "      track_pos track_artist_name                       track_track_uri  \\\n",
       "5431          0         James Bay  spotify:track:13HVjjWUZFaWilh2QUJKsP   \n",
       "5432          1         Passenger  spotify:track:4jpwHDjemKbmNy0pyWDHpr   \n",
       "5433          2        The Script  spotify:track:1a1i2IwXnUN0PjllVEhA4B   \n",
       "5434          3      Lukas Graham  spotify:track:7129iqBafaphfc3WPCGC0L   \n",
       "5435          4      Jason Castro  spotify:track:6hsP7b83RjEY51ENfo1ZOc   \n",
       "\n",
       "                           track_artist_uri       track_track_name  \\\n",
       "5431  spotify:artist:4EzkuveR9pLvDVFNx6foYD              Let It Go   \n",
       "5432  spotify:artist:0gadJ2b9A4SKsB1RFkBb66  All the Little Lights   \n",
       "5433  spotify:artist:3AQRLZ9PuTAozP28Skbq8V              Breakeven   \n",
       "5434  spotify:artist:25u4wHJWxCA9vO0CzxAbK7                7 Years   \n",
       "5435  spotify:artist:6lv3DKGOLy7HkRUmt6DiEd             Hallelujah   \n",
       "\n",
       "                           track_album_uri  track_duration_ms  \\\n",
       "5431  spotify:album:5BxvswQSGWrBbVCdx6mFGO             260533   \n",
       "5432  spotify:album:0kjXSwSLVipUi4lSEeF0yl             233973   \n",
       "5433  spotify:album:5gCo4z8XZ0T16nJmnw9wnG             261426   \n",
       "5434  spotify:album:6NQ2RNksdSKdtnlFOLJo24             237300   \n",
       "5435  spotify:album:0xtQMHjzZDrvwe8PbBNAgc             233240   \n",
       "\n",
       "               track_album_name playlist_name playlist_collaborative  \\\n",
       "5431         Chaos And The Calm         relax                  false   \n",
       "5432      All The Little Lights         relax                  false   \n",
       "5433                 The Script         relax                  false   \n",
       "5434  Lukas Graham (Blue Album)         relax                  false   \n",
       "5435               Jason Castro         relax                  false   \n",
       "\n",
       "     playlist_pid playlist_modified_at playlist_num_tracks  \\\n",
       "5431           94           1495324800                 124   \n",
       "5432           94           1495324800                 124   \n",
       "5433           94           1495324800                 124   \n",
       "5434           94           1495324800                 124   \n",
       "5435           94           1495324800                 124   \n",
       "\n",
       "     playlist_num_albums playlist_num_followers playlist_num_edits  \\\n",
       "5431                 112                      1                 35   \n",
       "5432                 112                      1                 35   \n",
       "5433                 112                      1                 35   \n",
       "5434                 112                      1                 35   \n",
       "5435                 112                      1                 35   \n",
       "\n",
       "     playlist_duration_ms playlist_num_artists playlist_description  \n",
       "5431             27578241                   97         chilllll out  \n",
       "5432             27578241                   97         chilllll out  \n",
       "5433             27578241                   97         chilllll out  \n",
       "5434             27578241                   97         chilllll out  \n",
       "5435             27578241                   97         chilllll out  "
      ]
     },
     "execution_count": 19,
     "metadata": {},
     "output_type": "execute_result"
    }
   ],
   "source": [
    "subset_df.head()"
   ]
  },
  {
   "cell_type": "code",
   "execution_count": 22,
   "id": "c7ab15fc",
   "metadata": {},
   "outputs": [
    {
     "name": "stdout",
     "output_type": "stream",
     "text": [
      "[{'danceability': 0.546, 'energy': 0.311, 'key': 1, 'loudness': -10.396, 'mode': 1, 'speechiness': 0.0288, 'acousticness': 0.818, 'instrumentalness': 1.65e-05, 'liveness': 0.107, 'valence': 0.246, 'tempo': 147.464, 'type': 'audio_features', 'id': '13HVjjWUZFaWilh2QUJKsP', 'uri': 'spotify:track:13HVjjWUZFaWilh2QUJKsP', 'track_href': 'https://api.spotify.com/v1/tracks/13HVjjWUZFaWilh2QUJKsP', 'analysis_url': 'https://api.spotify.com/v1/audio-analysis/13HVjjWUZFaWilh2QUJKsP', 'duration_ms': 260533, 'time_signature': 4}]\n"
     ]
    }
   ],
   "source": [
    "# Pull metadata from a single track \n",
    "spotify = spotipy.Spotify(client_credentials_manager=SpotifyClientCredentials())\n",
    "\n",
    "track_uri = subset_df.iloc[0]['track_track_uri']\n",
    "\n",
    "\n",
    "results = spotify.audio_features(tracks=track_uri)\n",
    "print(results)\n",
    "# albums = results['items']\n",
    "# while results['next']:\n",
    "#     results = spotify.next(results)\n",
    "#     albums.extend(results['items'])\n",
    "\n",
    "# for album in albums:\n",
    "#     print(album['name'])"
   ]
  },
  {
   "cell_type": "code",
   "execution_count": null,
   "id": "a850a493",
   "metadata": {},
   "outputs": [],
   "source": [
    "#Ntracks = 20 \n",
    "# print(music_df[music_df['playlist_num_tracks'] == Ntracks]['track_artist_name'].unique())\n",
    "#subset_df = music_df[music_df['playlist_num_tracks'] == Ntracks]\n",
    "print('Number of records: ', len(subset_df))\n",
    "print('Number of unique artist, song pairs: ', len(subset_df[['track_artist_name','track_track_name']].apply(lambda x: ',.'.join(x),axis=1).unique()))\n",
    "print('Number of unique artists: ', len(subset_df['track_artist_name'].unique()))"
   ]
  },
  {
   "cell_type": "code",
   "execution_count": null,
   "id": "354cea87",
   "metadata": {},
   "outputs": [],
   "source": []
  },
  {
   "cell_type": "code",
   "execution_count": null,
   "id": "581bb203",
   "metadata": {},
   "outputs": [],
   "source": [
    "# Work only with important features\n",
    "important_features = ['track_artist_name', 'track_track_name', 'playlist_name', 'playlist_duration_ms', 'playlist_description']"
   ]
  },
  {
   "cell_type": "code",
   "execution_count": null,
   "id": "400fa521",
   "metadata": {},
   "outputs": [],
   "source": [
    "artist_count_df = subset_df[['playlist_name','track_artist_name']].groupby(['playlist_name'], sort=False).value_counts(sort=False).reset_index(name=\"artist_count\")"
   ]
  },
  {
   "cell_type": "code",
   "execution_count": null,
   "id": "4732e679",
   "metadata": {},
   "outputs": [],
   "source": [
    "artist_count_df"
   ]
  },
  {
   "cell_type": "code",
   "execution_count": null,
   "id": "925ebab1",
   "metadata": {},
   "outputs": [],
   "source": [
    "subset_df[['playlist_name', 'track_artist_name']]"
   ]
  },
  {
   "cell_type": "code",
   "execution_count": null,
   "id": "21b66937",
   "metadata": {},
   "outputs": [],
   "source": [
    "subset_df[['playlist_name','track_artist_name']].groupby(['playlist_name'], sort = False).value_counts(sort=False).reset_index(name=\"artist_count\").info()"
   ]
  },
  {
   "cell_type": "code",
   "execution_count": null,
   "id": "f4e42896",
   "metadata": {},
   "outputs": [],
   "source": [
    "music_df = pd.merge(subset_df, artist_count_df,  how='left', on = ['playlist_name','track_artist_name'])"
   ]
  },
  {
   "cell_type": "code",
   "execution_count": null,
   "id": "427f4f83",
   "metadata": {},
   "outputs": [],
   "source": [
    "music_df"
   ]
  },
  {
   "cell_type": "code",
   "execution_count": null,
   "id": "c9a58b28",
   "metadata": {},
   "outputs": [],
   "source": [
    "# subset_df.join(.sum(), on='playlist_name', rsuffix='_count')\n",
    "subset_df.groupby(['playlist_name','track_artist_name']).size().unstack(fill_value=0)"
   ]
  },
  {
   "cell_type": "code",
   "execution_count": null,
   "id": "8ba0742d",
   "metadata": {},
   "outputs": [],
   "source": [
    "music_df[['track_artist_name','track_track_name']].apply(lambda x: ',.'.join(x),axis=1)"
   ]
  },
  {
   "cell_type": "code",
   "execution_count": null,
   "id": "41d66061",
   "metadata": {},
   "outputs": [],
   "source": [
    "important_features.append(\"artist_count\")"
   ]
  },
  {
   "cell_type": "code",
   "execution_count": null,
   "id": "9ce523d3",
   "metadata": {},
   "outputs": [],
   "source": [
    "music_df[important_features]"
   ]
  },
  {
   "cell_type": "code",
   "execution_count": null,
   "id": "f183f02e",
   "metadata": {},
   "outputs": [],
   "source": [
    "music_df['artist_fraction'] =  music_df['artist_count'] / music_df['playlist_num_tracks'] \n",
    "music_df"
   ]
  },
  {
   "cell_type": "code",
   "execution_count": null,
   "id": "e962b025",
   "metadata": {},
   "outputs": [],
   "source": [
    "subset_df.groupby(['playlist_name','track_artist_name']).size().unstack(fill_value=0)"
   ]
  },
  {
   "cell_type": "code",
   "execution_count": null,
   "id": "66d47155",
   "metadata": {},
   "outputs": [],
   "source": [
    "music_df[music_df['playlist_num_tracks'] == Ntracks][['track_artist_name','track_track_name']].apply(lambda x: ',.'.join(x),axis=1).value_counts() "
   ]
  },
  {
   "cell_type": "code",
   "execution_count": null,
   "id": "47f8d106",
   "metadata": {},
   "outputs": [],
   "source": [
    "vc = music_df[music_df['playlist_num_tracks'] == Ntracks][['track_artist_name','track_track_name']].apply(lambda x: ',.'.join(x), axis=1).value_counts()\n",
    "vc[vc > 1].sum() - len(vc[vc > 1])"
   ]
  },
  {
   "cell_type": "code",
   "execution_count": null,
   "id": "b9cb6e8a",
   "metadata": {},
   "outputs": [],
   "source": [
    "# for i in df[['track_artist_name','track_track_name']].apply(lambda x: ',.'.join(x),axis=1).unique():\n",
    "# #     print(i.split(',.'))\n",
    "#     if len(i.split(',.')) == 2:\n",
    "#         print(i)"
   ]
  },
  {
   "cell_type": "code",
   "execution_count": null,
   "id": "87c3d6f6",
   "metadata": {},
   "outputs": [],
   "source": [
    "np.unique(music_df[music_df['playlist_num_tracks'] == Ntracks]['track_track_name'])"
   ]
  },
  {
   "cell_type": "code",
   "execution_count": null,
   "id": "087a2398",
   "metadata": {},
   "outputs": [],
   "source": [
    "important_features = ['track_artist_name', 'track_track_name', 'playlist_name', 'playlist_num_tracks', 'playlist_num_albums', 'playlist_duration_ms', 'playlist_num_artists']"
   ]
  },
  {
   "cell_type": "code",
   "execution_count": null,
   "id": "d2fab0dc",
   "metadata": {},
   "outputs": [],
   "source": [
    "music_df[music_df['playlist_num_tracks'] == 20][['track_artist_name', 'track_track_name', 'playlist_name', 'playlist_num_tracks', 'playlist_num_albums', 'playlist_duration_ms', 'playlist_num_artists', 'playlist_description']]"
   ]
  },
  {
   "cell_type": "code",
   "execution_count": null,
   "id": "333fd6fb",
   "metadata": {},
   "outputs": [],
   "source": [
    "music_df[music_df['playlist_num_tracks'] == Ntracks][important_features].groupby('playlist_name')['track_artist_name'].value_counts()"
   ]
  },
  {
   "cell_type": "code",
   "execution_count": null,
   "id": "40be7ceb",
   "metadata": {},
   "outputs": [],
   "source": []
  }
 ],
 "metadata": {
  "kernelspec": {
   "display_name": "Python 3 (ipykernel)",
   "language": "python",
   "name": "python3"
  },
  "language_info": {
   "codemirror_mode": {
    "name": "ipython",
    "version": 3
   },
   "file_extension": ".py",
   "mimetype": "text/x-python",
   "name": "python",
   "nbconvert_exporter": "python",
   "pygments_lexer": "ipython3",
   "version": "3.10.9"
  }
 },
 "nbformat": 4,
 "nbformat_minor": 5
}
