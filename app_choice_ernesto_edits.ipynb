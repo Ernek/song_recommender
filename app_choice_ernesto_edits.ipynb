{
 "cells": [
  {
   "cell_type": "code",
   "execution_count": 9,
   "id": "c7ae59ff",
   "metadata": {},
   "outputs": [],
   "source": [
    "#Run this code in Terminal\n",
    "#pip install voila ipywidgets\n",
    "#jupyter nbextension enable --py widgetsnbextension\n",
    "#pip install --upgrade voila ipywidgets\n",
    "#cd to file\n",
    "#TO GET WEB APP IN SEPARATE WINDOW RUN THIS\n",
    "#voila app_choice.ipynb --Voila.trusted=True\n",
    "\n",
    "import ipywidgets as widgets\n",
    "from IPython.display import display,clear_output\n",
    "import pickle\n",
    "import numpy as np \n",
    "import pandas as pd "
   ]
  },
  {
   "cell_type": "markdown",
   "id": "31666fdb",
   "metadata": {},
   "source": [
    "# Preprocessing"
   ]
  },
  {
   "cell_type": "code",
   "execution_count": 10,
   "id": "b6a309f0",
   "metadata": {},
   "outputs": [
    {
     "name": "stdout",
     "output_type": "stream",
     "text": [
      "1354945\n"
     ]
    },
    {
     "name": "stderr",
     "output_type": "stream",
     "text": [
      "/tmp/ipykernel_6932/2292270241.py:62: SettingWithCopyWarning: \n",
      "A value is trying to be set on a copy of a slice from a DataFrame.\n",
      "Try using .loc[row_indexer,col_indexer] = value instead\n",
      "\n",
      "See the caveats in the documentation: https://pandas.pydata.org/pandas-docs/stable/user_guide/indexing.html#returning-a-view-versus-a-copy\n",
      "  song_artist_df['genres'] = song_artist_df['genres'].apply(lambda x: ' '.join([i.replace(' ', '_') for i in x.strip('][').replace('\\'','').split(', ')]))\n",
      "/tmp/ipykernel_6932/2292270241.py:66: SettingWithCopyWarning: \n",
      "A value is trying to be set on a copy of a slice from a DataFrame.\n",
      "Try using .loc[row_indexer,col_indexer] = value instead\n",
      "\n",
      "See the caveats in the documentation: https://pandas.pydata.org/pandas-docs/stable/user_guide/indexing.html#returning-a-view-versus-a-copy\n",
      "  song_artist_df['genres'] = song_artist_df.genres.replace({\"[^A-Za-z ]+\": \"\"}, regex = True)\n",
      "/tmp/ipykernel_6932/2292270241.py:70: SettingWithCopyWarning: \n",
      "A value is trying to be set on a copy of a slice from a DataFrame\n",
      "\n",
      "See the caveats in the documentation: https://pandas.pydata.org/pandas-docs/stable/user_guide/indexing.html#returning-a-view-versus-a-copy\n",
      "  song_artist_df.drop('index', axis=1, inplace=True)\n"
     ]
    }
   ],
   "source": [
    "# artist_path ='/home/ernek/Main/Erdos/song_recommender/artist_data/'\n",
    "# def get_artist_dataframe(artist_path): \n",
    "#     # returns a dataframe of all of the artists in the million playlist data set\n",
    "#     # The only attributes included are \"followers\", \"name\", \"uri\", \"genres\", \"popularity\"\n",
    "#     # WARNING - Some artists have no genres, in this case the value is an empty list\n",
    "#     # path - a string containing a path to the folder where the csv files are held.\n",
    "#     #        for example, on my machine, the folder where I ran this script also contained a folder\n",
    "#     #        called \"song_data\" which had the csv files in it. So I called get_song_dataframe('song_data/')\n",
    "#     #        NOTE - Make sure to include the slash!\n",
    "#     dfs = [pd.read_csv(artist_path + 'artist.slice.0-99999.csv'), pd.read_csv(artist_path + 'artist.slice.100000-199999.csv'), pd.read_csv(artist_path + 'artist.slice.200000-295859.csv')]\n",
    "#     df = pd.concat(dfs)\n",
    "#     del df['Unnamed: 0.1']\n",
    "#     del df['Unnamed: 0']\n",
    "    \n",
    "#     return df\n",
    "\n",
    "# songs_path = '/home/ernek/Main/Erdos/song_recommender/song_data/'\n",
    "# def get_song_dataframe(songs_path):\n",
    "#     # returns a dataframe of all of the songs in the million playlist data set\n",
    "#     # path - a string containing a path to the folder where the csv files are held.\n",
    "#     #        for example, on my machine, the folder where I ran this script also contained a folder\n",
    "#     #        called \"song_data\" which had the csv files in it. So I called get_song_dataframe('song_data/')\n",
    "#     #        NOTE - Make sure to include the slash!\n",
    "#     file_name_list = ['song.slice.' + str(i) + '-' + str(i + 49999) + '.csv' for i in range(0,2212292, 50000)] \n",
    "#     file_name_list = file_name_list + ['song.slice.2250000-2262292.csv']\n",
    "                        \n",
    "#     df_list = []\n",
    "#     for file_name in file_name_list:\n",
    "#         df_list.append(pd.read_csv(songs_path + file_name))\n",
    "    \n",
    "#     data = pd.concat(df_list)\n",
    "#     return data\n",
    "\n",
    "# # read songs data into dataframe\n",
    "# data = get_song_dataframe(songs_path)\n",
    "# # drop unimportant columns\n",
    "# data.drop(['Unnamed: 0','pos', 'album_uri', 'duration_ms', 'album_name', 'num_playlist_appearances', 'time_signature', 'type'],axis=1, inplace=True)\n",
    "# # clean elements with with nan values on important columns\n",
    "# data = data[~data.isna().any(axis=1)]\n",
    "\n",
    "# percentage = 60\n",
    "# cut = int(len(data)*percentage/100)\n",
    "# print(cut)\n",
    "# training_data = data.iloc[0:cut]\n",
    "\n",
    "# song_features = ['danceability', 'energy', 'key', 'loudness',\n",
    "#        'speechiness', 'acousticness', 'instrumentalness', 'liveness',\n",
    "#        'valence', 'tempo']\n",
    "\n",
    "# artist_df = get_artist_dataframe(artist_path)\n",
    "\n",
    "# artist_df.drop('followers', axis=1, inplace=True)\n",
    "\n",
    "# artist_df[artist_df.isna().any(axis=1)]\n",
    "# artist_df = artist_df[~artist_df.isna().any(axis=1)]\n",
    "# full_df = data.merge(artist_df, how='left' , left_on='artist_uri', right_on='uri')\n",
    "# full_df.drop(['uri_x', 'uri_y'], axis=1, inplace=True)\n",
    "# full_df.isna().any()\n",
    "# full_df.replace('[]', np.nan, inplace=True)\n",
    "# song_artist_df = full_df[~full_df.isna().any(axis=1)]\n",
    "\n",
    "# song_artist_df['genres'] = song_artist_df['genres'].apply(lambda x: ' '.join([i.replace(' ', '_') for i in x.strip('][').replace('\\'','').split(', ')]))\n",
    "# #song_artist_df.drop('genres', axis=1, inplace=True)\n",
    "# # song_artist_df['genres'] = song_artist_df['genres'].apply(lambda x: ' '.join(list(set(x.split()))))\n",
    "# # song_artist_df['bgenres'] = song_artist_df.agenres.replace({\"r\\&b\": \"rhythm_blues\"}, regex = True)\n",
    "# song_artist_df['genres'] = song_artist_df.genres.replace({\"[^A-Za-z ]+\": \"\"}, regex = True)\n",
    "# #song_artist_df.drop('agenres', axis=1, inplace=True)\n",
    "# song_artist_df.reset_index(inplace=True)\n",
    "\n",
    "# song_artist_df.drop('index', axis=1, inplace=True)"
   ]
  },
  {
   "cell_type": "code",
   "execution_count": 114,
   "id": "684fb60b",
   "metadata": {},
   "outputs": [],
   "source": [
    "def recommend_util(artist_name, song_name, feature):\n",
    "    with open(f\"tests/pred_{feature}.csv\") as f:\n",
    "        data = pd.read_csv(f)\n",
    "        #print(data.columns)\n",
    "        #print(data[f\"pred_{feature}\"])\n",
    "        chosen_song_df = data.loc[(data['artist_name'] == artist_name) & (data['track_name'] == song_name)]\n",
    "        input_prediction = int(chosen_song_df[f\"pred_{feature}\"])\n",
    "    \n",
    "        temp_df = data.loc[data[f\"pred_danceability\"] == input_prediction]\n",
    "    \n",
    "        Nsongs = len(temp_df.index)\n",
    "        if Nsongs <= 5:\n",
    "            new_temp_df = temp_df.sample(Nsongs - 1)\n",
    "        else:\n",
    "            new_temp_df = temp_df.sample(5)\n",
    "        \n",
    "    return new_temp_df[['artist_name', 'track_name']].values"
   ]
  },
  {
   "cell_type": "code",
   "execution_count": 104,
   "id": "9346025e",
   "metadata": {},
   "outputs": [
    {
     "data": {
      "text/html": [
       "<div>\n",
       "<style scoped>\n",
       "    .dataframe tbody tr th:only-of-type {\n",
       "        vertical-align: middle;\n",
       "    }\n",
       "\n",
       "    .dataframe tbody tr th {\n",
       "        vertical-align: top;\n",
       "    }\n",
       "\n",
       "    .dataframe thead th {\n",
       "        text-align: right;\n",
       "    }\n",
       "</style>\n",
       "<table border=\"1\" class=\"dataframe\">\n",
       "  <thead>\n",
       "    <tr style=\"text-align: right;\">\n",
       "      <th></th>\n",
       "      <th>artist_name</th>\n",
       "      <th>track_name</th>\n",
       "    </tr>\n",
       "  </thead>\n",
       "  <tbody>\n",
       "    <tr>\n",
       "      <th>12145</th>\n",
       "      <td>Xenia Ghali</td>\n",
       "      <td>Get Dirty (feat. Wyclef Jean)</td>\n",
       "    </tr>\n",
       "    <tr>\n",
       "      <th>4601</th>\n",
       "      <td>Tom Petty</td>\n",
       "      <td>I Won't Back Down</td>\n",
       "    </tr>\n",
       "    <tr>\n",
       "      <th>35559</th>\n",
       "      <td>Elvis Crespo</td>\n",
       "      <td>Tu Sonrisa</td>\n",
       "    </tr>\n",
       "    <tr>\n",
       "      <th>49612</th>\n",
       "      <td>ODESZA</td>\n",
       "      <td>Say My Name (feat. Zyra) - Hayden James Remix</td>\n",
       "    </tr>\n",
       "    <tr>\n",
       "      <th>5454</th>\n",
       "      <td>Cartel De Santa</td>\n",
       "      <td>Conexión Puerto Rico</td>\n",
       "    </tr>\n",
       "  </tbody>\n",
       "</table>\n",
       "</div>"
      ],
      "text/plain": [
       "           artist_name                                     track_name\n",
       "12145      Xenia Ghali                  Get Dirty (feat. Wyclef Jean)\n",
       "4601         Tom Petty                              I Won't Back Down\n",
       "35559     Elvis Crespo                                     Tu Sonrisa\n",
       "49612           ODESZA  Say My Name (feat. Zyra) - Hayden James Remix\n",
       "5454   Cartel De Santa                           Conexión Puerto Rico"
      ]
     },
     "execution_count": 104,
     "metadata": {},
     "output_type": "execute_result"
    }
   ],
   "source": [
    "recommend_util('Britney Spears', 'Toxic', 'danceability' )"
   ]
  },
  {
   "cell_type": "code",
   "execution_count": null,
   "id": "1d38f525",
   "metadata": {},
   "outputs": [],
   "source": []
  },
  {
   "cell_type": "code",
   "execution_count": 105,
   "id": "1959eedf",
   "metadata": {},
   "outputs": [],
   "source": [
    "modelpath = '/home/ernek/Main/Erdos/song_recommender/tests'"
   ]
  },
  {
   "cell_type": "code",
   "execution_count": 106,
   "id": "0cefe0b7",
   "metadata": {},
   "outputs": [
    {
     "name": "stdout",
     "output_type": "stream",
     "text": [
      "[7 0 9 7 7]\n",
      "         artist_name                                  track_name\n",
      "0      Missy Elliott  Lose Control (feat. Ciara & Fat Man Scoop)\n",
      "1     Britney Spears                                       Toxic\n",
      "2            Beyoncé                               Crazy In Love\n",
      "3  Justin Timberlake                              Rock Your Body\n",
      "4             Shaggy                                It Wasn't Me\n",
      "[7 0 9 7 7]\n"
     ]
    }
   ],
   "source": [
    "with open(f\"{modelpath}/model_danceability.pkl\", 'rb') as file:  \n",
    "    loaded_model = pickle.load(file)\n",
    "    print(loaded_model.labels_[0:5])\n",
    "    # evaluate model \n",
    "    print(training_data[['artist_name', 'track_name']].iloc[0:5])\n",
    "    y_predict = loaded_model.predict(np.array(training_data['danceability'].iloc[0:5]).reshape(-1,1))\n",
    "    print(y_predict)\n",
    "    file.close()"
   ]
  },
  {
   "cell_type": "code",
   "execution_count": 116,
   "id": "2ba39664",
   "metadata": {},
   "outputs": [],
   "source": [
    "# #Choose Model 1 or Model 2. \n",
    "# #Model 1 has everything, Model 2 has everything minus 1 parameter.\n",
    "# print(\"Choose model kmeans or fuzzy_clustering\")\n",
    "# model_choice = widgets.ToggleButtons(\n",
    "#     value = None,\n",
    "#     options = ['kmeans', 'fuzzy']\n",
    "# )\n",
    "\n",
    "# output = widgets.Output()\n",
    "\n",
    "# def model_choice_clicked(change):\n",
    "#     with output:\n",
    "#         output.clear_output()\n",
    "#         if model_choice.value == 'kmeans':\n",
    "#             print(\"Run kmeans\")\n",
    "#         elif model_choice.value == 'fuzzy':\n",
    "#             print(\"Run fuzzy\")\n",
    "\n",
    "# model_choice.observe(model_choice_clicked, names='value')\n",
    "\n",
    "# display(model_choice, output)"
   ]
  },
  {
   "cell_type": "code",
   "execution_count": 111,
   "id": "cac2205d",
   "metadata": {},
   "outputs": [
    {
     "data": {
      "text/plain": [
       "['Britney Spears', 'Beyoncé', 'Justin Timberlake', 'Shaggy', 'Usher']"
      ]
     },
     "execution_count": 111,
     "metadata": {},
     "output_type": "execute_result"
    }
   ],
   "source": [
    "artists = [x for x in song_artist_df['artist_name'].iloc[1:6].values]\n",
    "artists"
   ]
  },
  {
   "cell_type": "code",
   "execution_count": 112,
   "id": "b3decca5",
   "metadata": {},
   "outputs": [
    {
     "data": {
      "text/plain": [
       "['Toxic', 'Crazy In Love', 'Rock Your Body', \"It Wasn't Me\", 'Yeah!']"
      ]
     },
     "execution_count": 112,
     "metadata": {},
     "output_type": "execute_result"
    }
   ],
   "source": [
    "songs = [x for x in song_artist_df['track_name'].iloc[1:6].values]\n",
    "songs"
   ]
  },
  {
   "cell_type": "code",
   "execution_count": 85,
   "id": "9eddd574",
   "metadata": {},
   "outputs": [],
   "source": [
    "input_songs = [' '.join(x) for x in song_artist_df[['artist_name', 'track_name']].iloc[1:6].values]"
   ]
  },
  {
   "cell_type": "code",
   "execution_count": 91,
   "id": "58ca7c62",
   "metadata": {},
   "outputs": [
    {
     "data": {
      "text/plain": [
       "['Britney Spears Toxic',\n",
       " 'Beyoncé Crazy In Love',\n",
       " 'Justin Timberlake Rock Your Body',\n",
       " \"Shaggy It Wasn't Me\",\n",
       " 'Usher Yeah!']"
      ]
     },
     "execution_count": 91,
     "metadata": {},
     "output_type": "execute_result"
    }
   ],
   "source": [
    "input_songs"
   ]
  },
  {
   "cell_type": "code",
   "execution_count": 115,
   "id": "daa54726",
   "metadata": {},
   "outputs": [
    {
     "data": {
      "application/vnd.jupyter.widget-view+json": {
       "model_id": "8d3571e88d26416f8fe499c248c293d5",
       "version_major": 2,
       "version_minor": 0
      },
      "text/plain": [
       "Select(description='Select an option:', options=('Britney Spears Toxic', 'Beyoncé Crazy In Love', 'Justin Timb…"
      ]
     },
     "metadata": {},
     "output_type": "display_data"
    },
    {
     "data": {
      "application/vnd.jupyter.widget-view+json": {
       "model_id": "e84fd9bd3e7f44f8b9105d719313eb65",
       "version_major": 2,
       "version_minor": 0
      },
      "text/plain": [
       "Output()"
      ]
     },
     "metadata": {},
     "output_type": "display_data"
    }
   ],
   "source": [
    "select_widget = widgets.Select(\n",
    "    options=input_songs,\n",
    "    description='Select an option:',\n",
    "    disabled=False\n",
    ")\n",
    "\n",
    "output = widgets.Output()\n",
    "\n",
    "def handle_selection(change):\n",
    "    selected_option = change['new']\n",
    "    \n",
    "    with output:\n",
    "        output.clear_output()\n",
    "        \n",
    "        if selected_option == input_songs[0]:\n",
    "#             print(song_artist_df['artist_name'].iloc[1])\n",
    "            predictions = recommend_util(artists[0],songs[0], 'danceability')\n",
    "            print(predictions)\n",
    "        elif selected_option == input_songs[1]:\n",
    "            predictions = recommend_util(artists[1],songs[1], 'danceability')\n",
    "            print(predictions)\n",
    "        elif selected_option == input_songs[2]:\n",
    "            predictions = recommend_util(artists[2],songs[2], 'danceability')\n",
    "            print(predictions)\n",
    "        elif selected_option == input_songs[3]:\n",
    "            predictions = recommend_util(artists[3],songs[3], 'danceability')\n",
    "            print(predictions)\n",
    "        elif selected_option == input_songs[4]:\n",
    "            predictions = recommend_util(artists[4],songs[4], 'danceability')\n",
    "            print(predictions)\n",
    "select_widget.observe(handle_selection, names='value')\n",
    "\n",
    "display(select_widget, output)"
   ]
  },
  {
   "cell_type": "code",
   "execution_count": 117,
   "id": "4930285a",
   "metadata": {},
   "outputs": [],
   "source": [
    "# #Choose one parameter to do k means on.\n",
    "# # print(\"Choose one parameter do to k means on.\")\n",
    "\n",
    "\n",
    "# pick_one_choice = widgets.SelectMultiple(\n",
    "#     options=input_songs,\n",
    "#     value=()\n",
    "# )\n",
    "\n",
    "# output = widgets.Output()\n",
    "\n",
    "# def pick_one_from_list(change):\n",
    "#     global input_songs  # Make the variable global inside the function\n",
    "#     with output:\n",
    "#         output.clear_output()\n",
    "#         if pick_one_choice.value == input_songs[0]:\n",
    "#             print('jajaja')\n",
    "# #             predictions = recommend_util(song_artist_df['artist_name'].iloc[1].values,song_artist_df['track_name'].iloc[1].values[1] , 'danceability')\n",
    "# #             print(predictions)\n",
    "        \n",
    "# #         delimiter = ' '\n",
    "#             selected_choice = delimiter.join(pick_one_choice.value)\n",
    "#             print(selected_choice)\n",
    "# #         input_songs = [selected_choice]\n",
    "# #             print(input_songs)\n",
    "#         # Remove the observer after executing the function\n",
    "#         pick_one_choice.unobserve(pick_one_from_list, names='value')\n",
    "# #         print(input_songs[0])\n",
    "\n",
    "# pick_one_choice.observe(pick_one_from_list, names='value')\n",
    "\n",
    "# display(pick_one_choice, output)\n"
   ]
  },
  {
   "cell_type": "code",
   "execution_count": 118,
   "id": "d47b9e93",
   "metadata": {},
   "outputs": [],
   "source": [
    "# #Choose one parameter to drop.\n",
    "# print(\"Choose one parameter to drop from the algorithm.\")\n",
    "# total_list2 = ['danceability','energy','key','loudness','mode','speechiness','acousticness','instrumentalness','liveness','valence','tempo','duration_ms','time_signature']\n",
    "\n",
    "# drop_one_choice = widgets.SelectMultiple(\n",
    "#     options=total_list2,\n",
    "#     value=()\n",
    "# )\n",
    "\n",
    "# output = widgets.Output()\n",
    "\n",
    "# def drop_one_from_list(change):\n",
    "#     global total_list2\n",
    "#     with output:\n",
    "#         output.clear_output()\n",
    "#         delimiter = ' '\n",
    "#         elements_to_drop = delimiter.join(drop_one_choice.value)\n",
    "#         total_list2 = [element for element in total_list2 if element not in elements_to_drop]\n",
    "#         print(total_list2)\n",
    "        \n",
    "#         drop_one_choice.unobserve(drop_one_from_list,names='value')\n",
    "\n",
    "# drop_one_choice.observe(drop_one_from_list,names='value')\n",
    "\n",
    "# display(drop_one_choice, output)\n",
    "# #total_list is the list to now input into the model"
   ]
  }
 ],
 "metadata": {
  "kernelspec": {
   "display_name": "Python 3 (ipykernel)",
   "language": "python",
   "name": "python3"
  },
  "language_info": {
   "codemirror_mode": {
    "name": "ipython",
    "version": 3
   },
   "file_extension": ".py",
   "mimetype": "text/x-python",
   "name": "python",
   "nbconvert_exporter": "python",
   "pygments_lexer": "ipython3",
   "version": "3.10.9"
  },
  "trusted": true
 },
 "nbformat": 4,
 "nbformat_minor": 5
}
