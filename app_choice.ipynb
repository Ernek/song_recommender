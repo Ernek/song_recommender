{
 "cells": [
  {
   "cell_type": "code",
   "execution_count": 1,
   "id": "c7ae59ff",
   "metadata": {},
   "outputs": [],
   "source": [
    "#Run this code in Terminal\n",
    "#pip install voila ipywidgets\n",
    "#jupyter nbextension enable --py widgetsnbextension\n",
    "#pip install --upgrade voila ipywidgets\n",
    "#cd to file\n",
    "#TO GET WEB APP IN SEPARATE WINDOW RUN THIS\n",
    "#voila app_choice.ipynb --Voila.trusted=True\n",
    "\n",
    "import ipywidgets as widgets\n",
    "from IPython.display import display,clear_output"
   ]
  },
  {
   "cell_type": "code",
   "execution_count": null,
   "id": "4930285a",
   "metadata": {},
   "outputs": [],
   "source": [
    "#"
   ]
  },
  {
   "cell_type": "code",
   "execution_count": null,
   "id": "d47b9e93",
   "metadata": {},
   "outputs": [],
   "source": [
    "#Choose one parameter to drop.\n",
    "print(\"Choose one parameter to drop from the algorithm.\")\n",
    "total_list2 = ['danceability','energy','key','loudness','mode','speechiness','acousticness','instrumentalness','liveness','valence','tempo','duration_ms','time_signature']\n",
    "\n",
    "drop_one_choice = widgets.SelectMultiple(\n",
    "    options=total_list2,\n",
    "    value=()\n",
    ")\n",
    "\n",
    "output = widgets.Output()\n",
    "\n",
    "def drop_one_from_list(change):\n",
    "    global total_list2\n",
    "    with output:\n",
    "        output.clear_output()\n",
    "        delimiter = ' '\n",
    "        elements_to_drop = delimiter.join(drop_one_choice.value)\n",
    "        total_list2 = [element for element in total_list2 if element not in elements_to_drop]\n",
    "        print(total_list2)\n",
    "        \n",
    "        drop_one_choice.unobserve(drop_one_from_list,names='value')\n",
    "\n",
    "drop_one_choice.observe(drop_one_from_list,names='value')\n",
    "\n",
    "display(drop_one_choice, output)\n",
    "#total_list is the list to now input into the model"
   ]
  }
 ],
 "metadata": {
  "kernelspec": {
   "display_name": "Python 3 (ipykernel)",
   "language": "python",
   "name": "python3"
  },
  "language_info": {
   "codemirror_mode": {
    "name": "ipython",
    "version": 3
   },
   "file_extension": ".py",
   "mimetype": "text/x-python",
   "name": "python",
   "nbconvert_exporter": "python",
   "pygments_lexer": "ipython3",
   "version": "3.10.9"
  },
  "trusted": true
 },
 "nbformat": 4,
 "nbformat_minor": 5
}
