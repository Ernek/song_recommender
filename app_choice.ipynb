{
 "cells": [
  {
   "cell_type": "code",
   "execution_count": 1,
   "id": "c7ae59ff",
   "metadata": {},
   "outputs": [],
   "source": [
    "#Run this code in Terminal\n",
    "#pip install voila ipywidgets\n",
    "#jupyter nbextension enable --py widgetsnbextension\n",
    "#pip install --upgrade voila ipywidgets\n",
    "#cd to file\n",
    "#TO GET WEB APP IN SEPARATE WINDOW RUN THIS\n",
    "#voila app_choice.ipynb --Voila.trusted=True\n",
    "\n",
    "import ipywidgets as widgets\n",
    "from IPython.display import display,clear_output"
   ]
  },
  {
   "cell_type": "code",
   "execution_count": 2,
   "id": "2ba39664",
   "metadata": {},
   "outputs": [
    {
     "name": "stdout",
     "output_type": "stream",
     "text": [
      "Choose model 1 which contains all parameters \n",
      "or model 2 which contains all parameters minus one.\n"
     ]
    },
    {
     "data": {
      "application/vnd.jupyter.widget-view+json": {
       "model_id": "23ba12e4b5094594b094ab34a9f70455",
       "version_major": 2,
       "version_minor": 0
      },
      "text/plain": [
       "ToggleButtons(options=('Model 1', 'Model 2'), value=None)"
      ]
     },
     "metadata": {},
     "output_type": "display_data"
    },
    {
     "data": {
      "application/vnd.jupyter.widget-view+json": {
       "model_id": "cffbd6948d0c49c4b65a312127d9baec",
       "version_major": 2,
       "version_minor": 0
      },
      "text/plain": [
       "Output()"
      ]
     },
     "metadata": {},
     "output_type": "display_data"
    }
   ],
   "source": [
    "#Choose Model 1 or Model 2. \n",
    "#Model 1 has everything, Model 2 has everything minus 1 parameter.\n",
    "print(\"Choose model 1 which contains all parameters \\nor model 2 which contains all parameters minus one.\")\n",
    "model_choice = widgets.ToggleButtons(\n",
    "    value = None,\n",
    "    options = ['Model 1', 'Model 2']\n",
    ")\n",
    "\n",
    "output = widgets.Output()\n",
    "\n",
    "def model_choice_clicked(change):\n",
    "    with output:\n",
    "        output.clear_output()\n",
    "        if model_choice.value == 'Model 1':\n",
    "            print(\"Run model 1 and output a graph.\")\n",
    "        elif model_choice.value == 'Model 2':\n",
    "            print(\"Run model 2 and output a graph.\")\n",
    "\n",
    "model_choice.observe(model_choice_clicked,names='value')\n",
    "\n",
    "display(model_choice, output)"
   ]
  },
  {
   "cell_type": "code",
   "execution_count": null,
   "id": "4930285a",
   "metadata": {},
   "outputs": [],
   "source": [
    "#Choose one parameter to do k means on.\n",
    "print(\"Choose one parameter do to k means on.\")\n",
    "total_list1 = ['danceability','energy','key','loudness','mode','speechiness','acousticness',\n",
    "              'instrumentalness','liveness','valence','tempo','duration_ms','time_signature']\n",
    "\n",
    "pick_one_choice = widgets.SelectMultiple(\n",
    "    options=total_list1,\n",
    "    value=()\n",
    ")\n",
    "\n",
    "output = widgets.Output()\n",
    "\n",
    "def pick_one_from_list(change):\n",
    "    global total_list1  # Make the variable global inside the function\n",
    "    with output:\n",
    "        output.clear_output()\n",
    "        delimiter = ' '\n",
    "        selected_choice = delimiter.join(pick_one_choice.value)\n",
    "        total_list1 = [selected_choice]\n",
    "        print(total_list1)\n",
    "        \n",
    "        # Remove the observer after executing the function\n",
    "        pick_one_choice.unobserve(pick_one_from_list, names='value')\n",
    "\n",
    "pick_one_choice.observe(pick_one_from_list, names='value')\n",
    "\n",
    "display(pick_one_choice, output)\n"
   ]
  },
  {
   "cell_type": "code",
   "execution_count": null,
   "id": "d47b9e93",
   "metadata": {},
   "outputs": [],
   "source": [
    "#Choose one parameter to drop.\n",
    "print(\"Choose one parameter to drop from the algorithm.\")\n",
    "total_list2 = ['danceability','energy','key','loudness','mode','speechiness','acousticness','instrumentalness','liveness','valence','tempo','duration_ms','time_signature']\n",
    "\n",
    "drop_one_choice = widgets.SelectMultiple(\n",
    "    options=total_list2,\n",
    "    value=()\n",
    ")\n",
    "\n",
    "output = widgets.Output()\n",
    "\n",
    "def drop_one_from_list(change):\n",
    "    global total_list2\n",
    "    with output:\n",
    "        output.clear_output()\n",
    "        delimiter = ' '\n",
    "        elements_to_drop = delimiter.join(drop_one_choice.value)\n",
    "        total_list2 = [element for element in total_list2 if element not in elements_to_drop]\n",
    "        print(total_list2)\n",
    "        \n",
    "        drop_one_choice.unobserve(drop_one_from_list,names='value')\n",
    "\n",
    "drop_one_choice.observe(drop_one_from_list,names='value')\n",
    "\n",
    "display(drop_one_choice, output)\n",
    "#total_list is the list to now input into the model"
   ]
  }
 ],
 "metadata": {
  "kernelspec": {
   "display_name": "Python 3 (ipykernel)",
   "language": "python",
   "name": "python3"
  },
  "language_info": {
   "codemirror_mode": {
    "name": "ipython",
    "version": 3
   },
   "file_extension": ".py",
   "mimetype": "text/x-python",
   "name": "python",
   "nbconvert_exporter": "python",
   "pygments_lexer": "ipython3",
   "version": "3.10.9"
  },
  "trusted": true
 },
 "nbformat": 4,
 "nbformat_minor": 5
}
