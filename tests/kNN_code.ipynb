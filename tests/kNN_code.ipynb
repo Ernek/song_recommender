{
 "cells": [
  {
   "cell_type": "code",
   "execution_count": 1,
   "id": "c864a6d4",
   "metadata": {},
   "outputs": [],
   "source": [
    "#Purpose of this code is to do k Nearest neighbors on data set of songs \n",
    "\n",
    "#IMPORTANT: input personal client id and client secret for code to work\n",
    "#IMPORTANT: may have to change dataset path to be accurate\n",
    "\n",
    "import pandas as pd\n",
    "import matplotlib.pyplot as plt\n",
    "import seaborn as sns\n",
    "import numpy as np\n",
    "import json\n",
    "import spotipy\n",
    "\n",
    "from spotipy.oauth2 import SpotifyOAuth\n",
    "from sklearn.model_selection import train_test_split\n",
    "from sklearn.neighbors import KNeighborsClassifier\n",
    "\n",
    "sp = spotipy.Spotify(auth_manager=SpotifyOAuth(client_id='client_id',\n",
    "                                               client_secret='client_secret',\n",
    "                                               redirect_uri='http://localhost:8080/callback',\n",
    "                                               scope='playlist-read-private'))\n",
    "\n",
    "#Load 1000 playlist dataset\n",
    "dataset = json.load(open('playlist_data/sampledata/mpd.slice.0-999.json'))\n",
    "df = pd.DataFrame(dataset[\"playlists\"])\n"
   ]
  },
  {
   "cell_type": "code",
   "execution_count": 2,
   "id": "40db2289",
   "metadata": {},
   "outputs": [],
   "source": [
    "#make list of all songs in all playlists, give each song the corresponding playlist id so training can work on all playlists at once\n",
    "all_songs = []\n",
    "for i in df.index:\n",
    "    for j in range(df.num_tracks[i]):\n",
    "        all_songs.append(\n",
    "            df.tracks[i][j]\n",
    "        )\n",
    "        df.tracks[i][j]['pid'] = df['pid'][i]\n",
    "all_songs_df = pd.DataFrame(all_songs)"
   ]
  },
  {
   "cell_type": "code",
   "execution_count": null,
   "id": "08a702f9",
   "metadata": {},
   "outputs": [],
   "source": [
    "#create audio features dataframe that has the corresponding playlist id with we will use for classifying\n",
    "aud_feat = pd.DataFrame(sp.audio_features(all_songs_df.head(100)['track_uri']))\n",
    "aud_feat['pid']=all_songs_df['pid']"
   ]
  },
  {
   "cell_type": "code",
   "execution_count": null,
   "id": "116b2994",
   "metadata": {},
   "outputs": [],
   "source": [
    "#train_test_split\n",
    "X = aud_feat[['danceability','energy','key','loudness','mode','speechiness','acousticness','instrumentalness','liveness','valence','tempo','duration_ms','time_signature']]\n",
    "y = aud_feat.pid\n",
    "X_train, X_test, y_train, y_test = train_test_split(X,y,test_size=0.2,random_state=1,stratify=y)"
   ]
  },
  {
   "cell_type": "code",
   "execution_count": 6,
   "id": "74cda510",
   "metadata": {},
   "outputs": [
    {
     "data": {
      "text/plain": [
       "array([0, 1, 1, 0, 0, 0, 0, 0, 1, 1, 1, 1, 1, 0, 0, 0, 1, 1, 0, 1, 0, 1,\n",
       "       1, 1, 1, 1, 1, 1, 1, 0, 1, 1, 0, 1, 0, 1, 1, 0, 1, 0, 1, 0, 1, 1,\n",
       "       0, 0, 0, 0, 0, 1, 1, 1, 0, 0, 0, 1, 0, 0, 0, 0, 0, 1, 0, 0, 0, 1,\n",
       "       0, 1, 1, 0, 0, 0, 0, 0, 0, 0, 0, 0, 1, 0, 0, 0, 0, 0, 0, 0, 0, 0,\n",
       "       1, 0, 1, 0, 0, 0, 0, 0, 1, 0, 0, 0, 0, 0, 0, 0, 0, 0, 0, 0, 0, 0,\n",
       "       0, 0, 0, 0, 0, 0, 0, 0, 0, 1, 0, 0, 0, 0, 0, 0, 1, 1, 0, 0, 1, 0,\n",
       "       0, 0, 0, 0, 0, 0, 0, 1, 0, 0, 1, 0, 0, 0, 0, 1, 0, 0, 0, 0],\n",
       "      dtype=int64)"
      ]
     },
     "execution_count": 6,
     "metadata": {},
     "output_type": "execute_result"
    }
   ],
   "source": [
    "#implement kNN, choosing k is important\n",
    "knn = KNeighborsClassifier(4)\n",
    "\n",
    "knn.fit(X_train,y_train)\n",
    "\n",
    "#predict on training set\n",
    "knn.predict(X_test)\n",
    "\n",
    "#check accuracy of model on test data\n",
    "knn.score(X_test,y_test)"
   ]
  }
 ],
 "metadata": {
  "kernelspec": {
   "display_name": "Python 3 (ipykernel)",
   "language": "python",
   "name": "python3"
  },
  "language_info": {
   "codemirror_mode": {
    "name": "ipython",
    "version": 3
   },
   "file_extension": ".py",
   "mimetype": "text/x-python",
   "name": "python",
   "nbconvert_exporter": "python",
   "pygments_lexer": "ipython3",
   "version": "3.10.9"
  }
 },
 "nbformat": 4,
 "nbformat_minor": 5
}
