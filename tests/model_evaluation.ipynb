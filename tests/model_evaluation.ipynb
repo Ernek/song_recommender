{
 "cells": [
  {
   "cell_type": "code",
   "execution_count": 1,
   "id": "4e2f4cb0-0b34-4bdb-9808-fce3c0660e1e",
   "metadata": {
    "tags": []
   },
   "outputs": [],
   "source": [
    "import sys\n",
    "import os\n",
    "sys.path.append('/Users/masahiro/song_recommender/music_recommender/')"
   ]
  },
  {
   "cell_type": "code",
   "execution_count": 2,
   "id": "c774b8f9-6763-49e4-8150-141f1667d61c",
   "metadata": {
    "tags": []
   },
   "outputs": [],
   "source": [
    "#import featurization as feat\n",
    "import k_means\n",
    "from testing import evaluate, evaluate_fuzzy_model"
   ]
  },
  {
   "cell_type": "code",
   "execution_count": 3,
   "id": "5d29c30e-b6b3-497d-b63b-a3fe6f7d20f5",
   "metadata": {
    "tags": []
   },
   "outputs": [],
   "source": [
    "import numpy as np \n",
    "import pandas as pd \n",
    "from math import floor\n",
    "import json\n",
    "import spotipy\n",
    "from spotipy.oauth2 import SpotifyClientCredentials\n",
    "import pickle\n",
    "from sklearn.preprocessing import MinMaxScaler\n",
    "import statistics as st\n",
    "import skfuzzy as fuzz\n",
    "import os\n",
    "import pickle"
   ]
  },
  {
   "cell_type": "code",
   "execution_count": 7,
   "id": "fe6319db-2d6c-42c7-9bb6-2333ef336f9b",
   "metadata": {
    "tags": []
   },
   "outputs": [],
   "source": [
    "root_path = os.getcwd()[:-5]\n",
    "filepath = f\"{root_path}/playlist_data/sampledata/\"\n",
    "filename = 'mpd.slice.0-999.json'\n",
    "fpath_name = f\"{filepath}{filename}\"\n",
    "with open(fpath_name) as data_file:    \n",
    "    data = json.load(data_file)\n",
    "\n",
    "playlists_df = pd.json_normalize(data['playlists'])\n",
    "    \n",
    "filename = 'song.slice.0-49999.csv'\n",
    "fpath_name = f\"{filepath}{filename}\"\n",
    "\n",
    "songs_df = pd.read_csv(fpath_name)\n"
   ]
  },
  {
   "cell_type": "code",
   "execution_count": 5,
   "id": "70cc3c1d-0443-487c-b2b7-a49184472ba6",
   "metadata": {
    "tags": []
   },
   "outputs": [
    {
     "ename": "FileNotFoundError",
     "evalue": "[Errno 2] No such file or directory: 'model_energy.pkl'",
     "output_type": "error",
     "traceback": [
      "\u001b[0;31m---------------------------------------------------------------------------\u001b[0m",
      "\u001b[0;31mFileNotFoundError\u001b[0m                         Traceback (most recent call last)",
      "Cell \u001b[0;32mIn[5], line 3\u001b[0m\n\u001b[1;32m      1\u001b[0m filename \u001b[38;5;241m=\u001b[39m \u001b[38;5;124m'\u001b[39m\u001b[38;5;124mmodel_energy.pkl\u001b[39m\u001b[38;5;124m'\u001b[39m\n\u001b[0;32m----> 3\u001b[0m model \u001b[38;5;241m=\u001b[39m pickle\u001b[38;5;241m.\u001b[39mload(\u001b[38;5;28;43mopen\u001b[39;49m\u001b[43m(\u001b[49m\u001b[43mfilename\u001b[49m\u001b[43m,\u001b[49m\u001b[43m \u001b[49m\u001b[38;5;124;43m'\u001b[39;49m\u001b[38;5;124;43mrb\u001b[39;49m\u001b[38;5;124;43m'\u001b[39;49m\u001b[43m)\u001b[49m)\n",
      "File \u001b[0;32m/Library/Frameworks/Python.framework/Versions/3.10/lib/python3.10/site-packages/IPython/core/interactiveshell.py:282\u001b[0m, in \u001b[0;36m_modified_open\u001b[0;34m(file, *args, **kwargs)\u001b[0m\n\u001b[1;32m    275\u001b[0m \u001b[38;5;28;01mif\u001b[39;00m file \u001b[38;5;129;01min\u001b[39;00m {\u001b[38;5;241m0\u001b[39m, \u001b[38;5;241m1\u001b[39m, \u001b[38;5;241m2\u001b[39m}:\n\u001b[1;32m    276\u001b[0m     \u001b[38;5;28;01mraise\u001b[39;00m \u001b[38;5;167;01mValueError\u001b[39;00m(\n\u001b[1;32m    277\u001b[0m         \u001b[38;5;124mf\u001b[39m\u001b[38;5;124m\"\u001b[39m\u001b[38;5;124mIPython won\u001b[39m\u001b[38;5;124m'\u001b[39m\u001b[38;5;124mt let you open fd=\u001b[39m\u001b[38;5;132;01m{\u001b[39;00mfile\u001b[38;5;132;01m}\u001b[39;00m\u001b[38;5;124m by default \u001b[39m\u001b[38;5;124m\"\u001b[39m\n\u001b[1;32m    278\u001b[0m         \u001b[38;5;124m\"\u001b[39m\u001b[38;5;124mas it is likely to crash IPython. If you know what you are doing, \u001b[39m\u001b[38;5;124m\"\u001b[39m\n\u001b[1;32m    279\u001b[0m         \u001b[38;5;124m\"\u001b[39m\u001b[38;5;124myou can use builtins\u001b[39m\u001b[38;5;124m'\u001b[39m\u001b[38;5;124m open.\u001b[39m\u001b[38;5;124m\"\u001b[39m\n\u001b[1;32m    280\u001b[0m     )\n\u001b[0;32m--> 282\u001b[0m \u001b[38;5;28;01mreturn\u001b[39;00m \u001b[43mio_open\u001b[49m\u001b[43m(\u001b[49m\u001b[43mfile\u001b[49m\u001b[43m,\u001b[49m\u001b[43m \u001b[49m\u001b[38;5;241;43m*\u001b[39;49m\u001b[43margs\u001b[49m\u001b[43m,\u001b[49m\u001b[43m \u001b[49m\u001b[38;5;241;43m*\u001b[39;49m\u001b[38;5;241;43m*\u001b[39;49m\u001b[43mkwargs\u001b[49m\u001b[43m)\u001b[49m\n",
      "\u001b[0;31mFileNotFoundError\u001b[0m: [Errno 2] No such file or directory: 'model_energy.pkl'"
     ]
    }
   ],
   "source": [
    "filename = 'model_energy.pkl'\n",
    "\n",
    "model = pickle.load(open(filename, 'rb'))"
   ]
  },
  {
   "cell_type": "code",
   "execution_count": 8,
   "id": "7c3090f6-cee9-4798-9d59-3eefdd21f128",
   "metadata": {
    "tags": []
   },
   "outputs": [],
   "source": [
    "playlists = playlists_df[:100]\n",
    "songs_df = songs_df.iloc[:,2:]\n",
    "features = songs_df.select_dtypes(include=np.number).columns"
   ]
  },
  {
   "cell_type": "code",
   "execution_count": 11,
   "id": "f0d82b74-e987-40f7-86a3-164346500a53",
   "metadata": {
    "tags": []
   },
   "outputs": [
    {
     "data": {
      "text/plain": [
       "{'artist_match_rate': 0.0, 'track_match_rate': 0.0}"
      ]
     },
     "execution_count": 11,
     "metadata": {},
     "output_type": "execute_result"
    }
   ],
   "source": [
    "evaluate_fuzzy_model(features, playlists, n_suggestions=1)"
   ]
  },
  {
   "cell_type": "code",
   "execution_count": null,
   "id": "70214e54-950c-4235-8a02-712f14658b95",
   "metadata": {},
   "outputs": [],
   "source": []
  },
  {
   "cell_type": "code",
   "execution_count": null,
   "id": "a2d89101-3cff-417f-953a-95651edb6155",
   "metadata": {},
   "outputs": [],
   "source": []
  },
  {
   "cell_type": "code",
   "execution_count": null,
   "id": "849e51bb-123c-4c2d-9279-cd6737ce9d31",
   "metadata": {},
   "outputs": [],
   "source": []
  },
  {
   "cell_type": "code",
   "execution_count": null,
   "id": "63076c9d-2fbc-476b-8d96-9bfa6f03f007",
   "metadata": {},
   "outputs": [],
   "source": []
  },
  {
   "cell_type": "code",
   "execution_count": null,
   "id": "068d7d13-6c21-49a2-8147-854771a4f36e",
   "metadata": {},
   "outputs": [],
   "source": []
  },
  {
   "cell_type": "code",
   "execution_count": null,
   "id": "0d94fe31-a9c1-4967-a143-d83e06ec63a9",
   "metadata": {},
   "outputs": [],
   "source": []
  },
  {
   "cell_type": "code",
   "execution_count": 15,
   "id": "44c614c4-1d20-4a8a-bb13-15712103be91",
   "metadata": {
    "tags": []
   },
   "outputs": [
    {
     "data": {
      "text/plain": [
       "{'pos': 0,\n",
       " 'artist_name': 'Missy Elliott',\n",
       " 'track_uri': 'spotify:track:0UaMYEvWZi0ZqiDOoHU3YI',\n",
       " 'artist_uri': 'spotify:artist:2wIVse2owClT7go1WT98tk',\n",
       " 'track_name': 'Lose Control (feat. Ciara & Fat Man Scoop)',\n",
       " 'album_uri': 'spotify:album:6vV5UrXcfyQD1wu4Qo2I9K',\n",
       " 'duration_ms': 226863,\n",
       " 'album_name': 'The Cookbook'}"
      ]
     },
     "execution_count": 15,
     "metadata": {},
     "output_type": "execute_result"
    }
   ],
   "source": [
    "playlists_df.tracks[0][0]"
   ]
  },
  {
   "cell_type": "code",
   "execution_count": 14,
   "id": "8f273525-cbc5-4590-8ffa-08cfcb24da1b",
   "metadata": {
    "tags": []
   },
   "outputs": [
    {
     "data": {
      "text/html": [
       "<div>\n",
       "<style scoped>\n",
       "    .dataframe tbody tr th:only-of-type {\n",
       "        vertical-align: middle;\n",
       "    }\n",
       "\n",
       "    .dataframe tbody tr th {\n",
       "        vertical-align: top;\n",
       "    }\n",
       "\n",
       "    .dataframe thead th {\n",
       "        text-align: right;\n",
       "    }\n",
       "</style>\n",
       "<table border=\"1\" class=\"dataframe\">\n",
       "  <thead>\n",
       "    <tr style=\"text-align: right;\">\n",
       "      <th></th>\n",
       "      <th>artist_name</th>\n",
       "      <th>track_uri</th>\n",
       "      <th>artist_uri</th>\n",
       "      <th>track_name</th>\n",
       "      <th>album_uri</th>\n",
       "      <th>duration_ms</th>\n",
       "      <th>album_name</th>\n",
       "      <th>num_playlist_appearances</th>\n",
       "      <th>danceability</th>\n",
       "      <th>energy</th>\n",
       "      <th>...</th>\n",
       "      <th>mode</th>\n",
       "      <th>speechiness</th>\n",
       "      <th>acousticness</th>\n",
       "      <th>instrumentalness</th>\n",
       "      <th>liveness</th>\n",
       "      <th>valence</th>\n",
       "      <th>tempo</th>\n",
       "      <th>type</th>\n",
       "      <th>uri</th>\n",
       "      <th>time_signature</th>\n",
       "    </tr>\n",
       "  </thead>\n",
       "  <tbody>\n",
       "    <tr>\n",
       "      <th>0</th>\n",
       "      <td>Missy Elliott</td>\n",
       "      <td>spotify:track:0UaMYEvWZi0ZqiDOoHU3YI</td>\n",
       "      <td>spotify:artist:2wIVse2owClT7go1WT98tk</td>\n",
       "      <td>Lose Control (feat. Ciara &amp; Fat Man Scoop)</td>\n",
       "      <td>spotify:album:6vV5UrXcfyQD1wu4Qo2I9K</td>\n",
       "      <td>226864</td>\n",
       "      <td>The Cookbook</td>\n",
       "      <td>6840</td>\n",
       "      <td>0.904</td>\n",
       "      <td>0.813</td>\n",
       "      <td>...</td>\n",
       "      <td>0.0</td>\n",
       "      <td>0.1210</td>\n",
       "      <td>0.03110</td>\n",
       "      <td>0.006970</td>\n",
       "      <td>0.0471</td>\n",
       "      <td>0.810</td>\n",
       "      <td>125.461</td>\n",
       "      <td>audio_features</td>\n",
       "      <td>spotify:track:0UaMYEvWZi0ZqiDOoHU3YI</td>\n",
       "      <td>4.0</td>\n",
       "    </tr>\n",
       "    <tr>\n",
       "      <th>1</th>\n",
       "      <td>Britney Spears</td>\n",
       "      <td>spotify:track:6I9VzXrHxO9rA9A5euc8Ak</td>\n",
       "      <td>spotify:artist:26dSoYclwsYLMAKD3tpOr4</td>\n",
       "      <td>Toxic</td>\n",
       "      <td>spotify:album:0z7pVBGOD7HCIB7S8eLkLI</td>\n",
       "      <td>198800</td>\n",
       "      <td>In The Zone</td>\n",
       "      <td>13204</td>\n",
       "      <td>0.774</td>\n",
       "      <td>0.838</td>\n",
       "      <td>...</td>\n",
       "      <td>0.0</td>\n",
       "      <td>0.1140</td>\n",
       "      <td>0.02490</td>\n",
       "      <td>0.025000</td>\n",
       "      <td>0.2420</td>\n",
       "      <td>0.924</td>\n",
       "      <td>143.040</td>\n",
       "      <td>audio_features</td>\n",
       "      <td>spotify:track:6I9VzXrHxO9rA9A5euc8Ak</td>\n",
       "      <td>4.0</td>\n",
       "    </tr>\n",
       "    <tr>\n",
       "      <th>2</th>\n",
       "      <td>Beyoncé</td>\n",
       "      <td>spotify:track:0WqIKmW4BTrj3eJFmnCKMv</td>\n",
       "      <td>spotify:artist:6vWDO969PvNqNYHIOW5v0m</td>\n",
       "      <td>Crazy In Love</td>\n",
       "      <td>spotify:album:25hVFAxTlDvXbx2X2QkUkE</td>\n",
       "      <td>235933</td>\n",
       "      <td>Dangerously In Love (Alben für die Ewigkeit)</td>\n",
       "      <td>16913</td>\n",
       "      <td>0.664</td>\n",
       "      <td>0.758</td>\n",
       "      <td>...</td>\n",
       "      <td>0.0</td>\n",
       "      <td>0.2100</td>\n",
       "      <td>0.00238</td>\n",
       "      <td>0.000000</td>\n",
       "      <td>0.0598</td>\n",
       "      <td>0.701</td>\n",
       "      <td>99.259</td>\n",
       "      <td>audio_features</td>\n",
       "      <td>spotify:track:0WqIKmW4BTrj3eJFmnCKMv</td>\n",
       "      <td>4.0</td>\n",
       "    </tr>\n",
       "    <tr>\n",
       "      <th>3</th>\n",
       "      <td>Justin Timberlake</td>\n",
       "      <td>spotify:track:1AWQoqb9bSvzTjaLralEkT</td>\n",
       "      <td>spotify:artist:31TPClRtHm23RisEBtV3X7</td>\n",
       "      <td>Rock Your Body</td>\n",
       "      <td>spotify:album:6QPkyl04rXwTGlGlcYaRoW</td>\n",
       "      <td>267267</td>\n",
       "      <td>Justified</td>\n",
       "      <td>9065</td>\n",
       "      <td>0.892</td>\n",
       "      <td>0.714</td>\n",
       "      <td>...</td>\n",
       "      <td>0.0</td>\n",
       "      <td>0.1410</td>\n",
       "      <td>0.20100</td>\n",
       "      <td>0.000234</td>\n",
       "      <td>0.0521</td>\n",
       "      <td>0.817</td>\n",
       "      <td>100.972</td>\n",
       "      <td>audio_features</td>\n",
       "      <td>spotify:track:1AWQoqb9bSvzTjaLralEkT</td>\n",
       "      <td>4.0</td>\n",
       "    </tr>\n",
       "    <tr>\n",
       "      <th>4</th>\n",
       "      <td>Shaggy</td>\n",
       "      <td>spotify:track:1lzr43nnXAijIGYnCT8M8H</td>\n",
       "      <td>spotify:artist:5EvFsr3kj42KNv97ZEnqij</td>\n",
       "      <td>It Wasn't Me</td>\n",
       "      <td>spotify:album:6NmFmPX56pcLBOFMhIiKvF</td>\n",
       "      <td>227600</td>\n",
       "      <td>Hot Shot</td>\n",
       "      <td>23172</td>\n",
       "      <td>0.853</td>\n",
       "      <td>0.606</td>\n",
       "      <td>...</td>\n",
       "      <td>1.0</td>\n",
       "      <td>0.0713</td>\n",
       "      <td>0.05610</td>\n",
       "      <td>0.000000</td>\n",
       "      <td>0.3130</td>\n",
       "      <td>0.654</td>\n",
       "      <td>94.759</td>\n",
       "      <td>audio_features</td>\n",
       "      <td>spotify:track:1lzr43nnXAijIGYnCT8M8H</td>\n",
       "      <td>4.0</td>\n",
       "    </tr>\n",
       "    <tr>\n",
       "      <th>...</th>\n",
       "      <td>...</td>\n",
       "      <td>...</td>\n",
       "      <td>...</td>\n",
       "      <td>...</td>\n",
       "      <td>...</td>\n",
       "      <td>...</td>\n",
       "      <td>...</td>\n",
       "      <td>...</td>\n",
       "      <td>...</td>\n",
       "      <td>...</td>\n",
       "      <td>...</td>\n",
       "      <td>...</td>\n",
       "      <td>...</td>\n",
       "      <td>...</td>\n",
       "      <td>...</td>\n",
       "      <td>...</td>\n",
       "      <td>...</td>\n",
       "      <td>...</td>\n",
       "      <td>...</td>\n",
       "      <td>...</td>\n",
       "      <td>...</td>\n",
       "    </tr>\n",
       "    <tr>\n",
       "      <th>49995</th>\n",
       "      <td>Headhunterz</td>\n",
       "      <td>spotify:track:5QBQ6uA3sQFBSJJt8w9iat</td>\n",
       "      <td>spotify:artist:6C0KWmCdqrLU2LzzWBPbOy</td>\n",
       "      <td>Lift Me Up</td>\n",
       "      <td>spotify:album:12oB47jQouCO3smnZHrjiT</td>\n",
       "      <td>179488</td>\n",
       "      <td>Lift Me Up</td>\n",
       "      <td>70</td>\n",
       "      <td>0.409</td>\n",
       "      <td>0.610</td>\n",
       "      <td>...</td>\n",
       "      <td>0.0</td>\n",
       "      <td>0.0447</td>\n",
       "      <td>0.06960</td>\n",
       "      <td>0.000006</td>\n",
       "      <td>0.0655</td>\n",
       "      <td>0.468</td>\n",
       "      <td>101.576</td>\n",
       "      <td>audio_features</td>\n",
       "      <td>spotify:track:5QBQ6uA3sQFBSJJt8w9iat</td>\n",
       "      <td>5.0</td>\n",
       "    </tr>\n",
       "    <tr>\n",
       "      <th>49996</th>\n",
       "      <td>Keanu Silva</td>\n",
       "      <td>spotify:track:52DhbZEJ6lPZqJSrOPqSKo</td>\n",
       "      <td>spotify:artist:1zLMhO4zzzxt5PMV4wMS3y</td>\n",
       "      <td>Children - RMFB Remix Edit</td>\n",
       "      <td>spotify:album:6fLFnjmVbaTIhoQUpstUTY</td>\n",
       "      <td>195000</td>\n",
       "      <td>Children</td>\n",
       "      <td>23</td>\n",
       "      <td>0.222</td>\n",
       "      <td>0.814</td>\n",
       "      <td>...</td>\n",
       "      <td>0.0</td>\n",
       "      <td>0.1010</td>\n",
       "      <td>0.00226</td>\n",
       "      <td>0.902000</td>\n",
       "      <td>0.2610</td>\n",
       "      <td>0.242</td>\n",
       "      <td>153.407</td>\n",
       "      <td>audio_features</td>\n",
       "      <td>spotify:track:52DhbZEJ6lPZqJSrOPqSKo</td>\n",
       "      <td>4.0</td>\n",
       "    </tr>\n",
       "    <tr>\n",
       "      <th>49997</th>\n",
       "      <td>Myon</td>\n",
       "      <td>spotify:track:7dCmQbhItGA7JgdBUgY18J</td>\n",
       "      <td>spotify:artist:0nTbVTXLLbBA4xCtn0cFkv</td>\n",
       "      <td>Round We Go - Radio Edit</td>\n",
       "      <td>spotify:album:1FhkQ24VBtdglGRHJbQlcL</td>\n",
       "      <td>251250</td>\n",
       "      <td>Round We Go</td>\n",
       "      <td>44</td>\n",
       "      <td>0.490</td>\n",
       "      <td>0.905</td>\n",
       "      <td>...</td>\n",
       "      <td>0.0</td>\n",
       "      <td>0.0717</td>\n",
       "      <td>0.03950</td>\n",
       "      <td>0.000059</td>\n",
       "      <td>0.6860</td>\n",
       "      <td>0.210</td>\n",
       "      <td>128.016</td>\n",
       "      <td>audio_features</td>\n",
       "      <td>spotify:track:7dCmQbhItGA7JgdBUgY18J</td>\n",
       "      <td>4.0</td>\n",
       "    </tr>\n",
       "    <tr>\n",
       "      <th>49998</th>\n",
       "      <td>Alison Wonderland</td>\n",
       "      <td>spotify:track:28QlLenBGFRjxMmKONi9x2</td>\n",
       "      <td>spotify:artist:11gWrKZMBsGQWmobv3oNfW</td>\n",
       "      <td>U Don't Know - Vincent Remix</td>\n",
       "      <td>spotify:album:6ahNh15MTKTZb2IQJMnqBy</td>\n",
       "      <td>217795</td>\n",
       "      <td>Run</td>\n",
       "      <td>156</td>\n",
       "      <td>0.414</td>\n",
       "      <td>0.767</td>\n",
       "      <td>...</td>\n",
       "      <td>0.0</td>\n",
       "      <td>0.0650</td>\n",
       "      <td>0.00515</td>\n",
       "      <td>0.000000</td>\n",
       "      <td>0.0996</td>\n",
       "      <td>0.210</td>\n",
       "      <td>137.945</td>\n",
       "      <td>audio_features</td>\n",
       "      <td>spotify:track:28QlLenBGFRjxMmKONi9x2</td>\n",
       "      <td>4.0</td>\n",
       "    </tr>\n",
       "    <tr>\n",
       "      <th>49999</th>\n",
       "      <td>SLANDER</td>\n",
       "      <td>spotify:track:7c6mnuoAHoopR1Ti2bCKz2</td>\n",
       "      <td>spotify:artist:20DZAfCuP1TKZl5KcY7z3Q</td>\n",
       "      <td>Love Again (feat. WAVZ)</td>\n",
       "      <td>spotify:album:4VT2smjUwrP73Ni00hyLta</td>\n",
       "      <td>295947</td>\n",
       "      <td>Duality</td>\n",
       "      <td>495</td>\n",
       "      <td>0.558</td>\n",
       "      <td>0.852</td>\n",
       "      <td>...</td>\n",
       "      <td>0.0</td>\n",
       "      <td>0.3320</td>\n",
       "      <td>0.01710</td>\n",
       "      <td>0.000000</td>\n",
       "      <td>0.2260</td>\n",
       "      <td>0.360</td>\n",
       "      <td>150.211</td>\n",
       "      <td>audio_features</td>\n",
       "      <td>spotify:track:7c6mnuoAHoopR1Ti2bCKz2</td>\n",
       "      <td>4.0</td>\n",
       "    </tr>\n",
       "  </tbody>\n",
       "</table>\n",
       "<p>50000 rows × 22 columns</p>\n",
       "</div>"
      ],
      "text/plain": [
       "             artist_name                             track_uri  \\\n",
       "0          Missy Elliott  spotify:track:0UaMYEvWZi0ZqiDOoHU3YI   \n",
       "1         Britney Spears  spotify:track:6I9VzXrHxO9rA9A5euc8Ak   \n",
       "2                Beyoncé  spotify:track:0WqIKmW4BTrj3eJFmnCKMv   \n",
       "3      Justin Timberlake  spotify:track:1AWQoqb9bSvzTjaLralEkT   \n",
       "4                 Shaggy  spotify:track:1lzr43nnXAijIGYnCT8M8H   \n",
       "...                  ...                                   ...   \n",
       "49995        Headhunterz  spotify:track:5QBQ6uA3sQFBSJJt8w9iat   \n",
       "49996        Keanu Silva  spotify:track:52DhbZEJ6lPZqJSrOPqSKo   \n",
       "49997               Myon  spotify:track:7dCmQbhItGA7JgdBUgY18J   \n",
       "49998  Alison Wonderland  spotify:track:28QlLenBGFRjxMmKONi9x2   \n",
       "49999            SLANDER  spotify:track:7c6mnuoAHoopR1Ti2bCKz2   \n",
       "\n",
       "                                  artist_uri  \\\n",
       "0      spotify:artist:2wIVse2owClT7go1WT98tk   \n",
       "1      spotify:artist:26dSoYclwsYLMAKD3tpOr4   \n",
       "2      spotify:artist:6vWDO969PvNqNYHIOW5v0m   \n",
       "3      spotify:artist:31TPClRtHm23RisEBtV3X7   \n",
       "4      spotify:artist:5EvFsr3kj42KNv97ZEnqij   \n",
       "...                                      ...   \n",
       "49995  spotify:artist:6C0KWmCdqrLU2LzzWBPbOy   \n",
       "49996  spotify:artist:1zLMhO4zzzxt5PMV4wMS3y   \n",
       "49997  spotify:artist:0nTbVTXLLbBA4xCtn0cFkv   \n",
       "49998  spotify:artist:11gWrKZMBsGQWmobv3oNfW   \n",
       "49999  spotify:artist:20DZAfCuP1TKZl5KcY7z3Q   \n",
       "\n",
       "                                       track_name  \\\n",
       "0      Lose Control (feat. Ciara & Fat Man Scoop)   \n",
       "1                                           Toxic   \n",
       "2                                   Crazy In Love   \n",
       "3                                  Rock Your Body   \n",
       "4                                    It Wasn't Me   \n",
       "...                                           ...   \n",
       "49995                                  Lift Me Up   \n",
       "49996                  Children - RMFB Remix Edit   \n",
       "49997                    Round We Go - Radio Edit   \n",
       "49998                U Don't Know - Vincent Remix   \n",
       "49999                     Love Again (feat. WAVZ)   \n",
       "\n",
       "                                  album_uri  duration_ms  \\\n",
       "0      spotify:album:6vV5UrXcfyQD1wu4Qo2I9K       226864   \n",
       "1      spotify:album:0z7pVBGOD7HCIB7S8eLkLI       198800   \n",
       "2      spotify:album:25hVFAxTlDvXbx2X2QkUkE       235933   \n",
       "3      spotify:album:6QPkyl04rXwTGlGlcYaRoW       267267   \n",
       "4      spotify:album:6NmFmPX56pcLBOFMhIiKvF       227600   \n",
       "...                                     ...          ...   \n",
       "49995  spotify:album:12oB47jQouCO3smnZHrjiT       179488   \n",
       "49996  spotify:album:6fLFnjmVbaTIhoQUpstUTY       195000   \n",
       "49997  spotify:album:1FhkQ24VBtdglGRHJbQlcL       251250   \n",
       "49998  spotify:album:6ahNh15MTKTZb2IQJMnqBy       217795   \n",
       "49999  spotify:album:4VT2smjUwrP73Ni00hyLta       295947   \n",
       "\n",
       "                                         album_name  num_playlist_appearances  \\\n",
       "0                                      The Cookbook                      6840   \n",
       "1                                       In The Zone                     13204   \n",
       "2      Dangerously In Love (Alben für die Ewigkeit)                     16913   \n",
       "3                                         Justified                      9065   \n",
       "4                                          Hot Shot                     23172   \n",
       "...                                             ...                       ...   \n",
       "49995                                    Lift Me Up                        70   \n",
       "49996                                      Children                        23   \n",
       "49997                                   Round We Go                        44   \n",
       "49998                                           Run                       156   \n",
       "49999                                       Duality                       495   \n",
       "\n",
       "       danceability  energy  ...  mode  speechiness  acousticness  \\\n",
       "0             0.904   0.813  ...   0.0       0.1210       0.03110   \n",
       "1             0.774   0.838  ...   0.0       0.1140       0.02490   \n",
       "2             0.664   0.758  ...   0.0       0.2100       0.00238   \n",
       "3             0.892   0.714  ...   0.0       0.1410       0.20100   \n",
       "4             0.853   0.606  ...   1.0       0.0713       0.05610   \n",
       "...             ...     ...  ...   ...          ...           ...   \n",
       "49995         0.409   0.610  ...   0.0       0.0447       0.06960   \n",
       "49996         0.222   0.814  ...   0.0       0.1010       0.00226   \n",
       "49997         0.490   0.905  ...   0.0       0.0717       0.03950   \n",
       "49998         0.414   0.767  ...   0.0       0.0650       0.00515   \n",
       "49999         0.558   0.852  ...   0.0       0.3320       0.01710   \n",
       "\n",
       "       instrumentalness  liveness  valence    tempo            type  \\\n",
       "0              0.006970    0.0471    0.810  125.461  audio_features   \n",
       "1              0.025000    0.2420    0.924  143.040  audio_features   \n",
       "2              0.000000    0.0598    0.701   99.259  audio_features   \n",
       "3              0.000234    0.0521    0.817  100.972  audio_features   \n",
       "4              0.000000    0.3130    0.654   94.759  audio_features   \n",
       "...                 ...       ...      ...      ...             ...   \n",
       "49995          0.000006    0.0655    0.468  101.576  audio_features   \n",
       "49996          0.902000    0.2610    0.242  153.407  audio_features   \n",
       "49997          0.000059    0.6860    0.210  128.016  audio_features   \n",
       "49998          0.000000    0.0996    0.210  137.945  audio_features   \n",
       "49999          0.000000    0.2260    0.360  150.211  audio_features   \n",
       "\n",
       "                                        uri time_signature  \n",
       "0      spotify:track:0UaMYEvWZi0ZqiDOoHU3YI            4.0  \n",
       "1      spotify:track:6I9VzXrHxO9rA9A5euc8Ak            4.0  \n",
       "2      spotify:track:0WqIKmW4BTrj3eJFmnCKMv            4.0  \n",
       "3      spotify:track:1AWQoqb9bSvzTjaLralEkT            4.0  \n",
       "4      spotify:track:1lzr43nnXAijIGYnCT8M8H            4.0  \n",
       "...                                     ...            ...  \n",
       "49995  spotify:track:5QBQ6uA3sQFBSJJt8w9iat            5.0  \n",
       "49996  spotify:track:52DhbZEJ6lPZqJSrOPqSKo            4.0  \n",
       "49997  spotify:track:7dCmQbhItGA7JgdBUgY18J            4.0  \n",
       "49998  spotify:track:28QlLenBGFRjxMmKONi9x2            4.0  \n",
       "49999  spotify:track:7c6mnuoAHoopR1Ti2bCKz2            4.0  \n",
       "\n",
       "[50000 rows x 22 columns]"
      ]
     },
     "execution_count": 14,
     "metadata": {},
     "output_type": "execute_result"
    }
   ],
   "source": [
    "songs_df"
   ]
  },
  {
   "cell_type": "code",
   "execution_count": 10,
   "id": "c8d4e159-4cea-4a73-9b99-5c4106bd7613",
   "metadata": {
    "tags": []
   },
   "outputs": [
    {
     "data": {
      "text/plain": [
       "Index(['artist_name', 'track_uri', 'artist_uri', 'track_name', 'album_uri',\n",
       "       'duration_ms', 'album_name', 'num_playlist_appearances', 'danceability',\n",
       "       'energy', 'key', 'loudness', 'mode', 'speechiness', 'acousticness',\n",
       "       'instrumentalness', 'liveness', 'valence', 'tempo', 'type', 'uri',\n",
       "       'time_signature'],\n",
       "      dtype='object')"
      ]
     },
     "execution_count": 10,
     "metadata": {},
     "output_type": "execute_result"
    }
   ],
   "source": [
    "songs_df.columns"
   ]
  },
  {
   "cell_type": "code",
   "execution_count": 11,
   "id": "78e75780-3c2d-412a-8376-b0be7e84de19",
   "metadata": {
    "tags": []
   },
   "outputs": [],
   "source": [
    "songs = songs_df.select_dtypes(include=np.number)"
   ]
  },
  {
   "cell_type": "code",
   "execution_count": 6,
   "id": "dec4f542-58e0-47fe-a51c-02a474fb6607",
   "metadata": {
    "tags": []
   },
   "outputs": [
    {
     "data": {
      "text/html": [
       "<div>\n",
       "<style scoped>\n",
       "    .dataframe tbody tr th:only-of-type {\n",
       "        vertical-align: middle;\n",
       "    }\n",
       "\n",
       "    .dataframe tbody tr th {\n",
       "        vertical-align: top;\n",
       "    }\n",
       "\n",
       "    .dataframe thead th {\n",
       "        text-align: right;\n",
       "    }\n",
       "</style>\n",
       "<table border=\"1\" class=\"dataframe\">\n",
       "  <thead>\n",
       "    <tr style=\"text-align: right;\">\n",
       "      <th></th>\n",
       "      <th>tracks</th>\n",
       "      <th>pid</th>\n",
       "    </tr>\n",
       "  </thead>\n",
       "  <tbody>\n",
       "    <tr>\n",
       "      <th>0</th>\n",
       "      <td>[{'pos': 0, 'artist_name': 'Missy Elliott', 't...</td>\n",
       "      <td>0</td>\n",
       "    </tr>\n",
       "    <tr>\n",
       "      <th>1</th>\n",
       "      <td>[{'pos': 0, 'artist_name': 'Survivor', 'track_...</td>\n",
       "      <td>1</td>\n",
       "    </tr>\n",
       "    <tr>\n",
       "      <th>2</th>\n",
       "      <td>[{'pos': 0, 'artist_name': 'Hoody', 'track_uri...</td>\n",
       "      <td>2</td>\n",
       "    </tr>\n",
       "    <tr>\n",
       "      <th>3</th>\n",
       "      <td>[{'pos': 0, 'artist_name': 'Camille Saint-Saën...</td>\n",
       "      <td>3</td>\n",
       "    </tr>\n",
       "    <tr>\n",
       "      <th>4</th>\n",
       "      <td>[{'pos': 0, 'artist_name': 'The Smashing Pumpk...</td>\n",
       "      <td>4</td>\n",
       "    </tr>\n",
       "    <tr>\n",
       "      <th>...</th>\n",
       "      <td>...</td>\n",
       "      <td>...</td>\n",
       "    </tr>\n",
       "    <tr>\n",
       "      <th>195</th>\n",
       "      <td>[{'pos': 0, 'artist_name': 'Dara Maclean', 'tr...</td>\n",
       "      <td>195</td>\n",
       "    </tr>\n",
       "    <tr>\n",
       "      <th>196</th>\n",
       "      <td>[{'pos': 0, 'artist_name': 'The Avett Brothers...</td>\n",
       "      <td>196</td>\n",
       "    </tr>\n",
       "    <tr>\n",
       "      <th>197</th>\n",
       "      <td>[{'pos': 0, 'artist_name': 'ODESZA', 'track_ur...</td>\n",
       "      <td>197</td>\n",
       "    </tr>\n",
       "    <tr>\n",
       "      <th>198</th>\n",
       "      <td>[{'pos': 0, 'artist_name': 'Gwen McCrae', 'tra...</td>\n",
       "      <td>198</td>\n",
       "    </tr>\n",
       "    <tr>\n",
       "      <th>199</th>\n",
       "      <td>[{'pos': 0, 'artist_name': 'Kanye West', 'trac...</td>\n",
       "      <td>199</td>\n",
       "    </tr>\n",
       "  </tbody>\n",
       "</table>\n",
       "<p>200 rows × 2 columns</p>\n",
       "</div>"
      ],
      "text/plain": [
       "                                                tracks  pid\n",
       "0    [{'pos': 0, 'artist_name': 'Missy Elliott', 't...    0\n",
       "1    [{'pos': 0, 'artist_name': 'Survivor', 'track_...    1\n",
       "2    [{'pos': 0, 'artist_name': 'Hoody', 'track_uri...    2\n",
       "3    [{'pos': 0, 'artist_name': 'Camille Saint-Saën...    3\n",
       "4    [{'pos': 0, 'artist_name': 'The Smashing Pumpk...    4\n",
       "..                                                 ...  ...\n",
       "195  [{'pos': 0, 'artist_name': 'Dara Maclean', 'tr...  195\n",
       "196  [{'pos': 0, 'artist_name': 'The Avett Brothers...  196\n",
       "197  [{'pos': 0, 'artist_name': 'ODESZA', 'track_ur...  197\n",
       "198  [{'pos': 0, 'artist_name': 'Gwen McCrae', 'tra...  198\n",
       "199  [{'pos': 0, 'artist_name': 'Kanye West', 'trac...  199\n",
       "\n",
       "[200 rows x 2 columns]"
      ]
     },
     "execution_count": 6,
     "metadata": {},
     "output_type": "execute_result"
    }
   ],
   "source": [
    "# Create partial playlists to test the model on\n",
    "\n",
    "partial_playlist = playlists_df.tracks.apply(lambda x: x[:max(1,floor(len(x)*(1-0.5)))])\n",
    "partial_playlist = partial_playlist[:200].to_frame()\n",
    "partial_playlist['pid'] = range(200)\n",
    "partial_playlist"
   ]
  },
  {
   "cell_type": "code",
   "execution_count": 26,
   "id": "582271ba-eefa-4902-bfb6-abbc3bb484f8",
   "metadata": {
    "tags": []
   },
   "outputs": [],
   "source": [
    "n_suggestions = 5"
   ]
  },
  {
   "cell_type": "code",
   "execution_count": 10,
   "id": "8ac036b4-fce4-4035-90f0-7fb290a6e26c",
   "metadata": {
    "tags": []
   },
   "outputs": [],
   "source": [
    "# Evaluation of K-means using song features only\n",
    "\n",
    "# Normalize features\n",
    "songs = songs_df.select_dtypes(include=np.number).to_numpy()\n",
    "minmax = MinMaxScaler()\n",
    "songs = minmax.fit_transform(songs)\n",
    "\n",
    "# Fit the model\n",
    "#model = k_means.kmeans_fit(songs, N_clusters=50)\n",
    "\n"
   ]
  },
  {
   "cell_type": "code",
   "execution_count": 200,
   "id": "2c1612a1-81cb-4c3e-8fe6-ec2c0561162a",
   "metadata": {
    "tags": []
   },
   "outputs": [],
   "source": [
    "def k_means_rec(playlists):\n",
    "    \n",
    "    recs = {'pid':[], 'tracks':[]}\n",
    "    \n",
    "    for i in range(len(playlists)):\n",
    "        \n",
    "        recs['pid'].append(playlists.pid[i])\n",
    "                           \n",
    "        playlist = playlists.tracks[i]\n",
    "        uri_list = [track['track_uri'] for track in playlist]\n",
    "        \n",
    "        playlist = songs[[uri in uri_list for uri in song_df['uri']]]\n",
    "        \n",
    "        # Predict the cluster\n",
    "        clusters = model.predict(playlist)\n",
    "        cluster = st.mode(clusters)\n",
    "\n",
    "        # Suggest songs from the cluster\n",
    "        \n",
    "        recs['tracks'].append(song_df[model.labels_ == cluster].sample(n_suggestions).to_dict(orient='records'))\n",
    "        \n",
    "    return pd.DataFrame(recs)\n",
    "\n",
    "def k_means_rec_artist_priority(playlists):\n",
    "    \n",
    "    recs = {'pid':[], 'tracks':[]}\n",
    "    \n",
    "    for i in range(len(playlists)):\n",
    "        \n",
    "        recs['pid'].append(playlists.pid[i])\n",
    "                           \n",
    "        playlist = playlists.tracks[i]\n",
    "        uri_list = [track['track_uri'] for track in playlist]\n",
    "        \n",
    "        playlist = songs[[uri in uri_list for uri in song_df['uri']]]\n",
    "        playlist_df = song_df[[uri in uri_list for uri in song_df['uri']]]\n",
    "        \n",
    "        artists = playlist_df.artist_name.values\n",
    "\n",
    "        \n",
    "        # Predict the cluster\n",
    "        clusters = model.predict(playlist)\n",
    "        cluster = st.mode(clusters)\n",
    "\n",
    "        # Suggest songs from the cluster\n",
    "        \n",
    "        crit1 = song_df[[artist in artists for artist in song_df['artist_name'].values]]\n",
    "        crit2 = song_df[model.labels_ == cluster]\n",
    "        \n",
    "        crit = pd.merge(crit1, crit2, how='inner', on='track_uri', suffixes=('', '_y'))\n",
    "        n = len(crit)\n",
    "        \n",
    "        recs['tracks'].append(crit.sample(min(n,n_suggestions)).to_dict(orient='records'))\n",
    "        \n",
    "    return pd.DataFrame(recs)\n",
    "\n",
    "\n",
    "def baseline_rec(playlists):\n",
    "    \n",
    "    recs = {'pid':[], 'tracks':[]}\n",
    "    \n",
    "    for i in range(len(playlists)):\n",
    "        \n",
    "        recs['pid'].append(playlists.pid[i])\n",
    "                           \n",
    "        playlist = playlists.tracks[i]\n",
    "        uri_list = [track['track_uri'] for track in playlist]\n",
    "        \n",
    "        playlist = song_df[[uri in uri_list for uri in song_df['uri']]]\n",
    "        \n",
    "        artists = playlist.artist_name.values\n",
    "\n",
    "        # Suggest songs with the same artist\n",
    "        \n",
    "        recs['tracks'].append(song_df[[artist in artists for artist in song_df['artist_name'].values]].sample(n_suggestions, replace=True).to_dict(orient='records'))\n",
    "        \n",
    "    return pd.DataFrame(recs)"
   ]
  },
  {
   "cell_type": "code",
   "execution_count": 201,
   "id": "0e901d2d-fc16-43ae-b36a-ea7350573fc4",
   "metadata": {
    "tags": []
   },
   "outputs": [],
   "source": [
    "recs = k_means_rec_artist_priority(partial_playlist)"
   ]
  },
  {
   "cell_type": "code",
   "execution_count": 207,
   "id": "766c57d8-e53d-4562-ae02-d8cb0bbd22bc",
   "metadata": {
    "tags": []
   },
   "outputs": [],
   "source": [
    "recs_b = baseline_rec(partial_playlist)"
   ]
  },
  {
   "cell_type": "code",
   "execution_count": 204,
   "id": "e9508f26-4456-4e53-b87d-3852cf42cc4d",
   "metadata": {
    "tags": []
   },
   "outputs": [
    {
     "data": {
      "text/plain": [
       "{'artist_match_rate': 0.14291666666666664,\n",
       " 'track_match_rate': 0.013166666666666667}"
      ]
     },
     "execution_count": 204,
     "metadata": {},
     "output_type": "execute_result"
    }
   ],
   "source": [
    "evaluate(recs)"
   ]
  },
  {
   "cell_type": "code",
   "execution_count": 208,
   "id": "3871cd1f-479d-4755-8679-5ef85b05d3bc",
   "metadata": {
    "tags": []
   },
   "outputs": [
    {
     "data": {
      "text/plain": [
       "{'artist_match_rate': 0.13516666666666657, 'track_match_rate': 0.012}"
      ]
     },
     "execution_count": 208,
     "metadata": {},
     "output_type": "execute_result"
    }
   ],
   "source": [
    "evaluate(recs_b)"
   ]
  },
  {
   "cell_type": "code",
   "execution_count": 43,
   "id": "135024f4-068a-44da-b384-a3bc362585ea",
   "metadata": {
    "tags": []
   },
   "outputs": [],
   "source": [
    " a = pd.Series([{'a':2},2,3])"
   ]
  },
  {
   "cell_type": "code",
   "execution_count": 44,
   "id": "c816393a-3da2-4b10-96aa-a71107b8393e",
   "metadata": {
    "tags": []
   },
   "outputs": [
    {
     "data": {
      "text/plain": [
       "0    {'a': 2}\n",
       "1           2\n",
       "2           3\n",
       "dtype: object"
      ]
     },
     "execution_count": 44,
     "metadata": {},
     "output_type": "execute_result"
    }
   ],
   "source": [
    "a"
   ]
  },
  {
   "cell_type": "code",
   "execution_count": 46,
   "id": "71ef4ea7-5e61-45ef-8dc9-3d82a0d29752",
   "metadata": {
    "tags": []
   },
   "outputs": [
    {
     "data": {
      "text/plain": [
       "{'a': 2}"
      ]
     },
     "execution_count": 46,
     "metadata": {},
     "output_type": "execute_result"
    }
   ],
   "source": [
    "a[0]"
   ]
  },
  {
   "cell_type": "code",
   "execution_count": 11,
   "id": "ee8871ad-f080-4d7a-a492-4929f70007ba",
   "metadata": {
    "tags": []
   },
   "outputs": [],
   "source": [
    "from sklearn.preprocessing import MinMaxScaler, OneHotEncoder\n",
    "\n",
    "# Step 1: Load the song data\n",
    "song_data = songs_df.select_dtypes(include=np.number)\n",
    "\n",
    "# Step 2: Define the input songs\n",
    "#input_songs = ['White Christmas', 'Let It Snow! Let It Snow! Let It Snow!', 'Jingle Bell Rock', 'Winter Wonderland']\n",
    "\n",
    "# Step 4: Preprocess numerical features\n",
    "# numerical_features = ['danceability', 'energy', 'key', 'loudness',\n",
    "#        'speechiness', 'acousticness', 'instrumentalness', 'liveness',\n",
    "#        'valence', 'tempo', 'song_popularity', 'artist_popularity', 'album_popularity'] #['artist_fraction', 'playlist_description_encoded']  # Replace with the actual numerical feature column names\n",
    "all_songs_numerical = song_data\n",
    "input_songs_numerical = song_data\n",
    "\n",
    "# Step 5: Preprocess categorical features\n",
    "#categorical_features = ['track_track_name', 'playlist_name']  # Replace with the actual categorical feature column names\n",
    "#all_songs_categorical = song_data[categorical_features]\n",
    "#input_songs_categorical = input_songs_data[categorical_features]\n",
    "\n",
    "# Step 6: Perform one-hot encoding on categorical features\n",
    "encoder = OneHotEncoder(sparse_output=False)\n",
    "#all_songs_categorical_encoded = encoder.fit_transform(all_songs_categorical)\n",
    "#input_songs_categorical_encoded = encoder.transform(input_songs_categorical)\n",
    "\n",
    "# Step 7: Combine numerical and categorical features\n",
    "all_songs_combined = all_songs_numerical #np.concatenate((all_songs_numerical, all_songs_categorical_encoded), axis=1)\n",
    "input_songs_combined = input_songs_numerical #np.concatenate((input_songs_numerical, input_songs_categorical_encoded), axis=1)\n",
    "\n",
    "# Step 8: Scale the feature values\n",
    "scaler = MinMaxScaler()\n",
    "X_combined = scaler.fit_transform(all_songs_combined)\n",
    "input_songs_combined_scaled = scaler.transform(input_songs_combined)\n",
    "\n",
    "# Step 9: Train the fuzzy clustering model\n",
    "num_clusters = 7\n",
    "cntr, u, _, _, _, _, _ = fuzz.cluster.cmeans(X_combined.T, num_clusters, m=1.00001, error=0.000005, maxiter=50000)\n",
    "\n",
    "# Step 10: Predict the degree of membership for all songs\n",
    "all_songs_membership = fuzz.cluster.cmeans_predict(X_combined.T, cntr, 2, error=0.000005, maxiter=50000)[0]\n",
    "\n",
    "# Step 11: Predict the degree of membership for the input songs\n",
    "input_songs_membership = fuzz.cluster.cmeans_predict(input_songs_combined_scaled.T, cntr, 2, error=0.000005, maxiter=50000)[0]\n"
   ]
  },
  {
   "cell_type": "code",
   "execution_count": 12,
   "id": "a7657dda-98c0-4e25-92d5-0955fb7786f8",
   "metadata": {
    "tags": []
   },
   "outputs": [
    {
     "data": {
      "text/plain": [
       "array([[0.08654479, 0.09750568, 0.07947996, ..., 0.08992908, 0.0658463 ,\n",
       "        0.06580303],\n",
       "       [0.26326176, 0.2938084 , 0.1941167 , ..., 0.16461758, 0.1694723 ,\n",
       "        0.15511537],\n",
       "       [0.07985084, 0.08244089, 0.09008581, ..., 0.13376431, 0.09271508,\n",
       "        0.09235441],\n",
       "       ...,\n",
       "       [0.36985724, 0.3135498 , 0.43036416, ..., 0.36505072, 0.50433105,\n",
       "        0.51400599],\n",
       "       [0.0429733 , 0.04618618, 0.04591198, ..., 0.06364876, 0.04409037,\n",
       "        0.04118924],\n",
       "       [0.05532144, 0.05896668, 0.05763012, ..., 0.07529766, 0.05245874,\n",
       "        0.05043179]])"
      ]
     },
     "execution_count": 12,
     "metadata": {},
     "output_type": "execute_result"
    }
   ],
   "source": [
    "input_songs_membership"
   ]
  },
  {
   "cell_type": "code",
   "execution_count": 16,
   "id": "05f26ba6-2199-4007-9fda-2db52a6f64a1",
   "metadata": {
    "tags": []
   },
   "outputs": [],
   "source": [
    "\n",
    "i = 0\n",
    "cluster_num_string_array = []\n",
    "sorted_indices_array = []\n",
    "\n",
    "for input_membership_array in input_songs_membership.T:\n",
    "    sorted_indices = np.argsort(input_membership_array)[::-1]\n",
    "    sorted_indices_array.append(sorted_indices)\n",
    "    \n",
    "    cluster_num_string = \"Cluster ranks for Input Track {}:    \".format(i)\n",
    "    cluster_num_string_array.append(cluster_num_string)\n",
    "    \n",
    "    i=i+1\n",
    "    \n",
    "test_encoding = tuple(zip(cluster_num_string_array , sorted_indices_array))\n",
    "\n",
    "for cluster_rankings in test_encoding:\n",
    "    cluster_label = cluster_rankings[0]\n",
    "    cluster_array = cluster_rankings[1].tolist()\n"
   ]
  },
  {
   "cell_type": "code",
   "execution_count": 22,
   "id": "e4783633-9666-4630-9a1e-34f76dba0b3f",
   "metadata": {
    "tags": []
   },
   "outputs": [
    {
     "data": {
      "text/plain": [
       "(('Cluster ranks for Input Track 0:    ', array([4, 1, 3, 0, 2, 6, 5])),\n",
       " ('Cluster ranks for Input Track 1:    ', array([4, 1, 3, 0, 2, 6, 5])),\n",
       " ('Cluster ranks for Input Track 2:    ', array([4, 1, 3, 2, 0, 6, 5])),\n",
       " ('Cluster ranks for Input Track 3:    ', array([4, 1, 3, 0, 2, 6, 5])),\n",
       " ('Cluster ranks for Input Track 4:    ', array([3, 2, 0, 6, 4, 1, 5])),\n",
       " ('Cluster ranks for Input Track 5:    ', array([3, 2, 0, 6, 4, 1, 5])),\n",
       " ('Cluster ranks for Input Track 6:    ', array([3, 0, 2, 6, 4, 1, 5])),\n",
       " ('Cluster ranks for Input Track 7:    ', array([2, 3, 0, 6, 4, 1, 5])),\n",
       " ('Cluster ranks for Input Track 8:    ', array([4, 1, 3, 0, 2, 6, 5])),\n",
       " ('Cluster ranks for Input Track 9:    ', array([4, 1, 3, 0, 2, 6, 5])))"
      ]
     },
     "execution_count": 22,
     "metadata": {},
     "output_type": "execute_result"
    }
   ],
   "source": [
    "test_encoding[:10]"
   ]
  },
  {
   "cell_type": "code",
   "execution_count": null,
   "id": "20cfead9-e85b-48cd-bc24-99ad9ca78df0",
   "metadata": {},
   "outputs": [],
   "source": []
  }
 ],
 "metadata": {
  "kernelspec": {
   "display_name": "Python 3 (ipykernel)",
   "language": "python",
   "name": "python3"
  },
  "language_info": {
   "codemirror_mode": {
    "name": "ipython",
    "version": 3
   },
   "file_extension": ".py",
   "mimetype": "text/x-python",
   "name": "python",
   "nbconvert_exporter": "python",
   "pygments_lexer": "ipython3",
   "version": "3.10.0"
  }
 },
 "nbformat": 4,
 "nbformat_minor": 5
}
