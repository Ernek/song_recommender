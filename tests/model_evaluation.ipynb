{
 "cells": [
  {
   "cell_type": "code",
   "execution_count": 1,
   "id": "4e2f4cb0-0b34-4bdb-9808-fce3c0660e1e",
   "metadata": {
    "tags": []
   },
   "outputs": [],
   "source": [
    "import sys\n",
    "import os\n",
    "sys.path.append('/Users/masahiro/song_recommender/music_recommender/')"
   ]
  },
  {
   "cell_type": "code",
   "execution_count": 2,
   "id": "c774b8f9-6763-49e4-8150-141f1667d61c",
   "metadata": {
    "tags": []
   },
   "outputs": [],
   "source": [
    "#import featurization as feat\n",
    "import k_means\n",
    "from testing import evaluate, evaluate_k_means_model, evaluate_fuzzy_model"
   ]
  },
  {
   "cell_type": "code",
   "execution_count": 3,
   "id": "5d29c30e-b6b3-497d-b63b-a3fe6f7d20f5",
   "metadata": {
    "tags": []
   },
   "outputs": [],
   "source": [
    "import numpy as np \n",
    "import pandas as pd \n",
    "from math import floor\n",
    "import json\n",
    "import spotipy\n",
    "from spotipy.oauth2 import SpotifyClientCredentials\n",
    "import pickle\n",
    "from sklearn.preprocessing import MinMaxScaler\n",
    "import statistics as st\n",
    "import skfuzzy as fuzz\n",
    "import os\n",
    "import pickle"
   ]
  },
  {
   "cell_type": "code",
   "execution_count": 4,
   "id": "fe6319db-2d6c-42c7-9bb6-2333ef336f9b",
   "metadata": {
    "tags": []
   },
   "outputs": [],
   "source": [
    "root_path = os.getcwd()[:-5]\n",
    "filepath = f\"{root_path}/playlist_data/sampledata/\"\n",
    "filename = 'mpd.slice.0-999.json'\n",
    "fpath_name = f\"{filepath}{filename}\"\n",
    "with open(fpath_name) as data_file:    \n",
    "    data = json.load(data_file)\n",
    "\n",
    "playlists_df = pd.json_normalize(data['playlists'])\n",
    "    \n",
    "filename = 'song.slice.0-49999.csv'\n",
    "fpath_name = f\"{filepath}{filename}\"\n",
    "\n",
    "songs_df = pd.read_csv(fpath_name)\n",
    "songs_df = songs_df.iloc[:,2:]\n",
    "\n",
    "filename = 'data_with_genres.csv'\n",
    "fpath_name = f\"{filepath}{filename}\"\n",
    "new_df = pd.read_csv(fpath_name)"
   ]
  },
  {
   "cell_type": "code",
   "execution_count": 5,
   "id": "70cc3c1d-0443-487c-b2b7-a49184472ba6",
   "metadata": {
    "tags": []
   },
   "outputs": [],
   "source": [
    "model_name = 'fuzzy_all_model.pkl'\n",
    "model = pickle.load(open(model_name, 'rb'))"
   ]
  },
  {
   "cell_type": "code",
   "execution_count": 7,
   "id": "7c3090f6-cee9-4798-9d59-3eefdd21f128",
   "metadata": {
    "tags": []
   },
   "outputs": [],
   "source": [
    "playlists = playlists_df\n",
    "features = ['danceability', 'energy', 'key', 'loudness',\n",
    "       'speechiness', 'acousticness', 'instrumentalness', 'liveness',\n",
    "       'valence', 'tempo', 'playlist_description_encoded', 'sentiment']\n",
    "#features = [feat for feat in features if feat != 'key']"
   ]
  },
  {
   "cell_type": "code",
   "execution_count": 12,
   "id": "d6660301-7b04-48a5-9e12-c0644291f56f",
   "metadata": {
    "tags": []
   },
   "outputs": [
    {
     "name": "stdout",
     "output_type": "stream",
     "text": [
      "danceability {'artist_match_rate': 0.012822222222222198, 'track_match_rate': 0.002122222222222223}\n",
      "energy {'artist_match_rate': 0.013944444444444416, 'track_match_rate': 0.002700000000000001}\n",
      "key {'artist_match_rate': 0.010455555555555537, 'track_match_rate': 0.0009999999999999998}\n",
      "loudness {'artist_match_rate': 0.00889999999999999, 'track_match_rate': 0.0012}\n",
      "speechiness {'artist_match_rate': 0.011366666666666652, 'track_match_rate': 0.0014000000000000004}\n",
      "acousticness {'artist_match_rate': 0.00984444444444443, 'track_match_rate': 0.002500000000000001}\n",
      "instrumentalness {'artist_match_rate': 0.008699999999999989, 'track_match_rate': 0.0007999999999999999}\n",
      "liveness {'artist_match_rate': 0.008211111111111101, 'track_match_rate': 0.0013}\n",
      "valence {'artist_match_rate': 0.010222222222222204, 'track_match_rate': 0.0017000000000000001}\n",
      "tempo {'artist_match_rate': 0.007316666666666658, 'track_match_rate': 0.0013}\n"
     ]
    }
   ],
   "source": [
    "for feat in features:\n",
    "    model_name = 'model_'+feat+'.pkl'\n",
    "    model = pickle.load(open(model_name, 'rb'))\n",
    "    \n",
    "    result = evaluate_k_means_model(model, [feat], playlists, n_suggestions=10, val_ratio=0.5)\n",
    "    print(feat, result)"
   ]
  },
  {
   "cell_type": "code",
   "execution_count": 23,
   "id": "f0d82b74-e987-40f7-86a3-164346500a53",
   "metadata": {
    "tags": []
   },
   "outputs": [
    {
     "data": {
      "text/plain": [
       "{'artist_match_rate': 0.008088888888888878,\n",
       " 'track_match_rate': 0.0017000000000000003}"
      ]
     },
     "execution_count": 23,
     "metadata": {},
     "output_type": "execute_result"
    }
   ],
   "source": [
    "evaluate_k_means_model(model, features, playlists, n_suggestions=10, val_ratio=0.5)"
   ]
  },
  {
   "cell_type": "code",
   "execution_count": 7,
   "id": "849e51bb-123c-4c2d-9279-cd6737ce9d31",
   "metadata": {
    "tags": []
   },
   "outputs": [],
   "source": [
    "cntr, u = model.values()"
   ]
  },
  {
   "cell_type": "code",
   "execution_count": 8,
   "id": "a2d89101-3cff-417f-953a-95651edb6155",
   "metadata": {
    "tags": []
   },
   "outputs": [
    {
     "name": "stdout",
     "output_type": "stream",
     "text": [
      "finished 0\n",
      "finished 10\n",
      "finished 20\n",
      "finished 30\n",
      "finished 40\n",
      "finished 50\n",
      "finished 60\n",
      "finished 70\n",
      "finished 80\n",
      "finished 90\n",
      "finished 100\n",
      "finished 110\n",
      "finished 120\n",
      "finished 130\n",
      "finished 140\n",
      "finished 150\n",
      "finished 160\n",
      "finished 170\n",
      "finished 180\n",
      "finished 190\n",
      "finished 200\n",
      "finished 210\n",
      "finished 220\n",
      "finished 230\n",
      "finished 240\n",
      "finished 250\n",
      "finished 260\n",
      "finished 270\n",
      "finished 280\n",
      "finished 290\n",
      "finished 300\n",
      "finished 310\n",
      "finished 320\n",
      "finished 330\n",
      "finished 340\n",
      "finished 350\n",
      "finished 360\n",
      "finished 370\n",
      "finished 380\n",
      "finished 390\n",
      "finished 400\n",
      "finished 410\n",
      "finished 420\n",
      "finished 430\n",
      "finished 440\n",
      "finished 450\n",
      "finished 460\n",
      "finished 470\n",
      "finished 480\n",
      "finished 490\n",
      "finished 500\n",
      "finished 510\n",
      "finished 520\n",
      "finished 530\n",
      "finished 540\n",
      "finished 550\n",
      "finished 560\n",
      "finished 570\n",
      "finished 580\n",
      "finished 590\n",
      "finished 600\n",
      "finished 610\n",
      "finished 620\n",
      "finished 630\n",
      "finished 640\n",
      "finished 650\n",
      "finished 660\n",
      "finished 670\n",
      "finished 680\n",
      "finished 690\n",
      "finished 700\n",
      "finished 710\n",
      "finished 720\n",
      "finished 730\n",
      "finished 740\n",
      "finished 750\n",
      "finished 760\n",
      "finished 770\n",
      "finished 780\n",
      "finished 790\n",
      "finished 800\n",
      "finished 810\n",
      "finished 820\n",
      "finished 830\n",
      "finished 840\n",
      "finished 850\n",
      "finished 860\n",
      "finished 870\n",
      "finished 880\n",
      "finished 890\n",
      "finished 900\n",
      "finished 910\n",
      "finished 920\n",
      "finished 930\n",
      "finished 940\n",
      "finished 950\n",
      "finished 960\n",
      "finished 970\n",
      "finished 980\n",
      "finished 990\n"
     ]
    },
    {
     "data": {
      "text/plain": [
       "{'artist_match_rate': 0.031642583470169704,\n",
       " 'track_match_rate': 0.006241379310344828}"
      ]
     },
     "execution_count": 8,
     "metadata": {},
     "output_type": "execute_result"
    }
   ],
   "source": [
    "evaluate_fuzzy_model(features, playlists, n_suggestions=10, num_clusters = 30, refinement=3, val_ratio=0.5)"
   ]
  },
  {
   "cell_type": "code",
   "execution_count": 16,
   "id": "78e75780-3c2d-412a-8376-b0be7e84de19",
   "metadata": {
    "tags": []
   },
   "outputs": [],
   "source": [
    "songs = songs_df.select_dtypes(include=np.number)"
   ]
  },
  {
   "cell_type": "code",
   "execution_count": 17,
   "id": "fc11f5f1-71dc-4ee1-ae53-b78b3aa600a3",
   "metadata": {
    "tags": []
   },
   "outputs": [
    {
     "data": {
      "text/plain": [
       "[0, 1, 2, 3, 4, 5, 6, 7, 8, 9, 10, 11, 12, 13]"
      ]
     },
     "execution_count": 17,
     "metadata": {},
     "output_type": "execute_result"
    }
   ],
   "source": [
    "columns = songs.columns\n",
    "\n",
    "[columns.get_loc(feat) for feat in features]"
   ]
  },
  {
   "cell_type": "code",
   "execution_count": 13,
   "id": "dec4f542-58e0-47fe-a51c-02a474fb6607",
   "metadata": {
    "tags": []
   },
   "outputs": [
    {
     "data": {
      "text/html": [
       "<div>\n",
       "<style scoped>\n",
       "    .dataframe tbody tr th:only-of-type {\n",
       "        vertical-align: middle;\n",
       "    }\n",
       "\n",
       "    .dataframe tbody tr th {\n",
       "        vertical-align: top;\n",
       "    }\n",
       "\n",
       "    .dataframe thead th {\n",
       "        text-align: right;\n",
       "    }\n",
       "</style>\n",
       "<table border=\"1\" class=\"dataframe\">\n",
       "  <thead>\n",
       "    <tr style=\"text-align: right;\">\n",
       "      <th></th>\n",
       "      <th>tracks</th>\n",
       "      <th>pid</th>\n",
       "    </tr>\n",
       "  </thead>\n",
       "  <tbody>\n",
       "    <tr>\n",
       "      <th>0</th>\n",
       "      <td>[{'pos': 0, 'artist_name': 'Missy Elliott', 't...</td>\n",
       "      <td>0</td>\n",
       "    </tr>\n",
       "    <tr>\n",
       "      <th>1</th>\n",
       "      <td>[{'pos': 0, 'artist_name': 'Survivor', 'track_...</td>\n",
       "      <td>1</td>\n",
       "    </tr>\n",
       "    <tr>\n",
       "      <th>2</th>\n",
       "      <td>[{'pos': 0, 'artist_name': 'Hoody', 'track_uri...</td>\n",
       "      <td>2</td>\n",
       "    </tr>\n",
       "    <tr>\n",
       "      <th>3</th>\n",
       "      <td>[{'pos': 0, 'artist_name': 'Camille Saint-Saën...</td>\n",
       "      <td>3</td>\n",
       "    </tr>\n",
       "    <tr>\n",
       "      <th>4</th>\n",
       "      <td>[{'pos': 0, 'artist_name': 'The Smashing Pumpk...</td>\n",
       "      <td>4</td>\n",
       "    </tr>\n",
       "    <tr>\n",
       "      <th>...</th>\n",
       "      <td>...</td>\n",
       "      <td>...</td>\n",
       "    </tr>\n",
       "    <tr>\n",
       "      <th>995</th>\n",
       "      <td>[{'pos': 0, 'artist_name': 'Katrina', 'track_u...</td>\n",
       "      <td>995</td>\n",
       "    </tr>\n",
       "    <tr>\n",
       "      <th>996</th>\n",
       "      <td>[{'pos': 0, 'artist_name': 'PARTYNEXTDOOR', 't...</td>\n",
       "      <td>996</td>\n",
       "    </tr>\n",
       "    <tr>\n",
       "      <th>997</th>\n",
       "      <td>[{'pos': 0, 'artist_name': 'LoveRance', 'track...</td>\n",
       "      <td>997</td>\n",
       "    </tr>\n",
       "    <tr>\n",
       "      <th>998</th>\n",
       "      <td>[{'pos': 0, 'artist_name': 'Hunter Hayes', 'tr...</td>\n",
       "      <td>998</td>\n",
       "    </tr>\n",
       "    <tr>\n",
       "      <th>999</th>\n",
       "      <td>[{'pos': 0, 'artist_name': 'Pvris', 'track_uri...</td>\n",
       "      <td>999</td>\n",
       "    </tr>\n",
       "  </tbody>\n",
       "</table>\n",
       "<p>1000 rows × 2 columns</p>\n",
       "</div>"
      ],
      "text/plain": [
       "                                                tracks  pid\n",
       "0    [{'pos': 0, 'artist_name': 'Missy Elliott', 't...    0\n",
       "1    [{'pos': 0, 'artist_name': 'Survivor', 'track_...    1\n",
       "2    [{'pos': 0, 'artist_name': 'Hoody', 'track_uri...    2\n",
       "3    [{'pos': 0, 'artist_name': 'Camille Saint-Saën...    3\n",
       "4    [{'pos': 0, 'artist_name': 'The Smashing Pumpk...    4\n",
       "..                                                 ...  ...\n",
       "995  [{'pos': 0, 'artist_name': 'Katrina', 'track_u...  995\n",
       "996  [{'pos': 0, 'artist_name': 'PARTYNEXTDOOR', 't...  996\n",
       "997  [{'pos': 0, 'artist_name': 'LoveRance', 'track...  997\n",
       "998  [{'pos': 0, 'artist_name': 'Hunter Hayes', 'tr...  998\n",
       "999  [{'pos': 0, 'artist_name': 'Pvris', 'track_uri...  999\n",
       "\n",
       "[1000 rows x 2 columns]"
      ]
     },
     "execution_count": 13,
     "metadata": {},
     "output_type": "execute_result"
    }
   ],
   "source": [
    "# Create partial playlists to test the model on\n",
    "\n",
    "partial_playlist = playlists_df.tracks.apply(lambda x: x[:max(1,floor(len(x)*(1-0.5)))])\n",
    "partial_playlist = partial_playlist.to_frame()\n",
    "partial_playlist['pid'] = range(1000)\n",
    "partial_playlist"
   ]
  },
  {
   "cell_type": "code",
   "execution_count": 15,
   "id": "582271ba-eefa-4902-bfb6-abbc3bb484f8",
   "metadata": {
    "tags": []
   },
   "outputs": [],
   "source": [
    "n_suggestions = 10"
   ]
  },
  {
   "cell_type": "code",
   "execution_count": 8,
   "id": "8ac036b4-fce4-4035-90f0-7fb290a6e26c",
   "metadata": {
    "tags": []
   },
   "outputs": [],
   "source": [
    "# Evaluation of K-means using song features only\n",
    "\n",
    "# Normalize features\n",
    "songs = songs_df.select_dtypes(include=np.number).to_numpy()\n",
    "minmax = MinMaxScaler()\n",
    "songs = minmax.fit_transform(songs)\n",
    "\n",
    "# Fit the model\n",
    "model = k_means.kmeans_fit(songs, N_clusters=50)\n",
    "\n"
   ]
  },
  {
   "cell_type": "code",
   "execution_count": 11,
   "id": "a69674b6-5517-4070-9316-b35526b5bc37",
   "metadata": {
    "tags": []
   },
   "outputs": [
    {
     "data": {
      "text/plain": [
       "array([37, 37, 48, 37, 32, 32,  1, 27, 37, 37,  0, 37,  3,  3,  2,  3, 47,\n",
       "       11, 14, 32, 14, 14, 14,  3, 46,  3, 24, 20,  3, 24, 35, 44, 25, 36,\n",
       "       32, 34, 14, 33, 47, 27, 43, 14, 18, 34, 36, 36,  0, 36, 47, 27],\n",
       "      dtype=int32)"
      ]
     },
     "execution_count": 11,
     "metadata": {},
     "output_type": "execute_result"
    }
   ],
   "source": [
    "model.labels_[:50]"
   ]
  },
  {
   "cell_type": "code",
   "execution_count": 11,
   "id": "2c1612a1-81cb-4c3e-8fe6-ec2c0561162a",
   "metadata": {
    "tags": []
   },
   "outputs": [],
   "source": [
    "def k_means_rec(playlists):\n",
    "    \n",
    "    recs = {'pid':[], 'tracks':[]}\n",
    "    \n",
    "    for i in range(len(playlists)):\n",
    "        \n",
    "        recs['pid'].append(playlists.pid[i])\n",
    "                           \n",
    "        playlist = playlists.tracks[i]\n",
    "        uri_list = [track['track_uri'] for track in playlist]\n",
    "        \n",
    "        playlist = songs[[uri in uri_list for uri in song_df['uri']]]\n",
    "        \n",
    "        # Predict the cluster\n",
    "        clusters = model.predict(playlist)\n",
    "        cluster = st.mode(clusters)\n",
    "\n",
    "        # Suggest songs from the cluster\n",
    "        \n",
    "        recs['tracks'].append(song_df[model.labels_ == cluster].sample(n_suggestions).to_dict(orient='records'))\n",
    "        \n",
    "    return pd.DataFrame(recs)\n",
    "\n",
    "def k_means_rec_artist_priority(playlists):\n",
    "    \n",
    "    recs = {'pid':[], 'tracks':[]}\n",
    "    \n",
    "    for i in range(len(playlists)):\n",
    "        \n",
    "        recs['pid'].append(playlists.pid[i])\n",
    "                           \n",
    "        playlist = playlists.tracks[i]\n",
    "        uri_list = [track['track_uri'] for track in playlist]\n",
    "        \n",
    "        playlist = songs[[uri in uri_list for uri in song_df['uri']]]\n",
    "        playlist_df = song_df[[uri in uri_list for uri in song_df['uri']]]\n",
    "        \n",
    "        artists = playlist_df.artist_name.values\n",
    "\n",
    "        \n",
    "        # Predict the cluster\n",
    "        clusters = model.predict(playlist)\n",
    "        cluster = st.mode(clusters)\n",
    "\n",
    "        # Suggest songs from the cluster\n",
    "        \n",
    "        crit1 = song_df[[artist in artists for artist in song_df['artist_name'].values]]\n",
    "        crit2 = song_df[model.labels_ == cluster]\n",
    "        \n",
    "        crit = pd.merge(crit1, crit2, how='inner', on='track_uri', suffixes=('', '_y'))\n",
    "        n = len(crit)\n",
    "        \n",
    "        recs['tracks'].append(crit.sample(min(n,n_suggestions)).to_dict(orient='records'))\n",
    "        \n",
    "    return pd.DataFrame(recs)\n",
    "\n",
    "\n",
    "def baseline_rec(playlists):\n",
    "    \n",
    "    recs = {'pid':[], 'tracks':[]}\n",
    "    \n",
    "    for i in range(len(playlists)):\n",
    "        \n",
    "        recs['pid'].append(playlists.pid[i])\n",
    "                           \n",
    "        playlist = playlists.tracks[i]\n",
    "        uri_list = [track['track_uri'] for track in playlist]\n",
    "        \n",
    "        playlist = songs_df[[uri in uri_list for uri in songs_df['uri']]]\n",
    "        \n",
    "        artists = playlist.artist_name.values\n",
    "\n",
    "        # Suggest songs with the same artist\n",
    "        \n",
    "        recs['tracks'].append(songs_df[[artist in artists for artist in songs_df['artist_name'].values]].sample(n_suggestions, replace=True).to_dict(orient='records'))\n",
    "        \n",
    "    return pd.DataFrame(recs)"
   ]
  },
  {
   "cell_type": "code",
   "execution_count": 201,
   "id": "0e901d2d-fc16-43ae-b36a-ea7350573fc4",
   "metadata": {
    "tags": []
   },
   "outputs": [],
   "source": [
    "recs = k_means_rec_artist_priority(partial_playlist)"
   ]
  },
  {
   "cell_type": "code",
   "execution_count": 16,
   "id": "766c57d8-e53d-4562-ae02-d8cb0bbd22bc",
   "metadata": {
    "tags": []
   },
   "outputs": [],
   "source": [
    "recs_b = baseline_rec(partial_playlist)"
   ]
  },
  {
   "cell_type": "code",
   "execution_count": 204,
   "id": "e9508f26-4456-4e53-b87d-3852cf42cc4d",
   "metadata": {
    "tags": []
   },
   "outputs": [
    {
     "data": {
      "text/plain": [
       "{'artist_match_rate': 0.14291666666666664,\n",
       " 'track_match_rate': 0.013166666666666667}"
      ]
     },
     "execution_count": 204,
     "metadata": {},
     "output_type": "execute_result"
    }
   ],
   "source": [
    "evaluate(recs)"
   ]
  },
  {
   "cell_type": "code",
   "execution_count": 24,
   "id": "3871cd1f-479d-4755-8679-5ef85b05d3bc",
   "metadata": {
    "tags": []
   },
   "outputs": [
    {
     "data": {
      "text/plain": [
       "{'artist_match_rate': 0.11949206349206343,\n",
       " 'track_match_rate': 0.01708333333333334}"
      ]
     },
     "execution_count": 24,
     "metadata": {},
     "output_type": "execute_result"
    }
   ],
   "source": [
    "evaluate(recs_b, from_pid=True)"
   ]
  }
 ],
 "metadata": {
  "kernelspec": {
   "display_name": "Python 3 (ipykernel)",
   "language": "python",
   "name": "python3"
  },
  "language_info": {
   "codemirror_mode": {
    "name": "ipython",
    "version": 3
   },
   "file_extension": ".py",
   "mimetype": "text/x-python",
   "name": "python",
   "nbconvert_exporter": "python",
   "pygments_lexer": "ipython3",
   "version": "3.10.0"
  }
 },
 "nbformat": 4,
 "nbformat_minor": 5
}
