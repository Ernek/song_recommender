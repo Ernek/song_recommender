{
 "cells": [
  {
   "cell_type": "markdown",
   "id": "5de42f47",
   "metadata": {},
   "source": [
    "# Import modules"
   ]
  },
  {
   "cell_type": "code",
   "execution_count": 1,
   "id": "29d5f9db",
   "metadata": {},
   "outputs": [],
   "source": [
    "import numpy as np \n",
    "import pandas as pd \n",
    "import matplotlib.pyplot as plt\n",
    "import json\n",
    "import spotipy\n",
    "from spotipy.oauth2 import SpotifyClientCredentials\n",
    "import pickle\n",
    "\n",
    "# Imports\n",
    "from sklearn.cluster import KMeans\n",
    "from sklearn import metrics \n",
    "from sklearn.feature_extraction.text import CountVectorizer\n",
    "from sklearn.feature_extraction.text import TfidfTransformer\n",
    "from sklearn.feature_extraction.text import TfidfVectorizer\n",
    "from sklearn.decomposition import TruncatedSVD\n",
    "from sklearn import preprocessing"
   ]
  },
  {
   "cell_type": "markdown",
   "id": "45c498a7",
   "metadata": {},
   "source": [
    "# Functions to read artist and songs database"
   ]
  },
  {
   "cell_type": "markdown",
   "id": "83fa5090",
   "metadata": {},
   "source": [
    "## Function to read artist database"
   ]
  },
  {
   "cell_type": "code",
   "execution_count": 2,
   "id": "b9689965",
   "metadata": {},
   "outputs": [],
   "source": [
    "artist_path ='/home/ernek/Main/Erdos/song_recommender/artist_data/'\n",
    "def get_artist_dataframe(artist_path): \n",
    "    # returns a dataframe of all of the artists in the million playlist data set\n",
    "    # The only attributes included are \"followers\", \"name\", \"uri\", \"genres\", \"popularity\"\n",
    "    # WARNING - Some artists have no genres, in this case the value is an empty list\n",
    "    # path - a string containing a path to the folder where the csv files are held.\n",
    "    #        for example, on my machine, the folder where I ran this script also contained a folder\n",
    "    #        called \"song_data\" which had the csv files in it. So I called get_song_dataframe('song_data/')\n",
    "    #        NOTE - Make sure to include the slash!\n",
    "    dfs = [pd.read_csv(artist_path + 'artist.slice.0-99999.csv'), pd.read_csv(artist_path + 'artist.slice.100000-199999.csv'), pd.read_csv(artist_path + 'artist.slice.200000-295859.csv')]\n",
    "    df = pd.concat(dfs)\n",
    "    del df['Unnamed: 0.1']\n",
    "    del df['Unnamed: 0']\n",
    "    \n",
    "    return df"
   ]
  },
  {
   "cell_type": "markdown",
   "id": "15c9c424",
   "metadata": {},
   "source": [
    "## Function to read songs database"
   ]
  },
  {
   "cell_type": "code",
   "execution_count": 3,
   "id": "734af126",
   "metadata": {},
   "outputs": [],
   "source": [
    "songs_path = '/home/ernek/Main/Erdos/song_recommender/song_data/'\n",
    "def get_song_dataframe(songs_path):\n",
    "    # returns a dataframe of all of the songs in the million playlist data set\n",
    "    # path - a string containing a path to the folder where the csv files are held.\n",
    "    #        for example, on my machine, the folder where I ran this script also contained a folder\n",
    "    #        called \"song_data\" which had the csv files in it. So I called get_song_dataframe('song_data/')\n",
    "    #        NOTE - Make sure to include the slash!\n",
    "    file_name_list = ['song.slice.' + str(i) + '-' + str(i + 49999) + '.csv' for i in range(0,2212292, 50000)] \n",
    "    file_name_list = file_name_list + ['song.slice.2250000-2262292.csv']\n",
    "                        \n",
    "    df_list = []\n",
    "    for file_name in file_name_list:\n",
    "        df_list.append(pd.read_csv(songs_path + file_name))\n",
    "    \n",
    "    data = pd.concat(df_list)\n",
    "    return data"
   ]
  },
  {
   "cell_type": "markdown",
   "id": "232a416f",
   "metadata": {},
   "source": [
    "# Songs DataFrame"
   ]
  },
  {
   "cell_type": "code",
   "execution_count": 4,
   "id": "39b467d7",
   "metadata": {
    "scrolled": true
   },
   "outputs": [],
   "source": [
    "# read songs data into dataframe\n",
    "data = get_song_dataframe(songs_path)\n",
    "# drop unimportant columns\n",
    "data.drop(['Unnamed: 0','pos', 'album_uri', 'duration_ms', 'album_name', 'num_playlist_appearances', 'time_signature', 'type'],axis=1, inplace=True)\n",
    "# clean elements with with nan values on important columns\n",
    "data = data[~data.isna().any(axis=1)]"
   ]
  },
  {
   "cell_type": "code",
   "execution_count": 5,
   "id": "d1885a4f",
   "metadata": {},
   "outputs": [
    {
     "data": {
      "text/html": [
       "<div>\n",
       "<style scoped>\n",
       "    .dataframe tbody tr th:only-of-type {\n",
       "        vertical-align: middle;\n",
       "    }\n",
       "\n",
       "    .dataframe tbody tr th {\n",
       "        vertical-align: top;\n",
       "    }\n",
       "\n",
       "    .dataframe thead th {\n",
       "        text-align: right;\n",
       "    }\n",
       "</style>\n",
       "<table border=\"1\" class=\"dataframe\">\n",
       "  <thead>\n",
       "    <tr style=\"text-align: right;\">\n",
       "      <th></th>\n",
       "      <th>artist_name</th>\n",
       "      <th>track_uri</th>\n",
       "      <th>artist_uri</th>\n",
       "      <th>track_name</th>\n",
       "      <th>danceability</th>\n",
       "      <th>energy</th>\n",
       "      <th>key</th>\n",
       "      <th>loudness</th>\n",
       "      <th>mode</th>\n",
       "      <th>speechiness</th>\n",
       "      <th>acousticness</th>\n",
       "      <th>instrumentalness</th>\n",
       "      <th>liveness</th>\n",
       "      <th>valence</th>\n",
       "      <th>tempo</th>\n",
       "      <th>uri</th>\n",
       "    </tr>\n",
       "  </thead>\n",
       "  <tbody>\n",
       "    <tr>\n",
       "      <th>0</th>\n",
       "      <td>Missy Elliott</td>\n",
       "      <td>spotify:track:0UaMYEvWZi0ZqiDOoHU3YI</td>\n",
       "      <td>spotify:artist:2wIVse2owClT7go1WT98tk</td>\n",
       "      <td>Lose Control (feat. Ciara &amp; Fat Man Scoop)</td>\n",
       "      <td>0.904</td>\n",
       "      <td>0.813</td>\n",
       "      <td>4.0</td>\n",
       "      <td>-7.105</td>\n",
       "      <td>0.0</td>\n",
       "      <td>0.1210</td>\n",
       "      <td>0.03110</td>\n",
       "      <td>0.006970</td>\n",
       "      <td>0.0471</td>\n",
       "      <td>0.810</td>\n",
       "      <td>125.461</td>\n",
       "      <td>spotify:track:0UaMYEvWZi0ZqiDOoHU3YI</td>\n",
       "    </tr>\n",
       "    <tr>\n",
       "      <th>1</th>\n",
       "      <td>Britney Spears</td>\n",
       "      <td>spotify:track:6I9VzXrHxO9rA9A5euc8Ak</td>\n",
       "      <td>spotify:artist:26dSoYclwsYLMAKD3tpOr4</td>\n",
       "      <td>Toxic</td>\n",
       "      <td>0.774</td>\n",
       "      <td>0.838</td>\n",
       "      <td>5.0</td>\n",
       "      <td>-3.914</td>\n",
       "      <td>0.0</td>\n",
       "      <td>0.1140</td>\n",
       "      <td>0.02490</td>\n",
       "      <td>0.025000</td>\n",
       "      <td>0.2420</td>\n",
       "      <td>0.924</td>\n",
       "      <td>143.040</td>\n",
       "      <td>spotify:track:6I9VzXrHxO9rA9A5euc8Ak</td>\n",
       "    </tr>\n",
       "    <tr>\n",
       "      <th>2</th>\n",
       "      <td>Beyoncé</td>\n",
       "      <td>spotify:track:0WqIKmW4BTrj3eJFmnCKMv</td>\n",
       "      <td>spotify:artist:6vWDO969PvNqNYHIOW5v0m</td>\n",
       "      <td>Crazy In Love</td>\n",
       "      <td>0.664</td>\n",
       "      <td>0.758</td>\n",
       "      <td>2.0</td>\n",
       "      <td>-6.583</td>\n",
       "      <td>0.0</td>\n",
       "      <td>0.2100</td>\n",
       "      <td>0.00238</td>\n",
       "      <td>0.000000</td>\n",
       "      <td>0.0598</td>\n",
       "      <td>0.701</td>\n",
       "      <td>99.259</td>\n",
       "      <td>spotify:track:0WqIKmW4BTrj3eJFmnCKMv</td>\n",
       "    </tr>\n",
       "    <tr>\n",
       "      <th>3</th>\n",
       "      <td>Justin Timberlake</td>\n",
       "      <td>spotify:track:1AWQoqb9bSvzTjaLralEkT</td>\n",
       "      <td>spotify:artist:31TPClRtHm23RisEBtV3X7</td>\n",
       "      <td>Rock Your Body</td>\n",
       "      <td>0.892</td>\n",
       "      <td>0.714</td>\n",
       "      <td>4.0</td>\n",
       "      <td>-6.055</td>\n",
       "      <td>0.0</td>\n",
       "      <td>0.1410</td>\n",
       "      <td>0.20100</td>\n",
       "      <td>0.000234</td>\n",
       "      <td>0.0521</td>\n",
       "      <td>0.817</td>\n",
       "      <td>100.972</td>\n",
       "      <td>spotify:track:1AWQoqb9bSvzTjaLralEkT</td>\n",
       "    </tr>\n",
       "    <tr>\n",
       "      <th>4</th>\n",
       "      <td>Shaggy</td>\n",
       "      <td>spotify:track:1lzr43nnXAijIGYnCT8M8H</td>\n",
       "      <td>spotify:artist:5EvFsr3kj42KNv97ZEnqij</td>\n",
       "      <td>It Wasn't Me</td>\n",
       "      <td>0.853</td>\n",
       "      <td>0.606</td>\n",
       "      <td>0.0</td>\n",
       "      <td>-4.596</td>\n",
       "      <td>1.0</td>\n",
       "      <td>0.0713</td>\n",
       "      <td>0.05610</td>\n",
       "      <td>0.000000</td>\n",
       "      <td>0.3130</td>\n",
       "      <td>0.654</td>\n",
       "      <td>94.759</td>\n",
       "      <td>spotify:track:1lzr43nnXAijIGYnCT8M8H</td>\n",
       "    </tr>\n",
       "  </tbody>\n",
       "</table>\n",
       "</div>"
      ],
      "text/plain": [
       "         artist_name                             track_uri  \\\n",
       "0      Missy Elliott  spotify:track:0UaMYEvWZi0ZqiDOoHU3YI   \n",
       "1     Britney Spears  spotify:track:6I9VzXrHxO9rA9A5euc8Ak   \n",
       "2            Beyoncé  spotify:track:0WqIKmW4BTrj3eJFmnCKMv   \n",
       "3  Justin Timberlake  spotify:track:1AWQoqb9bSvzTjaLralEkT   \n",
       "4             Shaggy  spotify:track:1lzr43nnXAijIGYnCT8M8H   \n",
       "\n",
       "                              artist_uri  \\\n",
       "0  spotify:artist:2wIVse2owClT7go1WT98tk   \n",
       "1  spotify:artist:26dSoYclwsYLMAKD3tpOr4   \n",
       "2  spotify:artist:6vWDO969PvNqNYHIOW5v0m   \n",
       "3  spotify:artist:31TPClRtHm23RisEBtV3X7   \n",
       "4  spotify:artist:5EvFsr3kj42KNv97ZEnqij   \n",
       "\n",
       "                                   track_name  danceability  energy  key  \\\n",
       "0  Lose Control (feat. Ciara & Fat Man Scoop)         0.904   0.813  4.0   \n",
       "1                                       Toxic         0.774   0.838  5.0   \n",
       "2                               Crazy In Love         0.664   0.758  2.0   \n",
       "3                              Rock Your Body         0.892   0.714  4.0   \n",
       "4                                It Wasn't Me         0.853   0.606  0.0   \n",
       "\n",
       "   loudness  mode  speechiness  acousticness  instrumentalness  liveness  \\\n",
       "0    -7.105   0.0       0.1210       0.03110          0.006970    0.0471   \n",
       "1    -3.914   0.0       0.1140       0.02490          0.025000    0.2420   \n",
       "2    -6.583   0.0       0.2100       0.00238          0.000000    0.0598   \n",
       "3    -6.055   0.0       0.1410       0.20100          0.000234    0.0521   \n",
       "4    -4.596   1.0       0.0713       0.05610          0.000000    0.3130   \n",
       "\n",
       "   valence    tempo                                   uri  \n",
       "0    0.810  125.461  spotify:track:0UaMYEvWZi0ZqiDOoHU3YI  \n",
       "1    0.924  143.040  spotify:track:6I9VzXrHxO9rA9A5euc8Ak  \n",
       "2    0.701   99.259  spotify:track:0WqIKmW4BTrj3eJFmnCKMv  \n",
       "3    0.817  100.972  spotify:track:1AWQoqb9bSvzTjaLralEkT  \n",
       "4    0.654   94.759  spotify:track:1lzr43nnXAijIGYnCT8M8H  "
      ]
     },
     "execution_count": 5,
     "metadata": {},
     "output_type": "execute_result"
    }
   ],
   "source": [
    "data.head()"
   ]
  },
  {
   "cell_type": "code",
   "execution_count": 6,
   "id": "93f8d782",
   "metadata": {},
   "outputs": [
    {
     "data": {
      "text/plain": [
       "2258242"
      ]
     },
     "execution_count": 6,
     "metadata": {},
     "output_type": "execute_result"
    }
   ],
   "source": [
    "len(data.index)"
   ]
  },
  {
   "cell_type": "markdown",
   "id": "45232f4c",
   "metadata": {},
   "source": [
    "# Using only 60% of the songs to create the model"
   ]
  },
  {
   "cell_type": "code",
   "execution_count": 7,
   "id": "cfb93607",
   "metadata": {},
   "outputs": [
    {
     "name": "stdout",
     "output_type": "stream",
     "text": [
      "1354945\n"
     ]
    }
   ],
   "source": [
    "percentage = 60\n",
    "cut = int(len(data)*percentage/100)\n",
    "print(cut)\n",
    "training_data = data.iloc[0:cut]"
   ]
  },
  {
   "cell_type": "code",
   "execution_count": 8,
   "id": "4e27a904",
   "metadata": {},
   "outputs": [
    {
     "data": {
      "text/html": [
       "<div>\n",
       "<style scoped>\n",
       "    .dataframe tbody tr th:only-of-type {\n",
       "        vertical-align: middle;\n",
       "    }\n",
       "\n",
       "    .dataframe tbody tr th {\n",
       "        vertical-align: top;\n",
       "    }\n",
       "\n",
       "    .dataframe thead th {\n",
       "        text-align: right;\n",
       "    }\n",
       "</style>\n",
       "<table border=\"1\" class=\"dataframe\">\n",
       "  <thead>\n",
       "    <tr style=\"text-align: right;\">\n",
       "      <th></th>\n",
       "      <th>artist_name</th>\n",
       "      <th>track_uri</th>\n",
       "      <th>artist_uri</th>\n",
       "      <th>track_name</th>\n",
       "      <th>danceability</th>\n",
       "      <th>energy</th>\n",
       "      <th>key</th>\n",
       "      <th>loudness</th>\n",
       "      <th>mode</th>\n",
       "      <th>speechiness</th>\n",
       "      <th>acousticness</th>\n",
       "      <th>instrumentalness</th>\n",
       "      <th>liveness</th>\n",
       "      <th>valence</th>\n",
       "      <th>tempo</th>\n",
       "      <th>uri</th>\n",
       "    </tr>\n",
       "  </thead>\n",
       "  <tbody>\n",
       "    <tr>\n",
       "      <th>0</th>\n",
       "      <td>Missy Elliott</td>\n",
       "      <td>spotify:track:0UaMYEvWZi0ZqiDOoHU3YI</td>\n",
       "      <td>spotify:artist:2wIVse2owClT7go1WT98tk</td>\n",
       "      <td>Lose Control (feat. Ciara &amp; Fat Man Scoop)</td>\n",
       "      <td>0.904</td>\n",
       "      <td>0.813</td>\n",
       "      <td>4.0</td>\n",
       "      <td>-7.105</td>\n",
       "      <td>0.0</td>\n",
       "      <td>0.1210</td>\n",
       "      <td>0.03110</td>\n",
       "      <td>0.006970</td>\n",
       "      <td>0.0471</td>\n",
       "      <td>0.810</td>\n",
       "      <td>125.461</td>\n",
       "      <td>spotify:track:0UaMYEvWZi0ZqiDOoHU3YI</td>\n",
       "    </tr>\n",
       "    <tr>\n",
       "      <th>1</th>\n",
       "      <td>Britney Spears</td>\n",
       "      <td>spotify:track:6I9VzXrHxO9rA9A5euc8Ak</td>\n",
       "      <td>spotify:artist:26dSoYclwsYLMAKD3tpOr4</td>\n",
       "      <td>Toxic</td>\n",
       "      <td>0.774</td>\n",
       "      <td>0.838</td>\n",
       "      <td>5.0</td>\n",
       "      <td>-3.914</td>\n",
       "      <td>0.0</td>\n",
       "      <td>0.1140</td>\n",
       "      <td>0.02490</td>\n",
       "      <td>0.025000</td>\n",
       "      <td>0.2420</td>\n",
       "      <td>0.924</td>\n",
       "      <td>143.040</td>\n",
       "      <td>spotify:track:6I9VzXrHxO9rA9A5euc8Ak</td>\n",
       "    </tr>\n",
       "    <tr>\n",
       "      <th>2</th>\n",
       "      <td>Beyoncé</td>\n",
       "      <td>spotify:track:0WqIKmW4BTrj3eJFmnCKMv</td>\n",
       "      <td>spotify:artist:6vWDO969PvNqNYHIOW5v0m</td>\n",
       "      <td>Crazy In Love</td>\n",
       "      <td>0.664</td>\n",
       "      <td>0.758</td>\n",
       "      <td>2.0</td>\n",
       "      <td>-6.583</td>\n",
       "      <td>0.0</td>\n",
       "      <td>0.2100</td>\n",
       "      <td>0.00238</td>\n",
       "      <td>0.000000</td>\n",
       "      <td>0.0598</td>\n",
       "      <td>0.701</td>\n",
       "      <td>99.259</td>\n",
       "      <td>spotify:track:0WqIKmW4BTrj3eJFmnCKMv</td>\n",
       "    </tr>\n",
       "    <tr>\n",
       "      <th>3</th>\n",
       "      <td>Justin Timberlake</td>\n",
       "      <td>spotify:track:1AWQoqb9bSvzTjaLralEkT</td>\n",
       "      <td>spotify:artist:31TPClRtHm23RisEBtV3X7</td>\n",
       "      <td>Rock Your Body</td>\n",
       "      <td>0.892</td>\n",
       "      <td>0.714</td>\n",
       "      <td>4.0</td>\n",
       "      <td>-6.055</td>\n",
       "      <td>0.0</td>\n",
       "      <td>0.1410</td>\n",
       "      <td>0.20100</td>\n",
       "      <td>0.000234</td>\n",
       "      <td>0.0521</td>\n",
       "      <td>0.817</td>\n",
       "      <td>100.972</td>\n",
       "      <td>spotify:track:1AWQoqb9bSvzTjaLralEkT</td>\n",
       "    </tr>\n",
       "    <tr>\n",
       "      <th>4</th>\n",
       "      <td>Shaggy</td>\n",
       "      <td>spotify:track:1lzr43nnXAijIGYnCT8M8H</td>\n",
       "      <td>spotify:artist:5EvFsr3kj42KNv97ZEnqij</td>\n",
       "      <td>It Wasn't Me</td>\n",
       "      <td>0.853</td>\n",
       "      <td>0.606</td>\n",
       "      <td>0.0</td>\n",
       "      <td>-4.596</td>\n",
       "      <td>1.0</td>\n",
       "      <td>0.0713</td>\n",
       "      <td>0.05610</td>\n",
       "      <td>0.000000</td>\n",
       "      <td>0.3130</td>\n",
       "      <td>0.654</td>\n",
       "      <td>94.759</td>\n",
       "      <td>spotify:track:1lzr43nnXAijIGYnCT8M8H</td>\n",
       "    </tr>\n",
       "  </tbody>\n",
       "</table>\n",
       "</div>"
      ],
      "text/plain": [
       "         artist_name                             track_uri  \\\n",
       "0      Missy Elliott  spotify:track:0UaMYEvWZi0ZqiDOoHU3YI   \n",
       "1     Britney Spears  spotify:track:6I9VzXrHxO9rA9A5euc8Ak   \n",
       "2            Beyoncé  spotify:track:0WqIKmW4BTrj3eJFmnCKMv   \n",
       "3  Justin Timberlake  spotify:track:1AWQoqb9bSvzTjaLralEkT   \n",
       "4             Shaggy  spotify:track:1lzr43nnXAijIGYnCT8M8H   \n",
       "\n",
       "                              artist_uri  \\\n",
       "0  spotify:artist:2wIVse2owClT7go1WT98tk   \n",
       "1  spotify:artist:26dSoYclwsYLMAKD3tpOr4   \n",
       "2  spotify:artist:6vWDO969PvNqNYHIOW5v0m   \n",
       "3  spotify:artist:31TPClRtHm23RisEBtV3X7   \n",
       "4  spotify:artist:5EvFsr3kj42KNv97ZEnqij   \n",
       "\n",
       "                                   track_name  danceability  energy  key  \\\n",
       "0  Lose Control (feat. Ciara & Fat Man Scoop)         0.904   0.813  4.0   \n",
       "1                                       Toxic         0.774   0.838  5.0   \n",
       "2                               Crazy In Love         0.664   0.758  2.0   \n",
       "3                              Rock Your Body         0.892   0.714  4.0   \n",
       "4                                It Wasn't Me         0.853   0.606  0.0   \n",
       "\n",
       "   loudness  mode  speechiness  acousticness  instrumentalness  liveness  \\\n",
       "0    -7.105   0.0       0.1210       0.03110          0.006970    0.0471   \n",
       "1    -3.914   0.0       0.1140       0.02490          0.025000    0.2420   \n",
       "2    -6.583   0.0       0.2100       0.00238          0.000000    0.0598   \n",
       "3    -6.055   0.0       0.1410       0.20100          0.000234    0.0521   \n",
       "4    -4.596   1.0       0.0713       0.05610          0.000000    0.3130   \n",
       "\n",
       "   valence    tempo                                   uri  \n",
       "0    0.810  125.461  spotify:track:0UaMYEvWZi0ZqiDOoHU3YI  \n",
       "1    0.924  143.040  spotify:track:6I9VzXrHxO9rA9A5euc8Ak  \n",
       "2    0.701   99.259  spotify:track:0WqIKmW4BTrj3eJFmnCKMv  \n",
       "3    0.817  100.972  spotify:track:1AWQoqb9bSvzTjaLralEkT  \n",
       "4    0.654   94.759  spotify:track:1lzr43nnXAijIGYnCT8M8H  "
      ]
     },
     "execution_count": 8,
     "metadata": {},
     "output_type": "execute_result"
    }
   ],
   "source": [
    "training_data.head()"
   ]
  },
  {
   "cell_type": "code",
   "execution_count": 9,
   "id": "e7af78a6",
   "metadata": {},
   "outputs": [],
   "source": [
    "song_features = ['danceability', 'energy', 'key', 'loudness',\n",
    "       'speechiness', 'acousticness', 'instrumentalness', 'liveness',\n",
    "       'valence', 'tempo']"
   ]
  },
  {
   "cell_type": "markdown",
   "id": "669a2174",
   "metadata": {},
   "source": [
    "# Fitting the model with all song features but one "
   ]
  },
  {
   "cell_type": "code",
   "execution_count": 10,
   "id": "0fcd9d2c",
   "metadata": {},
   "outputs": [],
   "source": [
    "# Number of cluster\n",
    "true_k = 10"
   ]
  },
  {
   "cell_type": "code",
   "execution_count": 68,
   "id": "bed8fdd0",
   "metadata": {},
   "outputs": [
    {
     "name": "stdout",
     "output_type": "stream",
     "text": [
      "danceability\n",
      "model with no danceability feature\n",
      "energy\n",
      "model with no energy feature\n",
      "key\n",
      "model with no key feature\n",
      "loudness\n",
      "model with no loudness feature\n",
      "speechiness\n",
      "model with no speechiness feature\n",
      "acousticness\n",
      "model with no acousticness feature\n",
      "instrumentalness\n",
      "model with no instrumentalness feature\n",
      "liveness\n",
      "model with no liveness feature\n",
      "valence\n",
      "model with no valence feature\n",
      "tempo\n",
      "model with no tempo feature\n"
     ]
    }
   ],
   "source": [
    "# How to drop a column from a subdataframe\n",
    "# training_data[song_features].drop('danceability', axis=1)\n",
    "training_song_df = training_data[song_features]\n",
    "X_train_song = np.array(training_song_df)\n",
    "X_train_song\n",
    "\n",
    "for i in song_features:\n",
    "    print(i)\n",
    "    X_train_song = np.array(training_data[song_features].drop(i,axis=1))\n",
    "    model = KMeans(n_clusters=true_k, init='k-means++', max_iter=100, n_init=100, random_state=1)\n",
    "    model.fit(X_train_song)\n",
    "    # save the model as a pickle file\n",
    "    model_pkl_file = f\"model_no_{i}.pkl\"  \n",
    "\n",
    "    with open(model_pkl_file, 'wb') as file:  \n",
    "        pickle.dump(model, file)\n",
    "    print(f\"model with no {i} feature\")"
   ]
  },
  {
   "cell_type": "code",
   "execution_count": null,
   "id": "9071cd5f",
   "metadata": {},
   "outputs": [],
   "source": [
    "# Check functionality of the model\n",
    "for i in song_features:\n",
    "    print(i)\n",
    "    with open(f\"model_no_{i}.pkl\", 'rb') as file:  \n",
    "        loaded_model = pickle.load(file)\n",
    "        print(loaded_model.labels_[0:5])\n",
    "        # evaluate model \n",
    "        print(training_data[['artist_name', 'track_name']].iloc[0:5])\n",
    "        y_predict = loaded_model.predict(np.array(training_data[song_features].drop(i,axis=1).iloc[0:5]))\n",
    "        print(y_predict)\n",
    "        file.close()"
   ]
  },
  {
   "cell_type": "markdown",
   "id": "9a3b104b",
   "metadata": {},
   "source": [
    "# Fitting the model with all song features "
   ]
  },
  {
   "cell_type": "code",
   "execution_count": null,
   "id": "ff79b81a",
   "metadata": {},
   "outputs": [],
   "source": [
    "X_train_all = np.array(training_data[song_features])\n",
    "#print(X_train_all[0:5])\n",
    "model = KMeans(n_clusters=true_k, init='k-means++', max_iter=100, n_init=100, random_state=1)\n",
    "model.fit(X_train_all)\n",
    "# save the model as a pickle file\n",
    "model_pkl_file = f\"model_all.pkl\"  \n",
    "with open(model_pkl_file, 'wb') as file:  \n",
    "    pickle.dump(model, file)\n",
    "    print(f\"model with all features completed\")"
   ]
  },
  {
   "cell_type": "code",
   "execution_count": null,
   "id": "6a44be61",
   "metadata": {},
   "outputs": [],
   "source": [
    "with open(f\"model_all.pkl\", 'rb') as file:  \n",
    "    loaded_model = pickle.load(file)\n",
    "    print(loaded_model.labels_[0:5])\n",
    "    print(training_data[['artist_name', 'track_name']].iloc[0:5])\n",
    "    # evaluate model \n",
    "    y_predict = loaded_model.predict(np.array(training_data[song_features].iloc[0:5]))\n",
    "    print(y_predict)\n",
    "    file.close()"
   ]
  },
  {
   "cell_type": "markdown",
   "id": "fe738cc4",
   "metadata": {},
   "source": [
    "# Fitting the model with only one song features "
   ]
  },
  {
   "cell_type": "code",
   "execution_count": null,
   "id": "324e3fbf",
   "metadata": {},
   "outputs": [],
   "source": [
    "for i in song_features:\n",
    "    print(i)\n",
    "    print(training_data[i][0:5])\n",
    "    X_train_song = np.array(training_data[i]).reshape(-1,1)\n",
    "    #print(X_train_song[0:5])\n",
    "    model = KMeans(n_clusters=true_k, init='k-means++', max_iter=100, n_init=100, random_state=1)\n",
    "    model.fit(X_train_song)\n",
    "    # save the model as a pickle file\n",
    "    model_pkl_file = f\"model_{i}.pkl\"  \n",
    "\n",
    "    with open(model_pkl_file, 'wb') as file:  \n",
    "        pickle.dump(model, file)\n",
    "    print(f\"model with only {i} feature completed\")"
   ]
  },
  {
   "cell_type": "code",
   "execution_count": null,
   "id": "88ec4439",
   "metadata": {},
   "outputs": [],
   "source": [
    "# load model from pickle file\n",
    "for i in song_features:\n",
    "    print(i)\n",
    "    with open(f\"model_{i}.pkl\", 'rb') as file:  \n",
    "        loaded_model = pickle.load(file)\n",
    "        print(loaded_model.labels_[0:5])\n",
    "        # evaluate model \n",
    "        print(training_data[['artist_name', 'track_name']].iloc[0:5])\n",
    "        y_predict = loaded_model.predict(np.array(training_data[i].iloc[0:5]).reshape(-1,1))\n",
    "        print(y_predict)\n",
    "        file.close()\n"
   ]
  },
  {
   "cell_type": "markdown",
   "id": "b03b27f3",
   "metadata": {},
   "source": [
    "# Artist DataFrame"
   ]
  },
  {
   "cell_type": "code",
   "execution_count": 11,
   "id": "5f921d56",
   "metadata": {},
   "outputs": [],
   "source": [
    "artist_df = get_artist_dataframe(artist_path)"
   ]
  },
  {
   "cell_type": "code",
   "execution_count": 12,
   "id": "03728935",
   "metadata": {},
   "outputs": [],
   "source": [
    "artist_df.drop('followers', axis=1, inplace=True)"
   ]
  },
  {
   "cell_type": "code",
   "execution_count": 13,
   "id": "6e3aa0a4",
   "metadata": {},
   "outputs": [
    {
     "data": {
      "text/html": [
       "<div>\n",
       "<style scoped>\n",
       "    .dataframe tbody tr th:only-of-type {\n",
       "        vertical-align: middle;\n",
       "    }\n",
       "\n",
       "    .dataframe tbody tr th {\n",
       "        vertical-align: top;\n",
       "    }\n",
       "\n",
       "    .dataframe thead th {\n",
       "        text-align: right;\n",
       "    }\n",
       "</style>\n",
       "<table border=\"1\" class=\"dataframe\">\n",
       "  <thead>\n",
       "    <tr style=\"text-align: right;\">\n",
       "      <th></th>\n",
       "      <th>genres</th>\n",
       "      <th>name</th>\n",
       "      <th>popularity</th>\n",
       "      <th>uri</th>\n",
       "    </tr>\n",
       "  </thead>\n",
       "  <tbody>\n",
       "    <tr>\n",
       "      <th>0</th>\n",
       "      <td>['dance pop', 'hip hop', 'hip pop', 'neo soul'...</td>\n",
       "      <td>Missy Elliott</td>\n",
       "      <td>72</td>\n",
       "      <td>spotify:artist:2wIVse2owClT7go1WT98tk</td>\n",
       "    </tr>\n",
       "    <tr>\n",
       "      <th>1</th>\n",
       "      <td>['dance pop', 'pop']</td>\n",
       "      <td>Britney Spears</td>\n",
       "      <td>80</td>\n",
       "      <td>spotify:artist:26dSoYclwsYLMAKD3tpOr4</td>\n",
       "    </tr>\n",
       "    <tr>\n",
       "      <th>2</th>\n",
       "      <td>['pop', 'r&amp;b']</td>\n",
       "      <td>Beyoncé</td>\n",
       "      <td>87</td>\n",
       "      <td>spotify:artist:6vWDO969PvNqNYHIOW5v0m</td>\n",
       "    </tr>\n",
       "    <tr>\n",
       "      <th>3</th>\n",
       "      <td>['dance pop', 'pop']</td>\n",
       "      <td>Justin Timberlake</td>\n",
       "      <td>79</td>\n",
       "      <td>spotify:artist:31TPClRtHm23RisEBtV3X7</td>\n",
       "    </tr>\n",
       "    <tr>\n",
       "      <th>4</th>\n",
       "      <td>['dance pop', 'pop rap', 'reggae fusion']</td>\n",
       "      <td>Shaggy</td>\n",
       "      <td>73</td>\n",
       "      <td>spotify:artist:5EvFsr3kj42KNv97ZEnqij</td>\n",
       "    </tr>\n",
       "  </tbody>\n",
       "</table>\n",
       "</div>"
      ],
      "text/plain": [
       "                                              genres               name  \\\n",
       "0  ['dance pop', 'hip hop', 'hip pop', 'neo soul'...      Missy Elliott   \n",
       "1                               ['dance pop', 'pop']     Britney Spears   \n",
       "2                                     ['pop', 'r&b']            Beyoncé   \n",
       "3                               ['dance pop', 'pop']  Justin Timberlake   \n",
       "4          ['dance pop', 'pop rap', 'reggae fusion']             Shaggy   \n",
       "\n",
       "   popularity                                    uri  \n",
       "0          72  spotify:artist:2wIVse2owClT7go1WT98tk  \n",
       "1          80  spotify:artist:26dSoYclwsYLMAKD3tpOr4  \n",
       "2          87  spotify:artist:6vWDO969PvNqNYHIOW5v0m  \n",
       "3          79  spotify:artist:31TPClRtHm23RisEBtV3X7  \n",
       "4          73  spotify:artist:5EvFsr3kj42KNv97ZEnqij  "
      ]
     },
     "execution_count": 13,
     "metadata": {},
     "output_type": "execute_result"
    }
   ],
   "source": [
    "artist_df.head()"
   ]
  },
  {
   "cell_type": "code",
   "execution_count": 14,
   "id": "c1f58697",
   "metadata": {},
   "outputs": [
    {
     "data": {
      "text/html": [
       "<div>\n",
       "<style scoped>\n",
       "    .dataframe tbody tr th:only-of-type {\n",
       "        vertical-align: middle;\n",
       "    }\n",
       "\n",
       "    .dataframe tbody tr th {\n",
       "        vertical-align: top;\n",
       "    }\n",
       "\n",
       "    .dataframe thead th {\n",
       "        text-align: right;\n",
       "    }\n",
       "</style>\n",
       "<table border=\"1\" class=\"dataframe\">\n",
       "  <thead>\n",
       "    <tr style=\"text-align: right;\">\n",
       "      <th></th>\n",
       "      <th>genres</th>\n",
       "      <th>name</th>\n",
       "      <th>popularity</th>\n",
       "      <th>uri</th>\n",
       "    </tr>\n",
       "  </thead>\n",
       "  <tbody>\n",
       "    <tr>\n",
       "      <th>13795</th>\n",
       "      <td>[]</td>\n",
       "      <td>NaN</td>\n",
       "      <td>48</td>\n",
       "      <td>spotify:artist:4oPYazJJ1o4rWBrTw9lm40</td>\n",
       "    </tr>\n",
       "    <tr>\n",
       "      <th>50978</th>\n",
       "      <td>['fluxwork']</td>\n",
       "      <td>NaN</td>\n",
       "      <td>8</td>\n",
       "      <td>spotify:artist:2uXBg2rcDk1gFkZXi73InJ</td>\n",
       "    </tr>\n",
       "    <tr>\n",
       "      <th>68032</th>\n",
       "      <td>[]</td>\n",
       "      <td>NaN</td>\n",
       "      <td>17</td>\n",
       "      <td>spotify:artist:5acHYRoM4lpJIiHZ4Zi3Is</td>\n",
       "    </tr>\n",
       "    <tr>\n",
       "      <th>62874</th>\n",
       "      <td>[]</td>\n",
       "      <td>NaN</td>\n",
       "      <td>0</td>\n",
       "      <td>spotify:artist:3fmUow9gSgOouUw2UnUtzg</td>\n",
       "    </tr>\n",
       "  </tbody>\n",
       "</table>\n",
       "</div>"
      ],
      "text/plain": [
       "             genres name  popularity                                    uri\n",
       "13795            []  NaN          48  spotify:artist:4oPYazJJ1o4rWBrTw9lm40\n",
       "50978  ['fluxwork']  NaN           8  spotify:artist:2uXBg2rcDk1gFkZXi73InJ\n",
       "68032            []  NaN          17  spotify:artist:5acHYRoM4lpJIiHZ4Zi3Is\n",
       "62874            []  NaN           0  spotify:artist:3fmUow9gSgOouUw2UnUtzg"
      ]
     },
     "execution_count": 14,
     "metadata": {},
     "output_type": "execute_result"
    }
   ],
   "source": [
    "artist_df[artist_df.isna().any(axis=1)]"
   ]
  },
  {
   "cell_type": "code",
   "execution_count": 15,
   "id": "8a15db11",
   "metadata": {},
   "outputs": [
    {
     "name": "stdout",
     "output_type": "stream",
     "text": [
      "295859\n",
      "295855\n"
     ]
    }
   ],
   "source": [
    "print(len(artist_df.index))\n",
    "artist_df = artist_df[~artist_df.isna().any(axis=1)]\n",
    "print(len(artist_df))"
   ]
  },
  {
   "cell_type": "code",
   "execution_count": 16,
   "id": "a51ece09",
   "metadata": {},
   "outputs": [
    {
     "data": {
      "text/plain": [
       "genres        False\n",
       "name          False\n",
       "popularity    False\n",
       "uri           False\n",
       "dtype: bool"
      ]
     },
     "execution_count": 16,
     "metadata": {},
     "output_type": "execute_result"
    }
   ],
   "source": [
    "artist_df.isna().any()"
   ]
  },
  {
   "cell_type": "markdown",
   "id": "5c134713",
   "metadata": {},
   "source": [
    "# Full data set SONG + ARTIST"
   ]
  },
  {
   "cell_type": "code",
   "execution_count": 17,
   "id": "8c6b6602",
   "metadata": {},
   "outputs": [],
   "source": [
    "full_df = data.merge(artist_df, how='left' , left_on='artist_uri', right_on='uri')"
   ]
  },
  {
   "cell_type": "code",
   "execution_count": 18,
   "id": "eab2a167",
   "metadata": {},
   "outputs": [],
   "source": [
    "full_df.drop(['uri_x', 'uri_y'], axis=1, inplace=True)"
   ]
  },
  {
   "cell_type": "code",
   "execution_count": 19,
   "id": "2c742734",
   "metadata": {},
   "outputs": [
    {
     "data": {
      "text/html": [
       "<div>\n",
       "<style scoped>\n",
       "    .dataframe tbody tr th:only-of-type {\n",
       "        vertical-align: middle;\n",
       "    }\n",
       "\n",
       "    .dataframe tbody tr th {\n",
       "        vertical-align: top;\n",
       "    }\n",
       "\n",
       "    .dataframe thead th {\n",
       "        text-align: right;\n",
       "    }\n",
       "</style>\n",
       "<table border=\"1\" class=\"dataframe\">\n",
       "  <thead>\n",
       "    <tr style=\"text-align: right;\">\n",
       "      <th></th>\n",
       "      <th>artist_name</th>\n",
       "      <th>track_uri</th>\n",
       "      <th>artist_uri</th>\n",
       "      <th>track_name</th>\n",
       "      <th>danceability</th>\n",
       "      <th>energy</th>\n",
       "      <th>key</th>\n",
       "      <th>loudness</th>\n",
       "      <th>mode</th>\n",
       "      <th>speechiness</th>\n",
       "      <th>acousticness</th>\n",
       "      <th>instrumentalness</th>\n",
       "      <th>liveness</th>\n",
       "      <th>valence</th>\n",
       "      <th>tempo</th>\n",
       "      <th>genres</th>\n",
       "      <th>name</th>\n",
       "      <th>popularity</th>\n",
       "    </tr>\n",
       "  </thead>\n",
       "  <tbody>\n",
       "    <tr>\n",
       "      <th>0</th>\n",
       "      <td>Missy Elliott</td>\n",
       "      <td>spotify:track:0UaMYEvWZi0ZqiDOoHU3YI</td>\n",
       "      <td>spotify:artist:2wIVse2owClT7go1WT98tk</td>\n",
       "      <td>Lose Control (feat. Ciara &amp; Fat Man Scoop)</td>\n",
       "      <td>0.904</td>\n",
       "      <td>0.813</td>\n",
       "      <td>4.0</td>\n",
       "      <td>-7.105</td>\n",
       "      <td>0.0</td>\n",
       "      <td>0.1210</td>\n",
       "      <td>0.03110</td>\n",
       "      <td>0.006970</td>\n",
       "      <td>0.0471</td>\n",
       "      <td>0.810</td>\n",
       "      <td>125.461</td>\n",
       "      <td>['dance pop', 'hip hop', 'hip pop', 'neo soul'...</td>\n",
       "      <td>Missy Elliott</td>\n",
       "      <td>72.0</td>\n",
       "    </tr>\n",
       "    <tr>\n",
       "      <th>1</th>\n",
       "      <td>Britney Spears</td>\n",
       "      <td>spotify:track:6I9VzXrHxO9rA9A5euc8Ak</td>\n",
       "      <td>spotify:artist:26dSoYclwsYLMAKD3tpOr4</td>\n",
       "      <td>Toxic</td>\n",
       "      <td>0.774</td>\n",
       "      <td>0.838</td>\n",
       "      <td>5.0</td>\n",
       "      <td>-3.914</td>\n",
       "      <td>0.0</td>\n",
       "      <td>0.1140</td>\n",
       "      <td>0.02490</td>\n",
       "      <td>0.025000</td>\n",
       "      <td>0.2420</td>\n",
       "      <td>0.924</td>\n",
       "      <td>143.040</td>\n",
       "      <td>['dance pop', 'pop']</td>\n",
       "      <td>Britney Spears</td>\n",
       "      <td>80.0</td>\n",
       "    </tr>\n",
       "    <tr>\n",
       "      <th>2</th>\n",
       "      <td>Beyoncé</td>\n",
       "      <td>spotify:track:0WqIKmW4BTrj3eJFmnCKMv</td>\n",
       "      <td>spotify:artist:6vWDO969PvNqNYHIOW5v0m</td>\n",
       "      <td>Crazy In Love</td>\n",
       "      <td>0.664</td>\n",
       "      <td>0.758</td>\n",
       "      <td>2.0</td>\n",
       "      <td>-6.583</td>\n",
       "      <td>0.0</td>\n",
       "      <td>0.2100</td>\n",
       "      <td>0.00238</td>\n",
       "      <td>0.000000</td>\n",
       "      <td>0.0598</td>\n",
       "      <td>0.701</td>\n",
       "      <td>99.259</td>\n",
       "      <td>['pop', 'r&amp;b']</td>\n",
       "      <td>Beyoncé</td>\n",
       "      <td>87.0</td>\n",
       "    </tr>\n",
       "    <tr>\n",
       "      <th>3</th>\n",
       "      <td>Justin Timberlake</td>\n",
       "      <td>spotify:track:1AWQoqb9bSvzTjaLralEkT</td>\n",
       "      <td>spotify:artist:31TPClRtHm23RisEBtV3X7</td>\n",
       "      <td>Rock Your Body</td>\n",
       "      <td>0.892</td>\n",
       "      <td>0.714</td>\n",
       "      <td>4.0</td>\n",
       "      <td>-6.055</td>\n",
       "      <td>0.0</td>\n",
       "      <td>0.1410</td>\n",
       "      <td>0.20100</td>\n",
       "      <td>0.000234</td>\n",
       "      <td>0.0521</td>\n",
       "      <td>0.817</td>\n",
       "      <td>100.972</td>\n",
       "      <td>['dance pop', 'pop']</td>\n",
       "      <td>Justin Timberlake</td>\n",
       "      <td>79.0</td>\n",
       "    </tr>\n",
       "    <tr>\n",
       "      <th>4</th>\n",
       "      <td>Shaggy</td>\n",
       "      <td>spotify:track:1lzr43nnXAijIGYnCT8M8H</td>\n",
       "      <td>spotify:artist:5EvFsr3kj42KNv97ZEnqij</td>\n",
       "      <td>It Wasn't Me</td>\n",
       "      <td>0.853</td>\n",
       "      <td>0.606</td>\n",
       "      <td>0.0</td>\n",
       "      <td>-4.596</td>\n",
       "      <td>1.0</td>\n",
       "      <td>0.0713</td>\n",
       "      <td>0.05610</td>\n",
       "      <td>0.000000</td>\n",
       "      <td>0.3130</td>\n",
       "      <td>0.654</td>\n",
       "      <td>94.759</td>\n",
       "      <td>['dance pop', 'pop rap', 'reggae fusion']</td>\n",
       "      <td>Shaggy</td>\n",
       "      <td>73.0</td>\n",
       "    </tr>\n",
       "  </tbody>\n",
       "</table>\n",
       "</div>"
      ],
      "text/plain": [
       "         artist_name                             track_uri  \\\n",
       "0      Missy Elliott  spotify:track:0UaMYEvWZi0ZqiDOoHU3YI   \n",
       "1     Britney Spears  spotify:track:6I9VzXrHxO9rA9A5euc8Ak   \n",
       "2            Beyoncé  spotify:track:0WqIKmW4BTrj3eJFmnCKMv   \n",
       "3  Justin Timberlake  spotify:track:1AWQoqb9bSvzTjaLralEkT   \n",
       "4             Shaggy  spotify:track:1lzr43nnXAijIGYnCT8M8H   \n",
       "\n",
       "                              artist_uri  \\\n",
       "0  spotify:artist:2wIVse2owClT7go1WT98tk   \n",
       "1  spotify:artist:26dSoYclwsYLMAKD3tpOr4   \n",
       "2  spotify:artist:6vWDO969PvNqNYHIOW5v0m   \n",
       "3  spotify:artist:31TPClRtHm23RisEBtV3X7   \n",
       "4  spotify:artist:5EvFsr3kj42KNv97ZEnqij   \n",
       "\n",
       "                                   track_name  danceability  energy  key  \\\n",
       "0  Lose Control (feat. Ciara & Fat Man Scoop)         0.904   0.813  4.0   \n",
       "1                                       Toxic         0.774   0.838  5.0   \n",
       "2                               Crazy In Love         0.664   0.758  2.0   \n",
       "3                              Rock Your Body         0.892   0.714  4.0   \n",
       "4                                It Wasn't Me         0.853   0.606  0.0   \n",
       "\n",
       "   loudness  mode  speechiness  acousticness  instrumentalness  liveness  \\\n",
       "0    -7.105   0.0       0.1210       0.03110          0.006970    0.0471   \n",
       "1    -3.914   0.0       0.1140       0.02490          0.025000    0.2420   \n",
       "2    -6.583   0.0       0.2100       0.00238          0.000000    0.0598   \n",
       "3    -6.055   0.0       0.1410       0.20100          0.000234    0.0521   \n",
       "4    -4.596   1.0       0.0713       0.05610          0.000000    0.3130   \n",
       "\n",
       "   valence    tempo                                             genres  \\\n",
       "0    0.810  125.461  ['dance pop', 'hip hop', 'hip pop', 'neo soul'...   \n",
       "1    0.924  143.040                               ['dance pop', 'pop']   \n",
       "2    0.701   99.259                                     ['pop', 'r&b']   \n",
       "3    0.817  100.972                               ['dance pop', 'pop']   \n",
       "4    0.654   94.759          ['dance pop', 'pop rap', 'reggae fusion']   \n",
       "\n",
       "                name  popularity  \n",
       "0      Missy Elliott        72.0  \n",
       "1     Britney Spears        80.0  \n",
       "2            Beyoncé        87.0  \n",
       "3  Justin Timberlake        79.0  \n",
       "4             Shaggy        73.0  "
      ]
     },
     "execution_count": 19,
     "metadata": {},
     "output_type": "execute_result"
    }
   ],
   "source": [
    "full_df.head()"
   ]
  },
  {
   "cell_type": "code",
   "execution_count": 20,
   "id": "b20de100",
   "metadata": {},
   "outputs": [
    {
     "name": "stdout",
     "output_type": "stream",
     "text": [
      "full length:  2548562 data length:  2258242\n"
     ]
    },
    {
     "data": {
      "text/plain": [
       "artist_name         False\n",
       "track_uri           False\n",
       "artist_uri          False\n",
       "track_name          False\n",
       "danceability        False\n",
       "energy              False\n",
       "key                 False\n",
       "loudness            False\n",
       "mode                False\n",
       "speechiness         False\n",
       "acousticness        False\n",
       "instrumentalness    False\n",
       "liveness            False\n",
       "valence             False\n",
       "tempo               False\n",
       "genres               True\n",
       "name                 True\n",
       "popularity           True\n",
       "dtype: bool"
      ]
     },
     "execution_count": 20,
     "metadata": {},
     "output_type": "execute_result"
    }
   ],
   "source": [
    "print('full length: ', len(full_df.index), 'data length: ', len(data.index)) \n",
    "full_df.isna().any()"
   ]
  },
  {
   "cell_type": "code",
   "execution_count": 21,
   "id": "b2dd9832",
   "metadata": {},
   "outputs": [
    {
     "data": {
      "text/plain": [
       "18061"
      ]
     },
     "execution_count": 21,
     "metadata": {},
     "output_type": "execute_result"
    }
   ],
   "source": [
    "len(full_df[full_df.isna().any(axis=1)])"
   ]
  },
  {
   "cell_type": "code",
   "execution_count": 22,
   "id": "4ca5fa1c",
   "metadata": {},
   "outputs": [],
   "source": [
    "full_df.replace('[]', np.nan, inplace=True)"
   ]
  },
  {
   "cell_type": "code",
   "execution_count": 23,
   "id": "7fa29b50",
   "metadata": {},
   "outputs": [
    {
     "data": {
      "text/plain": [
       "729384"
      ]
     },
     "execution_count": 23,
     "metadata": {},
     "output_type": "execute_result"
    }
   ],
   "source": [
    "len(full_df[full_df.isna().any(axis=1)])"
   ]
  },
  {
   "cell_type": "code",
   "execution_count": 24,
   "id": "cc77b715",
   "metadata": {},
   "outputs": [],
   "source": [
    "song_artist_df = full_df[~full_df.isna().any(axis=1)]"
   ]
  },
  {
   "cell_type": "code",
   "execution_count": 25,
   "id": "c992dda7",
   "metadata": {},
   "outputs": [
    {
     "data": {
      "text/plain": [
       "artist_name         False\n",
       "track_uri           False\n",
       "artist_uri          False\n",
       "track_name          False\n",
       "danceability        False\n",
       "energy              False\n",
       "key                 False\n",
       "loudness            False\n",
       "mode                False\n",
       "speechiness         False\n",
       "acousticness        False\n",
       "instrumentalness    False\n",
       "liveness            False\n",
       "valence             False\n",
       "tempo               False\n",
       "genres              False\n",
       "name                False\n",
       "popularity          False\n",
       "dtype: bool"
      ]
     },
     "execution_count": 25,
     "metadata": {},
     "output_type": "execute_result"
    }
   ],
   "source": [
    "song_artist_df.isna().any()"
   ]
  },
  {
   "cell_type": "code",
   "execution_count": 26,
   "id": "283aa85f",
   "metadata": {},
   "outputs": [
    {
     "data": {
      "text/plain": [
       "1819178"
      ]
     },
     "execution_count": 26,
     "metadata": {},
     "output_type": "execute_result"
    }
   ],
   "source": [
    "len(song_artist_df)"
   ]
  },
  {
   "cell_type": "code",
   "execution_count": 27,
   "id": "a2938b68",
   "metadata": {},
   "outputs": [],
   "source": [
    "# ' '.join([i.replace(' ', '_') for i in song_artist_df.genres[0].strip('][').replace('\\'','').split(', ')])"
   ]
  },
  {
   "cell_type": "code",
   "execution_count": 28,
   "id": "7e284ef3",
   "metadata": {},
   "outputs": [
    {
     "name": "stderr",
     "output_type": "stream",
     "text": [
      "/tmp/ipykernel_6639/234339059.py:1: SettingWithCopyWarning: \n",
      "A value is trying to be set on a copy of a slice from a DataFrame.\n",
      "Try using .loc[row_indexer,col_indexer] = value instead\n",
      "\n",
      "See the caveats in the documentation: https://pandas.pydata.org/pandas-docs/stable/user_guide/indexing.html#returning-a-view-versus-a-copy\n",
      "  song_artist_df['genres'] = song_artist_df['genres'].apply(lambda x: ' '.join([i.replace(' ', '_') for i in x.strip('][').replace('\\'','').split(', ')]))\n",
      "/tmp/ipykernel_6639/234339059.py:5: SettingWithCopyWarning: \n",
      "A value is trying to be set on a copy of a slice from a DataFrame.\n",
      "Try using .loc[row_indexer,col_indexer] = value instead\n",
      "\n",
      "See the caveats in the documentation: https://pandas.pydata.org/pandas-docs/stable/user_guide/indexing.html#returning-a-view-versus-a-copy\n",
      "  song_artist_df['genres'] = song_artist_df.genres.replace({\"[^A-Za-z ]+\": \"\"}, regex = True)\n"
     ]
    }
   ],
   "source": [
    "song_artist_df['genres'] = song_artist_df['genres'].apply(lambda x: ' '.join([i.replace(' ', '_') for i in x.strip('][').replace('\\'','').split(', ')]))\n",
    "#song_artist_df.drop('genres', axis=1, inplace=True)\n",
    "# song_artist_df['genres'] = song_artist_df['genres'].apply(lambda x: ' '.join(list(set(x.split()))))\n",
    "# song_artist_df['bgenres'] = song_artist_df.agenres.replace({\"r\\&b\": \"rhythm_blues\"}, regex = True)\n",
    "song_artist_df['genres'] = song_artist_df.genres.replace({\"[^A-Za-z ]+\": \"\"}, regex = True)\n",
    "#song_artist_df.drop('agenres', axis=1, inplace=True)\n",
    "song_artist_df.reset_index(inplace=True)"
   ]
  },
  {
   "cell_type": "code",
   "execution_count": 29,
   "id": "5758d4b1",
   "metadata": {},
   "outputs": [
    {
     "name": "stderr",
     "output_type": "stream",
     "text": [
      "/tmp/ipykernel_6639/3601459915.py:1: SettingWithCopyWarning: \n",
      "A value is trying to be set on a copy of a slice from a DataFrame\n",
      "\n",
      "See the caveats in the documentation: https://pandas.pydata.org/pandas-docs/stable/user_guide/indexing.html#returning-a-view-versus-a-copy\n",
      "  song_artist_df.drop('index', axis=1, inplace=True)\n"
     ]
    }
   ],
   "source": [
    "song_artist_df.drop('index', axis=1, inplace=True)"
   ]
  },
  {
   "cell_type": "code",
   "execution_count": 30,
   "id": "456f137d",
   "metadata": {},
   "outputs": [
    {
     "data": {
      "text/html": [
       "<div>\n",
       "<style scoped>\n",
       "    .dataframe tbody tr th:only-of-type {\n",
       "        vertical-align: middle;\n",
       "    }\n",
       "\n",
       "    .dataframe tbody tr th {\n",
       "        vertical-align: top;\n",
       "    }\n",
       "\n",
       "    .dataframe thead th {\n",
       "        text-align: right;\n",
       "    }\n",
       "</style>\n",
       "<table border=\"1\" class=\"dataframe\">\n",
       "  <thead>\n",
       "    <tr style=\"text-align: right;\">\n",
       "      <th></th>\n",
       "      <th>artist_name</th>\n",
       "      <th>track_uri</th>\n",
       "      <th>artist_uri</th>\n",
       "      <th>track_name</th>\n",
       "      <th>danceability</th>\n",
       "      <th>energy</th>\n",
       "      <th>key</th>\n",
       "      <th>loudness</th>\n",
       "      <th>mode</th>\n",
       "      <th>speechiness</th>\n",
       "      <th>acousticness</th>\n",
       "      <th>instrumentalness</th>\n",
       "      <th>liveness</th>\n",
       "      <th>valence</th>\n",
       "      <th>tempo</th>\n",
       "      <th>genres</th>\n",
       "      <th>name</th>\n",
       "      <th>popularity</th>\n",
       "    </tr>\n",
       "  </thead>\n",
       "  <tbody>\n",
       "    <tr>\n",
       "      <th>0</th>\n",
       "      <td>Missy Elliott</td>\n",
       "      <td>spotify:track:0UaMYEvWZi0ZqiDOoHU3YI</td>\n",
       "      <td>spotify:artist:2wIVse2owClT7go1WT98tk</td>\n",
       "      <td>Lose Control (feat. Ciara &amp; Fat Man Scoop)</td>\n",
       "      <td>0.904</td>\n",
       "      <td>0.813</td>\n",
       "      <td>4.0</td>\n",
       "      <td>-7.105</td>\n",
       "      <td>0.0</td>\n",
       "      <td>0.1210</td>\n",
       "      <td>0.03110</td>\n",
       "      <td>0.006970</td>\n",
       "      <td>0.0471</td>\n",
       "      <td>0.8100</td>\n",
       "      <td>125.461</td>\n",
       "      <td>dancepop hiphop hippop neosoul poprap rb rap u...</td>\n",
       "      <td>Missy Elliott</td>\n",
       "      <td>72.0</td>\n",
       "    </tr>\n",
       "    <tr>\n",
       "      <th>1</th>\n",
       "      <td>Britney Spears</td>\n",
       "      <td>spotify:track:6I9VzXrHxO9rA9A5euc8Ak</td>\n",
       "      <td>spotify:artist:26dSoYclwsYLMAKD3tpOr4</td>\n",
       "      <td>Toxic</td>\n",
       "      <td>0.774</td>\n",
       "      <td>0.838</td>\n",
       "      <td>5.0</td>\n",
       "      <td>-3.914</td>\n",
       "      <td>0.0</td>\n",
       "      <td>0.1140</td>\n",
       "      <td>0.02490</td>\n",
       "      <td>0.025000</td>\n",
       "      <td>0.2420</td>\n",
       "      <td>0.9240</td>\n",
       "      <td>143.040</td>\n",
       "      <td>dancepop pop</td>\n",
       "      <td>Britney Spears</td>\n",
       "      <td>80.0</td>\n",
       "    </tr>\n",
       "    <tr>\n",
       "      <th>2</th>\n",
       "      <td>Beyoncé</td>\n",
       "      <td>spotify:track:0WqIKmW4BTrj3eJFmnCKMv</td>\n",
       "      <td>spotify:artist:6vWDO969PvNqNYHIOW5v0m</td>\n",
       "      <td>Crazy In Love</td>\n",
       "      <td>0.664</td>\n",
       "      <td>0.758</td>\n",
       "      <td>2.0</td>\n",
       "      <td>-6.583</td>\n",
       "      <td>0.0</td>\n",
       "      <td>0.2100</td>\n",
       "      <td>0.00238</td>\n",
       "      <td>0.000000</td>\n",
       "      <td>0.0598</td>\n",
       "      <td>0.7010</td>\n",
       "      <td>99.259</td>\n",
       "      <td>pop rb</td>\n",
       "      <td>Beyoncé</td>\n",
       "      <td>87.0</td>\n",
       "    </tr>\n",
       "    <tr>\n",
       "      <th>3</th>\n",
       "      <td>Justin Timberlake</td>\n",
       "      <td>spotify:track:1AWQoqb9bSvzTjaLralEkT</td>\n",
       "      <td>spotify:artist:31TPClRtHm23RisEBtV3X7</td>\n",
       "      <td>Rock Your Body</td>\n",
       "      <td>0.892</td>\n",
       "      <td>0.714</td>\n",
       "      <td>4.0</td>\n",
       "      <td>-6.055</td>\n",
       "      <td>0.0</td>\n",
       "      <td>0.1410</td>\n",
       "      <td>0.20100</td>\n",
       "      <td>0.000234</td>\n",
       "      <td>0.0521</td>\n",
       "      <td>0.8170</td>\n",
       "      <td>100.972</td>\n",
       "      <td>dancepop pop</td>\n",
       "      <td>Justin Timberlake</td>\n",
       "      <td>79.0</td>\n",
       "    </tr>\n",
       "    <tr>\n",
       "      <th>4</th>\n",
       "      <td>Shaggy</td>\n",
       "      <td>spotify:track:1lzr43nnXAijIGYnCT8M8H</td>\n",
       "      <td>spotify:artist:5EvFsr3kj42KNv97ZEnqij</td>\n",
       "      <td>It Wasn't Me</td>\n",
       "      <td>0.853</td>\n",
       "      <td>0.606</td>\n",
       "      <td>0.0</td>\n",
       "      <td>-4.596</td>\n",
       "      <td>1.0</td>\n",
       "      <td>0.0713</td>\n",
       "      <td>0.05610</td>\n",
       "      <td>0.000000</td>\n",
       "      <td>0.3130</td>\n",
       "      <td>0.6540</td>\n",
       "      <td>94.759</td>\n",
       "      <td>dancepop poprap reggaefusion</td>\n",
       "      <td>Shaggy</td>\n",
       "      <td>73.0</td>\n",
       "    </tr>\n",
       "    <tr>\n",
       "      <th>...</th>\n",
       "      <td>...</td>\n",
       "      <td>...</td>\n",
       "      <td>...</td>\n",
       "      <td>...</td>\n",
       "      <td>...</td>\n",
       "      <td>...</td>\n",
       "      <td>...</td>\n",
       "      <td>...</td>\n",
       "      <td>...</td>\n",
       "      <td>...</td>\n",
       "      <td>...</td>\n",
       "      <td>...</td>\n",
       "      <td>...</td>\n",
       "      <td>...</td>\n",
       "      <td>...</td>\n",
       "      <td>...</td>\n",
       "      <td>...</td>\n",
       "      <td>...</td>\n",
       "    </tr>\n",
       "    <tr>\n",
       "      <th>1819173</th>\n",
       "      <td>DJ Stephanie</td>\n",
       "      <td>spotify:track:2gvW2j7Y6U6ScJljsMegRS</td>\n",
       "      <td>spotify:artist:3HVrpP1tDmHMAlFmBOgzaO</td>\n",
       "      <td>Sweet Disposition - Radio Cut</td>\n",
       "      <td>0.149</td>\n",
       "      <td>0.837</td>\n",
       "      <td>2.0</td>\n",
       "      <td>-4.197</td>\n",
       "      <td>1.0</td>\n",
       "      <td>0.0557</td>\n",
       "      <td>0.04950</td>\n",
       "      <td>0.000473</td>\n",
       "      <td>0.1550</td>\n",
       "      <td>0.0605</td>\n",
       "      <td>78.862</td>\n",
       "      <td>classichardstyle euphorichardstyle</td>\n",
       "      <td>DJ Stephanie</td>\n",
       "      <td>27.0</td>\n",
       "    </tr>\n",
       "    <tr>\n",
       "      <th>1819174</th>\n",
       "      <td>Oddo</td>\n",
       "      <td>spotify:track:5s0GIpP4inKIjhU2LDxZQ1</td>\n",
       "      <td>spotify:artist:3OqaE7bi2wy4kAKYasQ8NT</td>\n",
       "      <td>Mala Suerte</td>\n",
       "      <td>0.728</td>\n",
       "      <td>0.629</td>\n",
       "      <td>8.0</td>\n",
       "      <td>-6.167</td>\n",
       "      <td>1.0</td>\n",
       "      <td>0.0826</td>\n",
       "      <td>0.50100</td>\n",
       "      <td>0.004520</td>\n",
       "      <td>0.0748</td>\n",
       "      <td>0.9070</td>\n",
       "      <td>171.999</td>\n",
       "      <td>chileanindie trapchileno</td>\n",
       "      <td>Oddó</td>\n",
       "      <td>7.0</td>\n",
       "    </tr>\n",
       "    <tr>\n",
       "      <th>1819175</th>\n",
       "      <td>Eric Thomas</td>\n",
       "      <td>spotify:track:72e6xNjijQjTiXLxDVuJ7n</td>\n",
       "      <td>spotify:artist:5URFLvsIMbJIqmQL36FmvW</td>\n",
       "      <td>Impose Your Will</td>\n",
       "      <td>0.675</td>\n",
       "      <td>0.178</td>\n",
       "      <td>6.0</td>\n",
       "      <td>-22.618</td>\n",
       "      <td>1.0</td>\n",
       "      <td>0.9270</td>\n",
       "      <td>0.98600</td>\n",
       "      <td>0.000000</td>\n",
       "      <td>0.9300</td>\n",
       "      <td>0.3270</td>\n",
       "      <td>84.659</td>\n",
       "      <td>hardmotivation motivation</td>\n",
       "      <td>Eric Thomas</td>\n",
       "      <td>34.0</td>\n",
       "    </tr>\n",
       "    <tr>\n",
       "      <th>1819176</th>\n",
       "      <td>KLB</td>\n",
       "      <td>spotify:track:7j12SnqI04qCEao2nuwxX6</td>\n",
       "      <td>spotify:artist:6Jrploq7vACkXZg2ERVFK3</td>\n",
       "      <td>A Cada Dez Palavras</td>\n",
       "      <td>0.646</td>\n",
       "      <td>0.614</td>\n",
       "      <td>0.0</td>\n",
       "      <td>-7.908</td>\n",
       "      <td>1.0</td>\n",
       "      <td>0.0347</td>\n",
       "      <td>0.27300</td>\n",
       "      <td>0.000000</td>\n",
       "      <td>0.1020</td>\n",
       "      <td>0.8640</td>\n",
       "      <td>97.018</td>\n",
       "      <td>axe pagode popteenbrasileiro sertanejo</td>\n",
       "      <td>KLB</td>\n",
       "      <td>45.0</td>\n",
       "    </tr>\n",
       "    <tr>\n",
       "      <th>1819177</th>\n",
       "      <td>Raça Negra</td>\n",
       "      <td>spotify:track:5ZNUXxjQHzipyvWu7mN8Pn</td>\n",
       "      <td>spotify:artist:1RnHJ07H3jcpay9PrUPjnt</td>\n",
       "      <td>Dou A Vida Por Um Beijo - Ao Vivo Em Fortaleza...</td>\n",
       "      <td>0.468</td>\n",
       "      <td>0.897</td>\n",
       "      <td>7.0</td>\n",
       "      <td>-8.527</td>\n",
       "      <td>1.0</td>\n",
       "      <td>0.0637</td>\n",
       "      <td>0.39700</td>\n",
       "      <td>0.000007</td>\n",
       "      <td>0.9510</td>\n",
       "      <td>0.7940</td>\n",
       "      <td>100.577</td>\n",
       "      <td>pagode sertanejo sertanejouniversitario</td>\n",
       "      <td>Raça Negra</td>\n",
       "      <td>63.0</td>\n",
       "    </tr>\n",
       "  </tbody>\n",
       "</table>\n",
       "<p>1819178 rows × 18 columns</p>\n",
       "</div>"
      ],
      "text/plain": [
       "               artist_name                             track_uri  \\\n",
       "0            Missy Elliott  spotify:track:0UaMYEvWZi0ZqiDOoHU3YI   \n",
       "1           Britney Spears  spotify:track:6I9VzXrHxO9rA9A5euc8Ak   \n",
       "2                  Beyoncé  spotify:track:0WqIKmW4BTrj3eJFmnCKMv   \n",
       "3        Justin Timberlake  spotify:track:1AWQoqb9bSvzTjaLralEkT   \n",
       "4                   Shaggy  spotify:track:1lzr43nnXAijIGYnCT8M8H   \n",
       "...                    ...                                   ...   \n",
       "1819173       DJ Stephanie  spotify:track:2gvW2j7Y6U6ScJljsMegRS   \n",
       "1819174               Oddo  spotify:track:5s0GIpP4inKIjhU2LDxZQ1   \n",
       "1819175        Eric Thomas  spotify:track:72e6xNjijQjTiXLxDVuJ7n   \n",
       "1819176                KLB  spotify:track:7j12SnqI04qCEao2nuwxX6   \n",
       "1819177         Raça Negra  spotify:track:5ZNUXxjQHzipyvWu7mN8Pn   \n",
       "\n",
       "                                    artist_uri  \\\n",
       "0        spotify:artist:2wIVse2owClT7go1WT98tk   \n",
       "1        spotify:artist:26dSoYclwsYLMAKD3tpOr4   \n",
       "2        spotify:artist:6vWDO969PvNqNYHIOW5v0m   \n",
       "3        spotify:artist:31TPClRtHm23RisEBtV3X7   \n",
       "4        spotify:artist:5EvFsr3kj42KNv97ZEnqij   \n",
       "...                                        ...   \n",
       "1819173  spotify:artist:3HVrpP1tDmHMAlFmBOgzaO   \n",
       "1819174  spotify:artist:3OqaE7bi2wy4kAKYasQ8NT   \n",
       "1819175  spotify:artist:5URFLvsIMbJIqmQL36FmvW   \n",
       "1819176  spotify:artist:6Jrploq7vACkXZg2ERVFK3   \n",
       "1819177  spotify:artist:1RnHJ07H3jcpay9PrUPjnt   \n",
       "\n",
       "                                                track_name  danceability  \\\n",
       "0               Lose Control (feat. Ciara & Fat Man Scoop)         0.904   \n",
       "1                                                    Toxic         0.774   \n",
       "2                                            Crazy In Love         0.664   \n",
       "3                                           Rock Your Body         0.892   \n",
       "4                                             It Wasn't Me         0.853   \n",
       "...                                                    ...           ...   \n",
       "1819173                      Sweet Disposition - Radio Cut         0.149   \n",
       "1819174                                        Mala Suerte         0.728   \n",
       "1819175                                   Impose Your Will         0.675   \n",
       "1819176                                A Cada Dez Palavras         0.646   \n",
       "1819177  Dou A Vida Por Um Beijo - Ao Vivo Em Fortaleza...         0.468   \n",
       "\n",
       "         energy  key  loudness  mode  speechiness  acousticness  \\\n",
       "0         0.813  4.0    -7.105   0.0       0.1210       0.03110   \n",
       "1         0.838  5.0    -3.914   0.0       0.1140       0.02490   \n",
       "2         0.758  2.0    -6.583   0.0       0.2100       0.00238   \n",
       "3         0.714  4.0    -6.055   0.0       0.1410       0.20100   \n",
       "4         0.606  0.0    -4.596   1.0       0.0713       0.05610   \n",
       "...         ...  ...       ...   ...          ...           ...   \n",
       "1819173   0.837  2.0    -4.197   1.0       0.0557       0.04950   \n",
       "1819174   0.629  8.0    -6.167   1.0       0.0826       0.50100   \n",
       "1819175   0.178  6.0   -22.618   1.0       0.9270       0.98600   \n",
       "1819176   0.614  0.0    -7.908   1.0       0.0347       0.27300   \n",
       "1819177   0.897  7.0    -8.527   1.0       0.0637       0.39700   \n",
       "\n",
       "         instrumentalness  liveness  valence    tempo  \\\n",
       "0                0.006970    0.0471   0.8100  125.461   \n",
       "1                0.025000    0.2420   0.9240  143.040   \n",
       "2                0.000000    0.0598   0.7010   99.259   \n",
       "3                0.000234    0.0521   0.8170  100.972   \n",
       "4                0.000000    0.3130   0.6540   94.759   \n",
       "...                   ...       ...      ...      ...   \n",
       "1819173          0.000473    0.1550   0.0605   78.862   \n",
       "1819174          0.004520    0.0748   0.9070  171.999   \n",
       "1819175          0.000000    0.9300   0.3270   84.659   \n",
       "1819176          0.000000    0.1020   0.8640   97.018   \n",
       "1819177          0.000007    0.9510   0.7940  100.577   \n",
       "\n",
       "                                                    genres               name  \\\n",
       "0        dancepop hiphop hippop neosoul poprap rb rap u...      Missy Elliott   \n",
       "1                                             dancepop pop     Britney Spears   \n",
       "2                                                   pop rb            Beyoncé   \n",
       "3                                             dancepop pop  Justin Timberlake   \n",
       "4                             dancepop poprap reggaefusion             Shaggy   \n",
       "...                                                    ...                ...   \n",
       "1819173                 classichardstyle euphorichardstyle       DJ Stephanie   \n",
       "1819174                           chileanindie trapchileno               Oddó   \n",
       "1819175                          hardmotivation motivation        Eric Thomas   \n",
       "1819176             axe pagode popteenbrasileiro sertanejo                KLB   \n",
       "1819177            pagode sertanejo sertanejouniversitario         Raça Negra   \n",
       "\n",
       "         popularity  \n",
       "0              72.0  \n",
       "1              80.0  \n",
       "2              87.0  \n",
       "3              79.0  \n",
       "4              73.0  \n",
       "...             ...  \n",
       "1819173        27.0  \n",
       "1819174         7.0  \n",
       "1819175        34.0  \n",
       "1819176        45.0  \n",
       "1819177        63.0  \n",
       "\n",
       "[1819178 rows x 18 columns]"
      ]
     },
     "execution_count": 30,
     "metadata": {},
     "output_type": "execute_result"
    }
   ],
   "source": [
    "song_artist_df"
   ]
  },
  {
   "cell_type": "code",
   "execution_count": 31,
   "id": "7fb1c6fe",
   "metadata": {},
   "outputs": [
    {
     "data": {
      "text/plain": [
       "(array([], dtype=int64), array([], dtype=int64))"
      ]
     },
     "execution_count": 31,
     "metadata": {},
     "output_type": "execute_result"
    }
   ],
   "source": [
    "np.where(song_artist_df.applymap(lambda x: x == ''))"
   ]
  },
  {
   "cell_type": "code",
   "execution_count": 32,
   "id": "08101c68",
   "metadata": {},
   "outputs": [
    {
     "name": "stdout",
     "output_type": "stream",
     "text": [
      "There are 34483 unique genre combinations\n"
     ]
    }
   ],
   "source": [
    "print(f\"There are {len(song_artist_df['genres'].unique())} unique genre combinations\")"
   ]
  },
  {
   "cell_type": "code",
   "execution_count": 33,
   "id": "3e17b1e9",
   "metadata": {},
   "outputs": [
    {
     "data": {
      "text/plain": [
       "0       dancepop hiphop hippop neosoul poprap rb rap u...\n",
       "1                                            dancepop pop\n",
       "2                                                  pop rb\n",
       "3                                            dancepop pop\n",
       "4                            dancepop poprap reggaefusion\n",
       "                              ...                        \n",
       "4995                                         malaysianpop\n",
       "4996                                         malaysianpop\n",
       "4997    alternativedance electronicrock indietronica n...\n",
       "4998                           australianindie shimmerpop\n",
       "4999                           australianindie shimmerpop\n",
       "Name: genres, Length: 5000, dtype: object"
      ]
     },
     "execution_count": 33,
     "metadata": {},
     "output_type": "execute_result"
    }
   ],
   "source": [
    "song_artist_df['genres'][0:5000]"
   ]
  },
  {
   "cell_type": "markdown",
   "id": "57429149",
   "metadata": {},
   "source": [
    "# Vectorizing genre "
   ]
  },
  {
   "cell_type": "code",
   "execution_count": 61,
   "id": "078bf84a",
   "metadata": {},
   "outputs": [
    {
     "name": "stdout",
     "output_type": "stream",
     "text": [
      "(50000, 2563)\n"
     ]
    }
   ],
   "source": [
    "vectorizer = TfidfVectorizer(stop_words='english')\n",
    "\n",
    "X_train = vectorizer.fit_transform(song_artist_df['genres'][0:50000])\n",
    "print(X_train.shape)\n",
    "# svd = TruncatedSVD(n_components=100)\n",
    "# svp_X_train = svd.fit_transform(X_train)\n",
    "# print(svp_X_train.shape)\n",
    "# x_train_array = svp_X_train.toarray()\n",
    "# for index, value in enumerate(text_X_train):\n",
    "#     print(song_artist_df['genre'].iloc[index], value)\n",
    "\n",
    "# print(x_train_array.shape)\n",
    "# print(x_train_array[0][44])\n",
    "# f_xtrain_nosvp = np.concatenate((song_features_array, x_train_array), axis=1)\n",
    "# print('xtrain_nosvp', f_xtrain_nosvp.shape)\n",
    "# f_xtrain = np.concatenate((song_features_array, text_X_train), axis=1)\n",
    "# #print(f_xtrain)\n",
    "# print(f_xtrain.shape)\n",
    "\n",
    "#print(X_train)\n",
    "#print(f\"n_samples: {X_train.shape[0]}, n_features: {X_train.shape[1]}\")"
   ]
  },
  {
   "cell_type": "markdown",
   "id": "49099865",
   "metadata": {},
   "source": [
    "# Training a model with genre "
   ]
  },
  {
   "cell_type": "code",
   "execution_count": 62,
   "id": "7c529c0a",
   "metadata": {},
   "outputs": [
    {
     "name": "stdout",
     "output_type": "stream",
     "text": [
      "model with genre feature completed\n"
     ]
    }
   ],
   "source": [
    "model = KMeans(n_clusters=true_k, init='k-means++', max_iter=100, n_init=100, random_state=1)\n",
    "model.fit(X_train)\n",
    "# model.fit(svp_X_train)\n",
    "# save the model as a pickle file\n",
    "model_pkl_file = f\"model_genre.pkl\"  \n",
    "\n",
    "with open(model_pkl_file, 'wb') as file:  \n",
    "    pickle.dump(model, file)\n",
    "print(f\"model with genre feature completed\")"
   ]
  },
  {
   "cell_type": "code",
   "execution_count": 63,
   "id": "2a4c86fd",
   "metadata": {},
   "outputs": [],
   "source": [
    "def input_vectorization(str_input):\n",
    "    #print(test_song)\n",
    "    if isinstance(str_input, str):\n",
    "        # It is a single string element thus we cannot use list() and have to use brackets [] to transform to list\n",
    "        X_test = vectorizer.transform([str_input])\n",
    "#         svd = TruncatedSVD(n_components=100)\n",
    "#         svp_X_train = svd.fit_transform(X_test)\n",
    "#         prediction = model.predict(X_test)\n",
    "    else:\n",
    "        # if is not a single string element so we can transform into a list directly using list()\n",
    "        X_test = vectorizer.transform(list(str_input))\n",
    "#         svd = TruncatedSVD(n_components=100)\n",
    "#         svp_X_train = svd.fit_transform(X_test)\n",
    "#         prediction = model.predict(X_test)\n",
    "    return X_test"
   ]
  },
  {
   "cell_type": "code",
   "execution_count": 67,
   "id": "c6f4ac8b",
   "metadata": {},
   "outputs": [
    {
     "name": "stdout",
     "output_type": "stream",
     "text": [
      "[2 8 8 8 1]\n",
      "         artist_name                                  track_name\n",
      "0      Missy Elliott  Lose Control (feat. Ciara & Fat Man Scoop)\n",
      "1     Britney Spears                                       Toxic\n",
      "2            Beyoncé                               Crazy In Love\n",
      "3  Justin Timberlake                              Rock Your Body\n",
      "4             Shaggy                                It Wasn't Me\n",
      "[2]\n"
     ]
    }
   ],
   "source": [
    "# Check functionality of the model\n",
    "# print(song_artist_df['genres'].iloc[0:5])\n",
    "# a = song_artist_df['genres'].iloc[0:5]\n",
    "# X_test = vectorizer.transform(a)\n",
    "# print(X_test.shape)\n",
    "# svd = TruncatedSVD(n_components=4)\n",
    "# svp_X_train = svd.fit_transform(X_test)\n",
    "# print(svp_X_train.shape)\n",
    "with open(f\"model_genre.pkl\", 'rb') as file:  \n",
    "        loaded_model = pickle.load(file)\n",
    "        print(loaded_model.labels_[0:5])\n",
    "        # evaluate model \n",
    "        print(training_data[['artist_name', 'track_name']].iloc[0:5])\n",
    "        y_predict = loaded_model.predict(input_vectorization(song_artist_df['genres'].iloc[0:1]))\n",
    "        print(y_predict)\n",
    "        file.close()"
   ]
  },
  {
   "cell_type": "markdown",
   "id": "aac5eff4",
   "metadata": {},
   "source": [
    "# Reading Json files"
   ]
  },
  {
   "cell_type": "code",
   "execution_count": null,
   "id": "c76e869d",
   "metadata": {},
   "outputs": [],
   "source": [
    "# # path to playlist file\n",
    "# root_path = !pwd\n",
    "# root_path = str(root_path[0])\n",
    "# # filename \n",
    "# filepath = f\"/home/ernek/Main/Erdos/song_recommender/playlist_data/sampledata/\"\n",
    "# filename = 'mpd.slice.0-999.json'\n",
    "# # path + filename\n",
    "# fpath_name = f\"{filepath}{filename}\"\n",
    "# # Open file of playlist and obtain fields of json file \n",
    "# with open(fpath_name) as data_file:    \n",
    "#     data = json.load(data_file)  \n",
    "\n",
    "# # Extract keys\n",
    "# num_keys_old = 0\n",
    "# for index, playlist in enumerate(data['playlists']):\n",
    "#     num_keys =  len(playlist.keys())\n",
    "#     if index == 0:\n",
    "#         num_key_old = num_keys\n",
    "#         continue\n",
    "#     if num_keys > num_key_old:\n",
    "#         keys = playlist.keys()\n",
    "#     num_key_old = num_keys\n",
    "    \n",
    "# # Construct keys of playlist\n",
    "# keys = list(keys)\n",
    "# keys.remove('tracks')\n",
    "# print(\" Playlist keys: \", keys)\n",
    "\n",
    "# # Create dataframe with track and playlist info\n",
    "# music_df = pd.json_normalize(data['playlists'],  meta = keys, meta_prefix = 'playlist_', errors='ignore', record_path=['tracks'], record_prefix = 'track_')\n",
    "# music_df.head()\n",
    "\n",
    "# # Check column values \n",
    "# music_df[music_df['playlist_pid'] == 0].columns"
   ]
  },
  {
   "cell_type": "code",
   "execution_count": null,
   "id": "ea7574b7",
   "metadata": {},
   "outputs": [],
   "source": [
    "# Select indexes of playlists that have a description\n",
    "# playlists_id_with_description = music_df[~music_df['playlist_description'].isna()]['playlist_pid'].unique()\n",
    "# print(playlists_id_with_description)\n",
    "# Working only with playlists that contain a \"description\"\n",
    "# subset_df = music_df[music_df['playlist_pid'].isin(playlists_id_with_description)]\n",
    "# print(subset_df['playlist_pid'].unique())"
   ]
  },
  {
   "cell_type": "code",
   "execution_count": null,
   "id": "b2d6ef28",
   "metadata": {},
   "outputs": [],
   "source": [
    "# num_records = len(subset_df)\n",
    "# num_unique_records = len(subset_df[['track_artist_name','track_track_name']].apply(lambda x: ',.'.join(x),axis=1).unique())\n",
    "# print('Number of table records: ', num_records)\n",
    "# print('Number of unique artist, song pairs: ', num_unique_records )\n",
    "# print('Number of repeated songs: ', num_records - num_unique_records )\n",
    "# print('Number of playlists: ', len(subset_df['playlist_pid'].unique()))\n",
    "# print('Number of unique artists: ', len(subset_df['track_artist_name'].unique()))"
   ]
  },
  {
   "cell_type": "code",
   "execution_count": null,
   "id": "b6bfd1ca",
   "metadata": {},
   "outputs": [],
   "source": [
    "# # Function to select track_uri ONLY Nrecords records for now\n",
    "# Nrecords = 250\n",
    "# def get_features(df, Nrecords):\n",
    "#     indexes = []\n",
    "#     audio_features = []\n",
    "#     track_popularity = []\n",
    "#     artist_genre = []\n",
    "#     artist_popularity = []\n",
    "#     album_popularity = []\n",
    "#     start = 0\n",
    "#     for row_index, row in df.iloc[0:Nrecords].iterrows():\n",
    "#         #print(row_index, row['track_track_uri'])\n",
    "#         track_uri = row['track_track_uri']\n",
    "#         artist_uri = row['track_artist_uri']\n",
    "#         album_uri = row['track_album_uri']\n",
    "#         if start == 0:\n",
    "#             keys = spotify.audio_features(tracks=track_uri)[0].keys()\n",
    "#         start += 1\n",
    "    \n",
    "#         track_popularity.append(spotify.track(track_uri)['popularity'])\n",
    "        \n",
    "#         indexes.append(row_index) \n",
    "#         audio_features.append(spotify.audio_features(tracks=track_uri)[0].values())\n",
    "        \n",
    "#         artist_results = spotify.artist(artist_uri)\n",
    "        \n",
    "#         artist_genre.append(artist_results['genres'])\n",
    "#         artist_popularity.append(artist_results['popularity'])\n",
    "#         #print(artist_results['genres'], artist_results['popularity'])\n",
    "#         album_results = spotify.album(album_uri)\n",
    "#         album_popularity.append(album_results['popularity'])\n",
    "        \n",
    "        \n",
    "#     features_df = pd.DataFrame(audio_features, columns=keys)\n",
    "#     features_df['song_popularity'] = track_popularity\n",
    "#     features_df['artist_genre'] = artist_genre\n",
    "#     features_df['artist_popularity']  = artist_popularity\n",
    "#     features_df['album_popularity'] = album_popularity\n",
    "#     features_df['index'] = indexes\n",
    "#     features_df.set_index('index', inplace=True)\n",
    "#     return features_df\n",
    "\n",
    "# spotify = spotipy.Spotify(client_credentials_manager=SpotifyClientCredentials())"
   ]
  },
  {
   "cell_type": "code",
   "execution_count": null,
   "id": "6468b66a",
   "metadata": {},
   "outputs": [],
   "source": [
    "# audio_sp_df = get_features(subset_df , Nrecords)\n",
    "# audio_sp_df.index.name = None\n",
    "# audio_sp_df.drop(['type', 'id', 'track_href', 'analysis_url'], inplace=True, axis=1)\n",
    "# audio_sp_df"
   ]
  },
  {
   "cell_type": "code",
   "execution_count": null,
   "id": "acf3fa94",
   "metadata": {},
   "outputs": [],
   "source": [
    "# Parameters to use for the model\n",
    "# audio_sp_df.keys()"
   ]
  },
  {
   "cell_type": "code",
   "execution_count": null,
   "id": "8689341f",
   "metadata": {},
   "outputs": [],
   "source": [
    "# check_df = subset_df.iloc[0:Nrecords].merge(audio_sp_df, how='left' , left_on = 'track_track_uri', right_on='uri')\n",
    "# check_df.drop(['track_pos', 'uri', 'mode', 'playlist_duration_ms','playlist_num_albums','playlist_num_artists',  'track_artist_uri', 'track_album_uri', 'track_duration_ms','playlist_num_followers', 'playlist_num_edits', 'playlist_collaborative', 'playlist_modified_at', 'playlist_num_tracks'], inplace = True, axis=1)\n",
    "# check_df"
   ]
  },
  {
   "cell_type": "code",
   "execution_count": null,
   "id": "06ee735b",
   "metadata": {},
   "outputs": [],
   "source": [
    "# Make album popularity equal to artist popularity if album popularity is 0\n",
    "# check_df['album_popularity'] = np.where(check_df['album_popularity'] == 0, check_df['artist_popularity'], check_df['album_popularity'])\n",
    "# check_df['song_popularity'] = np.where(check_df['song_popularity'] == 0, check_df['artist_popularity'], check_df['song_popularity'])"
   ]
  },
  {
   "cell_type": "code",
   "execution_count": null,
   "id": "fbebc670",
   "metadata": {},
   "outputs": [],
   "source": [
    "# NLP workflow\n",
    "# Need to vectorize string fields\n",
    "# Use all string fields and combine them in a column containing all the words f\n",
    "# from collections import Counter"
   ]
  },
  {
   "cell_type": "code",
   "execution_count": null,
   "id": "b8476836",
   "metadata": {},
   "outputs": [],
   "source": [
    "# check_df['artist_genre']"
   ]
  },
  {
   "cell_type": "code",
   "execution_count": null,
   "id": "bff5fc22",
   "metadata": {},
   "outputs": [],
   "source": [
    "#check_df['artist_genre'] = check_df['artist_genre'].apply(lambda x: ' '.join([i.replace('-', '_') for i in x]))\n",
    "# check_df['artist_genre'] = check_df['artist_genre'].apply(lambda x: ' '.join([i.replace('-', '_').replace('_', '') for i in x]))"
   ]
  },
  {
   "cell_type": "code",
   "execution_count": null,
   "id": "9ca351b8",
   "metadata": {},
   "outputs": [],
   "source": [
    "# check_df['artist_genre'] = check_df['artist_genre'].apply(lambda x: ' '.join(list(set(x.split()))))"
   ]
  },
  {
   "cell_type": "code",
   "execution_count": null,
   "id": "0f6d0c2c",
   "metadata": {},
   "outputs": [],
   "source": [
    "# recheck = check.apply(lambda x: list(set(x.split())))\n",
    "# print(check)\n",
    "# print(recheck)\n",
    "# # check_df['artist_genre'] = check_df['artist_genre'].apply(lambda x: ''.join([i.replace('', '_') for i in x]))"
   ]
  },
  {
   "cell_type": "code",
   "execution_count": null,
   "id": "244aa2c3",
   "metadata": {},
   "outputs": [],
   "source": [
    "label_columns = ['track_track_name', 'artist_genre']\n",
    "check_df[label_columns]"
   ]
  },
  {
   "cell_type": "code",
   "execution_count": null,
   "id": "6b4e2d69",
   "metadata": {},
   "outputs": [],
   "source": [
    "# Combine 5 fields into one\n",
    "# string_field = check_df.track_track_name.str.cat(\" \" + check_df.artist_genre)\n",
    "string_field = check_df.artist_genre\n",
    "\n",
    "string_field = string_field.replace({\"r\\&b\": \"rhythm blues\"}, regex = True)\n",
    "string_field = string_field.replace({\"[^A-Za-z ]+\": \"\"}, regex = True)\n",
    "#print('last song: ',string_field.tail())\n",
    "string_field"
   ]
  },
  {
   "cell_type": "code",
   "execution_count": null,
   "id": "ba90bfd5",
   "metadata": {},
   "outputs": [],
   "source": [
    "test_song = string_field[0:int(len(string_field)*0.4)]\n",
    "print(test_song[0])\n",
    "#fraction = 0.0\n",
    "#string_field = string_field[int(len(string_field)*fraction):]\n"
   ]
  },
  {
   "cell_type": "code",
   "execution_count": null,
   "id": "38e02447",
   "metadata": {},
   "outputs": [],
   "source": [
    "# for i in string_field:\n",
    "#     print(set(i.split()))"
   ]
  },
  {
   "cell_type": "code",
   "execution_count": null,
   "id": "5573efb1",
   "metadata": {},
   "outputs": [],
   "source": [
    "#check_df['All_text'] = check_df.track_track_name.str.cat(\" \" + check_df.artist_genre)\n",
    "check_df['All_text'] = check_df.artist_genre\n",
    "# check_df"
   ]
  },
  {
   "cell_type": "code",
   "execution_count": null,
   "id": "9567d522",
   "metadata": {},
   "outputs": [],
   "source": []
  },
  {
   "cell_type": "code",
   "execution_count": null,
   "id": "64adcb92",
   "metadata": {},
   "outputs": [],
   "source": [
    "# import nltk\n",
    "# from nltk.stem import WordNetLemmatizer"
   ]
  },
  {
   "cell_type": "code",
   "execution_count": null,
   "id": "7a873635",
   "metadata": {},
   "outputs": [],
   "source": [
    "# stopwords = nltk.corpus.stopwords.words('english')\n",
    "# lemmatizer = WordNetLemmatizer()\n",
    "# nltk.download('stopwords')"
   ]
  },
  {
   "cell_type": "code",
   "execution_count": null,
   "id": "cb8dde24",
   "metadata": {},
   "outputs": [],
   "source": [
    "check_df.keys()"
   ]
  },
  {
   "cell_type": "code",
   "execution_count": null,
   "id": "ddd4b2ff",
   "metadata": {},
   "outputs": [],
   "source": [
    "song_features = ['danceability', 'energy', 'key', 'loudness',\n",
    "       'speechiness', 'acousticness', 'instrumentalness', 'liveness',\n",
    "       'valence', 'tempo', 'song_popularity', 'artist_popularity', 'album_popularity']\n",
    "df_song_features = check_df[song_features]"
   ]
  },
  {
   "cell_type": "code",
   "execution_count": null,
   "id": "019b732d",
   "metadata": {},
   "outputs": [],
   "source": [
    "song_features_array = np.array(df_song_features)"
   ]
  },
  {
   "cell_type": "code",
   "execution_count": null,
   "id": "8c9be50e",
   "metadata": {},
   "outputs": [],
   "source": [
    "song_features = ['danceability', 'energy', 'key', 'loudness',\n",
    "       'speechiness', 'acousticness', 'instrumentalness', 'liveness',\n",
    "       'valence', 'tempo']\n",
    "df_song_features = check_df[song_features]"
   ]
  },
  {
   "cell_type": "code",
   "execution_count": null,
   "id": "ae7edce1",
   "metadata": {},
   "outputs": [],
   "source": [
    "df_song_features"
   ]
  },
  {
   "cell_type": "code",
   "execution_count": null,
   "id": "20377289",
   "metadata": {},
   "outputs": [],
   "source": [
    "song_features_array = np.array(df_song_features)"
   ]
  },
  {
   "cell_type": "code",
   "execution_count": null,
   "id": "67ec04ef",
   "metadata": {},
   "outputs": [],
   "source": []
  },
  {
   "cell_type": "code",
   "execution_count": null,
   "id": "124b3fa0",
   "metadata": {},
   "outputs": [],
   "source": [
    "vectorizer = TfidfVectorizer(stop_words='english')\n",
    "\n",
    "X_train = vectorizer.fit_transform(string_field)\n",
    "#print(X_train[0])\n",
    "x_train_array = X_train.toarray()\n",
    "\n",
    "svd = TruncatedSVD(n_components=100)\n",
    "#print(type(svd))\n",
    "text_X_train = svd.fit_transform(X_train)\n",
    "#print(text_X_train)\n",
    "#print(text_X_train.shape)\n",
    "\n",
    "#for index, value in enumerate(text_X_train):\n",
    "#    print(string_field[index], value)\n",
    "\n",
    "#print(text_X_train)\n",
    "#print(x_train_array)\n",
    "print(x_train_array.shape)\n",
    "print(x_train_array[0][44])\n",
    "f_xtrain_nosvp = np.concatenate((song_features_array, x_train_array), axis=1)\n",
    "print('xtrain_nosvp', f_xtrain_nosvp.shape)\n",
    "f_xtrain = np.concatenate((song_features_array, text_X_train), axis=1)\n",
    "#print(f_xtrain)\n",
    "print(f_xtrain.shape)\n",
    "\n",
    "#print(X_train)\n",
    "#print(f\"n_samples: {X_train.shape[0]}, n_features: {X_train.shape[1]}\")"
   ]
  },
  {
   "cell_type": "code",
   "execution_count": null,
   "id": "b1f6d848",
   "metadata": {},
   "outputs": [],
   "source": [
    "print(f\"{X_train.nnz / np.prod(X_train.shape):.3f}\")\n",
    "print(f\"About {X_train.nnz / np.prod(X_train.shape)*100:.3f}\\% of the entries in the matrix are non zero\")"
   ]
  },
  {
   "cell_type": "code",
   "execution_count": null,
   "id": "6f2f1a40",
   "metadata": {},
   "outputs": [],
   "source": [
    "# Fitting the Full MATRIX of text vectors without song_features\n",
    "true_k = 10\n",
    "\n",
    "model = KMeans(n_clusters=true_k, init='k-means++', max_iter=500, n_init=100, random_state=1)\n",
    "model.fit(preprocessing.normalize(X_train))\n",
    "X_train_dist = model.transform(X_train)**2\n",
    "print(X_train_dist.shape)\n",
    "print(X_train_dist)\n",
    "dist_df = pd.DataFrame(X_train_dist.sum(axis=1).round(2), columns=['sqdist'])\n",
    "print(X_train_dist[0].sum())\n",
    "print(X_train_dist[0].min())\n",
    "dist_df['label'] = model.labels_\n",
    "print(dist_df.head())\n",
    "print(dist_df.shape)\n",
    "#print(model.labels_)\n",
    "#print(len(model.labels_))\n",
    "\n",
    "for index, value in enumerate(model.labels_):\n",
    "    print(f\"STRING: {string_field[index]}\", f\"CLUSTER_INDEX: {value}\")\n",
    "    if index == 5:\n",
    "        break\n",
    "print('Top terms per cluster')\n",
    "order_centroids = model.cluster_centers_.argsort()[:,::-1]\n",
    "terms = vectorizer.get_feature_names_out()\n",
    "#print(terms)\n",
    "for i in range(true_k):\n",
    "    print(f\"Cluster {i}: \", end=\"\")\n",
    "    for ind in order_centroids[i,:10]:\n",
    "        print(f\"{terms[ind]} \", end=\"\")\n",
    "    print()"
   ]
  },
  {
   "cell_type": "code",
   "execution_count": null,
   "id": "63934091",
   "metadata": {},
   "outputs": [],
   "source": [
    "# Fitting the Full MATRIX of text vectors + song_features\n",
    "true_k = 10\n",
    "\n",
    "model = KMeans(n_clusters=true_k, init='k-means++', max_iter=500, n_init=100, random_state=1)\n",
    "model.fit(preprocessing.normalize(f_xtrain_nosvp))\n",
    "#print(model.labels_)\n",
    "#print(len(model.labels_))\n",
    "\n",
    "for index, value in enumerate(model.labels_):\n",
    "    print(f\"STRING: {string_field[index]}\", f\"CLUSTER_INDEX: {value}\")\n",
    "    if index == 5:\n",
    "        break\n",
    "print('Top terms per cluster')\n",
    "order_centroids = model.cluster_centers_.argsort()[:,::-1]\n",
    "terms = vectorizer.get_feature_names_out()\n",
    "#print(terms)\n",
    "for i in range(true_k):\n",
    "    print(f\"Cluster {i}: \", end=\"\")\n",
    "    for ind in order_centroids[i,:10]:\n",
    "        print(f\"{terms[ind]} \", end=\"\")\n",
    "    print()\n",
    "\n",
    "#print(list(test_song[:1]))\n",
    "#print(list(test_song)[0])\n",
    "\n",
    "# X_test = vectorizer.transform(list(test_song))\n",
    "# #print(X_test)\n",
    "# print(f\"n_samples: {X_test.shape[0]}, n_features: {X_test.shape[1]}\")\n",
    "# # feature_names = vectorizer.get_feature_names_out()\n",
    "# # print(feature_names)\n",
    "# prediction = model.predict(X_test)\n",
    "# print(prediction)"
   ]
  },
  {
   "cell_type": "code",
   "execution_count": null,
   "id": "8c54e287",
   "metadata": {},
   "outputs": [],
   "source": [
    "# Fitting the SVD MATRIX of text vectors without song_features\n",
    "true_k = 10\n",
    "\n",
    "model = KMeans(n_clusters=true_k, init='k-means++', max_iter=500, n_init=100, random_state=1)\n",
    "model.fit(preprocessing.normalize(text_X_train))\n",
    "#print(model.labels_)\n",
    "#print(len(model.labels_))\n",
    "\n",
    "for index, value in enumerate(model.labels_):\n",
    "    print(f\"STRING: {string_field[index]}\", f\"CLUSTER_INDEX: {value}\")\n",
    "    if index == 5:\n",
    "        break\n",
    "print('Top terms per cluster')\n",
    "order_centroids = model.cluster_centers_.argsort()[:,::-1]\n",
    "terms = vectorizer.get_feature_names_out()\n",
    "#print(terms)\n",
    "for i in range(true_k):\n",
    "    print(f\"Cluster {i}: \", end=\"\")\n",
    "    for ind in order_centroids[i,:5]:\n",
    "        print(f\"{terms[ind]} \", end=\"\")\n",
    "    print()"
   ]
  },
  {
   "cell_type": "code",
   "execution_count": null,
   "id": "a408db60",
   "metadata": {},
   "outputs": [],
   "source": [
    "# Fitting the SVD MATRIX of text vectors with song_features\n",
    "true_k = 10\n",
    "\n",
    "model = KMeans(n_clusters=true_k, init='k-means++', max_iter=500, n_init=100)\n",
    "model.fit(preprocessing.normalize(f_xtrain))\n",
    "#print(model.labels_)\n",
    "#print(len(model.labels_))\n",
    "\n",
    "for index, value in enumerate(model.labels_):\n",
    "    print(f\"STRING: {string_field[index]}\", f\"CLUSTER_INDEX: {value}\")\n",
    "    if index == 5:\n",
    "        break\n",
    "    \n",
    "print('Top terms per cluster')\n",
    "order_centroids = model.cluster_centers_.argsort()[:,::-1]\n",
    "terms = vectorizer.get_feature_names_out()\n",
    "#print(terms)\n",
    "for i in range(true_k):\n",
    "    print(f\"Cluster {i}: \", end=\"\")\n",
    "    for ind in order_centroids[i,:5]:\n",
    "        print(f\"{terms[ind]} \", end=\"\")\n",
    "    print()"
   ]
  },
  {
   "cell_type": "code",
   "execution_count": null,
   "id": "05fdd575",
   "metadata": {},
   "outputs": [],
   "source": [
    "#print(list(test_song[:1]))\n",
    "#print(list(test_song)[0])\n",
    "X_test = vectorizer.transform(list(test_song))\n",
    "#print(X_test)\n",
    "print(f\"n_samples: {X_test.shape[0]}, n_features: {X_test.shape[1]}\")\n",
    "# feature_names = vectorizer.get_feature_names_out()\n",
    "# print(feature_names)\n",
    "prediction = model.predict(X_test)\n",
    "print(prediction)"
   ]
  },
  {
   "cell_type": "code",
   "execution_count": null,
   "id": "44b3ff9d",
   "metadata": {},
   "outputs": [],
   "source": [
    "print(model.labels_)\n",
    "print(prediction)"
   ]
  },
  {
   "cell_type": "code",
   "execution_count": null,
   "id": "31e4cbe6",
   "metadata": {},
   "outputs": [],
   "source": [
    "# # Save machine learning model\n",
    "# filename = 'finalized_model.sav'\n",
    "# pickle.dump(model, open(filename, 'wb'))"
   ]
  },
  {
   "cell_type": "code",
   "execution_count": null,
   "id": "35bfe634",
   "metadata": {},
   "outputs": [],
   "source": [
    "# # load model only once\n",
    "# with open('finalized_model.sav', 'rb') as fid:\n",
    "#     model = pickle.load(fid)"
   ]
  },
  {
   "cell_type": "code",
   "execution_count": null,
   "id": "c5ad6e65",
   "metadata": {},
   "outputs": [],
   "source": [
    "check_df['ClusterPrediction'] = \"\"\n",
    "check_df['All_text']"
   ]
  },
  {
   "cell_type": "code",
   "execution_count": null,
   "id": "61f8a0bc",
   "metadata": {},
   "outputs": [],
   "source": [
    "def cluster_predict(str_input):\n",
    "    #print(test_song)\n",
    "    if isinstance(str_input, str):\n",
    "        # It is a single string element thus we cannot use list() and have to use brackets [] to transform to list\n",
    "        X_test = vectorizer.transform([str_input])\n",
    "        prediction = model.predict(X_test)\n",
    "    else:\n",
    "        # if is not a single string element so we can transform into a list directly using list()\n",
    "        X_test = vectorizer.transform(list(str_input))\n",
    "        prediction = model.predict(X_test)\n",
    "    return int(prediction)"
   ]
  },
  {
   "cell_type": "code",
   "execution_count": null,
   "id": "bf675c01",
   "metadata": {},
   "outputs": [],
   "source": [
    "check_df['All_text'][0]"
   ]
  },
  {
   "cell_type": "code",
   "execution_count": null,
   "id": "197e03ef",
   "metadata": {},
   "outputs": [],
   "source": [
    "cluster_predict(check_df['All_text'][0])"
   ]
  },
  {
   "cell_type": "code",
   "execution_count": null,
   "id": "3696db8f",
   "metadata": {},
   "outputs": [],
   "source": [
    "cluster_predict([check_df['All_text'][0]])"
   ]
  },
  {
   "cell_type": "code",
   "execution_count": null,
   "id": "18b7d9fc",
   "metadata": {
    "scrolled": true
   },
   "outputs": [],
   "source": [
    "result = check_df['All_text'].apply(lambda x: cluster_predict(x))\n",
    "print(result)"
   ]
  },
  {
   "cell_type": "code",
   "execution_count": null,
   "id": "4fe4b283",
   "metadata": {},
   "outputs": [],
   "source": [
    "# for i in check_df['All_text']:\n",
    "#     pred = cluster_predict(i)\n",
    "#     print(i, pred)\n",
    "check_df['ClusterPrediction'] = check_df['All_text'].apply(lambda x: cluster_predict(x))"
   ]
  },
  {
   "cell_type": "code",
   "execution_count": null,
   "id": "c9aa6341",
   "metadata": {},
   "outputs": [],
   "source": [
    "check_df"
   ]
  },
  {
   "cell_type": "code",
   "execution_count": null,
   "id": "7ea410ee",
   "metadata": {},
   "outputs": [],
   "source": [
    "# for seed in range(5):\n",
    "#     model = KMeans(\n",
    "#         n_clusters=true_k,\n",
    "#         max_iter=500,\n",
    "#         n_init=1,\n",
    "#         random_state=seed,\n",
    "#     ).fit(X)\n",
    "#     cluster_ids, cluster_sizes = np.unique(model.labels_, return_counts=True)\n",
    "#     print(f\"Number of elements asigned to each cluster: {cluster_sizes}\")\n",
    "# print()"
   ]
  },
  {
   "cell_type": "code",
   "execution_count": null,
   "id": "1b313009",
   "metadata": {},
   "outputs": [],
   "source": [
    "def recommend_util(artist_name, song_name):\n",
    "    \n",
    "    # Predict category of input string category\n",
    "    chosen_song_df = check_df.loc[(check_df['track_artist_name'] == artist_name) & (check_df['track_track_name'] == song_name)]\n",
    "    str_input = chosen_song_df.track_track_name.str.cat(\" \" + chosen_song_df.artist_genre)\n",
    "        \n",
    "    prediction_inp = cluster_predict(str_input)\n",
    "    prediction_inp = int(prediction_inp)\n",
    "    \n",
    "    temp_df = check_df.loc[check_df['ClusterPrediction'] == prediction_inp]\n",
    "    new_temp_df = temp_df.sample(5)\n",
    "    \n",
    "    return chosen_song_df[['track_artist_name', 'track_track_name']], new_temp_df[['track_artist_name', 'track_track_name']]"
   ]
  },
  {
   "cell_type": "code",
   "execution_count": null,
   "id": "def04888",
   "metadata": {},
   "outputs": [],
   "source": [
    "song_choice = 2\n",
    "print(check_df['track_artist_name'][song_choice], check_df['track_track_name'][song_choice])\n",
    "temp_df = check_df.loc[(check_df['track_artist_name'] == check_df['track_artist_name'][0]) & (check_df['track_track_name'] == check_df['track_track_name'][0])]\n",
    "string_input = temp_df.track_track_name.str.cat(\" \" + temp_df.artist_genre)\n",
    "string_input\n",
    "prediction_inp = cluster_predict(string_input)\n",
    "print(prediction_inp)"
   ]
  },
  {
   "cell_type": "code",
   "execution_count": null,
   "id": "cbc45619",
   "metadata": {},
   "outputs": [],
   "source": [
    "song_choice = 1\n",
    "original_song , recommended_songs = recommend_util(check_df['track_artist_name'][song_choice], check_df['track_track_name'][song_choice])\n",
    "print(original_song)\n",
    "print('\\n')\n",
    "print(recommended_songs)"
   ]
  },
  {
   "cell_type": "code",
   "execution_count": null,
   "id": "eed980c6",
   "metadata": {},
   "outputs": [],
   "source": [
    "# Example of how to pull metadata from a single track \n",
    "spotify = spotipy.Spotify(client_credentials_manager=SpotifyClientCredentials())\n",
    "\n",
    "Row = 5 \n",
    "\n",
    "track_uri = subset_df.iloc[Row]['track_track_uri']\n",
    "artist_uri = subset_df.iloc[Row]['track_artist_uri']\n",
    "album_uri = subset_df.iloc[Row]['track_album_uri']\n",
    "\n",
    "print('ARTIST: ', subset_df.iloc[Row]['track_artist_name'])\n",
    "print('ALBUM: ', subset_df.iloc[Row]['track_album_name'])\n",
    "print('SONG: ', subset_df.iloc[Row]['track_track_name'])\n",
    "track_popularity = spotify.track(track_uri)['popularity']\n",
    "print('track_popularity: ', track_popularity)\n",
    "track_results = spotify.audio_features(tracks=track_uri)\n",
    "print('audio_features: ', track_results[0])\n",
    "artist_results = spotify.artist(artist_uri)\n",
    "print('artist_genre: ', artist_results['genres'])\n",
    "print('artist_popularity: ', artist_results['popularity'])\n",
    "artist_albums_results = spotify.artist_albums(artist_uri)\n",
    "#print(artist_albums_results)\n",
    "album_results = spotify.album(album_uri)\n",
    "print('album_popularity: ',album_results['popularity'])\n",
    "print('album_keys: ', album_results.keys())\n",
    "# print(artist_results['genres'])\n",
    "# print(artist_results['popularity'])"
   ]
  },
  {
   "cell_type": "code",
   "execution_count": null,
   "id": "581bb203",
   "metadata": {},
   "outputs": [],
   "source": [
    "# Work only with important features\n",
    "important_features = ['track_artist_name', 'track_track_name', 'playlist_name', 'playlist_duration_ms', 'playlist_description']"
   ]
  },
  {
   "cell_type": "code",
   "execution_count": null,
   "id": "400fa521",
   "metadata": {},
   "outputs": [],
   "source": [
    "artist_count_df = subset_df[['playlist_name','track_artist_name']].groupby(['playlist_name'], sort=False).value_counts(sort=False).reset_index(name=\"artist_count\")"
   ]
  },
  {
   "cell_type": "code",
   "execution_count": null,
   "id": "4732e679",
   "metadata": {},
   "outputs": [],
   "source": [
    "artist_count_df"
   ]
  },
  {
   "cell_type": "code",
   "execution_count": null,
   "id": "925ebab1",
   "metadata": {},
   "outputs": [],
   "source": [
    "subset_df[['playlist_name', 'track_artist_name']]"
   ]
  },
  {
   "cell_type": "code",
   "execution_count": null,
   "id": "21b66937",
   "metadata": {},
   "outputs": [],
   "source": [
    "subset_df[['playlist_name','track_artist_name']].groupby(['playlist_name'], sort = False).value_counts(sort=False).reset_index(name=\"artist_count\").info()"
   ]
  },
  {
   "cell_type": "code",
   "execution_count": null,
   "id": "f4e42896",
   "metadata": {},
   "outputs": [],
   "source": [
    "music_df = pd.merge(subset_df, artist_count_df,  how='left', on = ['playlist_name','track_artist_name'])"
   ]
  },
  {
   "cell_type": "code",
   "execution_count": null,
   "id": "427f4f83",
   "metadata": {},
   "outputs": [],
   "source": [
    "music_df"
   ]
  },
  {
   "cell_type": "code",
   "execution_count": null,
   "id": "c9a58b28",
   "metadata": {},
   "outputs": [],
   "source": [
    "# subset_df.join(.sum(), on='playlist_name', rsuffix='_count')\n",
    "subset_df.groupby(['playlist_name','track_artist_name']).size().unstack(fill_value=0)"
   ]
  },
  {
   "cell_type": "code",
   "execution_count": null,
   "id": "8ba0742d",
   "metadata": {},
   "outputs": [],
   "source": [
    "music_df[['track_artist_name','track_track_name']].apply(lambda x: ',.'.join(x),axis=1)"
   ]
  },
  {
   "cell_type": "code",
   "execution_count": null,
   "id": "41d66061",
   "metadata": {},
   "outputs": [],
   "source": [
    "important_features.append(\"artist_count\")"
   ]
  },
  {
   "cell_type": "code",
   "execution_count": null,
   "id": "9ce523d3",
   "metadata": {},
   "outputs": [],
   "source": [
    "music_df[important_features]"
   ]
  },
  {
   "cell_type": "code",
   "execution_count": null,
   "id": "f183f02e",
   "metadata": {},
   "outputs": [],
   "source": [
    "music_df['artist_fraction'] =  music_df['artist_count'] / music_df['playlist_num_tracks'] \n",
    "music_df"
   ]
  },
  {
   "cell_type": "code",
   "execution_count": null,
   "id": "e962b025",
   "metadata": {},
   "outputs": [],
   "source": [
    "subset_df.groupby(['playlist_name','track_artist_name']).size().unstack(fill_value=0)"
   ]
  },
  {
   "cell_type": "code",
   "execution_count": null,
   "id": "66d47155",
   "metadata": {},
   "outputs": [],
   "source": [
    "music_df[music_df['playlist_num_tracks'] == Ntracks][['track_artist_name','track_track_name']].apply(lambda x: ',.'.join(x),axis=1).value_counts() "
   ]
  },
  {
   "cell_type": "code",
   "execution_count": null,
   "id": "47f8d106",
   "metadata": {},
   "outputs": [],
   "source": [
    "vc = music_df[music_df['playlist_num_tracks'] == Ntracks][['track_artist_name','track_track_name']].apply(lambda x: ',.'.join(x), axis=1).value_counts()\n",
    "vc[vc > 1].sum() - len(vc[vc > 1])"
   ]
  },
  {
   "cell_type": "code",
   "execution_count": null,
   "id": "b9cb6e8a",
   "metadata": {},
   "outputs": [],
   "source": [
    "# for i in df[['track_artist_name','track_track_name']].apply(lambda x: ',.'.join(x),axis=1).unique():\n",
    "# #     print(i.split(',.'))\n",
    "#     if len(i.split(',.')) == 2:\n",
    "#         print(i)"
   ]
  },
  {
   "cell_type": "code",
   "execution_count": null,
   "id": "87c3d6f6",
   "metadata": {},
   "outputs": [],
   "source": [
    "np.unique(music_df[music_df['playlist_num_tracks'] == Ntracks]['track_track_name'])"
   ]
  },
  {
   "cell_type": "code",
   "execution_count": null,
   "id": "087a2398",
   "metadata": {},
   "outputs": [],
   "source": [
    "important_features = ['track_artist_name', 'track_track_name', 'playlist_name', 'playlist_num_tracks', 'playlist_num_albums', 'playlist_duration_ms', 'playlist_num_artists']"
   ]
  },
  {
   "cell_type": "code",
   "execution_count": null,
   "id": "d2fab0dc",
   "metadata": {},
   "outputs": [],
   "source": [
    "music_df[music_df['playlist_num_tracks'] == 20][['track_artist_name', 'track_track_name', 'playlist_name', 'playlist_num_tracks', 'playlist_num_albums', 'playlist_duration_ms', 'playlist_num_artists', 'playlist_description']]"
   ]
  },
  {
   "cell_type": "code",
   "execution_count": null,
   "id": "333fd6fb",
   "metadata": {},
   "outputs": [],
   "source": [
    "music_df[music_df['playlist_num_tracks'] == Ntracks][important_features].groupby('playlist_name')['track_artist_name'].value_counts()"
   ]
  },
  {
   "cell_type": "code",
   "execution_count": null,
   "id": "40be7ceb",
   "metadata": {},
   "outputs": [],
   "source": []
  }
 ],
 "metadata": {
  "kernelspec": {
   "display_name": "Python 3 (ipykernel)",
   "language": "python",
   "name": "python3"
  },
  "language_info": {
   "codemirror_mode": {
    "name": "ipython",
    "version": 3
   },
   "file_extension": ".py",
   "mimetype": "text/x-python",
   "name": "python",
   "nbconvert_exporter": "python",
   "pygments_lexer": "ipython3",
   "version": "3.10.9"
  }
 },
 "nbformat": 4,
 "nbformat_minor": 5
}
