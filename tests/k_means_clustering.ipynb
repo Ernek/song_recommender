{
 "cells": [
  {
   "cell_type": "markdown",
   "id": "58202c22",
   "metadata": {},
   "source": [
    "# Import modules"
   ]
  },
  {
   "cell_type": "code",
   "execution_count": 1,
   "id": "29d5f9db",
   "metadata": {},
   "outputs": [],
   "source": [
    "import numpy as np \n",
    "import pandas as pd \n",
    "import matplotlib.pyplot as plt\n",
    "import json\n",
    "import spotipy\n",
    "from spotipy.oauth2 import SpotifyClientCredentials\n",
    "import pickle\n",
    "\n",
    "# Imports\n",
    "from sklearn.cluster import KMeans\n",
    "from sklearn import metrics \n",
    "from sklearn.feature_extraction.text import CountVectorizer\n",
    "from sklearn.feature_extraction.text import TfidfTransformer\n",
    "from sklearn.feature_extraction.text import TfidfVectorizer\n",
    "from sklearn.decomposition import TruncatedSVD\n",
    "from sklearn import preprocessing"
   ]
  },
  {
   "cell_type": "markdown",
   "id": "6dedfc47",
   "metadata": {},
   "source": [
    "# Functions to read artist and songs database"
   ]
  },
  {
   "cell_type": "markdown",
   "id": "4414c34d",
   "metadata": {},
   "source": [
    "## Function to read artist database"
   ]
  },
  {
   "cell_type": "code",
   "execution_count": 2,
   "id": "11f0c275",
   "metadata": {},
   "outputs": [],
   "source": [
    "artist_path ='/home/ernek/Main/Erdos/song_recommender/artist_data/'\n",
    "def get_artist_dataframe(artist_path): \n",
    "    # returns a dataframe of all of the artists in the million playlist data set\n",
    "    # The only attributes included are \"followers\", \"name\", \"uri\", \"genres\", \"popularity\"\n",
    "    # WARNING - Some artists have no genres, in this case the value is an empty list\n",
    "    # path - a string containing a path to the folder where the csv files are held.\n",
    "    #        for example, on my machine, the folder where I ran this script also contained a folder\n",
    "    #        called \"song_data\" which had the csv files in it. So I called get_song_dataframe('song_data/')\n",
    "    #        NOTE - Make sure to include the slash!\n",
    "    dfs = [pd.read_csv(artist_path + 'artist.slice.0-99999.csv'), pd.read_csv(artist_path + 'artist.slice.100000-199999.csv'), pd.read_csv(artist_path + 'artist.slice.200000-295859.csv')]\n",
    "    df = pd.concat(dfs)\n",
    "    del df['Unnamed: 0.1']\n",
    "    del df['Unnamed: 0']\n",
    "    \n",
    "    return df"
   ]
  },
  {
   "cell_type": "markdown",
   "id": "3457f573",
   "metadata": {},
   "source": [
    "## Function to read songs database"
   ]
  },
  {
   "cell_type": "code",
   "execution_count": 3,
   "id": "60a2a120",
   "metadata": {},
   "outputs": [],
   "source": [
    "songs_path = '/home/ernek/Main/Erdos/song_recommender/song_data/'\n",
    "def get_song_dataframe(songs_path):\n",
    "    # returns a dataframe of all of the songs in the million playlist data set\n",
    "    # path - a string containing a path to the folder where the csv files are held.\n",
    "    #        for example, on my machine, the folder where I ran this script also contained a folder\n",
    "    #        called \"song_data\" which had the csv files in it. So I called get_song_dataframe('song_data/')\n",
    "    #        NOTE - Make sure to include the slash!\n",
    "    file_name_list = ['song.slice.' + str(i) + '-' + str(i + 49999) + '.csv' for i in range(0,2212292, 50000)] \n",
    "    file_name_list = file_name_list + ['song.slice.2250000-2262292.csv']\n",
    "                        \n",
    "    df_list = []\n",
    "    for file_name in file_name_list:\n",
    "        df_list.append(pd.read_csv(songs_path + file_name))\n",
    "    \n",
    "    data = pd.concat(df_list)\n",
    "    return data"
   ]
  },
  {
   "cell_type": "markdown",
   "id": "ad8e9cc6",
   "metadata": {},
   "source": [
    "# Songs DataFrame"
   ]
  },
  {
   "cell_type": "code",
   "execution_count": 4,
   "id": "7e20d6cf",
   "metadata": {
    "scrolled": true
   },
   "outputs": [],
   "source": [
    "# read songs data into dataframe\n",
    "data = get_song_dataframe(songs_path)\n",
    "# drop unimportant columns\n",
    "data.drop(['Unnamed: 0','pos', 'album_uri', 'duration_ms', 'album_name', 'num_playlist_appearances', 'time_signature', 'type'],axis=1, inplace=True)\n",
    "# clean elements with with nan values on important columns\n",
    "data = data[~data.isna().any(axis=1)]"
   ]
  },
  {
   "cell_type": "code",
   "execution_count": 5,
   "id": "eb44b547",
   "metadata": {},
   "outputs": [
    {
     "data": {
      "text/html": [
       "<div>\n",
       "<style scoped>\n",
       "    .dataframe tbody tr th:only-of-type {\n",
       "        vertical-align: middle;\n",
       "    }\n",
       "\n",
       "    .dataframe tbody tr th {\n",
       "        vertical-align: top;\n",
       "    }\n",
       "\n",
       "    .dataframe thead th {\n",
       "        text-align: right;\n",
       "    }\n",
       "</style>\n",
       "<table border=\"1\" class=\"dataframe\">\n",
       "  <thead>\n",
       "    <tr style=\"text-align: right;\">\n",
       "      <th></th>\n",
       "      <th>artist_name</th>\n",
       "      <th>track_uri</th>\n",
       "      <th>artist_uri</th>\n",
       "      <th>track_name</th>\n",
       "      <th>danceability</th>\n",
       "      <th>energy</th>\n",
       "      <th>key</th>\n",
       "      <th>loudness</th>\n",
       "      <th>mode</th>\n",
       "      <th>speechiness</th>\n",
       "      <th>acousticness</th>\n",
       "      <th>instrumentalness</th>\n",
       "      <th>liveness</th>\n",
       "      <th>valence</th>\n",
       "      <th>tempo</th>\n",
       "      <th>uri</th>\n",
       "    </tr>\n",
       "  </thead>\n",
       "  <tbody>\n",
       "    <tr>\n",
       "      <th>0</th>\n",
       "      <td>Missy Elliott</td>\n",
       "      <td>spotify:track:0UaMYEvWZi0ZqiDOoHU3YI</td>\n",
       "      <td>spotify:artist:2wIVse2owClT7go1WT98tk</td>\n",
       "      <td>Lose Control (feat. Ciara &amp; Fat Man Scoop)</td>\n",
       "      <td>0.904</td>\n",
       "      <td>0.813</td>\n",
       "      <td>4.0</td>\n",
       "      <td>-7.105</td>\n",
       "      <td>0.0</td>\n",
       "      <td>0.1210</td>\n",
       "      <td>0.03110</td>\n",
       "      <td>0.006970</td>\n",
       "      <td>0.0471</td>\n",
       "      <td>0.810</td>\n",
       "      <td>125.461</td>\n",
       "      <td>spotify:track:0UaMYEvWZi0ZqiDOoHU3YI</td>\n",
       "    </tr>\n",
       "    <tr>\n",
       "      <th>1</th>\n",
       "      <td>Britney Spears</td>\n",
       "      <td>spotify:track:6I9VzXrHxO9rA9A5euc8Ak</td>\n",
       "      <td>spotify:artist:26dSoYclwsYLMAKD3tpOr4</td>\n",
       "      <td>Toxic</td>\n",
       "      <td>0.774</td>\n",
       "      <td>0.838</td>\n",
       "      <td>5.0</td>\n",
       "      <td>-3.914</td>\n",
       "      <td>0.0</td>\n",
       "      <td>0.1140</td>\n",
       "      <td>0.02490</td>\n",
       "      <td>0.025000</td>\n",
       "      <td>0.2420</td>\n",
       "      <td>0.924</td>\n",
       "      <td>143.040</td>\n",
       "      <td>spotify:track:6I9VzXrHxO9rA9A5euc8Ak</td>\n",
       "    </tr>\n",
       "    <tr>\n",
       "      <th>2</th>\n",
       "      <td>Beyoncé</td>\n",
       "      <td>spotify:track:0WqIKmW4BTrj3eJFmnCKMv</td>\n",
       "      <td>spotify:artist:6vWDO969PvNqNYHIOW5v0m</td>\n",
       "      <td>Crazy In Love</td>\n",
       "      <td>0.664</td>\n",
       "      <td>0.758</td>\n",
       "      <td>2.0</td>\n",
       "      <td>-6.583</td>\n",
       "      <td>0.0</td>\n",
       "      <td>0.2100</td>\n",
       "      <td>0.00238</td>\n",
       "      <td>0.000000</td>\n",
       "      <td>0.0598</td>\n",
       "      <td>0.701</td>\n",
       "      <td>99.259</td>\n",
       "      <td>spotify:track:0WqIKmW4BTrj3eJFmnCKMv</td>\n",
       "    </tr>\n",
       "    <tr>\n",
       "      <th>3</th>\n",
       "      <td>Justin Timberlake</td>\n",
       "      <td>spotify:track:1AWQoqb9bSvzTjaLralEkT</td>\n",
       "      <td>spotify:artist:31TPClRtHm23RisEBtV3X7</td>\n",
       "      <td>Rock Your Body</td>\n",
       "      <td>0.892</td>\n",
       "      <td>0.714</td>\n",
       "      <td>4.0</td>\n",
       "      <td>-6.055</td>\n",
       "      <td>0.0</td>\n",
       "      <td>0.1410</td>\n",
       "      <td>0.20100</td>\n",
       "      <td>0.000234</td>\n",
       "      <td>0.0521</td>\n",
       "      <td>0.817</td>\n",
       "      <td>100.972</td>\n",
       "      <td>spotify:track:1AWQoqb9bSvzTjaLralEkT</td>\n",
       "    </tr>\n",
       "    <tr>\n",
       "      <th>4</th>\n",
       "      <td>Shaggy</td>\n",
       "      <td>spotify:track:1lzr43nnXAijIGYnCT8M8H</td>\n",
       "      <td>spotify:artist:5EvFsr3kj42KNv97ZEnqij</td>\n",
       "      <td>It Wasn't Me</td>\n",
       "      <td>0.853</td>\n",
       "      <td>0.606</td>\n",
       "      <td>0.0</td>\n",
       "      <td>-4.596</td>\n",
       "      <td>1.0</td>\n",
       "      <td>0.0713</td>\n",
       "      <td>0.05610</td>\n",
       "      <td>0.000000</td>\n",
       "      <td>0.3130</td>\n",
       "      <td>0.654</td>\n",
       "      <td>94.759</td>\n",
       "      <td>spotify:track:1lzr43nnXAijIGYnCT8M8H</td>\n",
       "    </tr>\n",
       "  </tbody>\n",
       "</table>\n",
       "</div>"
      ],
      "text/plain": [
       "         artist_name                             track_uri  \\\n",
       "0      Missy Elliott  spotify:track:0UaMYEvWZi0ZqiDOoHU3YI   \n",
       "1     Britney Spears  spotify:track:6I9VzXrHxO9rA9A5euc8Ak   \n",
       "2            Beyoncé  spotify:track:0WqIKmW4BTrj3eJFmnCKMv   \n",
       "3  Justin Timberlake  spotify:track:1AWQoqb9bSvzTjaLralEkT   \n",
       "4             Shaggy  spotify:track:1lzr43nnXAijIGYnCT8M8H   \n",
       "\n",
       "                              artist_uri  \\\n",
       "0  spotify:artist:2wIVse2owClT7go1WT98tk   \n",
       "1  spotify:artist:26dSoYclwsYLMAKD3tpOr4   \n",
       "2  spotify:artist:6vWDO969PvNqNYHIOW5v0m   \n",
       "3  spotify:artist:31TPClRtHm23RisEBtV3X7   \n",
       "4  spotify:artist:5EvFsr3kj42KNv97ZEnqij   \n",
       "\n",
       "                                   track_name  danceability  energy  key  \\\n",
       "0  Lose Control (feat. Ciara & Fat Man Scoop)         0.904   0.813  4.0   \n",
       "1                                       Toxic         0.774   0.838  5.0   \n",
       "2                               Crazy In Love         0.664   0.758  2.0   \n",
       "3                              Rock Your Body         0.892   0.714  4.0   \n",
       "4                                It Wasn't Me         0.853   0.606  0.0   \n",
       "\n",
       "   loudness  mode  speechiness  acousticness  instrumentalness  liveness  \\\n",
       "0    -7.105   0.0       0.1210       0.03110          0.006970    0.0471   \n",
       "1    -3.914   0.0       0.1140       0.02490          0.025000    0.2420   \n",
       "2    -6.583   0.0       0.2100       0.00238          0.000000    0.0598   \n",
       "3    -6.055   0.0       0.1410       0.20100          0.000234    0.0521   \n",
       "4    -4.596   1.0       0.0713       0.05610          0.000000    0.3130   \n",
       "\n",
       "   valence    tempo                                   uri  \n",
       "0    0.810  125.461  spotify:track:0UaMYEvWZi0ZqiDOoHU3YI  \n",
       "1    0.924  143.040  spotify:track:6I9VzXrHxO9rA9A5euc8Ak  \n",
       "2    0.701   99.259  spotify:track:0WqIKmW4BTrj3eJFmnCKMv  \n",
       "3    0.817  100.972  spotify:track:1AWQoqb9bSvzTjaLralEkT  \n",
       "4    0.654   94.759  spotify:track:1lzr43nnXAijIGYnCT8M8H  "
      ]
     },
     "execution_count": 5,
     "metadata": {},
     "output_type": "execute_result"
    }
   ],
   "source": [
    "data.head()"
   ]
  },
  {
   "cell_type": "code",
   "execution_count": 6,
   "id": "db873c8e",
   "metadata": {},
   "outputs": [
    {
     "data": {
      "text/plain": [
       "2258242"
      ]
     },
     "execution_count": 6,
     "metadata": {},
     "output_type": "execute_result"
    }
   ],
   "source": [
    "len(data.index)"
   ]
  },
  {
   "cell_type": "markdown",
   "id": "ea7933fe",
   "metadata": {},
   "source": [
    "# Using only 60% of the songs to create the model"
   ]
  },
  {
   "cell_type": "code",
   "execution_count": 7,
   "id": "74712004",
   "metadata": {},
   "outputs": [
    {
     "name": "stdout",
     "output_type": "stream",
     "text": [
      "1354945\n"
     ]
    }
   ],
   "source": [
    "percentage = 60\n",
    "cut = int(len(data)*percentage/100)\n",
    "print(cut)\n",
    "training_data = data.iloc[0:cut]"
   ]
  },
  {
   "cell_type": "code",
   "execution_count": 8,
   "id": "d273c889",
   "metadata": {},
   "outputs": [
    {
     "data": {
      "text/html": [
       "<div>\n",
       "<style scoped>\n",
       "    .dataframe tbody tr th:only-of-type {\n",
       "        vertical-align: middle;\n",
       "    }\n",
       "\n",
       "    .dataframe tbody tr th {\n",
       "        vertical-align: top;\n",
       "    }\n",
       "\n",
       "    .dataframe thead th {\n",
       "        text-align: right;\n",
       "    }\n",
       "</style>\n",
       "<table border=\"1\" class=\"dataframe\">\n",
       "  <thead>\n",
       "    <tr style=\"text-align: right;\">\n",
       "      <th></th>\n",
       "      <th>artist_name</th>\n",
       "      <th>track_uri</th>\n",
       "      <th>artist_uri</th>\n",
       "      <th>track_name</th>\n",
       "      <th>danceability</th>\n",
       "      <th>energy</th>\n",
       "      <th>key</th>\n",
       "      <th>loudness</th>\n",
       "      <th>mode</th>\n",
       "      <th>speechiness</th>\n",
       "      <th>acousticness</th>\n",
       "      <th>instrumentalness</th>\n",
       "      <th>liveness</th>\n",
       "      <th>valence</th>\n",
       "      <th>tempo</th>\n",
       "      <th>uri</th>\n",
       "    </tr>\n",
       "  </thead>\n",
       "  <tbody>\n",
       "    <tr>\n",
       "      <th>0</th>\n",
       "      <td>Missy Elliott</td>\n",
       "      <td>spotify:track:0UaMYEvWZi0ZqiDOoHU3YI</td>\n",
       "      <td>spotify:artist:2wIVse2owClT7go1WT98tk</td>\n",
       "      <td>Lose Control (feat. Ciara &amp; Fat Man Scoop)</td>\n",
       "      <td>0.904</td>\n",
       "      <td>0.813</td>\n",
       "      <td>4.0</td>\n",
       "      <td>-7.105</td>\n",
       "      <td>0.0</td>\n",
       "      <td>0.1210</td>\n",
       "      <td>0.03110</td>\n",
       "      <td>0.006970</td>\n",
       "      <td>0.0471</td>\n",
       "      <td>0.810</td>\n",
       "      <td>125.461</td>\n",
       "      <td>spotify:track:0UaMYEvWZi0ZqiDOoHU3YI</td>\n",
       "    </tr>\n",
       "    <tr>\n",
       "      <th>1</th>\n",
       "      <td>Britney Spears</td>\n",
       "      <td>spotify:track:6I9VzXrHxO9rA9A5euc8Ak</td>\n",
       "      <td>spotify:artist:26dSoYclwsYLMAKD3tpOr4</td>\n",
       "      <td>Toxic</td>\n",
       "      <td>0.774</td>\n",
       "      <td>0.838</td>\n",
       "      <td>5.0</td>\n",
       "      <td>-3.914</td>\n",
       "      <td>0.0</td>\n",
       "      <td>0.1140</td>\n",
       "      <td>0.02490</td>\n",
       "      <td>0.025000</td>\n",
       "      <td>0.2420</td>\n",
       "      <td>0.924</td>\n",
       "      <td>143.040</td>\n",
       "      <td>spotify:track:6I9VzXrHxO9rA9A5euc8Ak</td>\n",
       "    </tr>\n",
       "    <tr>\n",
       "      <th>2</th>\n",
       "      <td>Beyoncé</td>\n",
       "      <td>spotify:track:0WqIKmW4BTrj3eJFmnCKMv</td>\n",
       "      <td>spotify:artist:6vWDO969PvNqNYHIOW5v0m</td>\n",
       "      <td>Crazy In Love</td>\n",
       "      <td>0.664</td>\n",
       "      <td>0.758</td>\n",
       "      <td>2.0</td>\n",
       "      <td>-6.583</td>\n",
       "      <td>0.0</td>\n",
       "      <td>0.2100</td>\n",
       "      <td>0.00238</td>\n",
       "      <td>0.000000</td>\n",
       "      <td>0.0598</td>\n",
       "      <td>0.701</td>\n",
       "      <td>99.259</td>\n",
       "      <td>spotify:track:0WqIKmW4BTrj3eJFmnCKMv</td>\n",
       "    </tr>\n",
       "    <tr>\n",
       "      <th>3</th>\n",
       "      <td>Justin Timberlake</td>\n",
       "      <td>spotify:track:1AWQoqb9bSvzTjaLralEkT</td>\n",
       "      <td>spotify:artist:31TPClRtHm23RisEBtV3X7</td>\n",
       "      <td>Rock Your Body</td>\n",
       "      <td>0.892</td>\n",
       "      <td>0.714</td>\n",
       "      <td>4.0</td>\n",
       "      <td>-6.055</td>\n",
       "      <td>0.0</td>\n",
       "      <td>0.1410</td>\n",
       "      <td>0.20100</td>\n",
       "      <td>0.000234</td>\n",
       "      <td>0.0521</td>\n",
       "      <td>0.817</td>\n",
       "      <td>100.972</td>\n",
       "      <td>spotify:track:1AWQoqb9bSvzTjaLralEkT</td>\n",
       "    </tr>\n",
       "    <tr>\n",
       "      <th>4</th>\n",
       "      <td>Shaggy</td>\n",
       "      <td>spotify:track:1lzr43nnXAijIGYnCT8M8H</td>\n",
       "      <td>spotify:artist:5EvFsr3kj42KNv97ZEnqij</td>\n",
       "      <td>It Wasn't Me</td>\n",
       "      <td>0.853</td>\n",
       "      <td>0.606</td>\n",
       "      <td>0.0</td>\n",
       "      <td>-4.596</td>\n",
       "      <td>1.0</td>\n",
       "      <td>0.0713</td>\n",
       "      <td>0.05610</td>\n",
       "      <td>0.000000</td>\n",
       "      <td>0.3130</td>\n",
       "      <td>0.654</td>\n",
       "      <td>94.759</td>\n",
       "      <td>spotify:track:1lzr43nnXAijIGYnCT8M8H</td>\n",
       "    </tr>\n",
       "  </tbody>\n",
       "</table>\n",
       "</div>"
      ],
      "text/plain": [
       "         artist_name                             track_uri  \\\n",
       "0      Missy Elliott  spotify:track:0UaMYEvWZi0ZqiDOoHU3YI   \n",
       "1     Britney Spears  spotify:track:6I9VzXrHxO9rA9A5euc8Ak   \n",
       "2            Beyoncé  spotify:track:0WqIKmW4BTrj3eJFmnCKMv   \n",
       "3  Justin Timberlake  spotify:track:1AWQoqb9bSvzTjaLralEkT   \n",
       "4             Shaggy  spotify:track:1lzr43nnXAijIGYnCT8M8H   \n",
       "\n",
       "                              artist_uri  \\\n",
       "0  spotify:artist:2wIVse2owClT7go1WT98tk   \n",
       "1  spotify:artist:26dSoYclwsYLMAKD3tpOr4   \n",
       "2  spotify:artist:6vWDO969PvNqNYHIOW5v0m   \n",
       "3  spotify:artist:31TPClRtHm23RisEBtV3X7   \n",
       "4  spotify:artist:5EvFsr3kj42KNv97ZEnqij   \n",
       "\n",
       "                                   track_name  danceability  energy  key  \\\n",
       "0  Lose Control (feat. Ciara & Fat Man Scoop)         0.904   0.813  4.0   \n",
       "1                                       Toxic         0.774   0.838  5.0   \n",
       "2                               Crazy In Love         0.664   0.758  2.0   \n",
       "3                              Rock Your Body         0.892   0.714  4.0   \n",
       "4                                It Wasn't Me         0.853   0.606  0.0   \n",
       "\n",
       "   loudness  mode  speechiness  acousticness  instrumentalness  liveness  \\\n",
       "0    -7.105   0.0       0.1210       0.03110          0.006970    0.0471   \n",
       "1    -3.914   0.0       0.1140       0.02490          0.025000    0.2420   \n",
       "2    -6.583   0.0       0.2100       0.00238          0.000000    0.0598   \n",
       "3    -6.055   0.0       0.1410       0.20100          0.000234    0.0521   \n",
       "4    -4.596   1.0       0.0713       0.05610          0.000000    0.3130   \n",
       "\n",
       "   valence    tempo                                   uri  \n",
       "0    0.810  125.461  spotify:track:0UaMYEvWZi0ZqiDOoHU3YI  \n",
       "1    0.924  143.040  spotify:track:6I9VzXrHxO9rA9A5euc8Ak  \n",
       "2    0.701   99.259  spotify:track:0WqIKmW4BTrj3eJFmnCKMv  \n",
       "3    0.817  100.972  spotify:track:1AWQoqb9bSvzTjaLralEkT  \n",
       "4    0.654   94.759  spotify:track:1lzr43nnXAijIGYnCT8M8H  "
      ]
     },
     "execution_count": 8,
     "metadata": {},
     "output_type": "execute_result"
    }
   ],
   "source": [
    "training_data.head()"
   ]
  },
  {
   "cell_type": "code",
   "execution_count": 9,
   "id": "f6a1aad6",
   "metadata": {},
   "outputs": [],
   "source": [
    "song_features = ['danceability', 'energy', 'key', 'loudness',\n",
    "       'speechiness', 'acousticness', 'instrumentalness', 'liveness',\n",
    "       'valence', 'tempo']"
   ]
  },
  {
   "cell_type": "markdown",
   "id": "484ebb5b",
   "metadata": {},
   "source": [
    "# Fitting the model with all song features but one "
   ]
  },
  {
   "cell_type": "code",
   "execution_count": 10,
   "id": "c846ec68",
   "metadata": {},
   "outputs": [],
   "source": [
    "# Number of cluster\n",
    "true_k = 10"
   ]
  },
  {
   "cell_type": "code",
   "execution_count": null,
   "id": "8dca77a3",
   "metadata": {},
   "outputs": [],
   "source": [
    "# How to drop a column from a subdataframe\n",
    "# training_data[song_features].drop('danceability', axis=1)\n",
    "training_song_df = training_data[song_features]\n",
    "X_train_song = np.array(training_song_df)\n",
    "X_train_song\n",
    "\n",
    "for i in song_features:\n",
    "    print(i)\n",
    "    X_train_song = np.array(training_data[song_features].drop(i,axis=1))\n",
    "    model = KMeans(n_clusters=true_k, init='k-means++', max_iter=100, n_init=100, random_state=1)\n",
    "    model.fit(X_train_song)\n",
    "    # save the model as a pickle file\n",
    "    model_pkl_file = f\"model_no_{i}.pkl\"  \n",
    "\n",
    "    with open(model_pkl_file, 'wb') as file:  \n",
    "        pickle.dump(model, file)\n",
    "    print(f\"model with no {i} feature\")"
   ]
  },
  {
   "cell_type": "code",
   "execution_count": null,
   "id": "44de449a",
   "metadata": {},
   "outputs": [],
   "source": [
    "# Check functionality of the model\n",
    "for i in song_features:\n",
    "    print(i)\n",
    "    with open(f\"model_no_{i}.pkl\", 'rb') as file:  \n",
    "        loaded_model = pickle.load(file)\n",
    "        print(loaded_model.labels_[0:5])\n",
    "        # evaluate model \n",
    "        print(training_data[['artist_name', 'track_name']].iloc[0:5])\n",
    "        y_predict = loaded_model.predict(np.array(training_data[song_features].drop(i,axis=1).iloc[0:5]))\n",
    "        print(y_predict)\n",
    "        file.close()"
   ]
  },
  {
   "cell_type": "markdown",
   "id": "6c045c10",
   "metadata": {},
   "source": [
    "# Fitting the model with all song features "
   ]
  },
  {
   "cell_type": "code",
   "execution_count": null,
   "id": "f90d3270",
   "metadata": {},
   "outputs": [],
   "source": [
    "X_train_all = np.array(training_data[song_features])\n",
    "#print(X_train_all[0:5])\n",
    "model = KMeans(n_clusters=true_k, init='k-means++', max_iter=100, n_init=100, random_state=1)\n",
    "model.fit(X_train_all)\n",
    "# save the model as a pickle file\n",
    "model_pkl_file = f\"model_all.pkl\"  \n",
    "with open(model_pkl_file, 'wb') as file:  \n",
    "    pickle.dump(model, file)\n",
    "    print(f\"model with all features completed\")"
   ]
  },
  {
   "cell_type": "code",
   "execution_count": null,
   "id": "9a0d2627",
   "metadata": {},
   "outputs": [],
   "source": [
    "with open(f\"model_all.pkl\", 'rb') as file:  \n",
    "    loaded_model = pickle.load(file)\n",
    "    print(loaded_model.labels_[0:5])\n",
    "    print(training_data[['artist_name', 'track_name']].iloc[0:5])\n",
    "    # evaluate model \n",
    "    y_predict = loaded_model.predict(np.array(training_data[song_features].iloc[0:5]))\n",
    "    print(y_predict)\n",
    "    file.close()"
   ]
  },
  {
   "cell_type": "markdown",
   "id": "90228213",
   "metadata": {},
   "source": [
    "# Fitting the model with only one song features "
   ]
  },
  {
   "cell_type": "code",
   "execution_count": null,
   "id": "da06b511",
   "metadata": {},
   "outputs": [],
   "source": [
    "for i in song_features:\n",
    "    print(i)\n",
    "    print(training_data[i][0:5])\n",
    "    X_train_song = np.array(training_data[i]).reshape(-1,1)\n",
    "    #print(X_train_song[0:5])\n",
    "    model = KMeans(n_clusters=true_k, init='k-means++', max_iter=100, n_init=100, random_state=1)\n",
    "    model.fit(X_train_song)\n",
    "    # save the model as a pickle file\n",
    "    model_pkl_file = f\"model_{i}.pkl\"  \n",
    "\n",
    "    with open(model_pkl_file, 'wb') as file:  \n",
    "        pickle.dump(model, file)\n",
    "    print(f\"model with only {i} feature completed\")"
   ]
  },
  {
   "cell_type": "code",
   "execution_count": null,
   "id": "2a2b0a35",
   "metadata": {},
   "outputs": [],
   "source": [
    "# load model from pickle file\n",
    "for i in song_features:\n",
    "    print(i)\n",
    "    with open(f\"model_{i}.pkl\", 'rb') as file:  \n",
    "        loaded_model = pickle.load(file)\n",
    "        print(loaded_model.labels_[0:5])\n",
    "        # evaluate model \n",
    "        print(training_data[['artist_name', 'track_name']].iloc[0:5])\n",
    "        y_predict = loaded_model.predict(np.array(training_data[i].iloc[0:5]).reshape(-1,1))\n",
    "        print(y_predict)\n",
    "        file.close()\n"
   ]
  },
  {
   "cell_type": "markdown",
   "id": "cc60b6e1",
   "metadata": {},
   "source": [
    "### Obtain model predictions for all songs based on models trained with one parameters"
   ]
  },
  {
   "cell_type": "code",
   "execution_count": null,
   "id": "4c05cf6d",
   "metadata": {},
   "outputs": [],
   "source": [
    "# def call_loaded_model(feature, data):\n",
    "#     print(feature)\n",
    "#     with open(f\"model_{feature}.pkl\", 'rb') as file:  \n",
    "#         loaded_model = pickle.load(file)\n",
    "#         y_predict = loaded_model.predict(np.array(single_input).reshape(-1,1))\n",
    "#         file.close()\n",
    "#     return y_predict"
   ]
  },
  {
   "cell_type": "code",
   "execution_count": null,
   "id": "4a486236",
   "metadata": {},
   "outputs": [],
   "source": [
    "# data['danceability']\n",
    "# data['danceability'].apply(lambda x: print(np.array(x).reshape(-1,1)))"
   ]
  },
  {
   "cell_type": "code",
   "execution_count": 20,
   "id": "5cb58811",
   "metadata": {},
   "outputs": [
    {
     "data": {
      "text/html": [
       "<div>\n",
       "<style scoped>\n",
       "    .dataframe tbody tr th:only-of-type {\n",
       "        vertical-align: middle;\n",
       "    }\n",
       "\n",
       "    .dataframe tbody tr th {\n",
       "        vertical-align: top;\n",
       "    }\n",
       "\n",
       "    .dataframe thead th {\n",
       "        text-align: right;\n",
       "    }\n",
       "</style>\n",
       "<table border=\"1\" class=\"dataframe\">\n",
       "  <thead>\n",
       "    <tr style=\"text-align: right;\">\n",
       "      <th></th>\n",
       "      <th>artist_name</th>\n",
       "      <th>track_uri</th>\n",
       "      <th>artist_uri</th>\n",
       "      <th>track_name</th>\n",
       "      <th>danceability</th>\n",
       "      <th>energy</th>\n",
       "      <th>key</th>\n",
       "      <th>loudness</th>\n",
       "      <th>mode</th>\n",
       "      <th>speechiness</th>\n",
       "      <th>acousticness</th>\n",
       "      <th>instrumentalness</th>\n",
       "      <th>liveness</th>\n",
       "      <th>valence</th>\n",
       "      <th>tempo</th>\n",
       "      <th>uri</th>\n",
       "    </tr>\n",
       "  </thead>\n",
       "  <tbody>\n",
       "    <tr>\n",
       "      <th>0</th>\n",
       "      <td>Missy Elliott</td>\n",
       "      <td>spotify:track:0UaMYEvWZi0ZqiDOoHU3YI</td>\n",
       "      <td>spotify:artist:2wIVse2owClT7go1WT98tk</td>\n",
       "      <td>Lose Control (feat. Ciara &amp; Fat Man Scoop)</td>\n",
       "      <td>0.904</td>\n",
       "      <td>0.813</td>\n",
       "      <td>4.0</td>\n",
       "      <td>-7.105</td>\n",
       "      <td>0.0</td>\n",
       "      <td>0.1210</td>\n",
       "      <td>0.03110</td>\n",
       "      <td>0.006970</td>\n",
       "      <td>0.0471</td>\n",
       "      <td>0.810</td>\n",
       "      <td>125.461</td>\n",
       "      <td>spotify:track:0UaMYEvWZi0ZqiDOoHU3YI</td>\n",
       "    </tr>\n",
       "    <tr>\n",
       "      <th>1</th>\n",
       "      <td>Britney Spears</td>\n",
       "      <td>spotify:track:6I9VzXrHxO9rA9A5euc8Ak</td>\n",
       "      <td>spotify:artist:26dSoYclwsYLMAKD3tpOr4</td>\n",
       "      <td>Toxic</td>\n",
       "      <td>0.774</td>\n",
       "      <td>0.838</td>\n",
       "      <td>5.0</td>\n",
       "      <td>-3.914</td>\n",
       "      <td>0.0</td>\n",
       "      <td>0.1140</td>\n",
       "      <td>0.02490</td>\n",
       "      <td>0.025000</td>\n",
       "      <td>0.2420</td>\n",
       "      <td>0.924</td>\n",
       "      <td>143.040</td>\n",
       "      <td>spotify:track:6I9VzXrHxO9rA9A5euc8Ak</td>\n",
       "    </tr>\n",
       "    <tr>\n",
       "      <th>2</th>\n",
       "      <td>Beyoncé</td>\n",
       "      <td>spotify:track:0WqIKmW4BTrj3eJFmnCKMv</td>\n",
       "      <td>spotify:artist:6vWDO969PvNqNYHIOW5v0m</td>\n",
       "      <td>Crazy In Love</td>\n",
       "      <td>0.664</td>\n",
       "      <td>0.758</td>\n",
       "      <td>2.0</td>\n",
       "      <td>-6.583</td>\n",
       "      <td>0.0</td>\n",
       "      <td>0.2100</td>\n",
       "      <td>0.00238</td>\n",
       "      <td>0.000000</td>\n",
       "      <td>0.0598</td>\n",
       "      <td>0.701</td>\n",
       "      <td>99.259</td>\n",
       "      <td>spotify:track:0WqIKmW4BTrj3eJFmnCKMv</td>\n",
       "    </tr>\n",
       "    <tr>\n",
       "      <th>3</th>\n",
       "      <td>Justin Timberlake</td>\n",
       "      <td>spotify:track:1AWQoqb9bSvzTjaLralEkT</td>\n",
       "      <td>spotify:artist:31TPClRtHm23RisEBtV3X7</td>\n",
       "      <td>Rock Your Body</td>\n",
       "      <td>0.892</td>\n",
       "      <td>0.714</td>\n",
       "      <td>4.0</td>\n",
       "      <td>-6.055</td>\n",
       "      <td>0.0</td>\n",
       "      <td>0.1410</td>\n",
       "      <td>0.20100</td>\n",
       "      <td>0.000234</td>\n",
       "      <td>0.0521</td>\n",
       "      <td>0.817</td>\n",
       "      <td>100.972</td>\n",
       "      <td>spotify:track:1AWQoqb9bSvzTjaLralEkT</td>\n",
       "    </tr>\n",
       "    <tr>\n",
       "      <th>4</th>\n",
       "      <td>Shaggy</td>\n",
       "      <td>spotify:track:1lzr43nnXAijIGYnCT8M8H</td>\n",
       "      <td>spotify:artist:5EvFsr3kj42KNv97ZEnqij</td>\n",
       "      <td>It Wasn't Me</td>\n",
       "      <td>0.853</td>\n",
       "      <td>0.606</td>\n",
       "      <td>0.0</td>\n",
       "      <td>-4.596</td>\n",
       "      <td>1.0</td>\n",
       "      <td>0.0713</td>\n",
       "      <td>0.05610</td>\n",
       "      <td>0.000000</td>\n",
       "      <td>0.3130</td>\n",
       "      <td>0.654</td>\n",
       "      <td>94.759</td>\n",
       "      <td>spotify:track:1lzr43nnXAijIGYnCT8M8H</td>\n",
       "    </tr>\n",
       "    <tr>\n",
       "      <th>...</th>\n",
       "      <td>...</td>\n",
       "      <td>...</td>\n",
       "      <td>...</td>\n",
       "      <td>...</td>\n",
       "      <td>...</td>\n",
       "      <td>...</td>\n",
       "      <td>...</td>\n",
       "      <td>...</td>\n",
       "      <td>...</td>\n",
       "      <td>...</td>\n",
       "      <td>...</td>\n",
       "      <td>...</td>\n",
       "      <td>...</td>\n",
       "      <td>...</td>\n",
       "      <td>...</td>\n",
       "      <td>...</td>\n",
       "    </tr>\n",
       "    <tr>\n",
       "      <th>49995</th>\n",
       "      <td>Headhunterz</td>\n",
       "      <td>spotify:track:5QBQ6uA3sQFBSJJt8w9iat</td>\n",
       "      <td>spotify:artist:6C0KWmCdqrLU2LzzWBPbOy</td>\n",
       "      <td>Lift Me Up</td>\n",
       "      <td>0.409</td>\n",
       "      <td>0.610</td>\n",
       "      <td>7.0</td>\n",
       "      <td>-6.011</td>\n",
       "      <td>0.0</td>\n",
       "      <td>0.0447</td>\n",
       "      <td>0.06960</td>\n",
       "      <td>0.000006</td>\n",
       "      <td>0.0655</td>\n",
       "      <td>0.468</td>\n",
       "      <td>101.576</td>\n",
       "      <td>spotify:track:5QBQ6uA3sQFBSJJt8w9iat</td>\n",
       "    </tr>\n",
       "    <tr>\n",
       "      <th>49996</th>\n",
       "      <td>Keanu Silva</td>\n",
       "      <td>spotify:track:52DhbZEJ6lPZqJSrOPqSKo</td>\n",
       "      <td>spotify:artist:1zLMhO4zzzxt5PMV4wMS3y</td>\n",
       "      <td>Children - RMFB Remix Edit</td>\n",
       "      <td>0.222</td>\n",
       "      <td>0.814</td>\n",
       "      <td>3.0</td>\n",
       "      <td>-5.196</td>\n",
       "      <td>0.0</td>\n",
       "      <td>0.1010</td>\n",
       "      <td>0.00226</td>\n",
       "      <td>0.902000</td>\n",
       "      <td>0.2610</td>\n",
       "      <td>0.242</td>\n",
       "      <td>153.407</td>\n",
       "      <td>spotify:track:52DhbZEJ6lPZqJSrOPqSKo</td>\n",
       "    </tr>\n",
       "    <tr>\n",
       "      <th>49997</th>\n",
       "      <td>Myon</td>\n",
       "      <td>spotify:track:7dCmQbhItGA7JgdBUgY18J</td>\n",
       "      <td>spotify:artist:0nTbVTXLLbBA4xCtn0cFkv</td>\n",
       "      <td>Round We Go - Radio Edit</td>\n",
       "      <td>0.490</td>\n",
       "      <td>0.905</td>\n",
       "      <td>0.0</td>\n",
       "      <td>-3.928</td>\n",
       "      <td>0.0</td>\n",
       "      <td>0.0717</td>\n",
       "      <td>0.03950</td>\n",
       "      <td>0.000059</td>\n",
       "      <td>0.6860</td>\n",
       "      <td>0.210</td>\n",
       "      <td>128.016</td>\n",
       "      <td>spotify:track:7dCmQbhItGA7JgdBUgY18J</td>\n",
       "    </tr>\n",
       "    <tr>\n",
       "      <th>49998</th>\n",
       "      <td>Alison Wonderland</td>\n",
       "      <td>spotify:track:28QlLenBGFRjxMmKONi9x2</td>\n",
       "      <td>spotify:artist:11gWrKZMBsGQWmobv3oNfW</td>\n",
       "      <td>U Don't Know - Vincent Remix</td>\n",
       "      <td>0.414</td>\n",
       "      <td>0.767</td>\n",
       "      <td>2.0</td>\n",
       "      <td>-4.554</td>\n",
       "      <td>0.0</td>\n",
       "      <td>0.0650</td>\n",
       "      <td>0.00515</td>\n",
       "      <td>0.000000</td>\n",
       "      <td>0.0996</td>\n",
       "      <td>0.210</td>\n",
       "      <td>137.945</td>\n",
       "      <td>spotify:track:28QlLenBGFRjxMmKONi9x2</td>\n",
       "    </tr>\n",
       "    <tr>\n",
       "      <th>49999</th>\n",
       "      <td>SLANDER</td>\n",
       "      <td>spotify:track:7c6mnuoAHoopR1Ti2bCKz2</td>\n",
       "      <td>spotify:artist:20DZAfCuP1TKZl5KcY7z3Q</td>\n",
       "      <td>Love Again (feat. WAVZ)</td>\n",
       "      <td>0.558</td>\n",
       "      <td>0.852</td>\n",
       "      <td>1.0</td>\n",
       "      <td>-4.733</td>\n",
       "      <td>0.0</td>\n",
       "      <td>0.3320</td>\n",
       "      <td>0.01710</td>\n",
       "      <td>0.000000</td>\n",
       "      <td>0.2260</td>\n",
       "      <td>0.360</td>\n",
       "      <td>150.211</td>\n",
       "      <td>spotify:track:7c6mnuoAHoopR1Ti2bCKz2</td>\n",
       "    </tr>\n",
       "  </tbody>\n",
       "</table>\n",
       "<p>50000 rows × 16 columns</p>\n",
       "</div>"
      ],
      "text/plain": [
       "             artist_name                             track_uri  \\\n",
       "0          Missy Elliott  spotify:track:0UaMYEvWZi0ZqiDOoHU3YI   \n",
       "1         Britney Spears  spotify:track:6I9VzXrHxO9rA9A5euc8Ak   \n",
       "2                Beyoncé  spotify:track:0WqIKmW4BTrj3eJFmnCKMv   \n",
       "3      Justin Timberlake  spotify:track:1AWQoqb9bSvzTjaLralEkT   \n",
       "4                 Shaggy  spotify:track:1lzr43nnXAijIGYnCT8M8H   \n",
       "...                  ...                                   ...   \n",
       "49995        Headhunterz  spotify:track:5QBQ6uA3sQFBSJJt8w9iat   \n",
       "49996        Keanu Silva  spotify:track:52DhbZEJ6lPZqJSrOPqSKo   \n",
       "49997               Myon  spotify:track:7dCmQbhItGA7JgdBUgY18J   \n",
       "49998  Alison Wonderland  spotify:track:28QlLenBGFRjxMmKONi9x2   \n",
       "49999            SLANDER  spotify:track:7c6mnuoAHoopR1Ti2bCKz2   \n",
       "\n",
       "                                  artist_uri  \\\n",
       "0      spotify:artist:2wIVse2owClT7go1WT98tk   \n",
       "1      spotify:artist:26dSoYclwsYLMAKD3tpOr4   \n",
       "2      spotify:artist:6vWDO969PvNqNYHIOW5v0m   \n",
       "3      spotify:artist:31TPClRtHm23RisEBtV3X7   \n",
       "4      spotify:artist:5EvFsr3kj42KNv97ZEnqij   \n",
       "...                                      ...   \n",
       "49995  spotify:artist:6C0KWmCdqrLU2LzzWBPbOy   \n",
       "49996  spotify:artist:1zLMhO4zzzxt5PMV4wMS3y   \n",
       "49997  spotify:artist:0nTbVTXLLbBA4xCtn0cFkv   \n",
       "49998  spotify:artist:11gWrKZMBsGQWmobv3oNfW   \n",
       "49999  spotify:artist:20DZAfCuP1TKZl5KcY7z3Q   \n",
       "\n",
       "                                       track_name  danceability  energy  key  \\\n",
       "0      Lose Control (feat. Ciara & Fat Man Scoop)         0.904   0.813  4.0   \n",
       "1                                           Toxic         0.774   0.838  5.0   \n",
       "2                                   Crazy In Love         0.664   0.758  2.0   \n",
       "3                                  Rock Your Body         0.892   0.714  4.0   \n",
       "4                                    It Wasn't Me         0.853   0.606  0.0   \n",
       "...                                           ...           ...     ...  ...   \n",
       "49995                                  Lift Me Up         0.409   0.610  7.0   \n",
       "49996                  Children - RMFB Remix Edit         0.222   0.814  3.0   \n",
       "49997                    Round We Go - Radio Edit         0.490   0.905  0.0   \n",
       "49998                U Don't Know - Vincent Remix         0.414   0.767  2.0   \n",
       "49999                     Love Again (feat. WAVZ)         0.558   0.852  1.0   \n",
       "\n",
       "       loudness  mode  speechiness  acousticness  instrumentalness  liveness  \\\n",
       "0        -7.105   0.0       0.1210       0.03110          0.006970    0.0471   \n",
       "1        -3.914   0.0       0.1140       0.02490          0.025000    0.2420   \n",
       "2        -6.583   0.0       0.2100       0.00238          0.000000    0.0598   \n",
       "3        -6.055   0.0       0.1410       0.20100          0.000234    0.0521   \n",
       "4        -4.596   1.0       0.0713       0.05610          0.000000    0.3130   \n",
       "...         ...   ...          ...           ...               ...       ...   \n",
       "49995    -6.011   0.0       0.0447       0.06960          0.000006    0.0655   \n",
       "49996    -5.196   0.0       0.1010       0.00226          0.902000    0.2610   \n",
       "49997    -3.928   0.0       0.0717       0.03950          0.000059    0.6860   \n",
       "49998    -4.554   0.0       0.0650       0.00515          0.000000    0.0996   \n",
       "49999    -4.733   0.0       0.3320       0.01710          0.000000    0.2260   \n",
       "\n",
       "       valence    tempo                                   uri  \n",
       "0        0.810  125.461  spotify:track:0UaMYEvWZi0ZqiDOoHU3YI  \n",
       "1        0.924  143.040  spotify:track:6I9VzXrHxO9rA9A5euc8Ak  \n",
       "2        0.701   99.259  spotify:track:0WqIKmW4BTrj3eJFmnCKMv  \n",
       "3        0.817  100.972  spotify:track:1AWQoqb9bSvzTjaLralEkT  \n",
       "4        0.654   94.759  spotify:track:1lzr43nnXAijIGYnCT8M8H  \n",
       "...        ...      ...                                   ...  \n",
       "49995    0.468  101.576  spotify:track:5QBQ6uA3sQFBSJJt8w9iat  \n",
       "49996    0.242  153.407  spotify:track:52DhbZEJ6lPZqJSrOPqSKo  \n",
       "49997    0.210  128.016  spotify:track:7dCmQbhItGA7JgdBUgY18J  \n",
       "49998    0.210  137.945  spotify:track:28QlLenBGFRjxMmKONi9x2  \n",
       "49999    0.360  150.211  spotify:track:7c6mnuoAHoopR1Ti2bCKz2  \n",
       "\n",
       "[50000 rows x 16 columns]"
      ]
     },
     "execution_count": 20,
     "metadata": {},
     "output_type": "execute_result"
    }
   ],
   "source": [
    "# call_loaded_model('danceability', data['danceability'].iloc[i])\n",
    "subset = data.iloc[0:50000]\n",
    "subset"
   ]
  },
  {
   "cell_type": "code",
   "execution_count": 21,
   "id": "8d1daa4c",
   "metadata": {},
   "outputs": [
    {
     "name": "stderr",
     "output_type": "stream",
     "text": [
      "/tmp/ipykernel_7145/445490907.py:4: SettingWithCopyWarning: \n",
      "A value is trying to be set on a copy of a slice from a DataFrame.\n",
      "Try using .loc[row_indexer,col_indexer] = value instead\n",
      "\n",
      "See the caveats in the documentation: https://pandas.pydata.org/pandas-docs/stable/user_guide/indexing.html#returning-a-view-versus-a-copy\n",
      "  subset[f\"pred_{feature}\"] = subset[feature].apply(lambda x: int(loaded_model.predict(np.array(x).reshape(-1,1))))\n"
     ]
    }
   ],
   "source": [
    "feature = 'danceability'\n",
    "with open(f\"model_{feature}.pkl\", 'rb') as file:  \n",
    "    loaded_model = pickle.load(file)\n",
    "    subset[f\"pred_{feature}\"] = subset[feature].apply(lambda x: int(loaded_model.predict(np.array(x).reshape(-1,1))))\n",
    "# data[f\"pred_{i}\"]"
   ]
  },
  {
   "cell_type": "code",
   "execution_count": 23,
   "id": "f599855a",
   "metadata": {},
   "outputs": [],
   "source": [
    "subset.to_csv(f\"pred_{feature}.csv\")"
   ]
  },
  {
   "cell_type": "code",
   "execution_count": 22,
   "id": "d855e303",
   "metadata": {},
   "outputs": [
    {
     "data": {
      "text/html": [
       "<div>\n",
       "<style scoped>\n",
       "    .dataframe tbody tr th:only-of-type {\n",
       "        vertical-align: middle;\n",
       "    }\n",
       "\n",
       "    .dataframe tbody tr th {\n",
       "        vertical-align: top;\n",
       "    }\n",
       "\n",
       "    .dataframe thead th {\n",
       "        text-align: right;\n",
       "    }\n",
       "</style>\n",
       "<table border=\"1\" class=\"dataframe\">\n",
       "  <thead>\n",
       "    <tr style=\"text-align: right;\">\n",
       "      <th></th>\n",
       "      <th>artist_name</th>\n",
       "      <th>track_uri</th>\n",
       "      <th>artist_uri</th>\n",
       "      <th>track_name</th>\n",
       "      <th>danceability</th>\n",
       "      <th>energy</th>\n",
       "      <th>key</th>\n",
       "      <th>loudness</th>\n",
       "      <th>mode</th>\n",
       "      <th>speechiness</th>\n",
       "      <th>acousticness</th>\n",
       "      <th>instrumentalness</th>\n",
       "      <th>liveness</th>\n",
       "      <th>valence</th>\n",
       "      <th>tempo</th>\n",
       "      <th>uri</th>\n",
       "      <th>pred_danceability</th>\n",
       "    </tr>\n",
       "  </thead>\n",
       "  <tbody>\n",
       "    <tr>\n",
       "      <th>0</th>\n",
       "      <td>Missy Elliott</td>\n",
       "      <td>spotify:track:0UaMYEvWZi0ZqiDOoHU3YI</td>\n",
       "      <td>spotify:artist:2wIVse2owClT7go1WT98tk</td>\n",
       "      <td>Lose Control (feat. Ciara &amp; Fat Man Scoop)</td>\n",
       "      <td>0.904</td>\n",
       "      <td>0.813</td>\n",
       "      <td>4.0</td>\n",
       "      <td>-7.105</td>\n",
       "      <td>0.0</td>\n",
       "      <td>0.1210</td>\n",
       "      <td>0.03110</td>\n",
       "      <td>0.006970</td>\n",
       "      <td>0.0471</td>\n",
       "      <td>0.810</td>\n",
       "      <td>125.461</td>\n",
       "      <td>spotify:track:0UaMYEvWZi0ZqiDOoHU3YI</td>\n",
       "      <td>7</td>\n",
       "    </tr>\n",
       "    <tr>\n",
       "      <th>1</th>\n",
       "      <td>Britney Spears</td>\n",
       "      <td>spotify:track:6I9VzXrHxO9rA9A5euc8Ak</td>\n",
       "      <td>spotify:artist:26dSoYclwsYLMAKD3tpOr4</td>\n",
       "      <td>Toxic</td>\n",
       "      <td>0.774</td>\n",
       "      <td>0.838</td>\n",
       "      <td>5.0</td>\n",
       "      <td>-3.914</td>\n",
       "      <td>0.0</td>\n",
       "      <td>0.1140</td>\n",
       "      <td>0.02490</td>\n",
       "      <td>0.025000</td>\n",
       "      <td>0.2420</td>\n",
       "      <td>0.924</td>\n",
       "      <td>143.040</td>\n",
       "      <td>spotify:track:6I9VzXrHxO9rA9A5euc8Ak</td>\n",
       "      <td>0</td>\n",
       "    </tr>\n",
       "    <tr>\n",
       "      <th>2</th>\n",
       "      <td>Beyoncé</td>\n",
       "      <td>spotify:track:0WqIKmW4BTrj3eJFmnCKMv</td>\n",
       "      <td>spotify:artist:6vWDO969PvNqNYHIOW5v0m</td>\n",
       "      <td>Crazy In Love</td>\n",
       "      <td>0.664</td>\n",
       "      <td>0.758</td>\n",
       "      <td>2.0</td>\n",
       "      <td>-6.583</td>\n",
       "      <td>0.0</td>\n",
       "      <td>0.2100</td>\n",
       "      <td>0.00238</td>\n",
       "      <td>0.000000</td>\n",
       "      <td>0.0598</td>\n",
       "      <td>0.701</td>\n",
       "      <td>99.259</td>\n",
       "      <td>spotify:track:0WqIKmW4BTrj3eJFmnCKMv</td>\n",
       "      <td>9</td>\n",
       "    </tr>\n",
       "    <tr>\n",
       "      <th>3</th>\n",
       "      <td>Justin Timberlake</td>\n",
       "      <td>spotify:track:1AWQoqb9bSvzTjaLralEkT</td>\n",
       "      <td>spotify:artist:31TPClRtHm23RisEBtV3X7</td>\n",
       "      <td>Rock Your Body</td>\n",
       "      <td>0.892</td>\n",
       "      <td>0.714</td>\n",
       "      <td>4.0</td>\n",
       "      <td>-6.055</td>\n",
       "      <td>0.0</td>\n",
       "      <td>0.1410</td>\n",
       "      <td>0.20100</td>\n",
       "      <td>0.000234</td>\n",
       "      <td>0.0521</td>\n",
       "      <td>0.817</td>\n",
       "      <td>100.972</td>\n",
       "      <td>spotify:track:1AWQoqb9bSvzTjaLralEkT</td>\n",
       "      <td>7</td>\n",
       "    </tr>\n",
       "    <tr>\n",
       "      <th>4</th>\n",
       "      <td>Shaggy</td>\n",
       "      <td>spotify:track:1lzr43nnXAijIGYnCT8M8H</td>\n",
       "      <td>spotify:artist:5EvFsr3kj42KNv97ZEnqij</td>\n",
       "      <td>It Wasn't Me</td>\n",
       "      <td>0.853</td>\n",
       "      <td>0.606</td>\n",
       "      <td>0.0</td>\n",
       "      <td>-4.596</td>\n",
       "      <td>1.0</td>\n",
       "      <td>0.0713</td>\n",
       "      <td>0.05610</td>\n",
       "      <td>0.000000</td>\n",
       "      <td>0.3130</td>\n",
       "      <td>0.654</td>\n",
       "      <td>94.759</td>\n",
       "      <td>spotify:track:1lzr43nnXAijIGYnCT8M8H</td>\n",
       "      <td>7</td>\n",
       "    </tr>\n",
       "    <tr>\n",
       "      <th>...</th>\n",
       "      <td>...</td>\n",
       "      <td>...</td>\n",
       "      <td>...</td>\n",
       "      <td>...</td>\n",
       "      <td>...</td>\n",
       "      <td>...</td>\n",
       "      <td>...</td>\n",
       "      <td>...</td>\n",
       "      <td>...</td>\n",
       "      <td>...</td>\n",
       "      <td>...</td>\n",
       "      <td>...</td>\n",
       "      <td>...</td>\n",
       "      <td>...</td>\n",
       "      <td>...</td>\n",
       "      <td>...</td>\n",
       "      <td>...</td>\n",
       "    </tr>\n",
       "    <tr>\n",
       "      <th>49995</th>\n",
       "      <td>Headhunterz</td>\n",
       "      <td>spotify:track:5QBQ6uA3sQFBSJJt8w9iat</td>\n",
       "      <td>spotify:artist:6C0KWmCdqrLU2LzzWBPbOy</td>\n",
       "      <td>Lift Me Up</td>\n",
       "      <td>0.409</td>\n",
       "      <td>0.610</td>\n",
       "      <td>7.0</td>\n",
       "      <td>-6.011</td>\n",
       "      <td>0.0</td>\n",
       "      <td>0.0447</td>\n",
       "      <td>0.06960</td>\n",
       "      <td>0.000006</td>\n",
       "      <td>0.0655</td>\n",
       "      <td>0.468</td>\n",
       "      <td>101.576</td>\n",
       "      <td>spotify:track:5QBQ6uA3sQFBSJJt8w9iat</td>\n",
       "      <td>1</td>\n",
       "    </tr>\n",
       "    <tr>\n",
       "      <th>49996</th>\n",
       "      <td>Keanu Silva</td>\n",
       "      <td>spotify:track:52DhbZEJ6lPZqJSrOPqSKo</td>\n",
       "      <td>spotify:artist:1zLMhO4zzzxt5PMV4wMS3y</td>\n",
       "      <td>Children - RMFB Remix Edit</td>\n",
       "      <td>0.222</td>\n",
       "      <td>0.814</td>\n",
       "      <td>3.0</td>\n",
       "      <td>-5.196</td>\n",
       "      <td>0.0</td>\n",
       "      <td>0.1010</td>\n",
       "      <td>0.00226</td>\n",
       "      <td>0.902000</td>\n",
       "      <td>0.2610</td>\n",
       "      <td>0.242</td>\n",
       "      <td>153.407</td>\n",
       "      <td>spotify:track:52DhbZEJ6lPZqJSrOPqSKo</td>\n",
       "      <td>2</td>\n",
       "    </tr>\n",
       "    <tr>\n",
       "      <th>49997</th>\n",
       "      <td>Myon</td>\n",
       "      <td>spotify:track:7dCmQbhItGA7JgdBUgY18J</td>\n",
       "      <td>spotify:artist:0nTbVTXLLbBA4xCtn0cFkv</td>\n",
       "      <td>Round We Go - Radio Edit</td>\n",
       "      <td>0.490</td>\n",
       "      <td>0.905</td>\n",
       "      <td>0.0</td>\n",
       "      <td>-3.928</td>\n",
       "      <td>0.0</td>\n",
       "      <td>0.0717</td>\n",
       "      <td>0.03950</td>\n",
       "      <td>0.000059</td>\n",
       "      <td>0.6860</td>\n",
       "      <td>0.210</td>\n",
       "      <td>128.016</td>\n",
       "      <td>spotify:track:7dCmQbhItGA7JgdBUgY18J</td>\n",
       "      <td>5</td>\n",
       "    </tr>\n",
       "    <tr>\n",
       "      <th>49998</th>\n",
       "      <td>Alison Wonderland</td>\n",
       "      <td>spotify:track:28QlLenBGFRjxMmKONi9x2</td>\n",
       "      <td>spotify:artist:11gWrKZMBsGQWmobv3oNfW</td>\n",
       "      <td>U Don't Know - Vincent Remix</td>\n",
       "      <td>0.414</td>\n",
       "      <td>0.767</td>\n",
       "      <td>2.0</td>\n",
       "      <td>-4.554</td>\n",
       "      <td>0.0</td>\n",
       "      <td>0.0650</td>\n",
       "      <td>0.00515</td>\n",
       "      <td>0.000000</td>\n",
       "      <td>0.0996</td>\n",
       "      <td>0.210</td>\n",
       "      <td>137.945</td>\n",
       "      <td>spotify:track:28QlLenBGFRjxMmKONi9x2</td>\n",
       "      <td>1</td>\n",
       "    </tr>\n",
       "    <tr>\n",
       "      <th>49999</th>\n",
       "      <td>SLANDER</td>\n",
       "      <td>spotify:track:7c6mnuoAHoopR1Ti2bCKz2</td>\n",
       "      <td>spotify:artist:20DZAfCuP1TKZl5KcY7z3Q</td>\n",
       "      <td>Love Again (feat. WAVZ)</td>\n",
       "      <td>0.558</td>\n",
       "      <td>0.852</td>\n",
       "      <td>1.0</td>\n",
       "      <td>-4.733</td>\n",
       "      <td>0.0</td>\n",
       "      <td>0.3320</td>\n",
       "      <td>0.01710</td>\n",
       "      <td>0.000000</td>\n",
       "      <td>0.2260</td>\n",
       "      <td>0.360</td>\n",
       "      <td>150.211</td>\n",
       "      <td>spotify:track:7c6mnuoAHoopR1Ti2bCKz2</td>\n",
       "      <td>3</td>\n",
       "    </tr>\n",
       "  </tbody>\n",
       "</table>\n",
       "<p>50000 rows × 17 columns</p>\n",
       "</div>"
      ],
      "text/plain": [
       "             artist_name                             track_uri  \\\n",
       "0          Missy Elliott  spotify:track:0UaMYEvWZi0ZqiDOoHU3YI   \n",
       "1         Britney Spears  spotify:track:6I9VzXrHxO9rA9A5euc8Ak   \n",
       "2                Beyoncé  spotify:track:0WqIKmW4BTrj3eJFmnCKMv   \n",
       "3      Justin Timberlake  spotify:track:1AWQoqb9bSvzTjaLralEkT   \n",
       "4                 Shaggy  spotify:track:1lzr43nnXAijIGYnCT8M8H   \n",
       "...                  ...                                   ...   \n",
       "49995        Headhunterz  spotify:track:5QBQ6uA3sQFBSJJt8w9iat   \n",
       "49996        Keanu Silva  spotify:track:52DhbZEJ6lPZqJSrOPqSKo   \n",
       "49997               Myon  spotify:track:7dCmQbhItGA7JgdBUgY18J   \n",
       "49998  Alison Wonderland  spotify:track:28QlLenBGFRjxMmKONi9x2   \n",
       "49999            SLANDER  spotify:track:7c6mnuoAHoopR1Ti2bCKz2   \n",
       "\n",
       "                                  artist_uri  \\\n",
       "0      spotify:artist:2wIVse2owClT7go1WT98tk   \n",
       "1      spotify:artist:26dSoYclwsYLMAKD3tpOr4   \n",
       "2      spotify:artist:6vWDO969PvNqNYHIOW5v0m   \n",
       "3      spotify:artist:31TPClRtHm23RisEBtV3X7   \n",
       "4      spotify:artist:5EvFsr3kj42KNv97ZEnqij   \n",
       "...                                      ...   \n",
       "49995  spotify:artist:6C0KWmCdqrLU2LzzWBPbOy   \n",
       "49996  spotify:artist:1zLMhO4zzzxt5PMV4wMS3y   \n",
       "49997  spotify:artist:0nTbVTXLLbBA4xCtn0cFkv   \n",
       "49998  spotify:artist:11gWrKZMBsGQWmobv3oNfW   \n",
       "49999  spotify:artist:20DZAfCuP1TKZl5KcY7z3Q   \n",
       "\n",
       "                                       track_name  danceability  energy  key  \\\n",
       "0      Lose Control (feat. Ciara & Fat Man Scoop)         0.904   0.813  4.0   \n",
       "1                                           Toxic         0.774   0.838  5.0   \n",
       "2                                   Crazy In Love         0.664   0.758  2.0   \n",
       "3                                  Rock Your Body         0.892   0.714  4.0   \n",
       "4                                    It Wasn't Me         0.853   0.606  0.0   \n",
       "...                                           ...           ...     ...  ...   \n",
       "49995                                  Lift Me Up         0.409   0.610  7.0   \n",
       "49996                  Children - RMFB Remix Edit         0.222   0.814  3.0   \n",
       "49997                    Round We Go - Radio Edit         0.490   0.905  0.0   \n",
       "49998                U Don't Know - Vincent Remix         0.414   0.767  2.0   \n",
       "49999                     Love Again (feat. WAVZ)         0.558   0.852  1.0   \n",
       "\n",
       "       loudness  mode  speechiness  acousticness  instrumentalness  liveness  \\\n",
       "0        -7.105   0.0       0.1210       0.03110          0.006970    0.0471   \n",
       "1        -3.914   0.0       0.1140       0.02490          0.025000    0.2420   \n",
       "2        -6.583   0.0       0.2100       0.00238          0.000000    0.0598   \n",
       "3        -6.055   0.0       0.1410       0.20100          0.000234    0.0521   \n",
       "4        -4.596   1.0       0.0713       0.05610          0.000000    0.3130   \n",
       "...         ...   ...          ...           ...               ...       ...   \n",
       "49995    -6.011   0.0       0.0447       0.06960          0.000006    0.0655   \n",
       "49996    -5.196   0.0       0.1010       0.00226          0.902000    0.2610   \n",
       "49997    -3.928   0.0       0.0717       0.03950          0.000059    0.6860   \n",
       "49998    -4.554   0.0       0.0650       0.00515          0.000000    0.0996   \n",
       "49999    -4.733   0.0       0.3320       0.01710          0.000000    0.2260   \n",
       "\n",
       "       valence    tempo                                   uri  \\\n",
       "0        0.810  125.461  spotify:track:0UaMYEvWZi0ZqiDOoHU3YI   \n",
       "1        0.924  143.040  spotify:track:6I9VzXrHxO9rA9A5euc8Ak   \n",
       "2        0.701   99.259  spotify:track:0WqIKmW4BTrj3eJFmnCKMv   \n",
       "3        0.817  100.972  spotify:track:1AWQoqb9bSvzTjaLralEkT   \n",
       "4        0.654   94.759  spotify:track:1lzr43nnXAijIGYnCT8M8H   \n",
       "...        ...      ...                                   ...   \n",
       "49995    0.468  101.576  spotify:track:5QBQ6uA3sQFBSJJt8w9iat   \n",
       "49996    0.242  153.407  spotify:track:52DhbZEJ6lPZqJSrOPqSKo   \n",
       "49997    0.210  128.016  spotify:track:7dCmQbhItGA7JgdBUgY18J   \n",
       "49998    0.210  137.945  spotify:track:28QlLenBGFRjxMmKONi9x2   \n",
       "49999    0.360  150.211  spotify:track:7c6mnuoAHoopR1Ti2bCKz2   \n",
       "\n",
       "       pred_danceability  \n",
       "0                      7  \n",
       "1                      0  \n",
       "2                      9  \n",
       "3                      7  \n",
       "4                      7  \n",
       "...                  ...  \n",
       "49995                  1  \n",
       "49996                  2  \n",
       "49997                  5  \n",
       "49998                  1  \n",
       "49999                  3  \n",
       "\n",
       "[50000 rows x 17 columns]"
      ]
     },
     "execution_count": 22,
     "metadata": {},
     "output_type": "execute_result"
    }
   ],
   "source": []
  },
  {
   "cell_type": "markdown",
   "id": "9041cd80",
   "metadata": {},
   "source": [
    "# Artist DataFrame"
   ]
  },
  {
   "cell_type": "code",
   "execution_count": null,
   "id": "c421e666",
   "metadata": {},
   "outputs": [],
   "source": [
    "artist_df = get_artist_dataframe(artist_path)"
   ]
  },
  {
   "cell_type": "code",
   "execution_count": null,
   "id": "63b46b47",
   "metadata": {},
   "outputs": [],
   "source": [
    "artist_df.drop('followers', axis=1, inplace=True)"
   ]
  },
  {
   "cell_type": "code",
   "execution_count": null,
   "id": "375b4fbb",
   "metadata": {},
   "outputs": [],
   "source": [
    "artist_df.head()"
   ]
  },
  {
   "cell_type": "code",
   "execution_count": null,
   "id": "a59dfcd2",
   "metadata": {},
   "outputs": [],
   "source": [
    "artist_df[artist_df.isna().any(axis=1)]"
   ]
  },
  {
   "cell_type": "code",
   "execution_count": null,
   "id": "579f3c18",
   "metadata": {},
   "outputs": [],
   "source": [
    "print(len(artist_df.index))\n",
    "artist_df = artist_df[~artist_df.isna().any(axis=1)]\n",
    "print(len(artist_df))"
   ]
  },
  {
   "cell_type": "code",
   "execution_count": null,
   "id": "d0ac4dad",
   "metadata": {},
   "outputs": [],
   "source": [
    "artist_df.isna().any()"
   ]
  },
  {
   "cell_type": "markdown",
   "id": "54fede11",
   "metadata": {},
   "source": [
    "# Full data set SONG + ARTIST"
   ]
  },
  {
   "cell_type": "code",
   "execution_count": null,
   "id": "8f09cac2",
   "metadata": {},
   "outputs": [],
   "source": [
    "full_df = data.merge(artist_df, how='left' , left_on='artist_uri', right_on='uri')"
   ]
  },
  {
   "cell_type": "code",
   "execution_count": null,
   "id": "88a3a259",
   "metadata": {},
   "outputs": [],
   "source": [
    "full_df.drop(['uri_x', 'uri_y'], axis=1, inplace=True)"
   ]
  },
  {
   "cell_type": "code",
   "execution_count": null,
   "id": "08995486",
   "metadata": {},
   "outputs": [],
   "source": [
    "full_df.head()"
   ]
  },
  {
   "cell_type": "code",
   "execution_count": null,
   "id": "f8c4f665",
   "metadata": {},
   "outputs": [],
   "source": [
    "print('full length: ', len(full_df.index), 'data length: ', len(data.index)) \n",
    "full_df.isna().any()"
   ]
  },
  {
   "cell_type": "code",
   "execution_count": null,
   "id": "ccf05251",
   "metadata": {},
   "outputs": [],
   "source": [
    "len(full_df[full_df.isna().any(axis=1)])"
   ]
  },
  {
   "cell_type": "code",
   "execution_count": null,
   "id": "e06d6a0a",
   "metadata": {},
   "outputs": [],
   "source": [
    "full_df.replace('[]', np.nan, inplace=True)"
   ]
  },
  {
   "cell_type": "code",
   "execution_count": null,
   "id": "d473099c",
   "metadata": {},
   "outputs": [],
   "source": [
    "len(full_df[full_df.isna().any(axis=1)])"
   ]
  },
  {
   "cell_type": "code",
   "execution_count": null,
   "id": "b4a10cc2",
   "metadata": {},
   "outputs": [],
   "source": [
    "song_artist_df = full_df[~full_df.isna().any(axis=1)]"
   ]
  },
  {
   "cell_type": "code",
   "execution_count": null,
   "id": "046260b9",
   "metadata": {},
   "outputs": [],
   "source": [
    "song_artist_df.isna().any()"
   ]
  },
  {
   "cell_type": "code",
   "execution_count": null,
   "id": "f1833060",
   "metadata": {},
   "outputs": [],
   "source": [
    "len(song_artist_df)"
   ]
  },
  {
   "cell_type": "code",
   "execution_count": null,
   "id": "537c52ae",
   "metadata": {},
   "outputs": [],
   "source": [
    "# ' '.join([i.replace(' ', '_') for i in song_artist_df.genres[0].strip('][').replace('\\'','').split(', ')])"
   ]
  },
  {
   "cell_type": "code",
   "execution_count": null,
   "id": "0df6e835",
   "metadata": {},
   "outputs": [],
   "source": [
    "song_artist_df['genres'] = song_artist_df['genres'].apply(lambda x: ' '.join([i.replace(' ', '_') for i in x.strip('][').replace('\\'','').split(', ')]))\n",
    "#song_artist_df.drop('genres', axis=1, inplace=True)\n",
    "# song_artist_df['genres'] = song_artist_df['genres'].apply(lambda x: ' '.join(list(set(x.split()))))\n",
    "# song_artist_df['bgenres'] = song_artist_df.agenres.replace({\"r\\&b\": \"rhythm_blues\"}, regex = True)\n",
    "song_artist_df['genres'] = song_artist_df.genres.replace({\"[^A-Za-z ]+\": \"\"}, regex = True)\n",
    "#song_artist_df.drop('agenres', axis=1, inplace=True)\n",
    "song_artist_df.reset_index(inplace=True)"
   ]
  },
  {
   "cell_type": "code",
   "execution_count": null,
   "id": "05008ad1",
   "metadata": {},
   "outputs": [],
   "source": [
    "song_artist_df.drop('index', axis=1, inplace=True)"
   ]
  },
  {
   "cell_type": "code",
   "execution_count": null,
   "id": "50b2a4ec",
   "metadata": {},
   "outputs": [],
   "source": [
    "song_artist_df"
   ]
  },
  {
   "cell_type": "code",
   "execution_count": null,
   "id": "6e342494",
   "metadata": {},
   "outputs": [],
   "source": [
    "np.where(song_artist_df.applymap(lambda x: x == ''))"
   ]
  },
  {
   "cell_type": "code",
   "execution_count": null,
   "id": "458b7fbf",
   "metadata": {},
   "outputs": [],
   "source": [
    "print(f\"There are {len(song_artist_df['genres'].unique())} unique genre combinations\")"
   ]
  },
  {
   "cell_type": "code",
   "execution_count": null,
   "id": "4659ee68",
   "metadata": {},
   "outputs": [],
   "source": [
    "song_artist_df['genres'][0:5000]"
   ]
  },
  {
   "cell_type": "markdown",
   "id": "62c188e7",
   "metadata": {},
   "source": [
    "# Vectorizing genre "
   ]
  },
  {
   "cell_type": "code",
   "execution_count": null,
   "id": "464fd536",
   "metadata": {},
   "outputs": [],
   "source": [
    "vectorizer = TfidfVectorizer(stop_words='english')\n",
    "\n",
    "X_train = vectorizer.fit_transform(song_artist_df['genres'][0:50000])\n",
    "print(X_train.shape)\n",
    "# svd = TruncatedSVD(n_components=100)\n",
    "# svp_X_train = svd.fit_transform(X_train)\n",
    "# print(svp_X_train.shape)\n",
    "# x_train_array = svp_X_train.toarray()\n",
    "# for index, value in enumerate(text_X_train):\n",
    "#     print(song_artist_df['genre'].iloc[index], value)\n",
    "\n",
    "# print(x_train_array.shape)\n",
    "# print(x_train_array[0][44])\n",
    "# f_xtrain_nosvp = np.concatenate((song_features_array, x_train_array), axis=1)\n",
    "# print('xtrain_nosvp', f_xtrain_nosvp.shape)\n",
    "# f_xtrain = np.concatenate((song_features_array, text_X_train), axis=1)\n",
    "# #print(f_xtrain)\n",
    "# print(f_xtrain.shape)\n",
    "\n",
    "#print(X_train)\n",
    "#print(f\"n_samples: {X_train.shape[0]}, n_features: {X_train.shape[1]}\")"
   ]
  },
  {
   "cell_type": "markdown",
   "id": "3deb85c5",
   "metadata": {},
   "source": [
    "# Training a model with genre "
   ]
  },
  {
   "cell_type": "code",
   "execution_count": null,
   "id": "d1c16599",
   "metadata": {},
   "outputs": [],
   "source": [
    "model = KMeans(n_clusters=true_k, init='k-means++', max_iter=100, n_init=100, random_state=1)\n",
    "model.fit(X_train)\n",
    "# model.fit(svp_X_train)\n",
    "# save the model as a pickle file\n",
    "model_pkl_file = f\"model_genre.pkl\"  \n",
    "\n",
    "with open(model_pkl_file, 'wb') as file:  \n",
    "    pickle.dump(model, file)\n",
    "print(f\"model with genre feature completed\")"
   ]
  },
  {
   "cell_type": "code",
   "execution_count": null,
   "id": "645de0b8",
   "metadata": {},
   "outputs": [],
   "source": [
    "def input_vectorization(str_input):\n",
    "    #print(test_song)\n",
    "    if isinstance(str_input, str):\n",
    "        # It is a single string element thus we cannot use list() and have to use brackets [] to transform to list\n",
    "        X_test = vectorizer.transform([str_input])\n",
    "#         svd = TruncatedSVD(n_components=100)\n",
    "#         svp_X_train = svd.fit_transform(X_test)\n",
    "#         prediction = model.predict(X_test)\n",
    "    else:\n",
    "        # if is not a single string element so we can transform into a list directly using list()\n",
    "        X_test = vectorizer.transform(list(str_input))\n",
    "#         svd = TruncatedSVD(n_components=100)\n",
    "#         svp_X_train = svd.fit_transform(X_test)\n",
    "#         prediction = model.predict(X_test)\n",
    "    return X_test"
   ]
  },
  {
   "cell_type": "code",
   "execution_count": null,
   "id": "b6ef4ca4",
   "metadata": {},
   "outputs": [],
   "source": [
    "# Check functionality of the model\n",
    "# print(song_artist_df['genres'].iloc[0:5])\n",
    "# a = song_artist_df['genres'].iloc[0:5]\n",
    "# X_test = vectorizer.transform(a)\n",
    "# print(X_test.shape)\n",
    "# svd = TruncatedSVD(n_components=4)\n",
    "# svp_X_train = svd.fit_transform(X_test)\n",
    "# print(svp_X_train.shape)\n",
    "with open(f\"model_genre.pkl\", 'rb') as file:  \n",
    "        loaded_model = pickle.load(file)\n",
    "        print(loaded_model.labels_[0:5])\n",
    "        # evaluate model \n",
    "        print(training_data[['artist_name', 'track_name']].iloc[0:5])\n",
    "        y_predict = loaded_model.predict(input_vectorization(song_artist_df['genres'].iloc[0:1]))\n",
    "        print(y_predict)\n",
    "        file.close()"
   ]
  },
  {
   "cell_type": "markdown",
   "id": "efb894dd",
   "metadata": {},
   "source": [
    "# Reading Json files"
   ]
  },
  {
   "cell_type": "code",
   "execution_count": null,
   "id": "b435115c",
   "metadata": {},
   "outputs": [],
   "source": [
    "# # path to playlist file\n",
    "# root_path = !pwd\n",
    "# root_path = str(root_path[0])\n",
    "# # filename \n",
    "# filepath = f\"/home/ernek/Main/Erdos/song_recommender/playlist_data/sampledata/\"\n",
    "# filename = 'mpd.slice.0-999.json'\n",
    "# # path + filename\n",
    "# fpath_name = f\"{filepath}{filename}\"\n",
    "# # Open file of playlist and obtain fields of json file \n",
    "# with open(fpath_name) as data_file:    \n",
    "#     data = json.load(data_file)  \n",
    "\n",
    "# # Extract keys\n",
    "# num_keys_old = 0\n",
    "# for index, playlist in enumerate(data['playlists']):\n",
    "#     num_keys =  len(playlist.keys())\n",
    "#     if index == 0:\n",
    "#         num_key_old = num_keys\n",
    "#         continue\n",
    "#     if num_keys > num_key_old:\n",
    "#         keys = playlist.keys()\n",
    "#     num_key_old = num_keys\n",
    "    \n",
    "# # Construct keys of playlist\n",
    "# keys = list(keys)\n",
    "# keys.remove('tracks')\n",
    "# print(\" Playlist keys: \", keys)\n",
    "\n",
    "# # Create dataframe with track and playlist info\n",
    "# music_df = pd.json_normalize(data['playlists'],  meta = keys, meta_prefix = 'playlist_', errors='ignore', record_path=['tracks'], record_prefix = 'track_')\n",
    "# music_df.head()\n",
    "\n",
    "# # Check column values \n",
    "# music_df[music_df['playlist_pid'] == 0].columns"
   ]
  },
  {
   "cell_type": "code",
   "execution_count": null,
   "id": "ea7574b7",
   "metadata": {},
   "outputs": [],
   "source": [
    "# Select indexes of playlists that have a description\n",
    "# playlists_id_with_description = music_df[~music_df['playlist_description'].isna()]['playlist_pid'].unique()\n",
    "# print(playlists_id_with_description)\n",
    "# Working only with playlists that contain a \"description\"\n",
    "# subset_df = music_df[music_df['playlist_pid'].isin(playlists_id_with_description)]\n",
    "# print(subset_df['playlist_pid'].unique())"
   ]
  },
  {
   "cell_type": "code",
   "execution_count": null,
   "id": "b2d6ef28",
   "metadata": {},
   "outputs": [],
   "source": [
    "# num_records = len(subset_df)\n",
    "# num_unique_records = len(subset_df[['track_artist_name','track_track_name']].apply(lambda x: ',.'.join(x),axis=1).unique())\n",
    "# print('Number of table records: ', num_records)\n",
    "# print('Number of unique artist, song pairs: ', num_unique_records )\n",
    "# print('Number of repeated songs: ', num_records - num_unique_records )\n",
    "# print('Number of playlists: ', len(subset_df['playlist_pid'].unique()))\n",
    "# print('Number of unique artists: ', len(subset_df['track_artist_name'].unique()))"
   ]
  },
  {
   "cell_type": "code",
   "execution_count": null,
   "id": "b6bfd1ca",
   "metadata": {},
   "outputs": [],
   "source": [
    "# # Function to select track_uri ONLY Nrecords records for now\n",
    "# Nrecords = 250\n",
    "# def get_features(df, Nrecords):\n",
    "#     indexes = []\n",
    "#     audio_features = []\n",
    "#     track_popularity = []\n",
    "#     artist_genre = []\n",
    "#     artist_popularity = []\n",
    "#     album_popularity = []\n",
    "#     start = 0\n",
    "#     for row_index, row in df.iloc[0:Nrecords].iterrows():\n",
    "#         #print(row_index, row['track_track_uri'])\n",
    "#         track_uri = row['track_track_uri']\n",
    "#         artist_uri = row['track_artist_uri']\n",
    "#         album_uri = row['track_album_uri']\n",
    "#         if start == 0:\n",
    "#             keys = spotify.audio_features(tracks=track_uri)[0].keys()\n",
    "#         start += 1\n",
    "    \n",
    "#         track_popularity.append(spotify.track(track_uri)['popularity'])\n",
    "        \n",
    "#         indexes.append(row_index) \n",
    "#         audio_features.append(spotify.audio_features(tracks=track_uri)[0].values())\n",
    "        \n",
    "#         artist_results = spotify.artist(artist_uri)\n",
    "        \n",
    "#         artist_genre.append(artist_results['genres'])\n",
    "#         artist_popularity.append(artist_results['popularity'])\n",
    "#         #print(artist_results['genres'], artist_results['popularity'])\n",
    "#         album_results = spotify.album(album_uri)\n",
    "#         album_popularity.append(album_results['popularity'])\n",
    "        \n",
    "        \n",
    "#     features_df = pd.DataFrame(audio_features, columns=keys)\n",
    "#     features_df['song_popularity'] = track_popularity\n",
    "#     features_df['artist_genre'] = artist_genre\n",
    "#     features_df['artist_popularity']  = artist_popularity\n",
    "#     features_df['album_popularity'] = album_popularity\n",
    "#     features_df['index'] = indexes\n",
    "#     features_df.set_index('index', inplace=True)\n",
    "#     return features_df\n",
    "\n",
    "# spotify = spotipy.Spotify(client_credentials_manager=SpotifyClientCredentials())"
   ]
  },
  {
   "cell_type": "code",
   "execution_count": null,
   "id": "6468b66a",
   "metadata": {},
   "outputs": [],
   "source": [
    "# audio_sp_df = get_features(subset_df , Nrecords)\n",
    "# audio_sp_df.index.name = None\n",
    "# audio_sp_df.drop(['type', 'id', 'track_href', 'analysis_url'], inplace=True, axis=1)\n",
    "# audio_sp_df"
   ]
  },
  {
   "cell_type": "code",
   "execution_count": null,
   "id": "acf3fa94",
   "metadata": {},
   "outputs": [],
   "source": [
    "# Parameters to use for the model\n",
    "# audio_sp_df.keys()"
   ]
  },
  {
   "cell_type": "code",
   "execution_count": null,
   "id": "8689341f",
   "metadata": {},
   "outputs": [],
   "source": [
    "# check_df = subset_df.iloc[0:Nrecords].merge(audio_sp_df, how='left' , left_on = 'track_track_uri', right_on='uri')\n",
    "# check_df.drop(['track_pos', 'uri', 'mode', 'playlist_duration_ms','playlist_num_albums','playlist_num_artists',  'track_artist_uri', 'track_album_uri', 'track_duration_ms','playlist_num_followers', 'playlist_num_edits', 'playlist_collaborative', 'playlist_modified_at', 'playlist_num_tracks'], inplace = True, axis=1)\n",
    "# check_df"
   ]
  },
  {
   "cell_type": "code",
   "execution_count": null,
   "id": "06ee735b",
   "metadata": {},
   "outputs": [],
   "source": [
    "# Make album popularity equal to artist popularity if album popularity is 0\n",
    "# check_df['album_popularity'] = np.where(check_df['album_popularity'] == 0, check_df['artist_popularity'], check_df['album_popularity'])\n",
    "# check_df['song_popularity'] = np.where(check_df['song_popularity'] == 0, check_df['artist_popularity'], check_df['song_popularity'])"
   ]
  },
  {
   "cell_type": "code",
   "execution_count": null,
   "id": "fbebc670",
   "metadata": {},
   "outputs": [],
   "source": [
    "# NLP workflow\n",
    "# Need to vectorize string fields\n",
    "# Use all string fields and combine them in a column containing all the words f\n",
    "# from collections import Counter"
   ]
  },
  {
   "cell_type": "code",
   "execution_count": null,
   "id": "b8476836",
   "metadata": {},
   "outputs": [],
   "source": [
    "# check_df['artist_genre']"
   ]
  },
  {
   "cell_type": "code",
   "execution_count": null,
   "id": "bff5fc22",
   "metadata": {},
   "outputs": [],
   "source": [
    "#check_df['artist_genre'] = check_df['artist_genre'].apply(lambda x: ' '.join([i.replace('-', '_') for i in x]))\n",
    "# check_df['artist_genre'] = check_df['artist_genre'].apply(lambda x: ' '.join([i.replace('-', '_').replace('_', '') for i in x]))"
   ]
  },
  {
   "cell_type": "code",
   "execution_count": null,
   "id": "9ca351b8",
   "metadata": {},
   "outputs": [],
   "source": [
    "# check_df['artist_genre'] = check_df['artist_genre'].apply(lambda x: ' '.join(list(set(x.split()))))"
   ]
  },
  {
   "cell_type": "code",
   "execution_count": null,
   "id": "0f6d0c2c",
   "metadata": {},
   "outputs": [],
   "source": [
    "# recheck = check.apply(lambda x: list(set(x.split())))\n",
    "# print(check)\n",
    "# print(recheck)\n",
    "# # check_df['artist_genre'] = check_df['artist_genre'].apply(lambda x: ''.join([i.replace('', '_') for i in x]))"
   ]
  },
  {
   "cell_type": "code",
   "execution_count": null,
   "id": "244aa2c3",
   "metadata": {},
   "outputs": [],
   "source": [
    "label_columns = ['track_track_name', 'artist_genre']\n",
    "check_df[label_columns]"
   ]
  },
  {
   "cell_type": "code",
   "execution_count": null,
   "id": "6b4e2d69",
   "metadata": {},
   "outputs": [],
   "source": [
    "# Combine 5 fields into one\n",
    "# string_field = check_df.track_track_name.str.cat(\" \" + check_df.artist_genre)\n",
    "string_field = check_df.artist_genre\n",
    "\n",
    "string_field = string_field.replace({\"r\\&b\": \"rhythm blues\"}, regex = True)\n",
    "string_field = string_field.replace({\"[^A-Za-z ]+\": \"\"}, regex = True)\n",
    "#print('last song: ',string_field.tail())\n",
    "string_field"
   ]
  },
  {
   "cell_type": "code",
   "execution_count": null,
   "id": "ba90bfd5",
   "metadata": {},
   "outputs": [],
   "source": [
    "test_song = string_field[0:int(len(string_field)*0.4)]\n",
    "print(test_song[0])\n",
    "#fraction = 0.0\n",
    "#string_field = string_field[int(len(string_field)*fraction):]\n"
   ]
  },
  {
   "cell_type": "code",
   "execution_count": null,
   "id": "38e02447",
   "metadata": {},
   "outputs": [],
   "source": [
    "# for i in string_field:\n",
    "#     print(set(i.split()))"
   ]
  },
  {
   "cell_type": "code",
   "execution_count": null,
   "id": "5573efb1",
   "metadata": {},
   "outputs": [],
   "source": [
    "#check_df['All_text'] = check_df.track_track_name.str.cat(\" \" + check_df.artist_genre)\n",
    "check_df['All_text'] = check_df.artist_genre\n",
    "# check_df"
   ]
  },
  {
   "cell_type": "code",
   "execution_count": null,
   "id": "9567d522",
   "metadata": {},
   "outputs": [],
   "source": []
  },
  {
   "cell_type": "code",
   "execution_count": null,
   "id": "64adcb92",
   "metadata": {},
   "outputs": [],
   "source": [
    "# import nltk\n",
    "# from nltk.stem import WordNetLemmatizer"
   ]
  },
  {
   "cell_type": "code",
   "execution_count": null,
   "id": "7a873635",
   "metadata": {},
   "outputs": [],
   "source": [
    "# stopwords = nltk.corpus.stopwords.words('english')\n",
    "# lemmatizer = WordNetLemmatizer()\n",
    "# nltk.download('stopwords')"
   ]
  },
  {
   "cell_type": "code",
   "execution_count": null,
   "id": "cb8dde24",
   "metadata": {},
   "outputs": [],
   "source": [
    "check_df.keys()"
   ]
  },
  {
   "cell_type": "code",
   "execution_count": null,
   "id": "ddd4b2ff",
   "metadata": {},
   "outputs": [],
   "source": [
    "song_features = ['danceability', 'energy', 'key', 'loudness',\n",
    "       'speechiness', 'acousticness', 'instrumentalness', 'liveness',\n",
    "       'valence', 'tempo', 'song_popularity', 'artist_popularity', 'album_popularity']\n",
    "df_song_features = check_df[song_features]"
   ]
  },
  {
   "cell_type": "code",
   "execution_count": null,
   "id": "019b732d",
   "metadata": {},
   "outputs": [],
   "source": [
    "song_features_array = np.array(df_song_features)"
   ]
  },
  {
   "cell_type": "code",
   "execution_count": null,
   "id": "8c9be50e",
   "metadata": {},
   "outputs": [],
   "source": [
    "song_features = ['danceability', 'energy', 'key', 'loudness',\n",
    "       'speechiness', 'acousticness', 'instrumentalness', 'liveness',\n",
    "       'valence', 'tempo']\n",
    "df_song_features = check_df[song_features]"
   ]
  },
  {
   "cell_type": "code",
   "execution_count": null,
   "id": "ae7edce1",
   "metadata": {},
   "outputs": [],
   "source": [
    "df_song_features"
   ]
  },
  {
   "cell_type": "code",
   "execution_count": null,
   "id": "20377289",
   "metadata": {},
   "outputs": [],
   "source": [
    "song_features_array = np.array(df_song_features)"
   ]
  },
  {
   "cell_type": "code",
   "execution_count": null,
   "id": "67ec04ef",
   "metadata": {},
   "outputs": [],
   "source": []
  },
  {
   "cell_type": "code",
   "execution_count": null,
   "id": "124b3fa0",
   "metadata": {},
   "outputs": [],
   "source": [
    "vectorizer = TfidfVectorizer(stop_words='english')\n",
    "\n",
    "X_train = vectorizer.fit_transform(string_field)\n",
    "#print(X_train[0])\n",
    "x_train_array = X_train.toarray()\n",
    "\n",
    "svd = TruncatedSVD(n_components=100)\n",
    "#print(type(svd))\n",
    "text_X_train = svd.fit_transform(X_train)\n",
    "#print(text_X_train)\n",
    "#print(text_X_train.shape)\n",
    "\n",
    "#for index, value in enumerate(text_X_train):\n",
    "#    print(string_field[index], value)\n",
    "\n",
    "#print(text_X_train)\n",
    "#print(x_train_array)\n",
    "print(x_train_array.shape)\n",
    "print(x_train_array[0][44])\n",
    "f_xtrain_nosvp = np.concatenate((song_features_array, x_train_array), axis=1)\n",
    "print('xtrain_nosvp', f_xtrain_nosvp.shape)\n",
    "f_xtrain = np.concatenate((song_features_array, text_X_train), axis=1)\n",
    "#print(f_xtrain)\n",
    "print(f_xtrain.shape)\n",
    "\n",
    "#print(X_train)\n",
    "#print(f\"n_samples: {X_train.shape[0]}, n_features: {X_train.shape[1]}\")"
   ]
  },
  {
   "cell_type": "code",
   "execution_count": null,
   "id": "b1f6d848",
   "metadata": {},
   "outputs": [],
   "source": [
    "print(f\"{X_train.nnz / np.prod(X_train.shape):.3f}\")\n",
    "print(f\"About {X_train.nnz / np.prod(X_train.shape)*100:.3f}\\% of the entries in the matrix are non zero\")"
   ]
  },
  {
   "cell_type": "code",
   "execution_count": null,
   "id": "6f2f1a40",
   "metadata": {},
   "outputs": [],
   "source": [
    "# Fitting the Full MATRIX of text vectors without song_features\n",
    "true_k = 10\n",
    "\n",
    "model = KMeans(n_clusters=true_k, init='k-means++', max_iter=500, n_init=100, random_state=1)\n",
    "model.fit(preprocessing.normalize(X_train))\n",
    "X_train_dist = model.transform(X_train)**2\n",
    "print(X_train_dist.shape)\n",
    "print(X_train_dist)\n",
    "dist_df = pd.DataFrame(X_train_dist.sum(axis=1).round(2), columns=['sqdist'])\n",
    "print(X_train_dist[0].sum())\n",
    "print(X_train_dist[0].min())\n",
    "dist_df['label'] = model.labels_\n",
    "print(dist_df.head())\n",
    "print(dist_df.shape)\n",
    "#print(model.labels_)\n",
    "#print(len(model.labels_))\n",
    "\n",
    "for index, value in enumerate(model.labels_):\n",
    "    print(f\"STRING: {string_field[index]}\", f\"CLUSTER_INDEX: {value}\")\n",
    "    if index == 5:\n",
    "        break\n",
    "print('Top terms per cluster')\n",
    "order_centroids = model.cluster_centers_.argsort()[:,::-1]\n",
    "terms = vectorizer.get_feature_names_out()\n",
    "#print(terms)\n",
    "for i in range(true_k):\n",
    "    print(f\"Cluster {i}: \", end=\"\")\n",
    "    for ind in order_centroids[i,:10]:\n",
    "        print(f\"{terms[ind]} \", end=\"\")\n",
    "    print()"
   ]
  },
  {
   "cell_type": "code",
   "execution_count": null,
   "id": "63934091",
   "metadata": {},
   "outputs": [],
   "source": [
    "# Fitting the Full MATRIX of text vectors + song_features\n",
    "true_k = 10\n",
    "\n",
    "model = KMeans(n_clusters=true_k, init='k-means++', max_iter=500, n_init=100, random_state=1)\n",
    "model.fit(preprocessing.normalize(f_xtrain_nosvp))\n",
    "#print(model.labels_)\n",
    "#print(len(model.labels_))\n",
    "\n",
    "for index, value in enumerate(model.labels_):\n",
    "    print(f\"STRING: {string_field[index]}\", f\"CLUSTER_INDEX: {value}\")\n",
    "    if index == 5:\n",
    "        break\n",
    "print('Top terms per cluster')\n",
    "order_centroids = model.cluster_centers_.argsort()[:,::-1]\n",
    "terms = vectorizer.get_feature_names_out()\n",
    "#print(terms)\n",
    "for i in range(true_k):\n",
    "    print(f\"Cluster {i}: \", end=\"\")\n",
    "    for ind in order_centroids[i,:10]:\n",
    "        print(f\"{terms[ind]} \", end=\"\")\n",
    "    print()\n",
    "\n",
    "#print(list(test_song[:1]))\n",
    "#print(list(test_song)[0])\n",
    "\n",
    "# X_test = vectorizer.transform(list(test_song))\n",
    "# #print(X_test)\n",
    "# print(f\"n_samples: {X_test.shape[0]}, n_features: {X_test.shape[1]}\")\n",
    "# # feature_names = vectorizer.get_feature_names_out()\n",
    "# # print(feature_names)\n",
    "# prediction = model.predict(X_test)\n",
    "# print(prediction)"
   ]
  },
  {
   "cell_type": "code",
   "execution_count": null,
   "id": "8c54e287",
   "metadata": {},
   "outputs": [],
   "source": [
    "# Fitting the SVD MATRIX of text vectors without song_features\n",
    "true_k = 10\n",
    "\n",
    "model = KMeans(n_clusters=true_k, init='k-means++', max_iter=500, n_init=100, random_state=1)\n",
    "model.fit(preprocessing.normalize(text_X_train))\n",
    "#print(model.labels_)\n",
    "#print(len(model.labels_))\n",
    "\n",
    "for index, value in enumerate(model.labels_):\n",
    "    print(f\"STRING: {string_field[index]}\", f\"CLUSTER_INDEX: {value}\")\n",
    "    if index == 5:\n",
    "        break\n",
    "print('Top terms per cluster')\n",
    "order_centroids = model.cluster_centers_.argsort()[:,::-1]\n",
    "terms = vectorizer.get_feature_names_out()\n",
    "#print(terms)\n",
    "for i in range(true_k):\n",
    "    print(f\"Cluster {i}: \", end=\"\")\n",
    "    for ind in order_centroids[i,:5]:\n",
    "        print(f\"{terms[ind]} \", end=\"\")\n",
    "    print()"
   ]
  },
  {
   "cell_type": "code",
   "execution_count": null,
   "id": "a408db60",
   "metadata": {},
   "outputs": [],
   "source": [
    "# Fitting the SVD MATRIX of text vectors with song_features\n",
    "true_k = 10\n",
    "\n",
    "model = KMeans(n_clusters=true_k, init='k-means++', max_iter=500, n_init=100)\n",
    "model.fit(preprocessing.normalize(f_xtrain))\n",
    "#print(model.labels_)\n",
    "#print(len(model.labels_))\n",
    "\n",
    "for index, value in enumerate(model.labels_):\n",
    "    print(f\"STRING: {string_field[index]}\", f\"CLUSTER_INDEX: {value}\")\n",
    "    if index == 5:\n",
    "        break\n",
    "    \n",
    "print('Top terms per cluster')\n",
    "order_centroids = model.cluster_centers_.argsort()[:,::-1]\n",
    "terms = vectorizer.get_feature_names_out()\n",
    "#print(terms)\n",
    "for i in range(true_k):\n",
    "    print(f\"Cluster {i}: \", end=\"\")\n",
    "    for ind in order_centroids[i,:5]:\n",
    "        print(f\"{terms[ind]} \", end=\"\")\n",
    "    print()"
   ]
  },
  {
   "cell_type": "code",
   "execution_count": null,
   "id": "05fdd575",
   "metadata": {},
   "outputs": [],
   "source": [
    "#print(list(test_song[:1]))\n",
    "#print(list(test_song)[0])\n",
    "X_test = vectorizer.transform(list(test_song))\n",
    "#print(X_test)\n",
    "print(f\"n_samples: {X_test.shape[0]}, n_features: {X_test.shape[1]}\")\n",
    "# feature_names = vectorizer.get_feature_names_out()\n",
    "# print(feature_names)\n",
    "prediction = model.predict(X_test)\n",
    "print(prediction)"
   ]
  },
  {
   "cell_type": "code",
   "execution_count": null,
   "id": "44b3ff9d",
   "metadata": {},
   "outputs": [],
   "source": [
    "print(model.labels_)\n",
    "print(prediction)"
   ]
  },
  {
   "cell_type": "code",
   "execution_count": null,
   "id": "31e4cbe6",
   "metadata": {},
   "outputs": [],
   "source": [
    "# # Save machine learning model\n",
    "# filename = 'finalized_model.sav'\n",
    "# pickle.dump(model, open(filename, 'wb'))"
   ]
  },
  {
   "cell_type": "code",
   "execution_count": null,
   "id": "35bfe634",
   "metadata": {},
   "outputs": [],
   "source": [
    "# # load model only once\n",
    "# with open('finalized_model.sav', 'rb') as fid:\n",
    "#     model = pickle.load(fid)"
   ]
  },
  {
   "cell_type": "code",
   "execution_count": null,
   "id": "c5ad6e65",
   "metadata": {},
   "outputs": [],
   "source": [
    "check_df['ClusterPrediction'] = \"\"\n",
    "check_df['All_text']"
   ]
  },
  {
   "cell_type": "code",
   "execution_count": null,
   "id": "61f8a0bc",
   "metadata": {},
   "outputs": [],
   "source": [
    "def cluster_predict(str_input):\n",
    "    #print(test_song)\n",
    "    if isinstance(str_input, str):\n",
    "        # It is a single string element thus we cannot use list() and have to use brackets [] to transform to list\n",
    "        X_test = vectorizer.transform([str_input])\n",
    "        prediction = model.predict(X_test)\n",
    "    else:\n",
    "        # if is not a single string element so we can transform into a list directly using list()\n",
    "        X_test = vectorizer.transform(list(str_input))\n",
    "        prediction = model.predict(X_test)\n",
    "    return int(prediction)"
   ]
  },
  {
   "cell_type": "code",
   "execution_count": null,
   "id": "bf675c01",
   "metadata": {},
   "outputs": [],
   "source": [
    "check_df['All_text'][0]"
   ]
  },
  {
   "cell_type": "code",
   "execution_count": null,
   "id": "197e03ef",
   "metadata": {},
   "outputs": [],
   "source": [
    "cluster_predict(check_df['All_text'][0])"
   ]
  },
  {
   "cell_type": "code",
   "execution_count": null,
   "id": "3696db8f",
   "metadata": {},
   "outputs": [],
   "source": [
    "cluster_predict([check_df['All_text'][0]])"
   ]
  },
  {
   "cell_type": "code",
   "execution_count": null,
   "id": "18b7d9fc",
   "metadata": {
    "scrolled": true
   },
   "outputs": [],
   "source": [
    "result = check_df['All_text'].apply(lambda x: cluster_predict(x))\n",
    "print(result)"
   ]
  },
  {
   "cell_type": "code",
   "execution_count": null,
   "id": "4fe4b283",
   "metadata": {},
   "outputs": [],
   "source": [
    "# for i in check_df['All_text']:\n",
    "#     pred = cluster_predict(i)\n",
    "#     print(i, pred)\n",
    "check_df['ClusterPrediction'] = check_df['All_text'].apply(lambda x: cluster_predict(x))"
   ]
  },
  {
   "cell_type": "code",
   "execution_count": null,
   "id": "c9aa6341",
   "metadata": {},
   "outputs": [],
   "source": [
    "check_df"
   ]
  },
  {
   "cell_type": "code",
   "execution_count": null,
   "id": "7ea410ee",
   "metadata": {},
   "outputs": [],
   "source": [
    "# for seed in range(5):\n",
    "#     model = KMeans(\n",
    "#         n_clusters=true_k,\n",
    "#         max_iter=500,\n",
    "#         n_init=1,\n",
    "#         random_state=seed,\n",
    "#     ).fit(X)\n",
    "#     cluster_ids, cluster_sizes = np.unique(model.labels_, return_counts=True)\n",
    "#     print(f\"Number of elements asigned to each cluster: {cluster_sizes}\")\n",
    "# print()"
   ]
  },
  {
   "cell_type": "code",
   "execution_count": null,
   "id": "1b313009",
   "metadata": {},
   "outputs": [],
   "source": [
    "def recommend_util(artist_name, song_name):\n",
    "    \n",
    "    # Predict category of input string category\n",
    "    chosen_song_df = check_df.loc[(check_df['track_artist_name'] == artist_name) & (check_df['track_track_name'] == song_name)]\n",
    "    str_input = chosen_song_df.track_track_name.str.cat(\" \" + chosen_song_df.artist_genre)\n",
    "        \n",
    "    prediction_inp = cluster_predict(str_input)\n",
    "    prediction_inp = int(prediction_inp)\n",
    "    \n",
    "    temp_df = check_df.loc[check_df['ClusterPrediction'] == prediction_inp]\n",
    "    new_temp_df = temp_df.sample(5)\n",
    "    \n",
    "    return chosen_song_df[['track_artist_name', 'track_track_name']], new_temp_df[['track_artist_name', 'track_track_name']]"
   ]
  },
  {
   "cell_type": "code",
   "execution_count": null,
   "id": "def04888",
   "metadata": {},
   "outputs": [],
   "source": [
    "song_choice = 2\n",
    "print(check_df['track_artist_name'][song_choice], check_df['track_track_name'][song_choice])\n",
    "temp_df = check_df.loc[(check_df['track_artist_name'] == check_df['track_artist_name'][0]) & (check_df['track_track_name'] == check_df['track_track_name'][0])]\n",
    "string_input = temp_df.track_track_name.str.cat(\" \" + temp_df.artist_genre)\n",
    "string_input\n",
    "prediction_inp = cluster_predict(string_input)\n",
    "print(prediction_inp)"
   ]
  },
  {
   "cell_type": "code",
   "execution_count": null,
   "id": "cbc45619",
   "metadata": {},
   "outputs": [],
   "source": [
    "song_choice = 1\n",
    "original_song , recommended_songs = recommend_util(check_df['track_artist_name'][song_choice], check_df['track_track_name'][song_choice])\n",
    "print(original_song)\n",
    "print('\\n')\n",
    "print(recommended_songs)"
   ]
  },
  {
   "cell_type": "code",
   "execution_count": null,
   "id": "eed980c6",
   "metadata": {},
   "outputs": [],
   "source": [
    "# Example of how to pull metadata from a single track \n",
    "spotify = spotipy.Spotify(client_credentials_manager=SpotifyClientCredentials())\n",
    "\n",
    "Row = 5 \n",
    "\n",
    "track_uri = subset_df.iloc[Row]['track_track_uri']\n",
    "artist_uri = subset_df.iloc[Row]['track_artist_uri']\n",
    "album_uri = subset_df.iloc[Row]['track_album_uri']\n",
    "\n",
    "print('ARTIST: ', subset_df.iloc[Row]['track_artist_name'])\n",
    "print('ALBUM: ', subset_df.iloc[Row]['track_album_name'])\n",
    "print('SONG: ', subset_df.iloc[Row]['track_track_name'])\n",
    "track_popularity = spotify.track(track_uri)['popularity']\n",
    "print('track_popularity: ', track_popularity)\n",
    "track_results = spotify.audio_features(tracks=track_uri)\n",
    "print('audio_features: ', track_results[0])\n",
    "artist_results = spotify.artist(artist_uri)\n",
    "print('artist_genre: ', artist_results['genres'])\n",
    "print('artist_popularity: ', artist_results['popularity'])\n",
    "artist_albums_results = spotify.artist_albums(artist_uri)\n",
    "#print(artist_albums_results)\n",
    "album_results = spotify.album(album_uri)\n",
    "print('album_popularity: ',album_results['popularity'])\n",
    "print('album_keys: ', album_results.keys())\n",
    "# print(artist_results['genres'])\n",
    "# print(artist_results['popularity'])"
   ]
  },
  {
   "cell_type": "code",
   "execution_count": null,
   "id": "581bb203",
   "metadata": {},
   "outputs": [],
   "source": [
    "# Work only with important features\n",
    "important_features = ['track_artist_name', 'track_track_name', 'playlist_name', 'playlist_duration_ms', 'playlist_description']"
   ]
  },
  {
   "cell_type": "code",
   "execution_count": null,
   "id": "400fa521",
   "metadata": {},
   "outputs": [],
   "source": [
    "artist_count_df = subset_df[['playlist_name','track_artist_name']].groupby(['playlist_name'], sort=False).value_counts(sort=False).reset_index(name=\"artist_count\")"
   ]
  },
  {
   "cell_type": "code",
   "execution_count": null,
   "id": "4732e679",
   "metadata": {},
   "outputs": [],
   "source": [
    "artist_count_df"
   ]
  },
  {
   "cell_type": "code",
   "execution_count": null,
   "id": "925ebab1",
   "metadata": {},
   "outputs": [],
   "source": [
    "subset_df[['playlist_name', 'track_artist_name']]"
   ]
  },
  {
   "cell_type": "code",
   "execution_count": null,
   "id": "21b66937",
   "metadata": {},
   "outputs": [],
   "source": [
    "subset_df[['playlist_name','track_artist_name']].groupby(['playlist_name'], sort = False).value_counts(sort=False).reset_index(name=\"artist_count\").info()"
   ]
  },
  {
   "cell_type": "code",
   "execution_count": null,
   "id": "f4e42896",
   "metadata": {},
   "outputs": [],
   "source": [
    "music_df = pd.merge(subset_df, artist_count_df,  how='left', on = ['playlist_name','track_artist_name'])"
   ]
  },
  {
   "cell_type": "code",
   "execution_count": null,
   "id": "427f4f83",
   "metadata": {},
   "outputs": [],
   "source": [
    "music_df"
   ]
  },
  {
   "cell_type": "code",
   "execution_count": null,
   "id": "c9a58b28",
   "metadata": {},
   "outputs": [],
   "source": [
    "# subset_df.join(.sum(), on='playlist_name', rsuffix='_count')\n",
    "subset_df.groupby(['playlist_name','track_artist_name']).size().unstack(fill_value=0)"
   ]
  },
  {
   "cell_type": "code",
   "execution_count": null,
   "id": "8ba0742d",
   "metadata": {},
   "outputs": [],
   "source": [
    "music_df[['track_artist_name','track_track_name']].apply(lambda x: ',.'.join(x),axis=1)"
   ]
  },
  {
   "cell_type": "code",
   "execution_count": null,
   "id": "41d66061",
   "metadata": {},
   "outputs": [],
   "source": [
    "important_features.append(\"artist_count\")"
   ]
  },
  {
   "cell_type": "code",
   "execution_count": null,
   "id": "9ce523d3",
   "metadata": {},
   "outputs": [],
   "source": [
    "music_df[important_features]"
   ]
  },
  {
   "cell_type": "code",
   "execution_count": null,
   "id": "f183f02e",
   "metadata": {},
   "outputs": [],
   "source": [
    "music_df['artist_fraction'] =  music_df['artist_count'] / music_df['playlist_num_tracks'] \n",
    "music_df"
   ]
  },
  {
   "cell_type": "code",
   "execution_count": null,
   "id": "e962b025",
   "metadata": {},
   "outputs": [],
   "source": [
    "subset_df.groupby(['playlist_name','track_artist_name']).size().unstack(fill_value=0)"
   ]
  },
  {
   "cell_type": "code",
   "execution_count": null,
   "id": "66d47155",
   "metadata": {},
   "outputs": [],
   "source": [
    "music_df[music_df['playlist_num_tracks'] == Ntracks][['track_artist_name','track_track_name']].apply(lambda x: ',.'.join(x),axis=1).value_counts() "
   ]
  },
  {
   "cell_type": "code",
   "execution_count": null,
   "id": "47f8d106",
   "metadata": {},
   "outputs": [],
   "source": [
    "vc = music_df[music_df['playlist_num_tracks'] == Ntracks][['track_artist_name','track_track_name']].apply(lambda x: ',.'.join(x), axis=1).value_counts()\n",
    "vc[vc > 1].sum() - len(vc[vc > 1])"
   ]
  },
  {
   "cell_type": "code",
   "execution_count": null,
   "id": "b9cb6e8a",
   "metadata": {},
   "outputs": [],
   "source": [
    "# for i in df[['track_artist_name','track_track_name']].apply(lambda x: ',.'.join(x),axis=1).unique():\n",
    "# #     print(i.split(',.'))\n",
    "#     if len(i.split(',.')) == 2:\n",
    "#         print(i)"
   ]
  },
  {
   "cell_type": "code",
   "execution_count": null,
   "id": "87c3d6f6",
   "metadata": {},
   "outputs": [],
   "source": [
    "np.unique(music_df[music_df['playlist_num_tracks'] == Ntracks]['track_track_name'])"
   ]
  },
  {
   "cell_type": "code",
   "execution_count": null,
   "id": "087a2398",
   "metadata": {},
   "outputs": [],
   "source": [
    "important_features = ['track_artist_name', 'track_track_name', 'playlist_name', 'playlist_num_tracks', 'playlist_num_albums', 'playlist_duration_ms', 'playlist_num_artists']"
   ]
  },
  {
   "cell_type": "code",
   "execution_count": null,
   "id": "d2fab0dc",
   "metadata": {},
   "outputs": [],
   "source": [
    "music_df[music_df['playlist_num_tracks'] == 20][['track_artist_name', 'track_track_name', 'playlist_name', 'playlist_num_tracks', 'playlist_num_albums', 'playlist_duration_ms', 'playlist_num_artists', 'playlist_description']]"
   ]
  },
  {
   "cell_type": "code",
   "execution_count": null,
   "id": "333fd6fb",
   "metadata": {},
   "outputs": [],
   "source": [
    "music_df[music_df['playlist_num_tracks'] == Ntracks][important_features].groupby('playlist_name')['track_artist_name'].value_counts()"
   ]
  },
  {
   "cell_type": "code",
   "execution_count": null,
   "id": "40be7ceb",
   "metadata": {},
   "outputs": [],
   "source": []
  }
 ],
 "metadata": {
  "kernelspec": {
   "display_name": "Python 3 (ipykernel)",
   "language": "python",
   "name": "python3"
  },
  "language_info": {
   "codemirror_mode": {
    "name": "ipython",
    "version": 3
   },
   "file_extension": ".py",
   "mimetype": "text/x-python",
   "name": "python",
   "nbconvert_exporter": "python",
   "pygments_lexer": "ipython3",
   "version": "3.10.9"
  }
 },
 "nbformat": 4,
 "nbformat_minor": 5
}
