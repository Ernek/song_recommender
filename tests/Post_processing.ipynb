{
 "cells": [
  {
   "cell_type": "code",
   "execution_count": 9,
   "id": "aff0d328",
   "metadata": {},
   "outputs": [
    {
     "ename": "NameError",
     "evalue": "name 'df' is not defined",
     "output_type": "error",
     "traceback": [
      "\u001b[0;31m---------------------------------------------------------------------------\u001b[0m",
      "\u001b[0;31mNameError\u001b[0m                                 Traceback (most recent call last)",
      "\u001b[0;32m/var/folders/xx/drdjh9y94cq_s220yzgchmsw0000gp/T/ipykernel_2823/301011448.py\u001b[0m in \u001b[0;36m<module>\u001b[0;34m\u001b[0m\n\u001b[1;32m      1\u001b[0m \u001b[0;31m# Define your test dataframe\u001b[0m\u001b[0;34m\u001b[0m\u001b[0;34m\u001b[0m\u001b[0m\n\u001b[1;32m      2\u001b[0m \u001b[0;34m\u001b[0m\u001b[0m\n\u001b[0;32m----> 3\u001b[0;31m \u001b[0mtest_df\u001b[0m \u001b[0;34m=\u001b[0m \u001b[0mdf\u001b[0m\u001b[0;34m\u001b[0m\u001b[0;34m\u001b[0m\u001b[0m\n\u001b[0m",
      "\u001b[0;31mNameError\u001b[0m: name 'df' is not defined"
     ]
    }
   ],
   "source": [
    "# Define your test dataframe\n",
    "\n",
    "test_df = df"
   ]
  },
  {
   "cell_type": "code",
   "execution_count": 10,
   "id": "b76df702",
   "metadata": {},
   "outputs": [],
   "source": [
    "# Input songs & prediction custamization\n",
    "\n",
    "requred_recommendations = 5\n",
    "refinement = 1\n",
    "\n",
    "input_songs_indices = [1, 2, 3, 4, 5, 6, 7, 8, 9, 10, 11, 12, 13, 14]"
   ]
  },
  {
   "cell_type": "code",
   "execution_count": 11,
   "id": "68ce1936",
   "metadata": {},
   "outputs": [
    {
     "ename": "NameError",
     "evalue": "name 'test_df' is not defined",
     "output_type": "error",
     "traceback": [
      "\u001b[0;31m---------------------------------------------------------------------------\u001b[0m",
      "\u001b[0;31mNameError\u001b[0m                                 Traceback (most recent call last)",
      "\u001b[0;32m/var/folders/xx/drdjh9y94cq_s220yzgchmsw0000gp/T/ipykernel_2823/1629610237.py\u001b[0m in \u001b[0;36m<module>\u001b[0;34m\u001b[0m\n\u001b[1;32m      1\u001b[0m \u001b[0;31m# Preprocessing input song data\u001b[0m\u001b[0;34m\u001b[0m\u001b[0;34m\u001b[0m\u001b[0m\n\u001b[1;32m      2\u001b[0m \u001b[0;34m\u001b[0m\u001b[0m\n\u001b[0;32m----> 3\u001b[0;31m \u001b[0minput_songs_data\u001b[0m \u001b[0;34m=\u001b[0m \u001b[0mtest_df\u001b[0m\u001b[0;34m.\u001b[0m\u001b[0mloc\u001b[0m\u001b[0;34m[\u001b[0m\u001b[0minput_songs_indices\u001b[0m\u001b[0;34m]\u001b[0m\u001b[0;34m\u001b[0m\u001b[0;34m\u001b[0m\u001b[0m\n\u001b[0m\u001b[1;32m      4\u001b[0m \u001b[0;34m\u001b[0m\u001b[0m\n\u001b[1;32m      5\u001b[0m \u001b[0minput_songs_numerical\u001b[0m \u001b[0;34m=\u001b[0m \u001b[0minput_songs_data\u001b[0m\u001b[0;34m[\u001b[0m\u001b[0mnumerical_features\u001b[0m\u001b[0;34m]\u001b[0m\u001b[0;34m\u001b[0m\u001b[0;34m\u001b[0m\u001b[0m\n",
      "\u001b[0;31mNameError\u001b[0m: name 'test_df' is not defined"
     ]
    }
   ],
   "source": [
    "# Preprocessing input song data\n",
    "\n",
    "input_songs_data = test_df.loc[input_songs_indices]\n",
    "\n",
    "input_songs_numerical = input_songs_data[numerical_features]\n",
    "input_songs_combined = input_songs_numerical\n",
    "input_songs_combined_scaled = scaler.transform(input_songs_combined)"
   ]
  },
  {
   "cell_type": "code",
   "execution_count": 12,
   "id": "548dd651",
   "metadata": {},
   "outputs": [
    {
     "ename": "NameError",
     "evalue": "name 'fuzz' is not defined",
     "output_type": "error",
     "traceback": [
      "\u001b[0;31m---------------------------------------------------------------------------\u001b[0m",
      "\u001b[0;31mNameError\u001b[0m                                 Traceback (most recent call last)",
      "\u001b[0;32m/var/folders/xx/drdjh9y94cq_s220yzgchmsw0000gp/T/ipykernel_2823/671476829.py\u001b[0m in \u001b[0;36m<module>\u001b[0;34m\u001b[0m\n\u001b[1;32m      1\u001b[0m \u001b[0;31m# Input songs cluster membership matrix\u001b[0m\u001b[0;34m\u001b[0m\u001b[0;34m\u001b[0m\u001b[0m\n\u001b[1;32m      2\u001b[0m \u001b[0;34m\u001b[0m\u001b[0m\n\u001b[0;32m----> 3\u001b[0;31m \u001b[0minput_songs_membership\u001b[0m \u001b[0;34m=\u001b[0m \u001b[0mfuzz\u001b[0m\u001b[0;34m.\u001b[0m\u001b[0mcluster\u001b[0m\u001b[0;34m.\u001b[0m\u001b[0mcmeans_predict\u001b[0m\u001b[0;34m(\u001b[0m\u001b[0minput_songs_combined_scaled\u001b[0m\u001b[0;34m.\u001b[0m\u001b[0mT\u001b[0m\u001b[0;34m,\u001b[0m \u001b[0mcntr\u001b[0m\u001b[0;34m,\u001b[0m \u001b[0;36m2\u001b[0m\u001b[0;34m,\u001b[0m \u001b[0merror\u001b[0m\u001b[0;34m=\u001b[0m\u001b[0;36m0.000005\u001b[0m\u001b[0;34m,\u001b[0m \u001b[0mmaxiter\u001b[0m\u001b[0;34m=\u001b[0m\u001b[0;36m50000\u001b[0m\u001b[0;34m)\u001b[0m\u001b[0;34m[\u001b[0m\u001b[0;36m0\u001b[0m\u001b[0;34m]\u001b[0m\u001b[0;34m\u001b[0m\u001b[0;34m\u001b[0m\u001b[0m\n\u001b[0m",
      "\u001b[0;31mNameError\u001b[0m: name 'fuzz' is not defined"
     ]
    }
   ],
   "source": [
    "# Input songs cluster membership matrix\n",
    "\n",
    "input_songs_membership = fuzz.cluster.cmeans_predict(input_songs_combined_scaled.T, cntr, 2, error=0.000005, maxiter=50000)[0]"
   ]
  },
  {
   "cell_type": "code",
   "execution_count": 13,
   "id": "9f7b6a77",
   "metadata": {},
   "outputs": [
    {
     "ename": "NameError",
     "evalue": "name 'all_songs_membership' is not defined",
     "output_type": "error",
     "traceback": [
      "\u001b[0;31m---------------------------------------------------------------------------\u001b[0m",
      "\u001b[0;31mNameError\u001b[0m                                 Traceback (most recent call last)",
      "\u001b[0;32m/var/folders/xx/drdjh9y94cq_s220yzgchmsw0000gp/T/ipykernel_2823/3605413105.py\u001b[0m in \u001b[0;36m<module>\u001b[0;34m\u001b[0m\n\u001b[1;32m      1\u001b[0m \u001b[0mall_songs_membership_array\u001b[0m \u001b[0;34m=\u001b[0m \u001b[0;34m[\u001b[0m\u001b[0;34m]\u001b[0m\u001b[0;34m\u001b[0m\u001b[0;34m\u001b[0m\u001b[0m\n\u001b[0;32m----> 2\u001b[0;31m \u001b[0;32mfor\u001b[0m \u001b[0msong_membership\u001b[0m \u001b[0;32min\u001b[0m \u001b[0mall_songs_membership\u001b[0m\u001b[0;34m.\u001b[0m\u001b[0mT\u001b[0m\u001b[0;34m:\u001b[0m\u001b[0;34m\u001b[0m\u001b[0;34m\u001b[0m\u001b[0m\n\u001b[0m\u001b[1;32m      3\u001b[0m     \u001b[0mall_sorted_indices\u001b[0m \u001b[0;34m=\u001b[0m \u001b[0mnp\u001b[0m\u001b[0;34m.\u001b[0m\u001b[0margsort\u001b[0m\u001b[0;34m(\u001b[0m\u001b[0msong_membership\u001b[0m\u001b[0;34m)\u001b[0m\u001b[0;34m[\u001b[0m\u001b[0;34m:\u001b[0m\u001b[0;34m:\u001b[0m\u001b[0;34m-\u001b[0m\u001b[0;36m1\u001b[0m\u001b[0;34m]\u001b[0m\u001b[0;34m\u001b[0m\u001b[0;34m\u001b[0m\u001b[0m\n\u001b[1;32m      4\u001b[0m     \u001b[0mall_songs_membership_array\u001b[0m\u001b[0;34m.\u001b[0m\u001b[0mappend\u001b[0m\u001b[0;34m(\u001b[0m\u001b[0mall_sorted_indices\u001b[0m\u001b[0;34m)\u001b[0m\u001b[0;34m\u001b[0m\u001b[0;34m\u001b[0m\u001b[0m\n\u001b[1;32m      5\u001b[0m \u001b[0;34m\u001b[0m\u001b[0m\n",
      "\u001b[0;31mNameError\u001b[0m: name 'all_songs_membership' is not defined"
     ]
    }
   ],
   "source": [
    "all_songs_membership_array = []\n",
    "for song_membership in all_songs_membership.T:\n",
    "    all_sorted_indices = np.argsort(song_membership)[::-1]\n",
    "    all_songs_membership_array.append(all_sorted_indices)\n",
    "\n",
    "#print('membership cluster ranking for all songs(clusters get distant from left to right):')\n",
    "#all_songs_membership_array"
   ]
  },
  {
   "cell_type": "code",
   "execution_count": 14,
   "id": "0261b893",
   "metadata": {},
   "outputs": [
    {
     "name": "stdout",
     "output_type": "stream",
     "text": [
      "cluster ranking for each input tarck:\n",
      "\n"
     ]
    },
    {
     "ename": "NameError",
     "evalue": "name 'input_songs_membership' is not defined",
     "output_type": "error",
     "traceback": [
      "\u001b[0;31m---------------------------------------------------------------------------\u001b[0m",
      "\u001b[0;31mNameError\u001b[0m                                 Traceback (most recent call last)",
      "\u001b[0;32m/var/folders/xx/drdjh9y94cq_s220yzgchmsw0000gp/T/ipykernel_2823/2271937557.py\u001b[0m in \u001b[0;36m<module>\u001b[0;34m\u001b[0m\n\u001b[1;32m      7\u001b[0m \u001b[0msorted_indices_array\u001b[0m \u001b[0;34m=\u001b[0m \u001b[0;34m[\u001b[0m\u001b[0;34m]\u001b[0m\u001b[0;34m\u001b[0m\u001b[0;34m\u001b[0m\u001b[0m\n\u001b[1;32m      8\u001b[0m \u001b[0;34m\u001b[0m\u001b[0m\n\u001b[0;32m----> 9\u001b[0;31m \u001b[0;32mfor\u001b[0m \u001b[0minput_membership_array\u001b[0m \u001b[0;32min\u001b[0m \u001b[0minput_songs_membership\u001b[0m\u001b[0;34m.\u001b[0m\u001b[0mT\u001b[0m\u001b[0;34m:\u001b[0m\u001b[0;34m\u001b[0m\u001b[0;34m\u001b[0m\u001b[0m\n\u001b[0m\u001b[1;32m     10\u001b[0m     \u001b[0msorted_indices\u001b[0m \u001b[0;34m=\u001b[0m \u001b[0mnp\u001b[0m\u001b[0;34m.\u001b[0m\u001b[0margsort\u001b[0m\u001b[0;34m(\u001b[0m\u001b[0minput_membership_array\u001b[0m\u001b[0;34m)\u001b[0m\u001b[0;34m[\u001b[0m\u001b[0;34m:\u001b[0m\u001b[0;34m:\u001b[0m\u001b[0;34m-\u001b[0m\u001b[0;36m1\u001b[0m\u001b[0;34m]\u001b[0m\u001b[0;34m\u001b[0m\u001b[0;34m\u001b[0m\u001b[0m\n\u001b[1;32m     11\u001b[0m     \u001b[0msorted_indices_array\u001b[0m\u001b[0;34m.\u001b[0m\u001b[0mappend\u001b[0m\u001b[0;34m(\u001b[0m\u001b[0msorted_indices\u001b[0m\u001b[0;34m)\u001b[0m\u001b[0;34m\u001b[0m\u001b[0;34m\u001b[0m\u001b[0m\n",
      "\u001b[0;31mNameError\u001b[0m: name 'input_songs_membership' is not defined"
     ]
    }
   ],
   "source": [
    "# cluster ranking for each input song\n",
    "\n",
    "print('cluster ranking for each input tarck:')\n",
    "print('')\n",
    "i = 0\n",
    "cluster_num_string_array = []\n",
    "sorted_indices_array = []\n",
    "\n",
    "for input_membership_array in input_songs_membership.T:\n",
    "    sorted_indices = np.argsort(input_membership_array)[::-1]\n",
    "    sorted_indices_array.append(sorted_indices)\n",
    "    \n",
    "    cluster_num_string = \"Cluster ranks for Input Track {}:    \".format(i)\n",
    "    cluster_num_string_array.append(cluster_num_string)\n",
    "    \n",
    "    i=i+1\n",
    "    \n",
    "test_encoding = tuple(zip(cluster_num_string_array , sorted_indices_array))\n",
    "\n",
    "for cluster_rankings in test_encoding:\n",
    "    cluster_label = cluster_rankings[0]\n",
    "    cluster_array = cluster_rankings[1].tolist()\n",
    "    print(cluster_label, cluster_array)"
   ]
  },
  {
   "cell_type": "code",
   "execution_count": 15,
   "id": "c8421c9f",
   "metadata": {},
   "outputs": [
    {
     "ename": "NameError",
     "evalue": "name 'np' is not defined",
     "output_type": "error",
     "traceback": [
      "\u001b[0;31m---------------------------------------------------------------------------\u001b[0m",
      "\u001b[0;31mNameError\u001b[0m                                 Traceback (most recent call last)",
      "\u001b[0;32m/var/folders/xx/drdjh9y94cq_s220yzgchmsw0000gp/T/ipykernel_2823/17635155.py\u001b[0m in \u001b[0;36m<module>\u001b[0;34m\u001b[0m\n\u001b[1;32m      1\u001b[0m \u001b[0;31m# final cluster ranking by considering distance of all songs to all clusters\u001b[0m\u001b[0;34m\u001b[0m\u001b[0;34m\u001b[0m\u001b[0m\n\u001b[1;32m      2\u001b[0m \u001b[0;34m\u001b[0m\u001b[0m\n\u001b[0;32m----> 3\u001b[0;31m \u001b[0minput_songs_membership_sum\u001b[0m \u001b[0;34m=\u001b[0m \u001b[0mnp\u001b[0m\u001b[0;34m.\u001b[0m\u001b[0msum\u001b[0m\u001b[0;34m(\u001b[0m\u001b[0minput_songs_membership\u001b[0m\u001b[0;34m.\u001b[0m\u001b[0mT\u001b[0m\u001b[0;34m,\u001b[0m \u001b[0maxis\u001b[0m\u001b[0;34m=\u001b[0m\u001b[0;36m0\u001b[0m\u001b[0;34m)\u001b[0m\u001b[0;34m\u001b[0m\u001b[0;34m\u001b[0m\u001b[0m\n\u001b[0m\u001b[1;32m      4\u001b[0m \u001b[0minput_songs_membership_sum\u001b[0m\u001b[0;34m\u001b[0m\u001b[0;34m\u001b[0m\u001b[0m\n\u001b[1;32m      5\u001b[0m \u001b[0;34m\u001b[0m\u001b[0m\n",
      "\u001b[0;31mNameError\u001b[0m: name 'np' is not defined"
     ]
    }
   ],
   "source": [
    "# final cluster ranking by considering distance of all songs to all clusters\n",
    "\n",
    "input_songs_membership_sum = np.sum(input_songs_membership.T, axis=0)\n",
    "input_songs_membership_sum\n",
    "\n",
    "input_songs_membership_sorted_indices = np.argsort(input_songs_membership_sum)[::-1]\n",
    "print('Final cluster ranking by considering distance from each input track to each cluster center:')\n",
    "print('')\n",
    "print(input_songs_membership_sorted_indices)"
   ]
  },
  {
   "cell_type": "code",
   "execution_count": 16,
   "id": "0a180a9e",
   "metadata": {},
   "outputs": [
    {
     "ename": "NameError",
     "evalue": "name 'input_songs_membership_sorted_indices' is not defined",
     "output_type": "error",
     "traceback": [
      "\u001b[0;31m---------------------------------------------------------------------------\u001b[0m",
      "\u001b[0;31mNameError\u001b[0m                                 Traceback (most recent call last)",
      "\u001b[0;32m/var/folders/xx/drdjh9y94cq_s220yzgchmsw0000gp/T/ipykernel_2823/3160027660.py\u001b[0m in \u001b[0;36m<module>\u001b[0;34m\u001b[0m\n\u001b[1;32m      1\u001b[0m \u001b[0;31m# all matching tracks under the defined refinement level\u001b[0m\u001b[0;34m\u001b[0m\u001b[0;34m\u001b[0m\u001b[0m\n\u001b[1;32m      2\u001b[0m \u001b[0;34m\u001b[0m\u001b[0m\n\u001b[0;32m----> 3\u001b[0;31m \u001b[0mtarget_array\u001b[0m \u001b[0;34m=\u001b[0m \u001b[0minput_songs_membership_sorted_indices\u001b[0m\u001b[0;34m[\u001b[0m\u001b[0;36m0\u001b[0m\u001b[0;34m:\u001b[0m\u001b[0mrefinement\u001b[0m\u001b[0;34m]\u001b[0m\u001b[0;34m\u001b[0m\u001b[0;34m\u001b[0m\u001b[0m\n\u001b[0m\u001b[1;32m      4\u001b[0m \u001b[0;34m\u001b[0m\u001b[0m\n\u001b[1;32m      5\u001b[0m \u001b[0mmatching_index\u001b[0m \u001b[0;34m=\u001b[0m \u001b[0;32mNone\u001b[0m\u001b[0;34m\u001b[0m\u001b[0;34m\u001b[0m\u001b[0m\n",
      "\u001b[0;31mNameError\u001b[0m: name 'input_songs_membership_sorted_indices' is not defined"
     ]
    }
   ],
   "source": [
    "# all matching tracks under the defined refinement level\n",
    "\n",
    "target_array = input_songs_membership_sorted_indices[0:refinement]\n",
    "\n",
    "matching_index = None\n",
    "matching_index_array = []\n",
    "\n",
    "# Iterating over the array list\n",
    "for index, arr in enumerate(all_songs_membership_array):\n",
    "    # Checking if the first two entries match\n",
    "\n",
    "    if np.array_equal(arr[:refinement], target_array):\n",
    "        matching_index = index\n",
    "        matching_index_array.append(matching_index)\n",
    "        #break  # Exit the loop after finding the first match\n",
    "\n",
    "# Printing the matching index\n",
    "    if matching_index is not None:\n",
    "        print(\"Matching index:\", matching_index)\n",
    "        \n",
    "        #print(\"Matching Track:\", song_data[\"track_name\"][matching_index])\n",
    "        print(\"Matching Track:\", test_df[\"track_name\"][matching_index])\n",
    "        \n",
    "        #print(\"Playlist of matching Track:\", check_df['playlist_name'][matching_index])\n",
    "        \n",
    "        print('')\n",
    "    #else:\n",
    "        #print(\"No match found.\")\n",
    "    matching_index = None\n",
    "if matching_index is None:\n",
    "    print(\"No match found.\")"
   ]
  },
  {
   "cell_type": "code",
   "execution_count": 17,
   "id": "baea9d1f",
   "metadata": {},
   "outputs": [
    {
     "ename": "NameError",
     "evalue": "name 'test_df' is not defined",
     "output_type": "error",
     "traceback": [
      "\u001b[0;31m---------------------------------------------------------------------------\u001b[0m",
      "\u001b[0;31mNameError\u001b[0m                                 Traceback (most recent call last)",
      "\u001b[0;32m/var/folders/xx/drdjh9y94cq_s220yzgchmsw0000gp/T/ipykernel_2823/2160138793.py\u001b[0m in \u001b[0;36m<module>\u001b[0;34m\u001b[0m\n\u001b[1;32m      1\u001b[0m \u001b[0;31m#matching_track_names = song_data[\"track_name\"][matching_index_array]\u001b[0m\u001b[0;34m\u001b[0m\u001b[0;34m\u001b[0m\u001b[0m\n\u001b[0;32m----> 2\u001b[0;31m \u001b[0mmatching_track_names\u001b[0m \u001b[0;34m=\u001b[0m \u001b[0mtest_df\u001b[0m\u001b[0;34m[\u001b[0m\u001b[0;34m\"track_name\"\u001b[0m\u001b[0;34m]\u001b[0m\u001b[0;34m[\u001b[0m\u001b[0mmatching_index_array\u001b[0m\u001b[0;34m]\u001b[0m\u001b[0;34m\u001b[0m\u001b[0;34m\u001b[0m\u001b[0m\n\u001b[0m\u001b[1;32m      3\u001b[0m \u001b[0;34m\u001b[0m\u001b[0m\n\u001b[1;32m      4\u001b[0m \u001b[0;34m\u001b[0m\u001b[0m\n\u001b[1;32m      5\u001b[0m \u001b[0;31m#matching_playlist_names = song_data['playlist_name'][matching_index_array]\u001b[0m\u001b[0;34m\u001b[0m\u001b[0;34m\u001b[0m\u001b[0m\n",
      "\u001b[0;31mNameError\u001b[0m: name 'test_df' is not defined"
     ]
    }
   ],
   "source": [
    "#matching_track_names = song_data[\"track_name\"][matching_index_array]\n",
    "matching_track_names = test_df[\"track_name\"][matching_index_array]\n",
    "\n",
    "\n",
    "#matching_playlist_names = song_data['playlist_name'][matching_index_array]"
   ]
  },
  {
   "cell_type": "code",
   "execution_count": 18,
   "id": "0cd34f13",
   "metadata": {},
   "outputs": [
    {
     "ename": "NameError",
     "evalue": "name 'matching_index_array' is not defined",
     "output_type": "error",
     "traceback": [
      "\u001b[0;31m---------------------------------------------------------------------------\u001b[0m",
      "\u001b[0;31mNameError\u001b[0m                                 Traceback (most recent call last)",
      "\u001b[0;32m/var/folders/xx/drdjh9y94cq_s220yzgchmsw0000gp/T/ipykernel_2823/3465653254.py\u001b[0m in \u001b[0;36m<module>\u001b[0;34m\u001b[0m\n\u001b[1;32m      3\u001b[0m \u001b[0mall_song_cumulative_distance\u001b[0m \u001b[0;34m=\u001b[0m \u001b[0;34m[\u001b[0m\u001b[0;34m]\u001b[0m\u001b[0;34m\u001b[0m\u001b[0;34m\u001b[0m\u001b[0m\n\u001b[1;32m      4\u001b[0m \u001b[0;34m\u001b[0m\u001b[0m\n\u001b[0;32m----> 5\u001b[0;31m \u001b[0;32mfor\u001b[0m \u001b[0meach_index\u001b[0m \u001b[0;32min\u001b[0m \u001b[0mmatching_index_array\u001b[0m\u001b[0;34m:\u001b[0m\u001b[0;34m\u001b[0m\u001b[0;34m\u001b[0m\u001b[0m\n\u001b[0m\u001b[1;32m      6\u001b[0m     \u001b[0meach_track_distances\u001b[0m \u001b[0;34m=\u001b[0m \u001b[0mall_songs_membership\u001b[0m\u001b[0;34m[\u001b[0m\u001b[0;34m:\u001b[0m\u001b[0;34m,\u001b[0m\u001b[0meach_index\u001b[0m\u001b[0;34m]\u001b[0m\u001b[0;34m\u001b[0m\u001b[0;34m\u001b[0m\u001b[0m\n\u001b[1;32m      7\u001b[0m     \u001b[0mcumulative_distance\u001b[0m \u001b[0;34m=\u001b[0m \u001b[0mnp\u001b[0m\u001b[0;34m.\u001b[0m\u001b[0msum\u001b[0m\u001b[0;34m(\u001b[0m\u001b[0meach_track_distances\u001b[0m\u001b[0;34m[\u001b[0m\u001b[0;36m0\u001b[0m\u001b[0;34m:\u001b[0m\u001b[0mrefinement\u001b[0m\u001b[0;34m]\u001b[0m\u001b[0;34m)\u001b[0m\u001b[0;34m\u001b[0m\u001b[0;34m\u001b[0m\u001b[0m\n",
      "\u001b[0;31mNameError\u001b[0m: name 'matching_index_array' is not defined"
     ]
    }
   ],
   "source": [
    "# distances for cluster centers under the defined refinement level\n",
    "\n",
    "all_song_cumulative_distance = []\n",
    "\n",
    "for each_index in matching_index_array:\n",
    "    each_track_distances = all_songs_membership[:,each_index]\n",
    "    cumulative_distance = np.sum(each_track_distances[0:refinement])\n",
    "    all_song_cumulative_distance.append(cumulative_distance)"
   ]
  },
  {
   "cell_type": "code",
   "execution_count": 19,
   "id": "64690ce2",
   "metadata": {},
   "outputs": [
    {
     "ename": "NameError",
     "evalue": "name 'np' is not defined",
     "output_type": "error",
     "traceback": [
      "\u001b[0;31m---------------------------------------------------------------------------\u001b[0m",
      "\u001b[0;31mNameError\u001b[0m                                 Traceback (most recent call last)",
      "\u001b[0;32m/var/folders/xx/drdjh9y94cq_s220yzgchmsw0000gp/T/ipykernel_2823/167540868.py\u001b[0m in \u001b[0;36m<module>\u001b[0;34m\u001b[0m\n\u001b[1;32m      1\u001b[0m \u001b[0;31m# Best matching songs in the order\u001b[0m\u001b[0;34m\u001b[0m\u001b[0;34m\u001b[0m\u001b[0m\n\u001b[1;32m      2\u001b[0m \u001b[0;34m\u001b[0m\u001b[0m\n\u001b[0;32m----> 3\u001b[0;31m \u001b[0mdistance_array_accending_indexes\u001b[0m \u001b[0;34m=\u001b[0m \u001b[0mnp\u001b[0m\u001b[0;34m.\u001b[0m\u001b[0margsort\u001b[0m\u001b[0;34m(\u001b[0m\u001b[0mall_song_cumulative_distance\u001b[0m\u001b[0;34m)\u001b[0m  \u001b[0;31m# np.argpartition(all_song_cumulative_distance) #np.argsort(all_song_cumulative_distance)[:requred_recommendations]\u001b[0m\u001b[0;34m\u001b[0m\u001b[0;34m\u001b[0m\u001b[0m\n\u001b[0m\u001b[1;32m      4\u001b[0m \u001b[0;34m\u001b[0m\u001b[0m\n\u001b[1;32m      5\u001b[0m \u001b[0mrecommendation_indexes\u001b[0m \u001b[0;34m=\u001b[0m \u001b[0;34m[\u001b[0m\u001b[0mmatching_index_array\u001b[0m\u001b[0;34m[\u001b[0m\u001b[0mi\u001b[0m\u001b[0;34m]\u001b[0m \u001b[0;32mfor\u001b[0m \u001b[0mi\u001b[0m \u001b[0;32min\u001b[0m \u001b[0mdistance_array_accending_indexes\u001b[0m\u001b[0;34m]\u001b[0m\u001b[0;34m[\u001b[0m\u001b[0;34m:\u001b[0m\u001b[0mrequred_recommendations\u001b[0m\u001b[0;34m]\u001b[0m\u001b[0;34m\u001b[0m\u001b[0;34m\u001b[0m\u001b[0m\n",
      "\u001b[0;31mNameError\u001b[0m: name 'np' is not defined"
     ]
    }
   ],
   "source": [
    "# Best matching songs in the order\n",
    "\n",
    "distance_array_accending_indexes = np.argsort(all_song_cumulative_distance)  # np.argpartition(all_song_cumulative_distance) #np.argsort(all_song_cumulative_distance)[:requred_recommendations]\n",
    "\n",
    "recommendation_indexes = [matching_index_array[i] for i in distance_array_accending_indexes][:requred_recommendations]\n",
    "\n",
    "print()\n",
    "print()\n",
    "print('BEST RECOMENDATIONS IN ORDER:')\n",
    "print()\n",
    "print()\n",
    "\n",
    "for each_song_index in recommendation_indexes:\n",
    "    #print('Recommended song:', song_data[\"playlist_name\"][each_song_index])\n",
    "    \n",
    "    \n",
    "    #print('Recommended song:', song_data[\"track_name\"][each_song_index])\n",
    "    print('Recommended song:', test_df[\"track_name\"][each_song_index])\n",
    "    \n",
    "    \n",
    "    print()"
   ]
  },
  {
   "cell_type": "code",
   "execution_count": null,
   "id": "365a1c3a",
   "metadata": {},
   "outputs": [],
   "source": []
  },
  {
   "cell_type": "code",
   "execution_count": null,
   "id": "3cf5422b",
   "metadata": {},
   "outputs": [],
   "source": []
  },
  {
   "cell_type": "code",
   "execution_count": null,
   "id": "901a3a0d",
   "metadata": {},
   "outputs": [],
   "source": []
  },
  {
   "cell_type": "code",
   "execution_count": null,
   "id": "470f850d",
   "metadata": {},
   "outputs": [],
   "source": []
  }
 ],
 "metadata": {
  "kernelspec": {
   "display_name": "Python 3 (ipykernel)",
   "language": "python",
   "name": "python3"
  },
  "language_info": {
   "codemirror_mode": {
    "name": "ipython",
    "version": 3
   },
   "file_extension": ".py",
   "mimetype": "text/x-python",
   "name": "python",
   "nbconvert_exporter": "python",
   "pygments_lexer": "ipython3",
   "version": "3.9.13"
  }
 },
 "nbformat": 4,
 "nbformat_minor": 5
}
