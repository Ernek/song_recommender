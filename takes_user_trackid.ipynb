{
 "cells": [
  {
   "cell_type": "code",
   "execution_count": 11,
   "id": "c7ae59ff",
   "metadata": {},
   "outputs": [],
   "source": [
    "#Run this code in Terminal\n",
    "#pip install voila ipywidgets\n",
    "#jupyter nbextension enable --py widgetsnbextension\n",
    "#pip install --upgrade voila ipywidgets\n",
    "#cd to file\n",
    "#voila app_toggle.ipynb --Voila.trusted=True\n",
    "\n",
    "import ipywidgets as widgets\n",
    "from IPython.display import display,clear_output"
   ]
  },
  {
   "cell_type": "code",
   "execution_count": 12,
   "id": "ab348707",
   "metadata": {},
   "outputs": [
    {
     "name": "stdout",
     "output_type": "stream",
     "text": [
      "Choose one track URI and we will generate recommended songs.\n"
     ]
    },
    {
     "name": "stderr",
     "output_type": "stream",
     "text": [
      "C:\\Users\\reese\\AppData\\Local\\Temp\\ipykernel_24960\\2296721624.py:19: DeprecationWarning: on_submit is deprecated. Instead, set the .continuous_update attribute to False and observe the value changing with: mywidget.observe(callback, 'value').\n",
      "  user_input.on_submit(handle_submit)\n"
     ]
    },
    {
     "data": {
      "application/vnd.jupyter.widget-view+json": {
       "model_id": "17d0432bc4fe42bab5d80a653a405d50",
       "version_major": 2,
       "version_minor": 0
      },
      "text/plain": [
       "Text(value='', description='Input a track URI:', placeholder='Type a track URI')"
      ]
     },
     "metadata": {},
     "output_type": "display_data"
    },
    {
     "data": {
      "application/vnd.jupyter.widget-view+json": {
       "model_id": "70c657aa37f44b9385b9b9ccb5def666",
       "version_major": 2,
       "version_minor": 0
      },
      "text/plain": [
       "Output()"
      ]
     },
     "metadata": {},
     "output_type": "display_data"
    }
   ],
   "source": [
    "import ipywidgets as widgets\n",
    "\n",
    "print(\"Choose one track URI and we will generate recommended songs.\")\n",
    "\n",
    "user_input = widgets.Text(\n",
    "    value=None,\n",
    "    placeholder='Type a track URI',\n",
    "    description='Input a track URI:',\n",
    "    disabled=False   \n",
    ")\n",
    "\n",
    "output = widgets.Output()\n",
    "\n",
    "def handle_submit(text):\n",
    "    with output:\n",
    "        output.clear_output()\n",
    "        print(user_input.value)\n",
    "\n",
    "user_input.on_submit(handle_submit)\n",
    "\n",
    "display(user_input, output)\n",
    "#user_input.value is the track uri"
   ]
  }
 ],
 "metadata": {
  "kernelspec": {
   "display_name": "Python 3 (ipykernel)",
   "language": "python",
   "name": "python3"
  },
  "language_info": {
   "codemirror_mode": {
    "name": "ipython",
    "version": 3
   },
   "file_extension": ".py",
   "mimetype": "text/x-python",
   "name": "python",
   "nbconvert_exporter": "python",
   "pygments_lexer": "ipython3",
   "version": "3.10.9"
  },
  "trusted": true
 },
 "nbformat": 4,
 "nbformat_minor": 5
}
