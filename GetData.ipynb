{
 "cells": [
  {
   "cell_type": "code",
   "execution_count": 9,
   "id": "053eb38f",
   "metadata": {},
   "outputs": [],
   "source": [
    "import pandas as pd\n",
    "\n",
    "def get_song_dataframe(path):\n",
    "    # returns a dataframe of all of the songs in the million playlist data set\n",
    "    # path - a string containing a path to the folder where the csv files are held.\n",
    "    #        for example, on my machine, the folder where I ran this script also contained a folder\n",
    "    #        called \"song_data\" which had the csv files in it. So I called get_song_dataframe('song_data/')\n",
    "    #        NOTE - Make sure to include the slash!\n",
    "    file_name_list = ['song.slice.' + str(i) + '-' + str(i + 49999) + '.csv' for i in range(0,2212292, 50000)] \n",
    "    file_name_list = file_name_list + ['song.slice.2250000-2262292.csv']\n",
    "                        \n",
    "    df_list = []\n",
    "    for file_name in file_name_list:\n",
    "        df_list.append(pd.read_csv(path + file_name))\n",
    "    \n",
    "    data = pd.concat(df_list)\n",
    "    return data\n",
    "    "
   ]
  },
  {
   "cell_type": "code",
   "execution_count": 10,
   "id": "af0f064e",
   "metadata": {},
   "outputs": [],
   "source": [
    "data = get_song_dataframe('SongData/')"
   ]
  },
  {
   "cell_type": "code",
   "execution_count": 12,
   "id": "40b5e499",
   "metadata": {},
   "outputs": [
    {
     "data": {
      "text/plain": [
       "(2262247, 24)"
      ]
     },
     "execution_count": 12,
     "metadata": {},
     "output_type": "execute_result"
    }
   ],
   "source": [
    "data.shape"
   ]
  },
  {
   "cell_type": "code",
   "execution_count": null,
   "id": "39549783",
   "metadata": {},
   "outputs": [],
   "source": []
  }
 ],
 "metadata": {
  "kernelspec": {
   "display_name": "Python 3 (ipykernel)",
   "language": "python",
   "name": "python3"
  },
  "language_info": {
   "codemirror_mode": {
    "name": "ipython",
    "version": 3
   },
   "file_extension": ".py",
   "mimetype": "text/x-python",
   "name": "python",
   "nbconvert_exporter": "python",
   "pygments_lexer": "ipython3",
   "version": "3.10.9"
  }
 },
 "nbformat": 4,
 "nbformat_minor": 5
}
