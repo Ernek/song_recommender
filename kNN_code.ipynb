{
 "cells": [
  {
   "cell_type": "code",
   "execution_count": 1,
   "id": "c864a6d4",
   "metadata": {},
   "outputs": [],
   "source": [
    "#Purpose of this code is to do k Nearest neighbors on data set of songs\n",
    "# where some songs are a part of a playlist(cluster) and the other songs are not\n",
    "# on the playlist. A result of a 1 in the kNN algorithm means that the song \n",
    "# should be on a playlist. If the song was not already on the playlist then a \n",
    "# result of 1 would mean that song is a recommended song. \n",
    "\n",
    "#IMPORTANT: input personal client id and client secret for code to work\n",
    "#IMPORTANT: may have to change dataset path to be accurate\n",
    "\n",
    "import pandas as pd\n",
    "import matplotlib.pyplot as plt\n",
    "import seaborn as sns\n",
    "import numpy as np\n",
    "import json\n",
    "import spotipy\n",
    "\n",
    "from spotipy.oauth2 import SpotifyOAuth\n",
    "\n",
    "sp = spotipy.Spotify(auth_manager=SpotifyOAuth(client_id='client_id',\n",
    "                                               client_secret='client_secret',\n",
    "                                               redirect_uri='http://localhost:8080/callback',\n",
    "                                               scope='playlist-read-private'))\n",
    "\n",
    "#Load 1000 playlist dataset\n",
    "dataset = json.load(open('playlist_data/sampledata/mpd.slice.0-999.json'))\n",
    "df = pd.DataFrame(dataset[\"playlists\"])\n",
    "\n",
    "#Load my playlists\n",
    "user_playlists = sp.current_user_playlists()\n",
    "my_dataset = pd.DataFrame(user_playlists)\n",
    "\n",
    "#code to access song from playlist, first index is 0th playlist and second index is 0th song\n",
    "Lose_Control_Song = sp.audio_features(df.tracks[0][0]['track_uri'])\n"
   ]
  },
  {
   "cell_type": "code",
   "execution_count": 2,
   "id": "40db2289",
   "metadata": {},
   "outputs": [],
   "source": [
    "#make list of all songs in all playlists\n",
    "all_songs = []\n",
    "for i in df.index:\n",
    "    for j in range(df.num_tracks[i]):\n",
    "        all_songs.append(\n",
    "            df.tracks[i][j]\n",
    "        )\n",
    "all_songs_df = pd.DataFrame(all_songs)"
   ]
  },
  {
   "cell_type": "code",
   "execution_count": 4,
   "id": "df8cb2f4",
   "metadata": {},
   "outputs": [],
   "source": [
    "#training set, first 52 entries are  the first playlist\n",
    "on_playlist = all_songs_df.head(52).copy()\n",
    "off_playlist = all_songs_df.tail(100).copy()\n",
    "\n",
    "#audio features dataframe\n",
    "aud_feat_on_play = pd.DataFrame(sp.audio_features(on_playlist['track_uri']))\n",
    "aud_feat_off_play = pd.DataFrame(sp.audio_features(off_playlist['track_uri']))\n",
    "\n",
    "#playlist and non playlist indicator\n",
    "aud_feat_on_play['binary']=1\n",
    "aud_feat_off_play['binary']=0\n",
    "\n",
    "#concatenate playlists with the corresponding 1 entry for playlist and 0 for everything else\n",
    "aud_feat = pd.concat([aud_feat_on_play,aud_feat_off_play],ignore_index=True)"
   ]
  },
  {
   "cell_type": "code",
   "execution_count": 5,
   "id": "bf7fc944",
   "metadata": {},
   "outputs": [],
   "source": [
    "#import kNN\n",
    "from sklearn.neighbors import KNeighborsClassifier"
   ]
  },
  {
   "cell_type": "code",
   "execution_count": 6,
   "id": "74cda510",
   "metadata": {},
   "outputs": [
    {
     "data": {
      "text/plain": [
       "array([0, 1, 1, 0, 0, 0, 0, 0, 1, 1, 1, 1, 1, 0, 0, 0, 1, 1, 0, 1, 0, 1,\n",
       "       1, 1, 1, 1, 1, 1, 1, 0, 1, 1, 0, 1, 0, 1, 1, 0, 1, 0, 1, 0, 1, 1,\n",
       "       0, 0, 0, 0, 0, 1, 1, 1, 0, 0, 0, 1, 0, 0, 0, 0, 0, 1, 0, 0, 0, 1,\n",
       "       0, 1, 1, 0, 0, 0, 0, 0, 0, 0, 0, 0, 1, 0, 0, 0, 0, 0, 0, 0, 0, 0,\n",
       "       1, 0, 1, 0, 0, 0, 0, 0, 1, 0, 0, 0, 0, 0, 0, 0, 0, 0, 0, 0, 0, 0,\n",
       "       0, 0, 0, 0, 0, 0, 0, 0, 0, 1, 0, 0, 0, 0, 0, 0, 1, 1, 0, 0, 1, 0,\n",
       "       0, 0, 0, 0, 0, 0, 0, 1, 0, 0, 1, 0, 0, 0, 0, 1, 0, 0, 0, 0],\n",
       "      dtype=int64)"
      ]
     },
     "execution_count": 6,
     "metadata": {},
     "output_type": "execute_result"
    }
   ],
   "source": [
    "#implement kNN, choosing k is important\n",
    "knn = KNeighborsClassifier(3)\n",
    "\n",
    "knn.fit(aud_feat[['danceability','energy','key','loudness','mode','speechiness','acousticness','instrumentalness','liveness','valence','tempo','duration_ms','time_signature']],\n",
    "       aud_feat.binary)\n",
    "\n",
    "#predict on training set\n",
    "knn.predict(aud_feat[['danceability','energy','key','loudness','mode','speechiness','acousticness','instrumentalness','liveness','valence','tempo','duration_ms','time_signature']])"
   ]
  },
  {
   "cell_type": "code",
   "execution_count": 7,
   "id": "dcb49b39",
   "metadata": {},
   "outputs": [
    {
     "data": {
      "text/plain": [
       "<matplotlib.collections.PathCollection at 0x207b7441de0>"
      ]
     },
     "execution_count": 7,
     "metadata": {},
     "output_type": "execute_result"
    },
    {
     "data": {
      "image/png": "[encoded data removed]",
      "text/plain": [
       "<Figure size 640x480 with 1 Axes>"
      ]
     },
     "metadata": {},
     "output_type": "display_data"
    }
   ],
   "source": [
    "#plot for danceability on the x axis and energy on y axis\n",
    "# orange means on the playlist and blue is not on the playlist\n",
    "plt.scatter(aud_feat.loc[aud_feat.binary==0].danceability,\n",
    "            aud_feat.loc[aud_feat.binary==0].energy,\n",
    "            c='blue',\n",
    "            s=60,\n",
    "            label=\"0\")\n",
    "plt.scatter(aud_feat.loc[aud_feat.binary==1].danceability,\n",
    "            aud_feat.loc[aud_feat.binary==1].energy,\n",
    "            c='orange',\n",
    "            s=60,\n",
    "            label=\"1\")"
   ]
  },
  {
   "cell_type": "markdown",
   "id": "5fa39e69",
   "metadata": {},
   "source": [
    "aud_feat"
   ]
  },
  {
   "cell_type": "code",
   "execution_count": 8,
   "id": "76b77872",
   "metadata": {},
   "outputs": [],
   "source": [
    "#TODO:\n",
    "#1.generalize to specifying a random playlist, doesnt need to get recommendation for all playlists at once\n",
    "#2.create a playlist and test to see if it works to recommend a similar song\n",
    "#3.create some plots\n",
    "#4.give an output for the song recommendation\n",
    "#5.make all names of variables accurate\n",
    "#6.limit for how many songs can be sent to spotify api\n",
    "#7.create new notebook to push to github without secret key and whatnot, reading in files\n",
    "#8.need song identifier when going to all songs, ok just dont include the identifier column"
   ]
  },
  {
   "cell_type": "code",
   "execution_count": null,
   "id": "0a7dc982",
   "metadata": {},
   "outputs": [],
   "source": []
  },
  {
   "cell_type": "code",
   "execution_count": null,
   "id": "31012b88",
   "metadata": {},
   "outputs": [],
   "source": []
  }
 ],
 "metadata": {
  "kernelspec": {
   "display_name": "Python 3 (ipykernel)",
   "language": "python",
   "name": "python3"
  },
  "language_info": {
   "codemirror_mode": {
    "name": "ipython",
    "version": 3
   },
   "file_extension": ".py",
   "mimetype": "text/x-python",
   "name": "python",
   "nbconvert_exporter": "python",
   "pygments_lexer": "ipython3",
   "version": "3.10.9"
  }
 },
 "nbformat": 4,
 "nbformat_minor": 5
}
